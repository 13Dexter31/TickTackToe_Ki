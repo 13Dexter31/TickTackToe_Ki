{
 "cells": [
  {
   "cell_type": "markdown",
   "metadata": {},
   "source": [
    "# Decorator Pattern in Python\n",
    "ein Vortrag von Kevin Bücher"
   ]
  },
  {
   "cell_type": "markdown",
   "metadata": {},
   "source": [
    "**Eine Dekoratorklasse:**\n",
    "\n",
    "* Ist ein **Adapter** (siehe das Adapter Pattern)\n",
    "* Sie implementiert die gleiche Schnittstelle wie das Objekt das sie umhüllt\n",
    "* Sie delegiert Methodenaufrufe an das Objekt, das sie umhüllt"
   ]
  },
  {
   "attachments": {
    "image.png": {
     "image/png": "[encoded data removed]"
    }
   },
   "cell_type": "markdown",
   "metadata": {},
   "source": [
    "### Zur Erinnerung das Adapter Pattern:\n",
    "![adapter.png](https://upload.wikimedia.org/wikipedia/commons/thumb/2/29/Objektadapter.svg/511px-Objektadapter.svg.png)\n",
    "(Quelle: https://upload.wikimedia.org/wikipedia/commons/thumb/2/29/Objektadapter.svg/511px-Objektadapter.svg.png)"
   ]
  },
  {
   "cell_type": "markdown",
   "source": [
    "### Im Vergleich der Dekorator:\n",
    "![decorator.png](https://upload.wikimedia.org/wikipedia/commons/thumb/6/69/Dekorierer.svg/499px-Dekorierer.svg.png)\n",
    "(Quelle: https://upload.wikimedia.org/wikipedia/commons/thumb/6/69/Dekorierer.svg/499px-Dekorierer.svg.png)"
   ],
   "metadata": {
    "collapsed": false
   }
  },
  {
   "cell_type": "markdown",
   "source": [
    "**Der Zweck der Dekoratorklasse ist es:**\n",
    "* das Verhalten (das das umhüllte Objekt normalerweise implementieren würde, wenn seine Methoden aufgerufen werden) zu **ergänzen**, zu **entfernen** oder **anzupassen**.\n",
    "\n",
    "**Mit einer Dekoratorklasse kann man:**\n",
    "\n",
    "* Methodenaufrufe protokollieren, die normalerweise im Stillen ablaufen würden\n",
    "* Zusätzliche Einstellungen oder Aufräumarbeiten rund um eine Methode durchführen\n",
    "* Methodenargumente vorverarbeiten\n",
    "* Rückgabewerte nachbearbeiten\n",
    "* Aktionen verbieten, die das umhüllte Objekt normalerweise erlauben würde\n"
   ],
   "metadata": {
    "collapsed": false
   }
  },
  {
   "cell_type": "markdown",
   "metadata": {},
   "source": [
    "**Erkennung von Dekoratoren:**\n",
    "* Decorator können durch Erstellungsmethoden oder Konstruktoren erkannt werden, die Objekte der gleichen Klasse oder Schnittstelle wie die aktuelle Klasse akzeptieren."
   ]
  },
  {
   "cell_type": "markdown",
   "source": [
    "## Codebeispiel:"
   ],
   "metadata": {
    "collapsed": false
   }
  },
  {
   "cell_type": "code",
   "execution_count": 1,
   "metadata": {
    "collapsed": true
   },
   "outputs": [],
   "source": [
    "class Component():\n",
    "    \"\"\"\n",
    "    Die Basisschnittstelle von Component definiert Operationen, die durch Decorators geändert werden können.\n",
    "    \"\"\"\n",
    "\n",
    "    def operation(self) -> str:\n",
    "        pass"
   ]
  },
  {
   "cell_type": "code",
   "execution_count": 2,
   "metadata": {
    "pycharm": {
     "name": "#%%\n"
    }
   },
   "outputs": [],
   "source": [
    "class ConcreteComponent(Component):\n",
    "    \"\"\"\n",
    "    Konkrete Komponenten bieten Standardimplementierungen der Operationen.\n",
    "    Es kann mehrere Variationen dieser Klassen geben.\n",
    "    \"\"\"\n",
    "\n",
    "    def operation(self) -> str:\n",
    "        return \"ConcreteComponent\""
   ]
  },
  {
   "cell_type": "code",
   "execution_count": 3,
   "metadata": {
    "pycharm": {
     "name": "#%%\n"
    }
   },
   "outputs": [],
   "source": [
    "class Decorator(Component):\n",
    "    \"\"\"\n",
    "    Die Basisklasse Decorator hat die gleiche Schnittstelle wie die anderen Komponenten und dient in erster Linie dazu,\n",
    "    die Wrapping-Schnittstelle für alle konkreten Decorators zu definieren.\n",
    "    Die Standard-Implementierung des Wrapping-Codes kann ein Feld zum Speichern einer umhüllten Komponente und die Initiierung dessen sein.\n",
    "    \"\"\"\n",
    "\n",
    "    _component: Component = None\n",
    "\n",
    "    def __init__(self, component: Component) -> None:\n",
    "        self._component = component\n",
    "\n",
    "    @property\n",
    "    def component(self) -> str:\n",
    "        \"\"\"\n",
    "        Der Decorator delegiert die gesamte Arbeit an die umhüllte Komponente.\n",
    "        \"\"\"\n",
    "        return self._component\n",
    "\n",
    "    def operation(self) -> str:\n",
    "        return self._component.operation()"
   ]
  },
  {
   "cell_type": "code",
   "execution_count": 4,
   "metadata": {
    "pycharm": {
     "name": "#%%\n"
    }
   },
   "outputs": [],
   "source": [
    "\n",
    "class ConcreteDecoratorA(Decorator):\n",
    "    \"\"\"\n",
    "    Konkrete Dekorateure rufen das umhüllte Objekt auf und ändern sein Ergebnis in irgendeiner Weise.\n",
    "    \"\"\"\n",
    "\n",
    "    def operation(self) -> str:\n",
    "        \"\"\"\n",
    "        Decorators können die übergeordnete Implementierung der Operation aufrufen, anstatt das umhüllte Objekt direkt aufzurufen.\n",
    "        Dieser Ansatz vereinfacht die Erweiterung von Dekoratorklassen.\n",
    "        \"\"\"\n",
    "        return f\"ConcreteDecoratorA({self.component.operation()})\"\n"
   ]
  },
  {
   "cell_type": "code",
   "execution_count": 5,
   "metadata": {
    "pycharm": {
     "name": "#%%\n"
    }
   },
   "outputs": [],
   "source": [
    "class ConcreteDecoratorB(Decorator):\n",
    "    \"\"\"\n",
    "    Decorators können ihr Verhalten entweder vor oder nach dem Aufruf eines umhüllten Objekts ausführen.\n",
    "    \"\"\"\n",
    "\n",
    "    def operation(self) -> str:\n",
    "        return f\"ConcreteDecoratorB({self.component.operation()})\""
   ]
  },
  {
   "cell_type": "code",
   "execution_count": 6,
   "metadata": {
    "pycharm": {
     "name": "#%%\n"
    }
   },
   "outputs": [],
   "source": [
    "def client_code(component: Component) -> None:\n",
    "    \"\"\"\n",
    "    Der Client-Code arbeitet mit allen Objekten, die die Komponentenschnittstelle verwenden.\n",
    "    Auf diese Weise kann er unabhängig von den konkreten Klassen der Komponenten bleiben, mit denen er arbeitet.\n",
    "    \"\"\"\n",
    "    print(f\"RESULT: {component.operation()}\", end=\"\")"
   ]
  },
  {
   "cell_type": "code",
   "execution_count": 7,
   "metadata": {
    "pycharm": {
     "name": "#%%\n"
    }
   },
   "outputs": [
    {
     "name": "stdout",
     "output_type": "stream",
     "text": [
      "Client: Hier eine einfache Komponente:\n",
      "RESULT: ConcreteComponent\n",
      "\n"
     ]
    }
   ],
   "source": [
    "# Auf diese Weise kann der Client-Code die simplen Components unterstützen...\n",
    "simple = ConcreteComponent()\n",
    "print(\"Client: Hier eine einfache Komponente:\")\n",
    "client_code(simple)\n",
    "print(\"\\n\")"
   ]
  },
  {
   "cell_type": "code",
   "execution_count": 8,
   "metadata": {
    "pycharm": {
     "name": "#%%\n"
    }
   },
   "outputs": [
    {
     "name": "stdout",
     "output_type": "stream",
     "text": [
      "Client: Hier eine dekorierte Komponente:\n",
      "RESULT: ConcreteDecoratorB(ConcreteDecoratorA(ConcreteComponent))"
     ]
    }
   ],
   "source": [
    "# ...als auch die dekorierte Variante.\n",
    "#\n",
    "# Dekoratoren können nicht nur einfache Komponenten, sondern auch die anderen Dekoratoren umhüllen.\n",
    "decorator1 = ConcreteDecoratorA(simple)\n",
    "decorator2 = ConcreteDecoratorB(decorator1)\n",
    "print(\"Client: Hier eine dekorierte Komponente:\")\n",
    "client_code(decorator2)"
   ]
  },
  {
   "cell_type": "markdown",
   "source": [
    "## Quellen:\n",
    "* https://de.wikipedia.org/wiki/Decorator\n",
    "* https://de.wikipedia.org/wiki/Adapter_(Entwurfsmuster)\n",
    "* https://refactoring.guru/design-patterns/decorator/python/example\n",
    "* https://python-patterns.guide/gang-of-four/decorator-pattern/"
   ],
   "metadata": {
    "collapsed": false,
    "pycharm": {
     "name": "#%% md\n"
    }
   }
  }
 ],
 "metadata": {
  "kernelspec": {
   "display_name": "Python 3 (ipykernel)",
   "language": "python",
   "name": "python3"
  },
  "language_info": {
   "codemirror_mode": {
    "name": "ipython",
    "version": 3
   },
   "file_extension": ".py",
   "mimetype": "text/x-python",
   "name": "python",
   "nbconvert_exporter": "python",
   "pygments_lexer": "ipython3",
   "version": "3.9.5"
  }
 },
 "nbformat": 4,
 "nbformat_minor": 1
}