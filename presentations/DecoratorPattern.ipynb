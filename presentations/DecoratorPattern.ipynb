{
 "cells": [
  {
   "cell_type": "markdown",
   "metadata": {
    "slideshow": {
     "slide_type": "slide"
    }
   },
   "source": [
    "# Decorator Pattern in Python\n",
    "ein Vortrag von Kevin Bücher"
   ]
  },
  {
   "cell_type": "markdown",
   "metadata": {
    "slideshow": {
     "slide_type": "slide"
    }
   },
   "source": [
    "## Definition\n",
    "\n",
    "**Eine Dekoratorklasse:**\n",
    "\n",
    "* Ist ein **Adapter** (siehe das Adapter Pattern)\n",
    "* Sie implementiert die gleiche Schnittstelle wie das Objekt das sie umhüllt\n",
    "* Sie delegiert Methodenaufrufe an das Objekt, das sie umhüllt"
   ]
  },
  {
   "cell_type": "markdown",
   "metadata": {
    "slideshow": {
     "slide_type": "subslide"
    }
   },
   "source": [
    "### Zur Erinnerung das Adapter Pattern:\n",
    "![adapter.png](https://upload.wikimedia.org/wikipedia/commons/thumb/2/29/Objektadapter.svg/511px-Objektadapter.svg.png)\n",
    "\n",
    "---\n",
    "<sup>(Quelle: https://upload.wikimedia.org/wikipedia/commons/thumb/2/29/Objektadapter.svg/511px-Objektadapter.svg.png)</sup>"
   ]
  },
  {
   "cell_type": "markdown",
   "metadata": {
    "slideshow": {
     "slide_type": "subslide"
    }
   },
   "source": [
    "### Im Vergleich der Dekorator:\n",
    "![decorator.png](https://upload.wikimedia.org/wikipedia/commons/thumb/6/69/Dekorierer.svg/499px-Dekorierer.svg.png)\n",
    "\n",
    "---\n",
    "<sup>(Quelle: https://upload.wikimedia.org/wikipedia/commons/thumb/6/69/Dekorierer.svg/499px-Dekorierer.svg.png)</sup>"
   ]
  },
  {
   "cell_type": "markdown",
   "metadata": {
    "slideshow": {
     "slide_type": "subslide"
    }
   },
   "source": [
    "**Der Zweck der Dekoratorklasse ist es:**\n",
    "* das Verhalten (das das umhüllte Objekt normalerweise implementieren würde, wenn seine Methoden aufgerufen werden) zu **ergänzen**, zu **entfernen** oder **anzupassen**.\n",
    "\n",
    "**Mit einer Dekoratorklasse kann man:**\n",
    "\n",
    "* Methodenaufrufe protokollieren, die normalerweise im Stillen ablaufen würden\n",
    "* Zusätzliche Einstellungen oder Aufräumarbeiten rund um eine Methode durchführen\n",
    "* Methodenargumente vorverarbeiten\n",
    "* Rückgabewerte nachbearbeiten\n",
    "* Aktionen verbieten, die das umhüllte Objekt normalerweise erlauben würde\n"
   ]
  },
  {
   "cell_type": "markdown",
   "metadata": {
    "slideshow": {
     "slide_type": "slide"
    }
   },
   "source": [
    "## Codebeispiel:"
   ]
  },
  {
   "cell_type": "code",
   "execution_count": null,
   "metadata": {
    "slideshow": {
     "slide_type": "fragment"
    }
   },
   "outputs": [],
   "source": [
    "class Component():\n",
    "    \"\"\"\n",
    "    Die Basisschnittstelle von Component definiert Operationen, die durch Decorators geändert werden können.\n",
    "    \"\"\"\n",
    "\n",
    "    def operation(self) -> str:\n",
    "        pass"
   ]
  },
  {
   "cell_type": "code",
   "execution_count": null,
   "metadata": {
    "pycharm": {
     "name": "#%%\n"
    },
    "slideshow": {
     "slide_type": "fragment"
    }
   },
   "outputs": [],
   "source": [
    "class ConcreteComponent(Component):\n",
    "    \"\"\"\n",
    "    Konkrete Komponenten bieten Standardimplementierungen der Operationen.\n",
    "    Es kann mehrere Variationen dieser Klassen geben.\n",
    "    \"\"\"\n",
    "\n",
    "    def operation(self) -> str:\n",
    "        return \"ConcreteComponent\""
   ]
  },
  {
   "cell_type": "code",
   "execution_count": null,
   "metadata": {
    "pycharm": {
     "name": "#%%\n"
    },
    "slideshow": {
     "slide_type": "subslide"
    }
   },
   "outputs": [],
   "source": [
    "class Decorator(Component):\n",
    "    \"\"\"\n",
    "    Die Basisklasse Decorator hat die gleiche Schnittstelle wie die anderen Komponenten und dient in erster Linie dazu,\n",
    "    die Wrapping-Schnittstelle für alle konkreten Decorators zu definieren.\n",
    "    Die Standard-Implementierung des Wrapping-Codes kann ein Feld zum Speichern einer umhüllten Komponente und die Initiierung dessen sein.\n",
    "    \"\"\"\n",
    "\n",
    "    _component: Component = None\n",
    "\n",
    "    def __init__(self, component: Component) -> None:\n",
    "        self._component = component\n",
    "\n",
    "    @property\n",
    "    def component(self) -> str:\n",
    "        \"\"\"\n",
    "        Der Decorator delegiert die gesamte Arbeit an die umhüllte Komponente.\n",
    "        \"\"\"\n",
    "        return self._component\n",
    "\n",
    "    def operation(self) -> str:\n",
    "        return self._component.operation()"
   ]
  },
  {
   "cell_type": "code",
   "execution_count": null,
   "metadata": {
    "pycharm": {
     "name": "#%%\n"
    },
    "slideshow": {
     "slide_type": "subslide"
    }
   },
   "outputs": [],
   "source": [
    "\n",
    "class ConcreteDecoratorA(Decorator):\n",
    "    \"\"\"\n",
    "    Konkrete Dekorateure rufen das umhüllte Objekt auf und ändern sein Ergebnis in irgendeiner Weise.\n",
    "    \"\"\"\n",
    "\n",
    "    def operation(self) -> str:\n",
    "        \"\"\"\n",
    "        Decorators können die übergeordnete Implementierung der Operation aufrufen, anstatt das umhüllte Objekt direkt aufzurufen.\n",
    "        Dieser Ansatz vereinfacht die Erweiterung von Dekoratorklassen.\n",
    "        \"\"\"\n",
    "        return f\"ConcreteDecoratorA({self.component.operation()})\"\n"
   ]
  },
  {
   "cell_type": "code",
   "execution_count": null,
   "metadata": {
    "pycharm": {
     "name": "#%%\n"
    },
    "slideshow": {
     "slide_type": "fragment"
    }
   },
   "outputs": [],
   "source": [
    "class ConcreteDecoratorB(Decorator):\n",
    "    \"\"\"\n",
    "    Decorators können ihr Verhalten entweder vor oder nach dem Aufruf eines umhüllten Objekts ausführen.\n",
    "    \"\"\"\n",
    "\n",
    "    def operation(self) -> str:\n",
    "        return f\"ConcreteDecoratorB({self.component.operation()})\""
   ]
  },
  {
   "cell_type": "code",
   "execution_count": null,
   "metadata": {
    "pycharm": {
     "name": "#%%\n"
    },
    "slideshow": {
     "slide_type": "subslide"
    }
   },
   "outputs": [],
   "source": [
    "def client_code(component: Component) -> None:\n",
    "    \"\"\"\n",
    "    Der Client-Code arbeitet mit allen Objekten, die die Komponentenschnittstelle verwenden.\n",
    "    Auf diese Weise kann er unabhängig von den konkreten Klassen der Komponenten bleiben, mit denen er arbeitet.\n",
    "    \"\"\"\n",
    "    print(f\"RESULT: {component.operation()}\", end=\"\")"
   ]
  },
  {
   "cell_type": "code",
   "execution_count": null,
   "metadata": {
    "pycharm": {
     "name": "#%%\n"
    },
    "slideshow": {
     "slide_type": "fragment"
    }
   },
   "outputs": [],
   "source": [
    "# Auf diese Weise kann der Client-Code die simplen Components unterstützen...\n",
    "simple = ConcreteComponent()\n",
    "print(\"Client: Hier eine einfache Komponente:\")\n",
    "client_code(simple)\n",
    "print(\"\\n\")"
   ]
  },
  {
   "cell_type": "code",
   "execution_count": null,
   "metadata": {
    "pycharm": {
     "name": "#%%\n"
    },
    "slideshow": {
     "slide_type": "fragment"
    }
   },
   "outputs": [],
   "source": [
    "# ...als auch die dekorierte Variante.\n",
    "#\n",
    "# Dekoratoren können nicht nur einfache Komponenten, sondern auch die anderen Dekoratoren umhüllen.\n",
    "decorator1 = ConcreteDecoratorA(simple)\n",
    "decorator2 = ConcreteDecoratorB(decorator1)\n",
    "print(\"Client: Hier eine dekorierte Komponente:\")\n",
    "client_code(decorator2)"
   ]
  },
  {
   "cell_type": "markdown",
   "metadata": {
    "slideshow": {
     "slide_type": "slide"
    }
   },
   "source": [
    "## Decorator Methoden in Python\n",
    "### (Oder: Decorators nach Python Art)"
   ]
  },
  {
   "cell_type": "markdown",
   "metadata": {
    "slideshow": {
     "slide_type": "subslide"
    }
   },
   "source": [
    "### Grundlegendes zu Funktionen in Python:\n",
    "\n",
    "**Funktionen als \"First-Class\" Objekte:**"
   ]
  },
  {
   "cell_type": "code",
   "execution_count": null,
   "metadata": {
    "pycharm": {
     "name": "#%%\n"
    },
    "slideshow": {
     "slide_type": "fragment"
    }
   },
   "outputs": [],
   "source": [
    "def say_hello(name):\n",
    "    return f\"Hello {name}!\"\n",
    "\n",
    "def func(say_hello):\n",
    "    \"\"\"\n",
    "    Methoden können selbst als Argument übermittelt werden\n",
    "    \"\"\"\n",
    "    return say_hello(\"Bob\")\n",
    "\n",
    "func(say_hello)"
   ]
  },
  {
   "cell_type": "markdown",
   "metadata": {
    "slideshow": {
     "slide_type": "subslide"
    }
   },
   "source": [
    "**Inner Funktionen:**"
   ]
  },
  {
   "cell_type": "code",
   "execution_count": null,
   "metadata": {
    "pycharm": {
     "name": "#%%\n"
    },
    "slideshow": {
     "slide_type": "fragment"
    }
   },
   "outputs": [],
   "source": [
    "def parent():\n",
    "    print(\"Printing from parent\")\n",
    "\n",
    "    def child():\n",
    "        print(\"Printing from child\")\n",
    "\n",
    "    child()\n",
    "\n",
    "parent()\n",
    "child() # child kann als inner function nicht außerhalb gerufen werden!"
   ]
  },
  {
   "cell_type": "markdown",
   "metadata": {
    "slideshow": {
     "slide_type": "subslide"
    }
   },
   "source": [
    "**Returning Functions:**"
   ]
  },
  {
   "cell_type": "code",
   "execution_count": null,
   "metadata": {
    "pycharm": {
     "name": "#%%\n"
    },
    "slideshow": {
     "slide_type": "fragment"
    }
   },
   "outputs": [],
   "source": [
    "def parent(num):\n",
    "    def first_child():\n",
    "        return \"Hello from first child\"\n",
    "\n",
    "    def second_child():\n",
    "        return \"Hello from second child\"\n",
    "\n",
    "    if num == 1:\n",
    "        return first_child\n",
    "    else:\n",
    "        return second_child\n",
    "\n",
    "print(parent(1))\n",
    "print(parent(1)()) #Zurückgegebene Funktion muss wieder als Funktion aufgerufen werden"
   ]
  },
  {
   "cell_type": "markdown",
   "metadata": {
    "slideshow": {
     "slide_type": "subslide"
    }
   },
   "source": [
    "### Inner Function Decorator:"
   ]
  },
  {
   "cell_type": "code",
   "execution_count": null,
   "metadata": {
    "pycharm": {
     "name": "#%%\n"
    },
    "slideshow": {
     "slide_type": "fragment"
    }
   },
   "outputs": [],
   "source": [
    "def my_decorator(func):\n",
    "    def wrapper():\n",
    "        print(\"Something is happening before the function is called.\")\n",
    "        func()\n",
    "        print(\"Something is happening after the function is called.\")\n",
    "    return wrapper\n",
    "\n",
    "def say_whee():\n",
    "    print(\"Whee!\")\n",
    "\n",
    "say_whee = my_decorator(say_whee)\n",
    "say_whee()"
   ]
  },
  {
   "cell_type": "markdown",
   "metadata": {
    "slideshow": {
     "slide_type": "slide"
    }
   },
   "source": [
    "## Decorator in *Pie* Syntax:"
   ]
  },
  {
   "cell_type": "code",
   "execution_count": null,
   "metadata": {
    "pycharm": {
     "name": "#%%\n"
    },
    "slideshow": {
     "slide_type": "fragment"
    }
   },
   "outputs": [],
   "source": [
    "def my_decorator(func):\n",
    "    def wrapper():\n",
    "        print(\"Something is happening before the function is called.\")\n",
    "        func()\n",
    "        print(\"Something is happening after the function is called.\")\n",
    "    return wrapper\n",
    "\n",
    "@my_decorator\n",
    "def say_whee():\n",
    "    print(\"Whee!\")\n",
    "\n",
    "#Kein extra Wrapping mehr nötig!\n",
    "my_decorator(say_whee()) # Entspricht: say_whee = my_decorator(say_whee)"
   ]
  },
  {
   "cell_type": "markdown",
   "metadata": {
    "slideshow": {
     "slide_type": "subslide"
    }
   },
   "source": [
    "### Mehrfachnutzung von Dekoratoren:"
   ]
  },
  {
   "cell_type": "code",
   "execution_count": null,
   "metadata": {
    "pycharm": {
     "name": "#%%\n"
    },
    "slideshow": {
     "slide_type": "fragment"
    }
   },
   "outputs": [],
   "source": [
    "# Im Modul namens decorators:\n",
    "def do_twice(func):\n",
    "    \"\"\"\n",
    "    Einfacher Decorator\n",
    "    \"\"\"\n",
    "    def wrapper_do_twice():\n",
    "        func()\n",
    "        func()\n",
    "    return wrapper_do_twice"
   ]
  },
  {
   "cell_type": "markdown",
   "metadata": {
    "slideshow": {
     "slide_type": "subslide"
    }
   },
   "source": [
    "**Nun in Verwendung in anderen Modulen:**"
   ]
  },
  {
   "cell_type": "code",
   "execution_count": null,
   "metadata": {
    "pycharm": {
     "name": "#%%\n"
    },
    "slideshow": {
     "slide_type": "fragment"
    }
   },
   "outputs": [],
   "source": [
    "# Decorator aus anderen Modulen importieren\n",
    "from decorators import do_twice\n",
    "\n",
    "@do_twice\n",
    "def say_whee():\n",
    "    print(\"Whee!\")"
   ]
  },
  {
   "cell_type": "markdown",
   "metadata": {
    "slideshow": {
     "slide_type": "subslide"
    }
   },
   "source": [
    "## Dekoratoren mit Argumenten:"
   ]
  },
  {
   "cell_type": "code",
   "execution_count": null,
   "metadata": {
    "pycharm": {
     "name": "#%%\n"
    },
    "slideshow": {
     "slide_type": "fragment"
    }
   },
   "outputs": [],
   "source": [
    "@do_twice\n",
    "def greet(name):\n",
    "    print(f\"Hello {name}\")\n",
    "\n",
    "greet(\"World!\") #Traceback wegen fehlender Argumentenannahme im Decorator"
   ]
  },
  {
   "cell_type": "code",
   "execution_count": null,
   "metadata": {
    "pycharm": {
     "name": "#%%\n"
    },
    "slideshow": {
     "slide_type": "subslide"
    }
   },
   "outputs": [],
   "source": [
    "def do_twice(func):\n",
    "    def wrapper_do_twice(*args, **kwargs):\n",
    "        \"\"\"\n",
    "        Annahme von mehreren Argumenten\n",
    "        :param args: Einfache Argumente (optional)\n",
    "        :param kwargs: Keyword Argumente (optional)\n",
    "        \"\"\"\n",
    "        func(*args, **kwargs)\n",
    "        func(*args, **kwargs)\n",
    "    return wrapper_do_twice\n",
    "\n",
    "@do_twice\n",
    "def greet(name):\n",
    "    print(f\"Hello {name}\")\n",
    "\n",
    "greet(\"World!\")\n"
   ]
  },
  {
   "cell_type": "markdown",
   "metadata": {
    "slideshow": {
     "slide_type": "slide"
    }
   },
   "source": [
    "## Introspection von Python Funktionen"
   ]
  },
  {
   "cell_type": "code",
   "execution_count": null,
   "metadata": {
    "pycharm": {
     "name": "#%%\n"
    },
    "slideshow": {
     "slide_type": "fragment"
    }
   },
   "outputs": [],
   "source": [
    "print"
   ]
  },
  {
   "cell_type": "code",
   "execution_count": null,
   "metadata": {
    "pycharm": {
     "name": "#%%\n"
    },
    "slideshow": {
     "slide_type": "fragment"
    }
   },
   "outputs": [],
   "source": [
    "print.__name__"
   ]
  },
  {
   "cell_type": "code",
   "execution_count": null,
   "metadata": {
    "pycharm": {
     "name": "#%%\n"
    },
    "slideshow": {
     "slide_type": "fragment"
    }
   },
   "outputs": [],
   "source": [
    "help(print)"
   ]
  },
  {
   "cell_type": "markdown",
   "metadata": {
    "slideshow": {
     "slide_type": "subslide"
    }
   },
   "source": [
    "**Nun mit der eigenen Methode say_whee:**"
   ]
  },
  {
   "cell_type": "code",
   "execution_count": null,
   "metadata": {
    "pycharm": {
     "name": "#%%\n"
    },
    "slideshow": {
     "slide_type": "fragment"
    }
   },
   "outputs": [],
   "source": [
    "say_whee.__name__ #Falsche Identität?"
   ]
  },
  {
   "cell_type": "code",
   "execution_count": null,
   "metadata": {
    "pycharm": {
     "name": "#%%\n"
    },
    "slideshow": {
     "slide_type": "fragment"
    }
   },
   "outputs": [],
   "source": [
    "help(say_whee)"
   ]
  },
  {
   "cell_type": "markdown",
   "metadata": {
    "slideshow": {
     "slide_type": "subslide"
    }
   },
   "source": [
    "### Functools für Informationen über originale Funktion:"
   ]
  },
  {
   "cell_type": "code",
   "execution_count": null,
   "metadata": {
    "pycharm": {
     "name": "#%%\n"
    },
    "slideshow": {
     "slide_type": "fragment"
    }
   },
   "outputs": [],
   "source": [
    "import functools\n",
    "\n",
    "def do_twice(func):\n",
    "    @functools.wraps(func) #<--- wrapped die Informationen der eigentlichen Funktion\n",
    "    def wrapper_do_twice(*args, **kwargs):\n",
    "        func(*args, **kwargs)\n",
    "        return func(*args, **kwargs)\n",
    "    return wrapper_do_twice\n",
    "\n",
    "@do_twice\n",
    "def say_whee():\n",
    "    print(\"Whee!\")\n",
    "\n",
    "say_whee.__name__"
   ]
  },
  {
   "cell_type": "markdown",
   "metadata": {
    "slideshow": {
     "slide_type": "subslide"
    }
   },
   "source": [
    "## Decorator mit Argumenten:"
   ]
  },
  {
   "cell_type": "code",
   "execution_count": null,
   "metadata": {
    "pycharm": {
     "name": "#%%\n"
    },
    "slideshow": {
     "slide_type": "fragment"
    }
   },
   "outputs": [],
   "source": [
    "def repeat(num_times): # <--- Anzahl von Argumenten muss wieder definiert werden\n",
    "    def decorator_repeat(func):\n",
    "        @functools.wraps(func)\n",
    "        def wrapper_repeat(*args, **kwargs):\n",
    "            for _ in range(num_times):\n",
    "                value = func(*args, **kwargs)\n",
    "            return value\n",
    "        return wrapper_repeat\n",
    "    return decorator_repeat\n",
    "\n",
    "@repeat(num_times=4) # <--- Decorator mit Argument\n",
    "def greet(name):\n",
    "    print(f\"Hello {name}\")\n",
    "\n",
    "greet(\"Max\")"
   ]
  },
  {
   "cell_type": "markdown",
   "metadata": {
    "slideshow": {
     "slide_type": "slide"
    }
   },
   "source": [
    "## Noch ein paar reale Beispiele"
   ]
  },
  {
   "cell_type": "code",
   "execution_count": null,
   "metadata": {
    "pycharm": {
     "name": "#%%\n"
    },
    "slideshow": {
     "slide_type": "fragment"
    }
   },
   "outputs": [],
   "source": [
    "import functools\n",
    "import time\n",
    "\n",
    "def timer(func):\n",
    "    \"\"\"Aufgabe der Laufzeit der timer Funktion\"\"\"\n",
    "    @functools.wraps(func)\n",
    "    def wrapper_timer(*args, **kwargs):\n",
    "        start_time = time.perf_counter()    # Startzeit\n",
    "        value = func(*args, **kwargs)\n",
    "        end_time = time.perf_counter()      # Endzeit\n",
    "        run_time = end_time - start_time    # Gesamte Laufzeit\n",
    "        print(f\"Finished {func.__name__!r} in {run_time:.4f} secs\")\n",
    "        return value\n",
    "    return wrapper_timer\n",
    "\n",
    "@timer\n",
    "def waste_some_time(num_times):\n",
    "    for _ in range(num_times):\n",
    "        sum([i**2 for i in range(10000)])\n",
    "\n",
    "waste_some_time(999)"
   ]
  },
  {
   "cell_type": "markdown",
   "metadata": {
    "slideshow": {
     "slide_type": "subslide"
    }
   },
   "source": [
    "### Beispiel für Debugging Code:"
   ]
  },
  {
   "cell_type": "code",
   "execution_count": null,
   "metadata": {
    "pycharm": {
     "name": "#%%\n"
    },
    "slideshow": {
     "slide_type": "fragment"
    }
   },
   "outputs": [],
   "source": [
    "import functools\n",
    "\n",
    "def debug(func):\n",
    "    \"\"\"Ausgabe der Signatur und des Rückgabewertes der Funktion\"\"\"\n",
    "    @functools.wraps(func)\n",
    "    def wrapper_debug(*args, **kwargs):\n",
    "        args_repr = [repr(a) for a in args]                      # 1\n",
    "        kwargs_repr = [f\"{k}={v!r}\" for k, v in kwargs.items()]  # 2\n",
    "        signature = \", \".join(args_repr + kwargs_repr)           # 3\n",
    "        print(f\"Calling {func.__name__}({signature})\")\n",
    "        value = func(*args, **kwargs)\n",
    "        print(f\"{func.__name__!r} returned {value!r}\")           # 4\n",
    "        return value\n",
    "    return wrapper_debug\n",
    "\n",
    "@debug\n",
    "def make_greeting(name, age=None):\n",
    "    if age is None:\n",
    "        return f\"Hey {name}!\"\n",
    "    else:\n",
    "        return f\"Whoa {name}! {age} already, you are growing up!\""
   ]
  },
  {
   "cell_type": "markdown",
   "metadata": {
    "slideshow": {
     "slide_type": "subslide"
    }
   },
   "source": [
    "***Nun mit Debug Informationen:***"
   ]
  },
  {
   "cell_type": "code",
   "execution_count": null,
   "metadata": {
    "pycharm": {
     "name": "#%%\n"
    },
    "slideshow": {
     "slide_type": "fragment"
    }
   },
   "outputs": [],
   "source": [
    "make_greeting(\"Martin\")"
   ]
  },
  {
   "cell_type": "code",
   "execution_count": null,
   "metadata": {
    "pycharm": {
     "name": "#%%\n"
    },
    "slideshow": {
     "slide_type": "fragment"
    }
   },
   "outputs": [],
   "source": [
    "make_greeting(\"Alex\", age=11)"
   ]
  },
  {
   "cell_type": "markdown",
   "metadata": {
    "slideshow": {
     "slide_type": "slide"
    }
   },
   "source": [
    "## Klassen als Decorators\n",
    "**Python besitzt bereits Standard Decorators, wie z.B. hier:**"
   ]
  },
  {
   "cell_type": "code",
   "execution_count": null,
   "metadata": {
    "pycharm": {
     "name": "#%%\n"
    },
    "slideshow": {
     "slide_type": "fragment"
    }
   },
   "outputs": [],
   "source": [
    "class Circle:\n",
    "    def __init__(self, radius):\n",
    "        self._radius = radius\n",
    "\n",
    "    @property\n",
    "    def radius(self):\n",
    "        return self._radius\n",
    "\n",
    "    @radius.setter\n",
    "    def radius(self, value):\n",
    "        self._radius = value\n",
    "\n",
    "    @classmethod\n",
    "    def unit_circle(cls):\n",
    "        \"\"\"Factory method creating a circle with radius 1\"\"\"\n",
    "        return cls(1)\n",
    "\n",
    "    @staticmethod\n",
    "    def pi():\n",
    "        return 3.1415926535"
   ]
  },
  {
   "cell_type": "code",
   "execution_count": null,
   "metadata": {
    "pycharm": {
     "name": "#%%\n"
    },
    "slideshow": {
     "slide_type": "subslide"
    }
   },
   "outputs": [],
   "source": [
    "c = Circle(5)\n",
    "print(\"Radius: \",c.radius)\n",
    "print(\"Pi: \",c.pi())\n",
    "c = Circle.unit_circle()\n",
    "print(\"Factory Radius: \",c.radius)"
   ]
  },
  {
   "cell_type": "markdown",
   "metadata": {
    "slideshow": {
     "slide_type": "subslide"
    }
   },
   "source": [
    "### Ganze Klasse als Decorator:"
   ]
  },
  {
   "cell_type": "code",
   "execution_count": null,
   "metadata": {
    "pycharm": {
     "name": "#%%\n"
    },
    "slideshow": {
     "slide_type": "fragment"
    }
   },
   "outputs": [],
   "source": [
    "from dataclasses import dataclass\n",
    "\n",
    "\"\"\"\n",
    "@dataclass sorgt für das Hinzufügen standardisierter Python Decorator Methoden,\n",
    "wie z.B. __init__ oder __str__\n",
    "\"\"\"\n",
    "@dataclass\n",
    "class PlayingCard:\n",
    "    rank: str\n",
    "    suit: str\n",
    "\n",
    "pc = PlayingCard(\"6\",\"Diamond\")\n",
    "print(pc)"
   ]
  },
  {
   "cell_type": "markdown",
   "metadata": {
    "pycharm": {
     "name": "#%% md\n"
    },
    "slideshow": {
     "slide_type": "slide"
    }
   },
   "source": [
    "## Quellen:\n",
    "* https://de.wikipedia.org/wiki/Decorator\n",
    "* https://de.wikipedia.org/wiki/Adapter_(Entwurfsmuster)\n",
    "* https://refactoring.guru/design-patterns/decorator/python/example\n",
    "* https://python-patterns.guide/gang-of-four/decorator-pattern/\n",
    "* https://realpython.com/primer-on-python-decorators/"
   ]
  }
 ],
 "metadata": {
  "celltoolbar": "Slideshow",
  "kernelspec": {
   "display_name": "Python 3 (ipykernel)",
   "language": "python",
   "name": "python3"
  },
  "language_info": {
   "codemirror_mode": {
    "name": "ipython",
    "version": 3
   },
   "file_extension": ".py",
   "mimetype": "text/x-python",
   "name": "python",
   "nbconvert_exporter": "python",
   "pygments_lexer": "ipython3",
   "version": "3.9.5"
  }
 },
 "nbformat": 4,
 "nbformat_minor": 1
}
