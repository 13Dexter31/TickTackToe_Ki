{
 "cells": [
  {
   "cell_type": "markdown",
   "source": [
    "# Aufgabenstellung\n",
    "\n",
    "Führen Sie die Überlegungen weiter, die wir schon zur Aufzeichnung zu Spielverläufen angestellt haben und planen Sie die Aufzeichnung von 10^6 Spielverläufen in einer Datei."
   ],
   "metadata": {
    "collapsed": false,
    "pycharm": {
     "name": "#%% md\n"
    }
   }
  },
  {
   "cell_type": "markdown",
   "source": [
    "# Option 1 - Abspeicherung pro Spiel"
   ],
   "metadata": {
    "collapsed": false,
    "pycharm": {
     "name": "#%% md\n"
    }
   }
  },
  {
   "cell_type": "markdown",
   "source": [
    "## Theorie\n",
    "\n",
    "Das loggen von Spieldaten wird über das Game gemanagt um dies an einheitlicher Stelle einmalig umzusetzen."
   ],
   "metadata": {
    "collapsed": false,
    "pycharm": {
     "name": "#%% md\n"
    }
   }
  },
  {
   "cell_type": "markdown",
   "source": [
    "## Umsetzung\n",
    "\n",
    "Im generellen wird auf jeden Fall die Game#start so erweitert, dass eine Spielanzahl für die wiederholte durchführung und ein GameLog mitgegeben werden kann.\n",
    "\n",
    "Wenn das GameLog gesetzt ist wird dies innerhalb von Game#turn aufgerufen.\n",
    "Damit wird dem Gamelog einmal pro Zug und nicht erst nach einem Spiel input gegeben, was den Vorteil hat, dass das Gamelog selbst entscheiden welche Informationen gelogt werden.\n",
    "\n",
    "So können verschidene GameLog-Varianten definiert werden um spezifische ausgaben zu Erreichen.\n",
    "Beispiele hierfür sind weiter unten unter LogVarianten aufgelistet.\n",
    "\n",
    "Bei Bedarf kann dies zu einem Späteren Zeitpunkt erweitert werden um mehrere GameLogs mitzugeben."
   ],
   "metadata": {
    "collapsed": false,
    "pycharm": {
     "name": "#%% md\n"
    }
   }
  },
  {
   "cell_type": "markdown",
   "source": [
    "# LogVarianten"
   ],
   "metadata": {
    "collapsed": false,
    "pycharm": {
     "name": "#%% md\n"
    }
   }
  },
  {
   "cell_type": "markdown",
   "source": [
    "## HumanReadable\n",
    "\n",
    "--- Game 1 ----------\n",
    "\n",
    "Turn1\n",
    "+---+---+---+\n",
    "| x |   |   |\n",
    "+---+---+---+\n",
    "|   |   |   |\n",
    "+---+---+---+\n",
    "|   |   |   |\n",
    "+---+---+---+\n",
    "\n",
    "Turn2\n",
    "+---+---+---+\n",
    "| x |   |   |\n",
    "+---+---+---+\n",
    "|   |   | o |\n",
    "+---+---+---+\n",
    "|   |   |   |\n",
    "+---+---+---+\n",
    "\n",
    "Turn3\n",
    "+---+---+---+\n",
    "| x |   |   |\n",
    "+---+---+---+\n",
    "|   | x | o |\n",
    "+---+---+---+\n",
    "|   |   |   |\n",
    "+---+---+---+\n",
    "\n",
    "Turn4\n",
    "+---+---+---+\n",
    "| x |   | o |\n",
    "+---+---+---+\n",
    "|   | x | o |\n",
    "+---+---+---+\n",
    "|   |   |   |\n",
    "+---+---+---+\n",
    "\n",
    "Turn5\n",
    "+---+---+---+\n",
    "| x |   | o |\n",
    "+---+---+---+\n",
    "|   | x | o |\n",
    "+---+---+---+\n",
    "|   |   | x |\n",
    "+---+---+---+\n",
    "\n",
    "--- Game 2 ----------\n",
    "\n",
    "..."
   ],
   "metadata": {
    "collapsed": false
   }
  }
 ],
 "metadata": {
  "kernelspec": {
   "display_name": "Python 3",
   "language": "python",
   "name": "python3"
  },
  "language_info": {
   "codemirror_mode": {
    "name": "ipython",
    "version": 2
   },
   "file_extension": ".py",
   "mimetype": "text/x-python",
   "name": "python",
   "nbconvert_exporter": "python",
   "pygments_lexer": "ipython2",
   "version": "2.7.6"
  }
 },
 "nbformat": 4,
 "nbformat_minor": 0
}