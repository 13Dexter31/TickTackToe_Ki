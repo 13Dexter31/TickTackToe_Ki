{
 "cells": [],
 "metadata": {
  "kernelspec": {
   "display_name": "Python 3",
   "language": "python",
   "name": "python3"
  },
  "language_info": {
   "codemirror_mode": {
    "name": "ipython",
    "version": 2
   },
   "file_extension": ".py",
   "mimetype": "text/x-python",
   "name": "python",
   "nbconvert_exporter": "python",
   "pygments_lexer": "ipython2",
   "version": "2.7.6"
  },
  "pycharm": {
   "stem_cell": {
    "cell_type": "raw",
    "source": [
     "##%% md\n",
     " Aufgabenstellung\n",
     "\n",
     "Führen Sie die Überlegungen weiter, die wir schon zur Aufzeichnung zu Spielverläufen angestellt haben und planen Sie die Aufzeichnung von 10^6 Spielverläufen in einer Datei."
    ],
    "metadata": {
     "collapsed": false
    }
   }
  }
 },
 "nbformat": 4,
 "nbformat_minor": 0
}