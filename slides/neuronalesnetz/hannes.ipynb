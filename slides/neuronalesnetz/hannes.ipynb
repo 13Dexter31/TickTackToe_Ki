{
 "cells": [
  {
   "cell_type": "markdown",
   "metadata": {
    "collapsed": true,
    "pycharm": {
     "name": "#%% md\n"
    }
   },
   "source": [
    "# Aufgabenstellung\n",
    "\n",
    "Sie haben ja alle (bis auf Herrn Kubisch) schon Neuronale Netze behandelt. Erstellen Sie dazu 2-3 Slides mit konkreten und teil-ausgearbeiten Ideen, wie Sie Neurnale Netze einsetzen wollen, um mit KI etwas über Tictactoe zu lernen, und was Sie konkret zur Umsetzung noch lernen und implementieren müssen."
   ]
  },
  {
   "cell_type": "markdown",
   "source": [
    "# Entscheidungsbäume\n",
    "\n",
    "Es könnte ein Entscheidungsbaum aufgestellt werden um über eine Vielzahl von Parametern pro zug eine Entscheidung zu treffen welcher nächster Schritt die höchsten Gewinnchancen potenziel erzielen wird.\n",
    "\n",
    "## Weiter Parameter könnten sein:\n",
    "- Art des Gegners\n",
    "- welche Runde\n",
    "- vorherige spiele (schwierig umzusetzen)\n",
    "- ...\n",
    "\n",
    "## Speziefischere Umsetzung\n",
    "Über Random Tree Forest um über eine Vielzahl von Spiele zu trainieren"
   ],
   "metadata": {
    "collapsed": false,
    "pycharm": {
     "name": "#%% md\n"
    }
   }
  },
  {
   "cell_type": "markdown",
   "source": [],
   "metadata": {
    "collapsed": false,
    "pycharm": {
     "name": "#%% md\n"
    }
   }
  },
  {
   "cell_type": "markdown",
   "source": [
    "# Offene Fragen\n",
    "- sollte ein schnell gewonnenes Spiel besser bewertet werden\n",
    "- wie können logs sinnvoll zum trainieren genutzt werden"
   ],
   "metadata": {
    "collapsed": false,
    "pycharm": {
     "name": "#%% md\n"
    }
   }
  }
 ],
 "metadata": {
  "kernelspec": {
   "display_name": "Python 3",
   "language": "python",
   "name": "python3"
  },
  "language_info": {
   "codemirror_mode": {
    "name": "ipython",
    "version": 2
   },
   "file_extension": ".py",
   "mimetype": "text/x-python",
   "name": "python",
   "nbconvert_exporter": "python",
   "pygments_lexer": "ipython2",
   "version": "2.7.6"
  }
 },
 "nbformat": 4,
 "nbformat_minor": 0
}