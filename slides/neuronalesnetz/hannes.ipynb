{
 "cells": [
  {
   "cell_type": "markdown",
   "metadata": {
    "collapsed": true,
    "pycharm": {
     "name": "#%% md\n"
    }
   },
   "source": [
    "# Aufgabenstellung\n",
    "\n",
    "Sie haben ja alle (bis auf Herrn Kubisch) schon Neuronale Netze behandelt. Erstellen Sie dazu 2-3 Slides mit konkreten und teil-ausgearbeiten Ideen, wie Sie Neurnale Netze einsetzen wollen, um mit KI etwas über Tictactoe zu lernen, und was Sie konkret zur Umsetzung noch lernen und implementieren müssen."
   ]
  },
  {
   "cell_type": "code",
   "execution_count": null,
   "outputs": [],
   "source": [],
   "metadata": {
    "collapsed": false,
    "pycharm": {
     "name": "#%%\n"
    }
   }
  }
 ],
 "metadata": {
  "kernelspec": {
   "display_name": "Python 3",
   "language": "python",
   "name": "python3"
  },
  "language_info": {
   "codemirror_mode": {
    "name": "ipython",
    "version": 2
   },
   "file_extension": ".py",
   "mimetype": "text/x-python",
   "name": "python",
   "nbconvert_exporter": "python",
   "pygments_lexer": "ipython2",
   "version": "2.7.6"
  }
 },
 "nbformat": 4,
 "nbformat_minor": 0
}