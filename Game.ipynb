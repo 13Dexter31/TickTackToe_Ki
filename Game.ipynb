{
 "cells": [
  {
   "cell_type": "code",
   "execution_count": 1,
   "outputs": [
    {
     "name": "stdout",
     "output_type": "stream",
     "text": [
      "1 | 2 | 1\n",
      "2 | 1 | 2\n",
      "1 | 2 | 1\n",
      "\n",
      "    Contains attribute <field> (3x3 numpy array of type 'Player').\n",
      "    The field can be accessed via the indices column and row.\n",
      "    The indices can be in range 0..2.\n",
      "    Example: board[0][1] will return the <Player> object in the center of the first column.\n",
      "    \n",
      "    Field: 00 10 20\n",
      "           01 11 21\n",
      "           02 12 22\n",
      "    \n"
     ]
    },
    {
     "ename": "ModuleNotFoundError",
     "evalue": "No module named 'ipywidgets'",
     "output_type": "error",
     "traceback": [
      "\u001B[0;31m---------------------------------------------------------------------------\u001B[0m",
      "\u001B[0;31mModuleNotFoundError\u001B[0m                       Traceback (most recent call last)",
      "\u001B[0;32m/var/folders/72/w5_9g7z11nz3r8nxp5mff3k40000gn/T/ipykernel_787/1067906938.py\u001B[0m in \u001B[0;36m<module>\u001B[0;34m\u001B[0m\n\u001B[0;32m----> 1\u001B[0;31m \u001B[0;32mfrom\u001B[0m \u001B[0mBoard\u001B[0m \u001B[0;32mimport\u001B[0m \u001B[0mBoard\u001B[0m\u001B[0;34m\u001B[0m\u001B[0;34m\u001B[0m\u001B[0m\n\u001B[0m\u001B[1;32m      2\u001B[0m \u001B[0;32mfrom\u001B[0m \u001B[0mBoard\u001B[0m \u001B[0;32mimport\u001B[0m \u001B[0mResult\u001B[0m\u001B[0;34m\u001B[0m\u001B[0;34m\u001B[0m\u001B[0m\n",
      "\u001B[0;32m/Volumes/Macintosh HD - Data/Verteilte Programmierung/Board.py\u001B[0m in \u001B[0;36m<module>\u001B[0;34m\u001B[0m\n\u001B[1;32m    164\u001B[0m \u001B[0;34m\u001B[0m\u001B[0m\n\u001B[1;32m    165\u001B[0m \u001B[0;34m\u001B[0m\u001B[0m\n\u001B[0;32m--> 166\u001B[0;31m \u001B[0;32mimport\u001B[0m \u001B[0mipywidgets\u001B[0m \u001B[0;32mas\u001B[0m \u001B[0mwidgets\u001B[0m\u001B[0;34m\u001B[0m\u001B[0;34m\u001B[0m\u001B[0m\n\u001B[0m\u001B[1;32m    167\u001B[0m \u001B[0;32mfrom\u001B[0m \u001B[0mIPython\u001B[0m\u001B[0;34m.\u001B[0m\u001B[0mdisplay\u001B[0m \u001B[0;32mimport\u001B[0m \u001B[0mdisplay\u001B[0m\u001B[0;34m\u001B[0m\u001B[0;34m\u001B[0m\u001B[0m\n\u001B[1;32m    168\u001B[0m \u001B[0;34m\u001B[0m\u001B[0m\n",
      "\u001B[0;31mModuleNotFoundError\u001B[0m: No module named 'ipywidgets'"
     ]
    }
   ],
   "source": [
    "from Board import Board\n",
    "from Board import Result"
   ],
   "metadata": {
    "collapsed": false,
    "pycharm": {
     "name": "#%%\n"
    }
   }
  },
  {
   "cell_type": "markdown",
   "source": [
    "# Game class.\n",
    "This class is used to generate a new game to play.\n",
    "he game needs player to play it and a board to play on."
   ],
   "metadata": {
    "collapsed": false
   }
  },
  {
   "cell_type": "code",
   "execution_count": 2,
   "metadata": {
    "pycharm": {
     "name": "#%%\n"
    }
   },
   "outputs": [],
   "source": [
    "class Game:\n",
    "\n",
    "    def __init__(self, players=[]):\n",
    "        \"\"\"\n",
    "        initializes the given palyers\n",
    "        :param players: can be a human player or an ai\n",
    "        \"\"\"\n",
    "        self.players = players\n",
    "\n",
    "    def turn(self,player,board):\n",
    "        \"\"\"\n",
    "        Game logic for a player turn.\n",
    "        Player makes a move and the board checks if the move is valid.\n",
    "            When its valid the logic continues\n",
    "            When its invalid the player gets feedback and has to do another move.\n",
    "        :param player: The current player\n",
    "        :param board: The board which needs the player inputs\n",
    "        :return:\n",
    "        \"\"\"\n",
    "        position = player.makeMove(board)\n",
    "        is_valid = board.update(position, player)\n",
    "        if not is_valid:\n",
    "            new_try = False\n",
    "            while not new_try:\n",
    "                player.feedback(Result.INVALID_MOVE)\n",
    "                col,row = player.makeMove(board)\n",
    "                new_try = board.update(col,row, player)\n",
    "\n",
    "    def start(self):\n",
    "        \"\"\"\n",
    "        Logic of a complete Game.\n",
    "        Initializes a new Board for every Game that is played.\n",
    "        As long as the Game has no ending it continues.\n",
    "            Every Player has his own turn.\n",
    "            After a successful turn the game needs to check the state.\n",
    "            When the Game is over and the player with his current turn wins, he will get notified with a victory.\n",
    "                All other players ate getting the loose feedback.\n",
    "            When the Game is over and its a draw everyone will get notified.\n",
    "        :return:\n",
    "        \"\"\"\n",
    "        board = Board()\n",
    "        state = Result.NO_RESULT\n",
    "        # loop till the game does not continue\n",
    "        while state == Result.NO_RESULT:\n",
    "            for player in self.players:\n",
    "                # current player makes a move\n",
    "                self.turn(player,board)\n",
    "                # check if game is over\n",
    "                state = board.over()\n",
    "                # check if the player won or drawed\n",
    "                if state == Result.GAME_WON:\n",
    "                    # if he is the winner, everyone else is the looser\n",
    "                    for looser in self.players:\n",
    "                        # send state to the looser\n",
    "                        if not looser == player:\n",
    "                            looser.feedback(Result.GAME_LOST)\n",
    "                    # send state to the winner£\n",
    "                    player.feedback(state)\n",
    "                    break\n",
    "                elif state == Result.DRAW:\n",
    "                    # send state to all players that it's a draw\n",
    "                    for playerDraw in self.players:\n",
    "                        playerDraw.feedback(state)\n",
    "                    break"
   ]
  }
 ],
 "metadata": {
  "interpreter": {
   "hash": "31f2aee4e71d21fbe5cf8b01ff0e069b9275f58929596ceb00d14d90e3e16cd6"
  },
  "kernelspec": {
   "display_name": "Python 3.8.9 64-bit",
   "name": "python3"
  },
  "language_info": {
   "codemirror_mode": {
    "name": "ipython",
    "version": 3
   },
   "file_extension": ".py",
   "mimetype": "text/x-python",
   "name": "python",
   "nbconvert_exporter": "python",
   "pygments_lexer": "ipython3",
   "version": "3.8.9"
  }
 },
 "nbformat": 4,
 "nbformat_minor": 2
}