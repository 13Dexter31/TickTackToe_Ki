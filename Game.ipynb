{
 "cells": [
  {
   "cell_type": "code",
   "execution_count": null,
   "metadata": {
    "pycharm": {
     "name": "#%%\n"
    }
   },
   "outputs": [],
   "source": [
    "from Board import Board\n",
    "from Board import Result"
   ]
  },
  {
   "cell_type": "markdown",
   "metadata": {},
   "source": [
    "# Game class.\n",
    "This class is used to generate a new game to play.\n",
    "he game needs player to play it and a board to play on."
   ]
  },
  {
   "cell_type": "code",
   "execution_count": null,
   "metadata": {
    "pycharm": {
     "name": "#%%\n"
    }
   },
   "outputs": [],
   "source": [
    "class Game:\n",
    "\n",
    "    def __init__(self, players=[]):\n",
    "        \"\"\"\n",
    "        initializes the given palyers\n",
    "        :param players: can be a human player or an ai\n",
    "        \"\"\"\n",
    "        self.players = players\n",
    "\n",
    "    def turn(self,player,board):\n",
    "        \"\"\"\n",
    "        Game logic for a player turn.\n",
    "        Player makes a move and the board checks if the move is valid.\n",
    "            When its valid the logic continues\n",
    "            When its invalid the player gets feedback and has to do another move.\n",
    "        :param player: The current player\n",
    "        :param board: The board which needs the player inputs\n",
    "        :return:\n",
    "        \"\"\"\n",
    "        pos = player.makeMove(board)\n",
    "        is_valid = board.update(pos, player)\n",
    "        if not is_valid:\n",
    "            new_try = False\n",
    "            while not new_try:\n",
    "                player.giveResult(Result.INVALID_MOVE)\n",
    "                pos = player.makeMove(board)\n",
    "                new_try = board.update(pos, player)\n",
    "\n",
    "    def start(self):\n",
    "        \"\"\"\n",
    "        Logic of a complete Game.\n",
    "        Initializes a new Board for every Game that is played.\n",
    "        As long as the Game has no ending it continues.\n",
    "            Every Player has his own turn.\n",
    "            After a successful turn the game needs to check the state.\n",
    "            When the Game is over and the player with his current turn wins, he will get notified with a victory.\n",
    "                All other players ate getting the loose feedback.\n",
    "            When the Game is over and its a draw everyone will get notified.\n",
    "        :return:\n",
    "        \"\"\"\n",
    "        board = Board()\n",
    "        state = Result.NO_RESULT\n",
    "        while state == Result.NO_RESULT:\n",
    "            for player in self.players:\n",
    "                self.turn(player,board)\n",
    "                state = board.over()\n",
    "                if state == Result.GAME_WON:\n",
    "                    for looser in self.players:\n",
    "                        if not looser == player:\n",
    "                            looser.giveResult(Result.GAME_LOST)\n",
    "                    player.giveResult(state)\n",
    "                    break\n",
    "                elif state == Result.GAME_DRAW:\n",
    "                    for playerDraw in self.players:\n",
    "                        playerDraw.giveResult(state)\n",
    "                    break"
   ]
  }
 ],
 "metadata": {
  "interpreter": {
   "hash": "31f2aee4e71d21fbe5cf8b01ff0e069b9275f58929596ceb00d14d90e3e16cd6"
  },
  "kernelspec": {
   "display_name": "Python 3",
   "language": "python",
   "name": "python3"
  },
  "language_info": {
   "codemirror_mode": {
    "name": "ipython",
    "version": 3
   },
   "file_extension": ".py",
   "mimetype": "text/x-python",
   "name": "python",
   "nbconvert_exporter": "python",
   "pygments_lexer": "ipython3",
   "version": "3.6.9"
  }
 },
 "nbformat": 4,
 "nbformat_minor": 2
}
