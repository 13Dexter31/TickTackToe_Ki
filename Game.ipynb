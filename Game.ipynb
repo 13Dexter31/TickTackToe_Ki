{
 "cells": [
  {
   "cell_type": "code",
   "execution_count": null,
   "metadata": {
    "pycharm": {
     "name": "#%%\n"
    }
   },
   "outputs": [],
   "source": [
    "from Board import Board\n",
    "from Board import Result"
   ]
  },
  {
   "cell_type": "markdown",
   "metadata": {},
   "source": [
    "# Game class.\n",
    "This class is used to generate a new game to play.  \n",
    "The game needs player to play it and a board to play on.  \n",
    "This class also contains the logic of a game and a single turn.  \n",
    "When the Game gets started with players, it will create a board and lets the first player make his move. When the move is incorrect, the game will send feedback to the player until he makes a valid move. The player gets feedback after a valid move. After the player makes a valid move, the game checks if the game is already over or not. When its over the players will get feedback and the game ends. When the game continous the next player can make his move."
   ]
  },
  {
   "cell_type": "code",
   "execution_count": null,
   "metadata": {
    "pycharm": {
     "name": "#%%\n"
    }
   },
   "outputs": [],
   "source": [
    "class Game:\n",
    "\n",
    "    def __init__(self, players=[]):\n",
    "        \"\"\"\n",
    "        initializes the given players\n",
    "        Parameters\n",
    "        ----------\n",
    "        players : list of player\n",
    "                    can be a human player or an ai\n",
    "        \"\"\"\n",
    "        self.players = players\n",
    "\n",
    "    def turn(self,player,board):\n",
    "        \"\"\"\n",
    "        Game logic for a player turn.\n",
    "        Player makes a move and the board checks if the move is valid.\n",
    "            When its valid the logic continues\n",
    "            When its invalid the player gets feedback and has to do another move.\n",
    "\n",
    "        Parameters\n",
    "        ----------\n",
    "         player : player\n",
    "                 The current player\n",
    "        board : board\n",
    "                The board which needs the player inputs\n",
    "\n",
    "        Return\n",
    "        ------\n",
    "        \"\"\"\n",
    "        pos = player.makeMove(board)\n",
    "        is_valid = board.update(pos, player)\n",
    "        while not is_valid:\n",
    "            player.giveResult(Result.INVALID_MOVE)\n",
    "            pos = player.makeMove(board)\n",
    "            is_valid = board.update(pos, player)\n",
    "        player.giveResult(Result.NO_RESULT)\n",
    "\n",
    "    def run(self):\n",
    "        \"\"\"\n",
    "        Logic of a complete Game.\n",
    "        Initializes a new Board for every Game that is played.\n",
    "        As long as the Game has no ending it continues.\n",
    "            Every Player has his own turn.\n",
    "            After a successful turn the game needs to check the state.\n",
    "            When the Game is over and the player with his current turn wins, he will get notified with a victory.\n",
    "                All other players ate getting the loose feedback.\n",
    "            When the Game is over and its a draw everyone will get notified.\n",
    "        Return\n",
    "        ------\n",
    "        \"\"\"\n",
    "        board = Board()\n",
    "        state = Result.NO_RESULT\n",
    "        while state == Result.NO_RESULT:\n",
    "            for player in self.players:\n",
    "                self.turn(player,board)\n",
    "                state = board.over()\n",
    "                if state == Result.GAME_WON:\n",
    "                    for looser in self.players:\n",
    "                        if not looser == player:\n",
    "                            looser.giveResult(Result.GAME_LOST)\n",
    "                    player.giveResult(state)\n",
    "                    break\n",
    "                elif state == Result.GAME_DRAW:\n",
    "                    for playerDraw in self.players:\n",
    "                        playerDraw.giveResult(state)\n",
    "                    break"
   ]
  }
 ],
 "metadata": {
  "interpreter": {
   "hash": "31f2aee4e71d21fbe5cf8b01ff0e069b9275f58929596ceb00d14d90e3e16cd6"
  },
  "kernelspec": {
   "display_name": "Python 3",
   "language": "python",
   "name": "python3"
  },
  "language_info": {
   "codemirror_mode": {
    "name": "ipython",
    "version": 3
   },
   "file_extension": ".py",
   "mimetype": "text/x-python",
   "name": "python",
   "nbconvert_exporter": "python",
   "pygments_lexer": "ipython3",
   "version": "3.6.9"
  }
 },
 "nbformat": 4,
 "nbformat_minor": 2
}