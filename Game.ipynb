{
 "cells": [
  {
   "cell_type": "code",
   "execution_count": null,
   "outputs": [],
   "source": [
    "import Game\n",
    "import Board\n",
    "from player.Randy import Randy\n",
    "from player.Human import Human\n",
    "from player.Player import Player\n",
    "import Human"
   ],
   "metadata": {
    "collapsed": false,
    "pycharm": {
     "name": "#%%\n"
    }
   }
  },
  {
   "cell_type": "code",
   "execution_count": null,
   "metadata": {},
   "outputs": [],
   "source": [
    "class Game:\n",
    "    \n",
    "    # TODO 2-3 tests implementieren\n",
    "\n",
    "    def __init__(self, players=[]):\n",
    "        self.players = players\n",
    "    \n",
    "    def Turn(self,player,board):\n",
    "        position = player.makeMove(board)\n",
    "        isValid = board.update(position, player)\n",
    "        if isValid == False:\n",
    "            newTry = False\n",
    "            while not newTry:\n",
    "                player.feedback(Result.INVALID_MOVE)\n",
    "                newPos = player.makeMove(board)\n",
    "                newTry = board.update(newPos, player)\n",
    "\n",
    "    def Game(self,players):\n",
    "        board = Board()\n",
    "        state = Result.NO_RESULT\n",
    "        # loop till the game does not continue\n",
    "        while state == Result.NO_RESULT:\n",
    "            for player in players:\n",
    "                # current player makes a move\n",
    "                self.Turn(player,board)\n",
    "                # check if game is over\n",
    "                state = board.over()\n",
    "                # check if the player won or drawed\n",
    "                if state == Result.GAME_WON:\n",
    "                    # if he is the winner, everyone else is the looser\n",
    "                    for looser in players:\n",
    "                        # send state to the looser\n",
    "                        if not looser == player:\n",
    "                            looser.feedback(Result.GAME_LOST)\n",
    "                    # send state to the winner£\n",
    "                    player.feedback(state)\n",
    "                    break\n",
    "                elif state == Result.DRAW:\n",
    "                    # send state to all players that it's a draw\n",
    "                    for playerDraw in players:\n",
    "                        playerDraw.feedback(state)\n",
    "                    break"
   ]
  },
  {
   "cell_type": "code",
   "execution_count": null,
   "outputs": [],
   "source": [
    "player1 = Randy()\n",
    "player2 = Human()\n",
    "players = [player1,player2]\n",
    "\n",
    "game = Game(players)"
   ],
   "metadata": {
    "collapsed": false,
    "pycharm": {
     "name": "#%%\n"
    }
   }
  }
 ],
 "metadata": {
  "interpreter": {
   "hash": "31f2aee4e71d21fbe5cf8b01ff0e069b9275f58929596ceb00d14d90e3e16cd6"
  },
  "kernelspec": {
   "display_name": "Python 3.8.9 64-bit",
   "name": "python3"
  },
  "language_info": {
   "codemirror_mode": {
    "name": "ipython",
    "version": 3
   },
   "file_extension": ".py",
   "mimetype": "text/x-python",
   "name": "python",
   "nbconvert_exporter": "python",
   "pygments_lexer": "ipython3",
   "version": "3.8.9"
  }
 },
 "nbformat": 4,
 "nbformat_minor": 2
}