{
 "cells": [
  {
   "cell_type": "code",
   "execution_count": 1,
   "outputs": [
    {
     "ename": "ModuleNotFoundError",
     "evalue": "No module named 'Board'",
     "output_type": "error",
     "traceback": [
      "\u001B[0;31m---------------------------------------------------------------------------\u001B[0m",
      "\u001B[0;31mModuleNotFoundError\u001B[0m                       Traceback (most recent call last)",
      "\u001B[0;32m/var/folders/72/w5_9g7z11nz3r8nxp5mff3k40000gn/T/ipykernel_72609/1067906938.py\u001B[0m in \u001B[0;36m<module>\u001B[0;34m\u001B[0m\n\u001B[0;32m----> 1\u001B[0;31m \u001B[0;32mfrom\u001B[0m \u001B[0mBoard\u001B[0m \u001B[0;32mimport\u001B[0m \u001B[0mBoard\u001B[0m\u001B[0;34m\u001B[0m\u001B[0;34m\u001B[0m\u001B[0m\n\u001B[0m\u001B[1;32m      2\u001B[0m \u001B[0;32mfrom\u001B[0m \u001B[0mBoard\u001B[0m \u001B[0;32mimport\u001B[0m \u001B[0mResult\u001B[0m\u001B[0;34m\u001B[0m\u001B[0;34m\u001B[0m\u001B[0m\n",
      "\u001B[0;31mModuleNotFoundError\u001B[0m: No module named 'Board'"
     ]
    }
   ],
   "source": [
    "from Board import Board\n",
    "from Board import Result"
   ],
   "metadata": {
    "collapsed": false,
    "pycharm": {
     "name": "#%%\n"
    }
   }
  },
  {
   "cell_type": "code",
   "execution_count": null,
   "metadata": {
    "pycharm": {
     "name": "#%%\n"
    }
   },
   "outputs": [],
   "source": [
    "class Game:\n",
    "    \n",
    "    # TODO 2-3 tests implementieren\n",
    "\n",
    "    def __init__(self, players=[]):\n",
    "        self.players = players\n",
    "\n",
    "    def turn(self,player,board):\n",
    "        position = player.makeMove(board)\n",
    "        is_valid = board.update(position, player)\n",
    "        if not is_valid:\n",
    "            new_try = False\n",
    "            while not new_try:\n",
    "                player.feedback(Result.INVALID_MOVE)\n",
    "                col,row = player.makeMove(board)\n",
    "                new_try = board.update(col,row, player)\n",
    "\n",
    "    def start(self):\n",
    "        board = Board()\n",
    "        state = Result.NO_RESULT\n",
    "        # loop till the game does not continue\n",
    "        while state == Result.NO_RESULT:\n",
    "            for player in self.players:\n",
    "                # current player makes a move\n",
    "                self.turn(player,board)\n",
    "                # check if game is over\n",
    "                state = board.over()\n",
    "                # check if the player won or drawed\n",
    "                if state == Result.GAME_WON:\n",
    "                    # if he is the winner, everyone else is the looser\n",
    "                    for looser in self.players:\n",
    "                        # send state to the looser\n",
    "                        if not looser == player:\n",
    "                            looser.feedback(Result.GAME_LOST)\n",
    "                    # send state to the winner£\n",
    "                    player.feedback(state)\n",
    "                    break\n",
    "                elif state == Result.DRAW:\n",
    "                    # send state to all players that it's a draw\n",
    "                    for playerDraw in self.players:\n",
    "                        playerDraw.feedback(state)\n",
    "                    break"
   ]
  }
 ],
 "metadata": {
  "interpreter": {
   "hash": "31f2aee4e71d21fbe5cf8b01ff0e069b9275f58929596ceb00d14d90e3e16cd6"
  },
  "kernelspec": {
   "display_name": "Python 3.8.9 64-bit",
   "name": "python3"
  },
  "language_info": {
   "codemirror_mode": {
    "name": "ipython",
    "version": 3
   },
   "file_extension": ".py",
   "mimetype": "text/x-python",
   "name": "python",
   "nbconvert_exporter": "python",
   "pygments_lexer": "ipython3",
   "version": "3.8.9"
  }
 },
 "nbformat": 4,
 "nbformat_minor": 2
}