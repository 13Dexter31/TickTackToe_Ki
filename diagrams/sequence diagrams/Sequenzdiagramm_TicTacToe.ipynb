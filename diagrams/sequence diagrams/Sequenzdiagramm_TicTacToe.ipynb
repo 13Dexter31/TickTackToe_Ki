{
 "cells": [
  {
   "cell_type": "code",
   "execution_count": 1,
   "metadata": {},
   "outputs": [],
   "source": [
    "import plantuml"
   ]
  },
  {
   "cell_type": "code",
   "execution_count": 3,
   "metadata": {},
   "outputs": [
    {
     "data": {
      "image/svg+xml": [
       "<svg contentScriptType=\"application/ecmascript\" contentStyleType=\"text/css\" height=\"435px\" preserveAspectRatio=\"none\" style=\"width:406px;height:435px;\" version=\"1.1\" viewBox=\"0 0 406 435\" width=\"406px\" xmlns=\"http://www.w3.org/2000/svg\" xmlns:xlink=\"http://www.w3.org/1999/xlink\" zoomAndPan=\"magnify\"><defs><filter height=\"300%\" id=\"f8emvhkc33nlb\" width=\"300%\" x=\"-1\" y=\"-1\"><feGaussianBlur result=\"blurOut\" stdDeviation=\"2.0\"/><feColorMatrix in=\"blurOut\" result=\"blurOut2\" type=\"matrix\" values=\"0 0 0 0 0 0 0 0 0 0 0 0 0 0 0 0 0 0 .4 0\"/><feOffset dx=\"4.0\" dy=\"4.0\" in=\"blurOut2\" result=\"blurOut3\"/><feBlend in=\"SourceGraphic\" in2=\"blurOut3\" mode=\"normal\"/></filter></defs><g><rect fill=\"#FFFFFF\" filter=\"url(#f8emvhkc33nlb)\" height=\"29.1328\" style=\"stroke: #A80036; stroke-width: 1.0;\" width=\"10\" x=\"47.5\" y=\"127.5625\"/><rect fill=\"#FFFFFF\" filter=\"url(#f8emvhkc33nlb)\" height=\"29.1328\" style=\"stroke: #A80036; stroke-width: 1.0;\" width=\"10\" x=\"47.5\" y=\"312.1641\"/><rect fill=\"#FFFFFF\" filter=\"url(#f8emvhkc33nlb)\" height=\"338.2656\" style=\"stroke: #A80036; stroke-width: 1.0;\" width=\"10\" x=\"181.5\" y=\"48.2969\"/><rect fill=\"#FFFFFF\" filter=\"url(#f8emvhkc33nlb)\" height=\"29.1328\" style=\"stroke: #A80036; stroke-width: 1.0;\" width=\"10\" x=\"186.5\" y=\"69.2969\"/><rect fill=\"#FFFFFF\" filter=\"url(#f8emvhkc33nlb)\" height=\"29.1328\" style=\"stroke: #A80036; stroke-width: 1.0;\" width=\"10\" x=\"186.5\" y=\"127.5625\"/><rect fill=\"#FFFFFF\" filter=\"url(#f8emvhkc33nlb)\" height=\"58.2656\" style=\"stroke: #A80036; stroke-width: 1.0;\" width=\"10\" x=\"186.5\" y=\"209.9609\"/><rect fill=\"#FFFFFF\" filter=\"url(#f8emvhkc33nlb)\" height=\"58.2656\" style=\"stroke: #A80036; stroke-width: 1.0;\" width=\"10\" x=\"186.5\" y=\"312.1641\"/><rect fill=\"#FFFFFF\" filter=\"url(#f8emvhkc33nlb)\" height=\"29.1328\" style=\"stroke: #A80036; stroke-width: 1.0;\" width=\"10\" x=\"349.5\" y=\"69.2969\"/><rect fill=\"#FFFFFF\" filter=\"url(#f8emvhkc33nlb)\" height=\"29.1328\" style=\"stroke: #A80036; stroke-width: 1.0;\" width=\"10\" x=\"349.5\" y=\"239.0938\"/><rect fill=\"#FFFFFF\" filter=\"url(#f8emvhkc33nlb)\" height=\"206.7344\" style=\"stroke: #000000; stroke-width: 2.0;\" width=\"381\" x=\"13\" y=\"171.8281\"/><rect fill=\"#FFFFFF\" height=\"102.2031\" style=\"stroke: none; stroke-width: 1.0;\" width=\"381\" x=\"13\" y=\"276.3594\"/><line style=\"stroke: #A80036; stroke-width: 1.0; stroke-dasharray: 5.0,5.0;\" x1=\"52\" x2=\"52\" y1=\"38.2969\" y2=\"395.5625\"/><line style=\"stroke: #A80036; stroke-width: 1.0; stroke-dasharray: 5.0,5.0;\" x1=\"186\" x2=\"186\" y1=\"38.2969\" y2=\"395.5625\"/><line style=\"stroke: #A80036; stroke-width: 1.0; stroke-dasharray: 5.0,5.0;\" x1=\"354\" x2=\"354\" y1=\"38.2969\" y2=\"395.5625\"/><rect fill=\"#FEFECE\" filter=\"url(#f8emvhkc33nlb)\" height=\"30.2969\" style=\"stroke: #A80036; stroke-width: 1.5;\" width=\"55\" x=\"23\" y=\"3\"/><text fill=\"#000000\" font-family=\"sans-serif\" font-size=\"14\" lengthAdjust=\"spacingAndGlyphs\" textLength=\"41\" x=\"30\" y=\"22.9951\">Board</text><rect fill=\"#FEFECE\" filter=\"url(#f8emvhkc33nlb)\" height=\"30.2969\" style=\"stroke: #A80036; stroke-width: 1.5;\" width=\"55\" x=\"23\" y=\"394.5625\"/><text fill=\"#000000\" font-family=\"sans-serif\" font-size=\"14\" lengthAdjust=\"spacingAndGlyphs\" textLength=\"41\" x=\"30\" y=\"414.5576\">Board</text><rect fill=\"#FEFECE\" filter=\"url(#f8emvhkc33nlb)\" height=\"30.2969\" style=\"stroke: #A80036; stroke-width: 1.5;\" width=\"55\" x=\"157\" y=\"3\"/><text fill=\"#000000\" font-family=\"sans-serif\" font-size=\"14\" lengthAdjust=\"spacingAndGlyphs\" textLength=\"41\" x=\"164\" y=\"22.9951\">Game</text><rect fill=\"#FEFECE\" filter=\"url(#f8emvhkc33nlb)\" height=\"30.2969\" style=\"stroke: #A80036; stroke-width: 1.5;\" width=\"55\" x=\"157\" y=\"394.5625\"/><text fill=\"#000000\" font-family=\"sans-serif\" font-size=\"14\" lengthAdjust=\"spacingAndGlyphs\" textLength=\"41\" x=\"164\" y=\"414.5576\">Game</text><rect fill=\"#FEFECE\" filter=\"url(#f8emvhkc33nlb)\" height=\"30.2969\" style=\"stroke: #A80036; stroke-width: 1.5;\" width=\"55\" x=\"325\" y=\"3\"/><text fill=\"#000000\" font-family=\"sans-serif\" font-size=\"14\" lengthAdjust=\"spacingAndGlyphs\" textLength=\"41\" x=\"332\" y=\"22.9951\">Player</text><rect fill=\"#FEFECE\" filter=\"url(#f8emvhkc33nlb)\" height=\"30.2969\" style=\"stroke: #A80036; stroke-width: 1.5;\" width=\"55\" x=\"325\" y=\"394.5625\"/><text fill=\"#000000\" font-family=\"sans-serif\" font-size=\"14\" lengthAdjust=\"spacingAndGlyphs\" textLength=\"41\" x=\"332\" y=\"414.5576\">Player</text><rect fill=\"#FFFFFF\" filter=\"url(#f8emvhkc33nlb)\" height=\"29.1328\" style=\"stroke: #A80036; stroke-width: 1.0;\" width=\"10\" x=\"47.5\" y=\"127.5625\"/><rect fill=\"#FFFFFF\" filter=\"url(#f8emvhkc33nlb)\" height=\"29.1328\" style=\"stroke: #A80036; stroke-width: 1.0;\" width=\"10\" x=\"47.5\" y=\"312.1641\"/><rect fill=\"#FFFFFF\" filter=\"url(#f8emvhkc33nlb)\" height=\"338.2656\" style=\"stroke: #A80036; stroke-width: 1.0;\" width=\"10\" x=\"181.5\" y=\"48.2969\"/><rect fill=\"#FFFFFF\" filter=\"url(#f8emvhkc33nlb)\" height=\"29.1328\" style=\"stroke: #A80036; stroke-width: 1.0;\" width=\"10\" x=\"186.5\" y=\"69.2969\"/><rect fill=\"#FFFFFF\" filter=\"url(#f8emvhkc33nlb)\" height=\"29.1328\" style=\"stroke: #A80036; stroke-width: 1.0;\" width=\"10\" x=\"186.5\" y=\"127.5625\"/><rect fill=\"#FFFFFF\" filter=\"url(#f8emvhkc33nlb)\" height=\"58.2656\" style=\"stroke: #A80036; stroke-width: 1.0;\" width=\"10\" x=\"186.5\" y=\"209.9609\"/><rect fill=\"#FFFFFF\" filter=\"url(#f8emvhkc33nlb)\" height=\"58.2656\" style=\"stroke: #A80036; stroke-width: 1.0;\" width=\"10\" x=\"186.5\" y=\"312.1641\"/><rect fill=\"#FFFFFF\" filter=\"url(#f8emvhkc33nlb)\" height=\"29.1328\" style=\"stroke: #A80036; stroke-width: 1.0;\" width=\"10\" x=\"349.5\" y=\"69.2969\"/><rect fill=\"#FFFFFF\" filter=\"url(#f8emvhkc33nlb)\" height=\"29.1328\" style=\"stroke: #A80036; stroke-width: 1.0;\" width=\"10\" x=\"349.5\" y=\"239.0938\"/><polygon fill=\"#A80036\" points=\"337.5,65.2969,347.5,69.2969,337.5,73.2969,341.5,69.2969\" style=\"stroke: #A80036; stroke-width: 1.0;\"/><line style=\"stroke: #A80036; stroke-width: 1.0;\" x1=\"196.5\" x2=\"343.5\" y1=\"69.2969\" y2=\"69.2969\"/><text fill=\"#000000\" font-family=\"sans-serif\" font-size=\"13\" lengthAdjust=\"spacingAndGlyphs\" textLength=\"134\" x=\"203.5\" y=\"64.3638\">makeMove(Spielfeld)</text><polygon fill=\"#A80036\" points=\"202.5,94.4297,192.5,98.4297,202.5,102.4297,198.5,98.4297\" style=\"stroke: #A80036; stroke-width: 1.0;\"/><line style=\"stroke: #A80036; stroke-width: 1.0; stroke-dasharray: 2.0,2.0;\" x1=\"196.5\" x2=\"353.5\" y1=\"98.4297\" y2=\"98.4297\"/><text fill=\"#000000\" font-family=\"sans-serif\" font-size=\"13\" lengthAdjust=\"spacingAndGlyphs\" textLength=\"93\" x=\"208.5\" y=\"93.4966\">return Position</text><polygon fill=\"#A80036\" points=\"68.5,123.5625,58.5,127.5625,68.5,131.5625,64.5,127.5625\" style=\"stroke: #A80036; stroke-width: 1.0;\"/><line style=\"stroke: #A80036; stroke-width: 1.0;\" x1=\"62.5\" x2=\"185.5\" y1=\"127.5625\" y2=\"127.5625\"/><text fill=\"#000000\" font-family=\"sans-serif\" font-size=\"13\" lengthAdjust=\"spacingAndGlyphs\" textLength=\"105\" x=\"74.5\" y=\"122.6294\">update(Position)</text><polygon fill=\"#A80036\" points=\"169.5,152.6953,179.5,156.6953,169.5,160.6953,173.5,156.6953\" style=\"stroke: #A80036; stroke-width: 1.0;\"/><line style=\"stroke: #A80036; stroke-width: 1.0; stroke-dasharray: 2.0,2.0;\" x1=\"52.5\" x2=\"175.5\" y1=\"156.6953\" y2=\"156.6953\"/><text fill=\"#000000\" font-family=\"sans-serif\" font-size=\"13\" lengthAdjust=\"spacingAndGlyphs\" textLength=\"70\" x=\"59.5\" y=\"151.7622\">return bool</text><rect fill=\"none\" height=\"206.7344\" style=\"stroke: #000000; stroke-width: 2.0;\" width=\"381\" x=\"13\" y=\"171.8281\"/><polygon fill=\"#EEEEEE\" points=\"13,171.8281,77,171.8281,77,178.8281,67,188.8281,13,188.8281,13,171.8281\" style=\"stroke: #000000; stroke-width: 2.0;\"/><text fill=\"#000000\" font-family=\"sans-serif\" font-size=\"13\" font-weight=\"bold\" lengthAdjust=\"spacingAndGlyphs\" textLength=\"19\" x=\"28\" y=\"184.895\">alt</text><text fill=\"#000000\" font-family=\"sans-serif\" font-size=\"11\" font-weight=\"bold\" lengthAdjust=\"spacingAndGlyphs\" textLength=\"91\" x=\"92\" y=\"184.0386\">[move invalid]</text><polygon fill=\"#A80036\" points=\"342.5,205.9609,352.5,209.9609,342.5,213.9609,346.5,209.9609\" style=\"stroke: #A80036; stroke-width: 1.0;\"/><line style=\"stroke: #A80036; stroke-width: 1.0;\" x1=\"196.5\" x2=\"348.5\" y1=\"209.9609\" y2=\"209.9609\"/><text fill=\"#000000\" font-family=\"sans-serif\" font-size=\"13\" lengthAdjust=\"spacingAndGlyphs\" textLength=\"107\" x=\"203.5\" y=\"205.0278\">feedback(Result)</text><polygon fill=\"#A80036\" points=\"337.5,235.0938,347.5,239.0938,337.5,243.0938,341.5,239.0938\" style=\"stroke: #A80036; stroke-width: 1.0;\"/><line style=\"stroke: #A80036; stroke-width: 1.0;\" x1=\"196.5\" x2=\"343.5\" y1=\"239.0938\" y2=\"239.0938\"/><text fill=\"#000000\" font-family=\"sans-serif\" font-size=\"13\" lengthAdjust=\"spacingAndGlyphs\" textLength=\"134\" x=\"203.5\" y=\"234.1606\">makeMove(Spielfeld)</text><polygon fill=\"#A80036\" points=\"202.5,264.2266,192.5,268.2266,202.5,272.2266,198.5,268.2266\" style=\"stroke: #A80036; stroke-width: 1.0;\"/><line style=\"stroke: #A80036; stroke-width: 1.0; stroke-dasharray: 2.0,2.0;\" x1=\"196.5\" x2=\"353.5\" y1=\"268.2266\" y2=\"268.2266\"/><text fill=\"#000000\" font-family=\"sans-serif\" font-size=\"13\" lengthAdjust=\"spacingAndGlyphs\" textLength=\"93\" x=\"208.5\" y=\"263.2935\">return Position</text><line style=\"stroke: #000000; stroke-width: 1.0; stroke-dasharray: 2.0,2.0;\" x1=\"13\" x2=\"394\" y1=\"277.3594\" y2=\"277.3594\"/><text fill=\"#000000\" font-family=\"sans-serif\" font-size=\"11\" font-weight=\"bold\" lengthAdjust=\"spacingAndGlyphs\" textLength=\"79\" x=\"18\" y=\"287.5698\">[move valid]</text><polygon fill=\"#A80036\" points=\"68.5,308.1641,58.5,312.1641,68.5,316.1641,64.5,312.1641\" style=\"stroke: #A80036; stroke-width: 1.0;\"/><line style=\"stroke: #A80036; stroke-width: 1.0;\" x1=\"62.5\" x2=\"185.5\" y1=\"312.1641\" y2=\"312.1641\"/><text fill=\"#000000\" font-family=\"sans-serif\" font-size=\"13\" lengthAdjust=\"spacingAndGlyphs\" textLength=\"38\" x=\"74.5\" y=\"307.231\">over()</text><polygon fill=\"#A80036\" points=\"174.5,337.2969,184.5,341.2969,174.5,345.2969,178.5,341.2969\" style=\"stroke: #A80036; stroke-width: 1.0;\"/><line style=\"stroke: #A80036; stroke-width: 1.0; stroke-dasharray: 2.0,2.0;\" x1=\"52.5\" x2=\"180.5\" y1=\"341.2969\" y2=\"341.2969\"/><text fill=\"#000000\" font-family=\"sans-serif\" font-size=\"13\" lengthAdjust=\"spacingAndGlyphs\" textLength=\"88\" x=\"59.5\" y=\"336.3638\">return(Result)</text><polygon fill=\"#A80036\" points=\"342.5,366.4297,352.5,370.4297,342.5,374.4297,346.5,370.4297\" style=\"stroke: #A80036; stroke-width: 1.0;\"/><line style=\"stroke: #A80036; stroke-width: 1.0;\" x1=\"191.5\" x2=\"348.5\" y1=\"370.4297\" y2=\"370.4297\"/><text fill=\"#000000\" font-family=\"sans-serif\" font-size=\"13\" lengthAdjust=\"spacingAndGlyphs\" textLength=\"107\" x=\"198.5\" y=\"365.4966\">feedback(Result)</text><!--\n",
       "@startuml \n",
       "participant Board\n",
       "participant Game\n",
       "participant Player\n",
       "\n",
       "activate Game\n",
       "Game -> Player: makeMove(Spielfeld)\n",
       "activate Game\n",
       "activate Player\n",
       "return return Position\n",
       "deactivate Game\n",
       "\n",
       "Game -> Board: update(Position)\n",
       "activate Game\n",
       "activate Board\n",
       "return return bool\n",
       "deactivate Game\n",
       "\n",
       "alt move invalid\n",
       "    Game -> Player: feedback(Result)\n",
       "    activate Game\n",
       "    Game -> Player: makeMove(Spielfeld)\n",
       "    activate Player\n",
       "    return return Position\n",
       "    deactivate Game\n",
       "\n",
       "else move valid\n",
       "    Game -> Board: over()\n",
       "    activate Game\n",
       "    activate Board\n",
       "    return return(Result)\n",
       "\n",
       "    Game -> Player: feedback(Result)\n",
       "    deactivate Game\n",
       "\n",
       "end\n",
       "\n",
       "@enduml\n",
       "\n",
       "PlantUML version 1.2017.15(Mon Jul 03 16:45:34 GMT 2017)\n",
       "(GPL source distribution)\n",
       "Java Runtime: OpenJDK Runtime Environment\n",
       "JVM: OpenJDK 64-Bit Server VM\n",
       "Java Version: 11.0.11+9-Ubuntu-0ubuntu2.18.04\n",
       "Operating System: Linux\n",
       "OS Version: 5.4.0-84-generic\n",
       "Default Encoding: UTF-8\n",
       "Language: en\n",
       "Country: null\n",
       "--></g></svg>"
      ],
      "text/plain": [
       "<IPython.core.display.SVG object>"
      ]
     },
     "execution_count": 3,
     "metadata": {},
     "output_type": "execute_result"
    }
   ],
   "source": [
    "%%plantuml\n",
    "participant Board\n",
    "participant Game\n",
    "participant Player\n",
    "\n",
    "activate Game\n",
    "Game -> Player: makeMove(Spielfeld)\n",
    "activate Game\n",
    "activate Player\n",
    "return return Position\n",
    "deactivate Game\n",
    "\n",
    "Game -> Board: update(Position)\n",
    "activate Game\n",
    "activate Board\n",
    "return return bool\n",
    "deactivate Game\n",
    "\n",
    "alt move invalid\n",
    "    Game -> Player: feedback(Result)\n",
    "    activate Game\n",
    "    Game -> Player: makeMove(Spielfeld)\n",
    "    activate Player\n",
    "    return return Position\n",
    "    deactivate Game\n",
    "\n",
    "else move valid\n",
    "    Game -> Board: over()\n",
    "    activate Game\n",
    "    activate Board\n",
    "    return return(Result)\n",
    "\n",
    "    Game -> Player: feedback(Result)\n",
    "    deactivate Game\n",
    "\n",
    "end"
   ]
  }
 ],
 "metadata": {
  "kernelspec": {
   "display_name": "Python 3",
   "language": "python",
   "name": "python3"
  },
  "language_info": {
   "codemirror_mode": {
    "name": "ipython",
    "version": 3
   },
   "file_extension": ".py",
   "mimetype": "text/x-python",
   "name": "python",
   "nbconvert_exporter": "python",
   "pygments_lexer": "ipython3",
   "version": "3.6.9"
  }
 },
 "nbformat": 4,
 "nbformat_minor": 2
}
