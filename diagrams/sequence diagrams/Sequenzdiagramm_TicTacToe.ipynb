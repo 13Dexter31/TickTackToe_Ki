{
 "cells": [
  {
   "cell_type": "code",
   "execution_count": null,
   "metadata": {},
   "outputs": [],
   "source": [
    "import plantuml"
   ]
  },
  {
   "cell_type": "code",
   "execution_count": null,
   "metadata": {},
   "outputs": [],
   "source": [
    "%%plantuml\n",
    "participant Board\n",
    "participant Game\n",
    "participant Player\n",
    "\n",
    "activate Game\n",
    "Game -> Player: makeMove(Spielfeld)\n",
    "activate Game\n",
    "activate Player\n",
    "return return Position\n",
    "deactivate Game\n",
    "\n",
    "Game -> Board: update(Position)\n",
    "activate Game\n",
    "activate Board\n",
    "return return bool\n",
    "deactivate Game\n",
    "\n",
    "alt move invalid\n",
    "    Game -> Player: feedback(Result)\n",
    "    activate Game\n",
    "    Game -> Player: makeMove(Spielfeld)\n",
    "    activate Player\n",
    "    return return Position\n",
    "    deactivate Game\n",
    "\n",
    "else move valid\n",
    "    Game -> Board: over()\n",
    "    activate Game\n",
    "    activate Board\n",
    "    return return(Result)\n",
    "\n",
    "    Game -> Player: feedback(Result)\n",
    "    deactivate Game\n",
    "\n",
    "end"
   ]
  }
 ],
 "metadata": {
  "kernelspec": {
   "display_name": "Python 3",
   "language": "python",
   "name": "python3"
  },
  "language_info": {
   "codemirror_mode": {
    "name": "ipython",
    "version": 3
   },
   "file_extension": ".py",
   "mimetype": "text/x-python",
   "name": "python",
   "nbconvert_exporter": "python",
   "pygments_lexer": "ipython3",
   "version": "3.6.9"
  }
 },
 "nbformat": 4,
 "nbformat_minor": 2
}
