{
 "cells": [
  {
   "cell_type": "code",
   "execution_count": null,
   "metadata": {},
   "outputs": [],
   "source": [
    "class Game{\n",
    "    import Player\n",
    "    import Board\n",
    "    import Result\n",
    "    \n",
    "    def __init__(self, board, player1, player2):\n",
    "        \n",
    "    \n",
    "    def isOver():\n",
    "        isOver = board.over()\n",
    "    return isOver\n",
    "    \n",
    "    def giveFeedback(player,result):\n",
    "        player.feedback(result)\n",
    "        \n",
    "}"
   ]
  },
  {
   "cell_type": "code",
   "execution_count": 1,
   "metadata": {},
   "outputs": [],
   "source": [
    "from enum import Enum\n",
    "\n",
    "class Result(Enum):\n",
    "    Draw = 1\n",
    "    Player1Wins = 2\n",
    "    Player2Wins = 3\n",
    "    GameGoesOn = 4"
   ]
  },
  {
   "cell_type": "code",
   "execution_count": null,
   "metadata": {},
   "outputs": [],
   "source": []
  }
 ],
 "metadata": {
  "kernelspec": {
   "display_name": "Python 3",
   "language": "python",
   "name": "python3"
  },
  "language_info": {
   "codemirror_mode": {
    "name": "ipython",
    "version": 3
   },
   "file_extension": ".py",
   "mimetype": "text/x-python",
   "name": "python",
   "nbconvert_exporter": "python",
   "pygments_lexer": "ipython3",
   "version": "3.6.9"
  }
 },
 "nbformat": 4,
 "nbformat_minor": 2
}
