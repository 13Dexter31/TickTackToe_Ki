{
 "cells": [
  {
   "cell_type": "code",
   "execution_count": null,
   "metadata": {},
   "outputs": [],
   "source": [
    "class Game:\n",
    "    import Player\n",
    "    import Board\n",
    "    import Feedback\n",
    "    \n",
    "    # TODO 2-3 tests implementieren\n",
    "\n",
    "    def __init__(self, players=[]):\n",
    "        self.players = players\n",
    "    \n",
    "    def Turn(self,player,board):\n",
    "        position = player.makeMove(board)\n",
    "        isValid = board.update(position, player)\n",
    "        if isValid == False:\n",
    "            newTry = False\n",
    "            while not newTry:\n",
    "                player.feedback(Feedback.WRONG_PLACE)\n",
    "                newPos = player.makeMove(board)\n",
    "                newTry = board.update(newPos, player)\n",
    "\n",
    "    def Game(self,players):\n",
    "        board = Board()\n",
    "        feedback = Feedback.GAME_GOES_ON\n",
    "        # loop till the game does not continue\n",
    "        while(feedback == Feedback.GAME_GOES_ON):\n",
    "            for player in players:\n",
    "                # current player makes a move\n",
    "                self.Turn(player,board)\n",
    "                # check if game is over\n",
    "                feedback = board.over()\n",
    "                # check if the player won or drawed\n",
    "                if feedback == Feedback.GAME_WON:\n",
    "                    # if he is the winner, everyone else is the looser\n",
    "                    for looser in players:\n",
    "                        # send feedback to the looser\n",
    "                        if(not looser == player):\n",
    "                            looser.feedback(Feedback.GAME_LOST)\n",
    "                    # send feedback to the winner£\n",
    "                    player.feedback(feedback)\n",
    "                    break\n",
    "                elif feedback == Feedback.DRAW:\n",
    "                    # send feedback to all players that it's a draw\n",
    "                    for playerDraw in players:\n",
    "                        playerDraw.feedback(feedback)\n",
    "                    break"
   ]
  }
 ],
 "metadata": {
  "interpreter": {
   "hash": "31f2aee4e71d21fbe5cf8b01ff0e069b9275f58929596ceb00d14d90e3e16cd6"
  },
  "kernelspec": {
   "display_name": "Python 3.8.9 64-bit",
   "name": "python3"
  },
  "language_info": {
   "codemirror_mode": {
    "name": "ipython",
    "version": 3
   },
   "file_extension": ".py",
   "mimetype": "text/x-python",
   "name": "python",
   "nbconvert_exporter": "python",
   "pygments_lexer": "ipython3",
   "version": "3.8.9"
  }
 },
 "nbformat": 4,
 "nbformat_minor": 2
}
