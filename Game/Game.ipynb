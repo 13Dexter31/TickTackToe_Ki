{
 "cells": [
  {
   "cell_type": "code",
   "execution_count": null,
   "metadata": {},
   "outputs": [],
   "source": [
    "class Game{\n",
    "    import Player\n",
    "    import Board\n",
    "    import Result\n",
    "    \n",
    "    def __init__(self, board, player1, player2):\n",
    "        self.board = board\n",
    "        self.player1 = player1\n",
    "        self.player2 = player2\n",
    "    \n",
    "    def giveFeedback(self, player, result):\n",
    "        self.player.feedback(result)\n",
    "    \n",
    "\n",
    "    result = Result.GameGoesOn\n",
    "    while(result == Result.GameGoesOn):\n",
    "        #player1 starts making his move\n",
    "        player1Position = player1.makeMove(board)\n",
    "        player1ValidMove = board.over(player1Position, player1)\n",
    "        #if the move is invalid player1 gets feedback and has to do another move\n",
    "        if player1ValidMove == false:\n",
    "            player1NewTry = false\n",
    "            # as long as player1 makes invalid moves he will be given feedback and has to do new moves until one move is valid\n",
    "            while not player1NewTry:\n",
    "                giveFeedback(palyer1, Result.MoveInvalid)\n",
    "                player1NewPosition = player1.makeMove(board)\n",
    "                player1NewTry = board.over(player1NewPosition, player1)\n",
    "        #if the move is valid the board has to check if the game is over\n",
    "        else:\n",
    "            result = board.over()\n",
    "            #When the game is not over player2 can make his move\n",
    "            if result == Result.GameGoesOn:\n",
    "                player2Position = player2.makeMove(board)\n",
    "                player2ValidMove = board.over(player2Position, player2)\n",
    "                # check if the move from palyer2 is valid or not same as player 1\n",
    "                if player2ValidMove == false:\n",
    "                    player2NewTry = false\n",
    "                    while not player1NewTry:\n",
    "                        giveFeedback(player2, Result.MoveInvalid)\n",
    "                        player2NewPosition = player2.makeMove(board)\n",
    "                        player2NewTry = board.over(player2NewPosition, player2)\n",
    "                else:\n",
    "                result = board.over()\n",
    "                # if the move is valid and the game cannot continue\n",
    "                if result not Result.GameGoesOn:\n",
    "                    giveFeedback(palyer1, result)\n",
    "                    giveFeedback(player2, result)\n",
    "            else:\n",
    "                # Game ends with a draw, Player1 or Player2 wins\n",
    "                giveFeedback(player1, result)\n",
    "                giveFeedback(player2, result)\n",
    "        \n",
    "}"
   ]
  },
  {
   "cell_type": "code",
   "execution_count": 1,
   "metadata": {},
   "outputs": [],
   "source": [
    "from enum import Enum\n",
    "\n",
    "class Result(Enum):\n",
    "    Draw = 1\n",
    "    Player1Wins = 2\n",
    "    Player2Wins = 3\n",
    "    GameGoesOn = 4\n",
    "    MoveInvalid = 5"
   ]
  },
  {
   "cell_type": "code",
   "execution_count": null,
   "metadata": {},
   "outputs": [],
   "source": []
  }
 ],
 "metadata": {
  "kernelspec": {
   "display_name": "Python 3",
   "language": "python",
   "name": "python3"
  },
  "language_info": {
   "codemirror_mode": {
    "name": "ipython",
    "version": 3
   },
   "file_extension": ".py",
   "mimetype": "text/x-python",
   "name": "python",
   "nbconvert_exporter": "python",
   "pygments_lexer": "ipython3",
   "version": "3.6.9"
  }
 },
 "nbformat": 4,
 "nbformat_minor": 2
}
