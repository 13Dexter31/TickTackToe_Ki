{
 "cells": [
  {
   "cell_type": "code",
   "execution_count": null,
   "source": [
    "class Game:\n",
    "    import Player\n",
    "    import Board\n",
    "    import Result\n",
    "    \n",
    "    def __init__(self, board, player1, player2):\n",
    "        self.board = board\n",
    "        self.player1 = player1\n",
    "        self.player2 = player2\n",
    "    \n",
    "    def giveFeedback(self, player, result):\n",
    "        player.feedback(result)\n",
    "    \n",
    "    def Game(self,board,player1,player2):\n",
    "        result = Result.GameGoesOn\n",
    "        while(result == Result.GameGoesOn):\n",
    "            #player1 starts making his move\n",
    "            player1Position = player1.makeMove(board)\n",
    "            player1ValidMove = board.update(player1Position, player1)\n",
    "            #if the move is invalid player1 gets feedback and has to do another move\n",
    "            if player1ValidMove == False:\n",
    "                player1NewTry = False\n",
    "                # as long as player1 makes invalid moves he will be given feedback and has to do new moves until one move is valid\n",
    "                while not player1NewTry:\n",
    "                    self.giveFeedback(player1, Result.MoveInvalid)\n",
    "                    player1NewPosition = player1.makeMove(board)\n",
    "                    player1NewTry = board.update(player1NewPosition, player1)\n",
    "            #if the move is valid the board has to check if the game is over\n",
    "            result = board.over()\n",
    "            #When the game is not over player2 can make his move\n",
    "            if result == Result.GameGoesOn:\n",
    "                player2Position = player2.makeMove(board)\n",
    "                player2ValidMove = board.update(player2Position, player2)\n",
    "                # check if the move from player2 is valid or not same as player 1\n",
    "                if player2ValidMove == False:\n",
    "                    player2NewTry = False\n",
    "                    while not player2NewTry:\n",
    "                        self.giveFeedback(player2, Result.MoveInvalid)\n",
    "                        player2NewPosition = player2.makeMove(board)\n",
    "                        player2NewTry = board.update(player2NewPosition, player2)\n",
    "                result = board.over()\n",
    "                # if the move is valid and the game cannot continue\n",
    "                if not result == Result.GameGoesOn:\n",
    "                    self.giveFeedback(player1, result)\n",
    "                    self.giveFeedback(player2, result)\n",
    "            else:\n",
    "                # Game ends with a draw or Player1 or Player2 wins\n",
    "                self.giveFeedback(player1, result)\n",
    "                self.giveFeedback(player2, result)"
   ],
   "outputs": [],
   "metadata": {}
  },
  {
   "cell_type": "code",
   "execution_count": 1,
   "source": [
    "from enum import Enum\n",
    "\n",
    "class Result(Enum):\n",
    "    Draw = 1\n",
    "    Player1Wins = 2\n",
    "    Player2Wins = 3\n",
    "    GameGoesOn = 4\n",
    "    MoveInvalid = 5"
   ],
   "outputs": [],
   "metadata": {}
  },
  {
   "cell_type": "code",
   "execution_count": null,
   "source": [],
   "outputs": [],
   "metadata": {}
  }
 ],
 "metadata": {
  "kernelspec": {
   "name": "python3",
   "display_name": "Python 3.8.9 64-bit"
  },
  "language_info": {
   "codemirror_mode": {
    "name": "ipython",
    "version": 3
   },
   "file_extension": ".py",
   "mimetype": "text/x-python",
   "name": "python",
   "nbconvert_exporter": "python",
   "pygments_lexer": "ipython3",
   "version": "3.8.9"
  },
  "interpreter": {
   "hash": "31f2aee4e71d21fbe5cf8b01ff0e069b9275f58929596ceb00d14d90e3e16cd6"
  }
 },
 "nbformat": 4,
 "nbformat_minor": 2
}