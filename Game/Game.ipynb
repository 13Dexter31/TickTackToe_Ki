{
 "cells": [
  {
   "cell_type": "code",
   "execution_count": null,
   "metadata": {},
   "outputs": [],
   "source": [
    "class Game:\n",
    "    import Player\n",
    "    import Board\n",
    "    import Result\n",
    "    \n",
    "    # TODO 2-3 tests implementieren\n",
    "\n",
    "    def __init__(self, player=[]):\n",
    "        self.player = player\n",
    "    \n",
    "    def Turn(player,board):\n",
    "        position = player.makeMove(board)\n",
    "        isValid = board.update(position, player)\n",
    "        if isValid == False:\n",
    "            newTry = False\n",
    "            while not newTry:\n",
    "                player.feedback(Result.MoveInvalid) # TODO edit Result\n",
    "                newPos = player.makeMove(board)\n",
    "                newTry = board.update(newPos, player)\n",
    "\n",
    "    def Game(self,players):\n",
    "        board = Board()\n",
    "        result = Result.GameGoesOn # TODO edit Result\n",
    "        while(result == Result.GameGoesOn): # TODO edit Result\n",
    "            for player in players:\n",
    "                    self.Turn(player,board)\n",
    "                    result = board.over()\n",
    "                # TODO überprüfen, welches result -> feedback senden -> gucken wie andere spieler Feedback bekommen"
   ]
  }
 ],
 "metadata": {
  "interpreter": {
   "hash": "31f2aee4e71d21fbe5cf8b01ff0e069b9275f58929596ceb00d14d90e3e16cd6"
  },
  "kernelspec": {
   "display_name": "Python 3.8.9 64-bit",
   "name": "python3"
  },
  "language_info": {
   "codemirror_mode": {
    "name": "ipython",
    "version": 3
   },
   "file_extension": ".py",
   "mimetype": "text/x-python",
   "name": "python",
   "nbconvert_exporter": "python",
   "pygments_lexer": "ipython3",
   "version": "3.8.9"
  }
 },
 "nbformat": 4,
 "nbformat_minor": 2
}
