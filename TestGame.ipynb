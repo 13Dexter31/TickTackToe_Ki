{
 "cells": [
  {
   "cell_type": "code",
   "execution_count": 9,
   "metadata": {},
   "outputs": [],
   "source": [
    "import ipytest\n",
    "from Board import Board\n",
    "from Board import Result\n",
    "from Game import Game\n",
    "\n",
    "ipytest.autoconfig()"
   ]
  },
  {
   "cell_type": "code",
   "execution_count": 10,
   "metadata": {},
   "outputs": [],
   "source": [
    "class Winner:\n",
    "    def __init__(self,name):\n",
    "        self.name = name\n",
    "        self.counter = 0\n",
    "        self.endresult = None\n",
    "        \n",
    "        \n",
    "    def makeMove(self, board):\n",
    "        print('move' + str(self.counter))\n",
    "        if(self.counter == 0):\n",
    "            self.counter+= 1\n",
    "            return 1,1\n",
    "        elif(self.counter == 1):\n",
    "            self.counter+= 1\n",
    "            return 1,2\n",
    "        elif(self.counter == 2):\n",
    "            return 1,3\n",
    "        \n",
    "    def giveResult(self,result):\n",
    "        if Result.INVALID_MOVE == result:\n",
    "            self.endresult = result\n",
    "            print(\"This position is blocked or not on the board!\")\n",
    "        elif Result.GAME_LOST == result:\n",
    "            self.endresult = result\n",
    "            print(\"You have lost the game. :/\")\n",
    "        elif Result.GAME_WON == result:\n",
    "            self.endresult = result\n",
    "            print(\"You have won the game! :)\")\n",
    "        elif Result.GAME_DRAW == result:\n",
    "            self.endresult = result\n",
    "            print(\"The game is over and no one won.\")\n",
    "           "
   ]
  },
  {
   "cell_type": "code",
   "execution_count": 11,
   "metadata": {},
   "outputs": [],
   "source": [
    "class Looser:\n",
    "    \n",
    "    def __init__(self,name):\n",
    "        self.name = name\n",
    "        self.counter = 0\n",
    "        self.endresult = None\n",
    "        \n",
    "    def makeMove(self, board):\n",
    "        print('move' + str(self.counter))\n",
    "        if(self.counter == 0):\n",
    "            self.counter+= 1\n",
    "            return 2,1\n",
    "        elif(self.counter == 1):\n",
    "            self.counter+= 1\n",
    "            return 2,2\n",
    "        elif(self.counter == 2):\n",
    "            return 2,3\n",
    "        \n",
    "    def giveResult(self,result):\n",
    "        if Result.INVALID_MOVE == result:\n",
    "            self.endresult = result\n",
    "            print(\"This position is blocked or not on the board!\")\n",
    "\n",
    "        elif Result.GAME_LOST == result:\n",
    "            self.endresult = result\n",
    "            print(\"You have lost the game. :/\")\n",
    "\n",
    "        elif Result.GAME_WON == result:\n",
    "            self.endresult = result\n",
    "            print(\"You have won the game! :)\")\n",
    "\n",
    "        elif Result.GAME_DRAW == result:\n",
    "            self.endresult = result\n",
    "            print(\"The game is over and no one won.\")"
   ]
  },
  {
   "cell_type": "code",
   "execution_count": 17,
   "metadata": {},
   "outputs": [
    {
     "name": "stdout",
     "output_type": "stream",
     "text": [
      "\u001b[32m.\u001b[0m\u001b[32m.\u001b[0m\u001b[32m                                                                                           [100%]\u001b[0m\n",
      "\u001b[32m\u001b[32m\u001b[1m2 passed\u001b[0m\u001b[32m in 0.01s\u001b[0m\u001b[0m\n"
     ]
    }
   ],
   "source": [
    "%%ipytest\n",
    "def test_win():\n",
    "    \"\"\"\n",
    "    Checks if player1 wins the game\n",
    "    \"\"\"\n",
    "    player1 = Winner(1)\n",
    "    player2 = Looser(2)\n",
    "    players = [player1,player2]\n",
    "    \n",
    "    game = Game(players)\n",
    "    game.run()\n",
    "    assert player1.endresult == Result.GAME_WON\n",
    "    \n",
    "def test_loose():\n",
    "    \"\"\"\n",
    "    Checks if player2 looses the game\n",
    "    \"\"\"\n",
    "    player1 = Winner(1)\n",
    "    player2 = Looser(2)\n",
    "    players = [player1,player2]\n",
    "    \n",
    "    game = Game(players)\n",
    "    game.run()\n",
    "    assert player2.endresult == Result.GAME_LOST"
   ]
  },
  {
   "cell_type": "code",
   "execution_count": null,
   "metadata": {},
   "outputs": [],
   "source": []
  }
 ],
 "metadata": {
  "kernelspec": {
   "display_name": "Python 3",
   "language": "python",
   "name": "python3"
  },
  "language_info": {
   "codemirror_mode": {
    "name": "ipython",
    "version": 3
   },
   "file_extension": ".py",
   "mimetype": "text/x-python",
   "name": "python",
   "nbconvert_exporter": "python",
   "pygments_lexer": "ipython3",
   "version": "3.6.9"
  }
 },
 "nbformat": 4,
 "nbformat_minor": 2
}
