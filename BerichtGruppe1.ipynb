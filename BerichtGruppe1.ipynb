{
 "cells": [
  {
   "cell_type": "markdown",
   "metadata": {
    "collapsed": true,
    "pycharm": {
     "name": "#%% md\n"
    },
    "slideshow": {
     "slide_type": "slide"
    }
   },
   "source": [
    "# Bericht der Gruppe 1"
   ]
  },
  {
   "cell_type": "markdown",
   "metadata": {
    "pycharm": {
     "name": "#%% md\n"
    },
    "slideshow": {
     "slide_type": "slide"
    }
   },
   "source": [
    "## Gliederung\n",
    "\n",
    "* Einleitung\n",
    "    * Aufgabenstellung (Kevin)\n",
    "    * Welche Tools (Hannes)\n",
    "    * QTable (Hannes)\n",
    "    * QNN (Kevin)\n",
    "* Umsetzung\n",
    "    * Aufbau (Klassendiagramm, Sequenz, ...) (Hannes)\n",
    "    * Umsetzung QTable (Hannes)\n",
    "    * Umsetzung QNN (Kevin)\n",
    "* Auswertung\n",
    "    * Resultate (beide)\n",
    "    * Lernerfolg (beide)\n",
    "    * Fazit (beide)"
   ]
  },
  {
   "cell_type": "markdown",
   "metadata": {
    "pycharm": {
     "name": "#%% md\n"
    },
    "slideshow": {
     "slide_type": "subslide"
    }
   },
   "source": [
    "![](docs/gitlabdown.jpg)"
   ]
  },
  {
   "cell_type": "markdown",
   "metadata": {
    "pycharm": {
     "name": "#%% md\n"
    },
    "slideshow": {
     "slide_type": "subslide"
    }
   },
   "source": [
    "![](docs/gitlabdown_311221.png)"
   ]
  },
  {
   "cell_type": "markdown",
   "metadata": {
    "slideshow": {
     "slide_type": "skip"
    }
   },
   "source": [
    "## 1. Einleitung\n",
    "---\n",
    "### 1.1 Aufgabenstellung\n",
    "\n",
    "Die Aufgabe war es eine KI für ein beliebiges Brettspiel zu implementieren. Die Vorgabe für diese Aufgabe waren bereits generalisierte Klassen für zwei beliebige Spiele (bisher ohne KI), eine Klasse für das Environment bzw. das \"Brett\" und eine Klasse für die Spiellogik. Das bisher vorgegebene Environment war ein Tic Tac Toe Spiel mit einem 3x3 Brett und 2 Spielern. Dieses Spiel soll auch für die nachfolgenden Aufgaben beibehalten werden. Es wird somit nur eine KI für ein Tic Tac Toe Spiel erstellt.\n",
    "\n",
    "Der komplette Entwicklungsprozess für diese Aufgabe soll nach der Standardpraxis für objektorientiertes Programmieren in Python entsprechen. Darunter zählt die Verwendung von generalisierten und spezialisierten Klassen, logischen Klassenkonstellationen, festgelegte Zugriffsbereiche für Methoden und Variablen sowie der Einhaltung sämtlich weiterer Prinzipien des Softwareengineerings während der Entwurfs- und Umsetzungsphase. Womit unter anderem das Entwickeln von wartbarer, konsistenter, modularer, erweiterbarer und verständlicher Software gemeint ist.\n",
    "\n",
    "Was die KI betrifft sollen zwei wesentliche Ansätze durchgeführt werden. Die Basis für das Lernen soll ausschließlich bestärkend sein, damit verfallen jegliche Eingriffe durch einen Menschen während des Lernens. Die KI soll eigenständig durch Bestrafungen und Belohnungen das Spiel erlernen und darin besser werden.\n",
    "\n",
    "Zum einem soll ein maschineller Lernalgorithmus, der auf der Basis der Q-Funktion und der damit verbundenen Q-Tabelle aufbaut, implementiert werden. Dieser Ansatz soll nach dem \"Brute Force\" Prinzip alle möglichen Zustände des Spiels \"erkunden\" und die jeweiligen besten Züge in einer Tabelle speichern.\n",
    "\n",
    "Der zweite Ansatz soll mittels einem künstlichen neuronalen Netzes das Spiel erlernen."
   ]
  },
  {
   "cell_type": "markdown",
   "metadata": {
    "pycharm": {
     "name": "#%% md\n"
    },
    "slideshow": {
     "slide_type": "skip"
    }
   },
   "source": [
    "### 1.4 QNN (Q-Wertbasiertes Neuronales Netzwerk)\n",
    "\n",
    "Für die Erweiterbarkeit unseres Codes ist uns aufgefallen, dass der Q-Algorithmus seine Grenzen bei Spielen mit einem beinahe unendlichen Zustandsraum aufweist. Spiele wie Schach oder Go haben einen derart riesigen Zustandsraum aller möglichen Züge, der ohne weitere Hilfe nicht einfach durch ausprobieren komplett erkundet werden kann. Um dem Prinzip des bestärkenden Lernens nahe zu kommen, müssen andere Methoden gefunden werden, um zukünftige Züge oder sogar Strategien bei unendlich wirkenden Zustandsräumen hervorzusagen. Hierfür soll ein neuronales Netzwerk mit mehreren Schichten zum Einsatz kommen.\n",
    "\n",
    "Der Gedanke dahinter ist, dass man nicht mehr versucht alle Zustände zu erkunden und perfekt vorherzusagen, sondern eine Struktur oder sogar Strategie in gewissen Zügen zu erkennen. Der Fokus des neuronalen Netzes soll damit sein, Strukturen in zeitlich aufeinanderfolgender Züge zu erkennen und bei unbekannten Zuständen einen Schätzwert auf Basis bisher bekannter Strategien ausgeben.\n",
    "\n",
    "Ein neuronales Netzwerk besteht zumeist aus Eingabevektoren, verschiedenste versteckte Schichten sowie Ausgabevektoren. Genauso wie die Q-Funktion, sollen dem QNN gewisse Parameter als Eingabevektoren mitgegeben werden. Dazu gehört der aktuelle Zustand des Bretts, die ausgewählte Aktion auf Basis vorheriger Werte aus dem QNN Modell und ggf. die Belohnung. Als Ausgabevektor soll, genauso wie bei der Q-Funktion, ein Q-Wert sein, der die maximale Belohnung des aktuellen Zustand-Aktion-Paares beschreibt.\n",
    "\n",
    "Die Lerndaten erstellt der QNN Agent selbst, durch das explorative Erkunden mittels dem Explorationsfaktor namens \"Theta\". Anhand der explorierten Daten und erlangten Belohnungen wird das QNN selbst die besten Züge herausfinden."
   ]
  },
  {
   "cell_type": "markdown",
   "metadata": {
    "slideshow": {
     "slide_type": "slide"
    }
   },
   "source": [
    "![](docs/qnn_model.png)"
   ]
  },
  {
   "cell_type": "markdown",
   "metadata": {
    "pycharm": {
     "name": "#%% md\n"
    },
    "slideshow": {
     "slide_type": "skip"
    }
   },
   "source": [
    "### 2.3 Umsetzung QNN\n",
    "\n",
    "Für die Umsetzung des neuronalen Netzes haben wir uns stark an dem Prinzip des Q-Algorithmus gehalten. Das Prinzip der temporalen Verbindung und der Aktion-Zustand-Paare sind mit in die Entscheidung über den Aufbau des Netzes eingeflossen.\n",
    "\n",
    "\n",
    "Die obere Abbildung zeigt das von uns ausgewählte Modell des Netzes. Es gibt genau zwei Eingangsvektoren, ein Vektor um den aktuellen Zustand abzubilden und einer für die ausgewählte Aktion. Die Eingangswerte werden zuvor noch vorverarbeitet, sodass z.B. der Zustand des 3x3 Bretts und die Aktion eindimensionell dargestellt werden. Die Werte werden zudem noch über ein One-Hot-Encoding für die Aktivierungsfunktionen der Neuronen vereinfacht. Im Fall des Spielbretts wird ein Spieler mit einer positiven 1 versehen und der Gegner mit einer -1. Leere Felder werden mit 0 initialisiert. Damit die ausgewählte Aktion genau einem Feld der neun verfügbaren zugeschrieben werden kann, wird die Aktion mittels One-Hot als 1 dargestellt und die nicht ausgewählten Felder mit einer 0 versehen. Der Eingangsvektor hat somit folgendes Format:\n",
    "\n",
    "1. Vektor (Zustand): [0, 0, 0, 1, 0, -1, 1, 0, -1]\n",
    "2. Vektor (Aktion): [1, 0, 0, 0, 0, 0, 0, 0, 0]\n",
    "\n",
    "In diesem Beispiel sah das aktuelle Feld folgendermaßen aus:\n",
    "&ensp;\n",
    "\n",
    "|   |   |   | \n",
    "|---|---|---|\n",
    "| -  | - | - |\n",
    "| x  | - | o | \n",
    "| x  | - | o | \n",
    "\n",
    "Und nach der ausgewählten Aktion:\n",
    "&ensp;\n",
    "\n",
    "|   |   |   | \n",
    "|---|---|---|\n",
    "| x  | - | - |\n",
    "| x  | - | o | \n",
    "| x  | - | o | \n",
    "\n",
    "Letzendlich wird ein Array der Größe 2x9 als Eingangsvektor genutzt. Um diesen im Netz jedoch noch mehr zu vereinfachen wird in der ersten Schicht des Netzes der zweidimensionale Eingangsvektor in einen 1x18 Vektor transformiert. Damit erhält der obige Array folgendes Format:\n",
    "\n",
    "[0, 0, 0, 1, 0, -1, 1, 0, -1, 1, 0, 0, 0, 0, 0, 0, 0, 0]\n",
    "\n",
    "Danach werden 9 Dense Layers als Hidden Layer angefügt. Die Anzahl ergab sich aus der Feldgröße des Bretts. Diese werden schließlich mit der ReLU Aktivierungsfunkion (rectified linear unit) versehen (s. Funktion unten).\n",
    "\n",
    "$$f(x) = max(0,x)$$\n",
    "\n",
    "Die ReLU Aktivierungsfunktion nochmal als Graph dargestellt:\n",
    "\n",
    "![](docs/relu.png)\n",
    "\n",
    "Die Entscheidung auf ReLU fiel deshalb, da wir während des Spielens die Züge aufzeichnen und ab einer gewissen Größe direkt an des Netz zum Lernen weitergeben. Damit wollten wir ein Online Lernen ermöglichen, indem das Netz die eben geführten Züge und erhaltenen Belohnungen direkt anlernt. Dabei entsteht eine sehr hohe Rechenlast, wenn neue Daten erneut gelernt werden müssen. Um diese Last zu vermeiden, haben wir uns dazu entschieden das Netz schmal und schnell zu machen. Gewichtungen werden somit schnell bestimmt und Ergebnisse aus einem Lernzyklus schnell ausgegeben. Der Nachteil dabei ist die geringe Genauigkeit. Aus diesem Grund muss der Lerndurchgang mehrere Male druchgelaufen werden, bis ein möglichst geringer Verlustwert erreicht wurde.\n",
    "\n",
    "Der Ausgabevektor ist schließlich nur noch ein einziger Wert, nämlich der eigentliche Q-Wert für das angegebene Aktion-Zustand-Paar. Da wir festgestellt haben, dass der Q-Algorithmus eine schnelle Gewinnstrategie mittels hoher Belohnungswerte lernt, dachten wir uns, dass das neuronale Netz verhersagen muss ob gutes oder eher schlechtes Feedback erwartet wird. Demnach wird beim fitten des Modells als Zielvektor für das Training die jeweilige Belohnung angegeben. Im folgendem Beispiel wird dies besser verdeutlicht:\n",
    "\n",
    "* Der Agent sieht einen aktuellen Zustand\n",
    "* Eine beste Aktion wird mittels Vorhersage aus dem verfügbaren Modell ausgesucht oder eine zufällige Aktion\n",
    "* Die Umgebung gibt dem Agenten Feedback (als Belohnung oder Bestrafung)\n",
    "* der letzte Zustand und die ausgewählte Aktion wird nun als Eingabevektor für das Training zusammengestellt\n",
    "* die erlangene Belohnung/Bestrafung wird als Zielvektor bestimmt\n",
    "* der Agent lernt nun, dass diese Aktion auf dem letzten Zustand zu einer Belohnung oder Bestrafung geführt hat\n",
    "\n",
    "Der Hintergedanke dabei ist, dass das neuronale Netz eine feste Bindung zwischen Aktion-Zustand-Paar und Feedback aufbaut, in der Hoffnung, dass gleichartige neue Zustände mit ähnlichen Feedback bestimmt werden können. Damit müssen in der Theorie nicht mehr alle Zustände erlernt werden, sondern nur noch jene die strukturelle Unterschiede vorweisen. Die restlichen können mittels Schätzungen möglichst genau beschrieben werden, ähnlich nach dem Prinzip der linearen Regression.\n"
   ]
  },
  {
   "cell_type": "markdown",
   "metadata": {
    "slideshow": {
     "slide_type": "subslide"
    }
   },
   "source": []
  },
  {
   "cell_type": "code",
   "execution_count": 1,
   "metadata": {
    "pycharm": {
     "name": "#%%\n"
    },
    "slideshow": {
     "slide_type": "subslide"
    }
   },
   "outputs": [
    {
     "data": {
      "image/png": "[encoded data removed]",
      "text/plain": [
       "<Figure size 720x360 with 1 Axes>"
      ]
     },
     "metadata": {
      "needs_background": "light"
     },
     "output_type": "display_data"
    }
   ],
   "source": [
    "import numpy as np\n",
    "import matplotlib.pyplot as plt\n",
    "x = np.linspace(-10, 10, 1000)\n",
    "y = np.maximum(0, x)\n",
    "\n",
    "plt.figure(figsize=(10, 5))\n",
    "plt.plot(x, y)\n",
    "plt.legend(['Relu'])\n",
    "plt.show()"
   ]
  }
 ],
 "metadata": {
  "celltoolbar": "Slideshow",
  "kernelspec": {
   "display_name": "Python 3",
   "language": "python",
   "name": "python3"
  },
  "language_info": {
   "codemirror_mode": {
    "name": "ipython",
    "version": 3
   },
   "file_extension": ".py",
   "mimetype": "text/x-python",
   "name": "python",
   "nbconvert_exporter": "python",
   "pygments_lexer": "ipython3",
   "version": "3.6.9"
  }
 },
 "nbformat": 4,
 "nbformat_minor": 1
}