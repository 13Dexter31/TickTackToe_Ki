{
 "cells": [
  {
   "cell_type": "markdown",
   "metadata": {
    "collapsed": true,
    "pycharm": {
     "name": "#%% md\n"
    }
   },
   "source": [
    "# Bericht der Gruppe 1"
   ]
  },
  {
   "cell_type": "markdown",
   "source": [
    "## Gliederung\n",
    "\n",
    "* Einleitung\n",
    "    * Aufgabenstellung (Kevin)\n",
    "    * Welche Tools (Hannes)\n",
    "    * QTable (Hannes)\n",
    "    * QNN (Kevin)\n",
    "* Umsetzung\n",
    "    * Aufbau (Klassendiagramm, Sequenz, ...) (Hannes)\n",
    "    * Umsetzung QTable (Hannes)\n",
    "    * Umsetzung QNN (Kevin)\n",
    "* Auswertung\n",
    "    * Resultate (beide)\n",
    "    * Lernerfolg (beide)\n",
    "    * Fazit (beide)"
   ],
   "metadata": {
    "collapsed": false,
    "pycharm": {
     "name": "#%% md\n"
    }
   }
  },
  {
   "cell_type": "markdown",
   "source": [
    "![](docs/gitlabdown.jpg)"
   ],
   "metadata": {
    "collapsed": false,
    "pycharm": {
     "name": "#%% md\n"
    }
   }
  }
 ],
 "metadata": {
  "kernelspec": {
   "display_name": "Python 3",
   "language": "python",
   "name": "python3"
  },
  "language_info": {
   "codemirror_mode": {
    "name": "ipython",
    "version": 2
   },
   "file_extension": ".py",
   "mimetype": "text/x-python",
   "name": "python",
   "nbconvert_exporter": "python",
   "pygments_lexer": "ipython2",
   "version": "2.7.6"
  }
 },
 "nbformat": 4,
 "nbformat_minor": 0
}