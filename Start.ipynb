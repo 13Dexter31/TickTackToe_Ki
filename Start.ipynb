{
 "cells": [
  {
   "cell_type": "code",
   "execution_count": null,
   "metadata": {
    "pycharm": {
     "name": "#%%\n"
    }
   },
   "outputs": [],
   "source": [
    "!jupyter nbconvert Game.ipynb --to script\n",
    "!jupyter nbconvert Board.ipynb --to script\n",
    "!jupyter nbconvert player/Player.ipynb --to script\n",
    "!jupyter nbconvert player/Human.ipynb --to script\n",
    "!jupyter nbconvert player/Randy.ipynb --to script"
   ]
  },
  {
   "cell_type": "code",
   "execution_count": null,
   "metadata": {
    "pycharm": {
     "name": "#%%\n"
    }
   },
   "outputs": [],
   "source": [
    "from player.Human import Human\n",
    "from player.Randy import Randy\n",
    "from Game import Game"
   ]
  },
  {
   "cell_type": "code",
   "execution_count": null,
   "metadata": {
    "pycharm": {
     "name": "#%%\n"
    }
   },
   "outputs": [],
   "source": [
    "player1 = Randy('r')\n",
    "player2 = Human('h')\n",
    "players = [player1,player2]\n",
    "\n",
    "game = Game(players)\n",
    "game.run()"
   ]
  },
  {
   "cell_type": "code",
   "execution_count": null,
   "metadata": {},
   "outputs": [],
   "source": []
  }
 ],
 "metadata": {
  "kernelspec": {
   "display_name": "Python 3",
   "language": "python",
   "name": "python3"
  },
  "language_info": {
   "codemirror_mode": {
    "name": "ipython",
    "version": 3
   },
   "file_extension": ".py",
   "mimetype": "text/x-python",
   "name": "python",
   "nbconvert_exporter": "python",
   "pygments_lexer": "ipython3",
   "version": "3.6.9"
  }
 },
 "nbformat": 4,
 "nbformat_minor": 1
}