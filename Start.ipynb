{
 "cells": [
  {
   "cell_type": "code",
   "execution_count": 6,
   "outputs": [
    {
     "name": "stderr",
     "output_type": "stream",
     "text": [
      "[NbConvertApp] Converting notebook Game.ipynb to script\n",
      "[NbConvertApp] Writing 1704 bytes to Game.py\n",
      "[NbConvertApp] Converting notebook Board.ipynb to script\n",
      "[NbConvertApp] Writing 7899 bytes to Board.py\n",
      "[NbConvertApp] Converting notebook player/Player.ipynb to script\n",
      "[NbConvertApp] Writing 401 bytes to player\\Player.py\n",
      "[NbConvertApp] Converting notebook player/Human.ipynb to script\n",
      "[NbConvertApp] Writing 1448 bytes to player\\Human.py\n",
      "[NbConvertApp] Converting notebook player/Randy.ipynb to script\n",
      "[NbConvertApp] Writing 259 bytes to player\\Randy.py\n"
     ]
    }
   ],
   "source": [
    "!jupyter nbconvert Game.ipynb --to script\n",
    "!jupyter nbconvert Board.ipynb --to script\n",
    "!jupyter nbconvert player/Player.ipynb --to script\n",
    "!jupyter nbconvert player/Human.ipynb --to script\n",
    "!jupyter nbconvert player/Randy.ipynb --to script"
   ],
   "metadata": {
    "collapsed": false,
    "pycharm": {
     "name": "#%%\n"
    }
   }
  },
  {
   "cell_type": "code",
   "execution_count": 7,
   "outputs": [],
   "source": [
    "from player.Human import Human\n",
    "from player.Randy import Randy\n",
    "from Game import Game"
   ],
   "metadata": {
    "collapsed": false,
    "pycharm": {
     "name": "#%%\n"
    }
   }
  },
  {
   "cell_type": "code",
   "execution_count": 8,
   "outputs": [],
   "source": [
    "player1 = Randy('r')\n",
    "player2 = Human('h')\n",
    "players = [player1,player2]\n",
    "\n",
    "game = Game(players)"
   ],
   "metadata": {
    "collapsed": false,
    "pycharm": {
     "name": "#%%\n"
    }
   }
  }
 ],
 "metadata": {
  "kernelspec": {
   "display_name": "Python 3",
   "language": "python",
   "name": "python3"
  },
  "language_info": {
   "codemirror_mode": {
    "name": "ipython",
    "version": 2
   },
   "file_extension": ".py",
   "mimetype": "text/x-python",
   "name": "python",
   "nbconvert_exporter": "python",
   "pygments_lexer": "ipython2",
   "version": "2.7.6"
  }
 },
 "nbformat": 4,
 "nbformat_minor": 0
}