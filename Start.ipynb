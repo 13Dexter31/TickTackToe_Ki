{
 "cells": [
  {
   "cell_type": "code",
   "execution_count": 1,
   "outputs": [
    {
     "name": "stderr",
     "output_type": "stream",
     "text": [
      "[NbConvertApp] Converting notebook Game.ipynb to script\n",
      "[NbConvertApp] Writing 1698 bytes to Game.py\n",
      "[NbConvertApp] Converting notebook Board.ipynb to script\n",
      "[NbConvertApp] Writing 9638 bytes to Board.py\n"
     ]
    }
   ],
   "source": [
    "!jupyter nbconvert Game.ipynb --to script\n",
    "!jupyter nbconvert Board.ipynb --to script\n",
    "# !jupyter nbconvert Player/Player.ipynb --to script"
   ],
   "metadata": {
    "collapsed": false,
    "pycharm": {
     "name": "#%%\n"
    }
   }
  },
  {
   "cell_type": "code",
   "execution_count": 2,
   "outputs": [
    {
     "name": "stdout",
     "output_type": "stream",
     "text": [
      "\u001B[31mF\u001B[0m\u001B[31mF\u001B[0m\u001B[31mF\u001B[0m\u001B[31mF\u001B[0m\u001B[31m                                                                                         [100%]\u001B[0m\n",
      "============================================ FAILURES =============================================\n",
      "\u001B[31m\u001B[1m_________________________________________ test_markPlayer _________________________________________\u001B[0m\n",
      "\n",
      "    \u001B[94mdef\u001B[39;49;00m \u001B[92mtest_markPlayer\u001B[39;49;00m():\n",
      ">       board = Board()\n",
      "\u001B[1m\u001B[31mE       NameError: name 'Board' is not defined\u001B[0m\n",
      "\n",
      "\u001B[1m\u001B[31m<ipython-input-2-eea536b798f3>\u001B[0m:2: NameError\n",
      "\u001B[31m\u001B[1m___________________________________________ test_update ___________________________________________\u001B[0m\n",
      "\n",
      "    \u001B[94mdef\u001B[39;49;00m \u001B[92mtest_update\u001B[39;49;00m():\n",
      ">       board = Board()\n",
      "\u001B[1m\u001B[31mE       NameError: name 'Board' is not defined\u001B[0m\n",
      "\n",
      "\u001B[1m\u001B[31m<ipython-input-2-eea536b798f3>\u001B[0m:9: NameError\n",
      "\u001B[31m\u001B[1m________________________________________ test_noMoreMoves _________________________________________\u001B[0m\n",
      "\n",
      "    \u001B[94mdef\u001B[39;49;00m \u001B[92mtest_noMoreMoves\u001B[39;49;00m():\n",
      ">       board = Board()\n",
      "\u001B[1m\u001B[31mE       NameError: name 'Board' is not defined\u001B[0m\n",
      "\n",
      "\u001B[1m\u001B[31m<ipython-input-2-eea536b798f3>\u001B[0m:19: NameError\n",
      "\u001B[31m\u001B[1m____________________________________________ test_over ____________________________________________\u001B[0m\n",
      "\n",
      "    \u001B[94mdef\u001B[39;49;00m \u001B[92mtest_over\u001B[39;49;00m():\n",
      ">       board = Board()\n",
      "\u001B[1m\u001B[31mE       NameError: name 'Board' is not defined\u001B[0m\n",
      "\n",
      "\u001B[1m\u001B[31m<ipython-input-2-eea536b798f3>\u001B[0m:32: NameError\n",
      "\u001B[33m======================================== warnings summary =========================================\u001B[0m\n",
      "..\\..\\..\\..\\..\\dev\\languages\\anaconda\\lib\\site-packages\\pyreadline\\py3k_compat.py:8\n",
      "  C:\\dev\\languages\\anaconda\\lib\\site-packages\\pyreadline\\py3k_compat.py:8: DeprecationWarning: Using or importing the ABCs from 'collections' instead of from 'collections.abc' is deprecated since Python 3.3, and in 3.9 it will stop working\n",
      "    return isinstance(x, collections.Callable)\n",
      "\n",
      "-- Docs: https://docs.pytest.org/en/stable/warnings.html\n",
      "===================================== short test summary info =====================================\n",
      "FAILED tmp0ub6gqvj.py::test_markPlayer - NameError: name 'Board' is not defined\n",
      "FAILED tmp0ub6gqvj.py::test_update - NameError: name 'Board' is not defined\n",
      "FAILED tmp0ub6gqvj.py::test_noMoreMoves - NameError: name 'Board' is not defined\n",
      "FAILED tmp0ub6gqvj.py::test_over - NameError: name 'Board' is not defined\n",
      "\u001B[31m\u001B[31m\u001B[1m4 failed\u001B[0m, \u001B[33m1 warning\u001B[0m\u001B[31m in 0.33s\u001B[0m\u001B[0m\n",
      "1 | 2 | 1\n",
      "2 | 1 | 2\n",
      "1 | 2 | 1\n",
      "\n",
      "    Contains attribute <field> (3x3 numpy array of type 'Player').\n",
      "    The field can be accessed via the indices column and row.\n",
      "    The indices can be in range 0..2.\n",
      "    Example: board[0][1] will return the <Player> object in the center of the first column.\n",
      "    \n",
      "    Field: 00 10 20\n",
      "           01 11 21\n",
      "           02 12 22\n",
      "    \n"
     ]
    },
    {
     "data": {
      "text/plain": "VBox(children=(HBox(children=(Dropdown(layout=Layout(width='80px'), options=('None', 'X', 'O'), value='None'),…",
      "application/vnd.jupyter.widget-view+json": {
       "version_major": 2,
       "version_minor": 0,
       "model_id": "2e0af788bd1b4f3c91193822e99956fc"
      }
     },
     "metadata": {},
     "output_type": "display_data"
    },
    {
     "data": {
      "text/plain": "Button(description='Done', style=ButtonStyle())",
      "application/vnd.jupyter.widget-view+json": {
       "version_major": 2,
       "version_minor": 0,
       "model_id": "1b4db2944b6f4862a89373daeb76087d"
      }
     },
     "metadata": {},
     "output_type": "display_data"
    }
   ],
   "source": [
    "from player.Human import Human\n",
    "from player.Randy import Randy\n",
    "from Game import Game"
   ],
   "metadata": {
    "collapsed": false,
    "pycharm": {
     "name": "#%%\n"
    }
   }
  },
  {
   "cell_type": "code",
   "execution_count": 3,
   "outputs": [],
   "source": [
    "player1 = Randy('r')\n",
    "player2 = Human('h')\n",
    "players = [player1,player2]\n",
    "\n",
    "game = Game(players)"
   ],
   "metadata": {
    "collapsed": false,
    "pycharm": {
     "name": "#%%\n"
    }
   }
  }
 ],
 "metadata": {
  "kernelspec": {
   "display_name": "Python 3",
   "language": "python",
   "name": "python3"
  },
  "language_info": {
   "codemirror_mode": {
    "name": "ipython",
    "version": 2
   },
   "file_extension": ".py",
   "mimetype": "text/x-python",
   "name": "python",
   "nbconvert_exporter": "python",
   "pygments_lexer": "ipython2",
   "version": "2.7.6"
  }
 },
 "nbformat": 4,
 "nbformat_minor": 0
}