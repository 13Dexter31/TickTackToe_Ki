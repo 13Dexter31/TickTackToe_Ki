{
 "cells": [
  {
   "cell_type": "code",
   "execution_count": 1,
   "metadata": {},
   "outputs": [],
   "source": [
    "import plantuml"
   ]
  },
  {
   "cell_type": "code",
   "execution_count": 15,
   "metadata": {},
   "outputs": [
    {
     "data": {
      "image/svg+xml": [
       "<svg contentScriptType=\"application/ecmascript\" contentStyleType=\"text/css\" height=\"751px\" preserveAspectRatio=\"none\" style=\"width:596px;height:751px;\" version=\"1.1\" viewBox=\"0 0 596 751\" width=\"596px\" xmlns=\"http://www.w3.org/2000/svg\" xmlns:xlink=\"http://www.w3.org/1999/xlink\" zoomAndPan=\"magnify\"><defs><filter height=\"300%\" id=\"furkj83jc5vww\" width=\"300%\" x=\"-1\" y=\"-1\"><feGaussianBlur result=\"blurOut\" stdDeviation=\"2.0\"/><feColorMatrix in=\"blurOut\" result=\"blurOut2\" type=\"matrix\" values=\"0 0 0 0 0 0 0 0 0 0 0 0 0 0 0 0 0 0 .4 0\"/><feOffset dx=\"4.0\" dy=\"4.0\" in=\"blurOut2\" result=\"blurOut3\"/><feBlend in=\"SourceGraphic\" in2=\"blurOut3\" mode=\"normal\"/></filter></defs><g><text fill=\"#000000\" font-family=\"sans-serif\" font-size=\"18\" lengthAdjust=\"spacingAndGlyphs\" textLength=\"52\" x=\"20\" y=\"29.4531\">Game</text><line style=\"stroke: #000000; stroke-width: 2.0;\" x1=\"10\" x2=\"10\" y1=\"12.7451\" y2=\"739.1323\"/><ellipse cx=\"46.5\" cy=\"43.6982\" fill=\"#000000\" filter=\"url(#furkj83jc5vww)\" rx=\"10\" ry=\"10\" style=\"stroke: none; stroke-width: 1.0;\"/><rect fill=\"#FEFECE\" filter=\"url(#furkj83jc5vww)\" height=\"33.9688\" rx=\"12.5\" ry=\"12.5\" style=\"stroke: #A80036; stroke-width: 1.5;\" width=\"47\" x=\"23\" y=\"73.6982\"/><text fill=\"#000000\" font-family=\"sans-serif\" font-size=\"12\" lengthAdjust=\"spacingAndGlyphs\" textLength=\"27\" x=\"33\" y=\"94.8369\">loop</text><rect fill=\"#FEFECE\" filter=\"url(#furkj83jc5vww)\" height=\"33.9688\" rx=\"12.5\" ry=\"12.5\" style=\"stroke: #A80036; stroke-width: 1.5;\" width=\"36\" x=\"28.5\" y=\"539.9668\"/><text fill=\"#000000\" font-family=\"sans-serif\" font-size=\"12\" lengthAdjust=\"spacingAndGlyphs\" textLength=\"16\" x=\"38.5\" y=\"561.1055\">?:?</text><text fill=\"#000000\" font-family=\"sans-serif\" font-size=\"18\" lengthAdjust=\"spacingAndGlyphs\" textLength=\"28\" x=\"118\" y=\"29.4531\">init</text><line style=\"stroke: #000000; stroke-width: 2.0;\" x1=\"82\" x2=\"82\" y1=\"12.7451\" y2=\"739.1323\"/><rect fill=\"#FEFECE\" filter=\"url(#furkj83jc5vww)\" height=\"33.9688\" rx=\"12.5\" ry=\"12.5\" style=\"stroke: #A80036; stroke-width: 1.5;\" width=\"68\" x=\"98.5\" y=\"144.9263\"/><text fill=\"#000000\" font-family=\"sans-serif\" font-size=\"12\" lengthAdjust=\"spacingAndGlyphs\" textLength=\"48\" x=\"108.5\" y=\"166.0649\">wähle Ɣ</text><rect fill=\"#FEFECE\" filter=\"url(#furkj83jc5vww)\" height=\"33.9688\" rx=\"12.5\" ry=\"12.5\" style=\"stroke: #A80036; stroke-width: 1.5;\" width=\"81\" x=\"92\" y=\"198.895\"/><text fill=\"#000000\" font-family=\"sans-serif\" font-size=\"12\" lengthAdjust=\"spacingAndGlyphs\" textLength=\"61\" x=\"102\" y=\"220.0337\">init Q(s,a)</text><text fill=\"#000000\" font-family=\"sans-serif\" font-size=\"18\" lengthAdjust=\"spacingAndGlyphs\" textLength=\"97\" x=\"251\" y=\"29.4531\">makeMove</text><line style=\"stroke: #000000; stroke-width: 2.0;\" x1=\"182\" x2=\"182\" y1=\"12.7451\" y2=\"739.1323\"/><rect fill=\"#FEFECE\" filter=\"url(#furkj83jc5vww)\" height=\"33.9688\" rx=\"12.5\" ry=\"12.5\" style=\"stroke: #A80036; stroke-width: 1.5;\" width=\"216\" x=\"192\" y=\"252.8638\"/><text fill=\"#000000\" font-family=\"sans-serif\" font-size=\"12\" lengthAdjust=\"spacingAndGlyphs\" textLength=\"196\" x=\"202\" y=\"274.0024\">Q(s_alt/a_alt)=r+Ɣmax(a)Q(s,a)</text><rect fill=\"#FEFECE\" filter=\"url(#furkj83jc5vww)\" height=\"33.9688\" rx=\"12.5\" ry=\"12.5\" style=\"stroke: #A80036; stroke-width: 1.5;\" width=\"164\" x=\"218\" y=\"306.8325\"/><text fill=\"#000000\" font-family=\"sans-serif\" font-size=\"12\" lengthAdjust=\"spacingAndGlyphs\" textLength=\"144\" x=\"228\" y=\"327.9712\">beobachte Zustände s</text><rect fill=\"#FEFECE\" filter=\"url(#furkj83jc5vww)\" height=\"33.9688\" rx=\"12.5\" ry=\"12.5\" style=\"stroke: #A80036; stroke-width: 1.5;\" width=\"133\" x=\"233.5\" y=\"360.8013\"/><text fill=\"#000000\" font-family=\"sans-serif\" font-size=\"12\" lengthAdjust=\"spacingAndGlyphs\" textLength=\"113\" x=\"243.5\" y=\"381.9399\">speicher s in s_alt</text><rect fill=\"#FEFECE\" filter=\"url(#furkj83jc5vww)\" height=\"33.9688\" rx=\"12.5\" ry=\"12.5\" style=\"stroke: #A80036; stroke-width: 1.5;\" width=\"188\" x=\"206\" y=\"414.77\"/><text fill=\"#000000\" font-family=\"sans-serif\" font-size=\"12\" lengthAdjust=\"spacingAndGlyphs\" textLength=\"168\" x=\"216\" y=\"435.9087\">wähle Aktion gemäß Q(s,a)</text><rect fill=\"#FEFECE\" filter=\"url(#furkj83jc5vww)\" height=\"33.9688\" rx=\"12.5\" ry=\"12.5\" style=\"stroke: #A80036; stroke-width: 1.5;\" width=\"143\" x=\"228.5\" y=\"468.7388\"/><text fill=\"#000000\" font-family=\"sans-serif\" font-size=\"12\" lengthAdjust=\"spacingAndGlyphs\" textLength=\"123\" x=\"238.5\" y=\"489.8774\">speichere a in a_alt</text><text fill=\"#000000\" font-family=\"sans-serif\" font-size=\"18\" lengthAdjust=\"spacingAndGlyphs\" textLength=\"93\" x=\"454\" y=\"29.4531\">giveResult</text><line style=\"stroke: #000000; stroke-width: 2.0;\" x1=\"417\" x2=\"417\" y1=\"12.7451\" y2=\"739.1323\"/><rect fill=\"#FEFECE\" filter=\"url(#furkj83jc5vww)\" height=\"33.9688\" rx=\"12.5\" ry=\"12.5\" style=\"stroke: #A80036; stroke-width: 1.5;\" width=\"148\" x=\"427\" y=\"611.1948\"/><text fill=\"#000000\" font-family=\"sans-serif\" font-size=\"12\" lengthAdjust=\"spacingAndGlyphs\" textLength=\"128\" x=\"437\" y=\"632.3335\">erhalte Belohnung n</text><rect fill=\"#FEFECE\" filter=\"url(#furkj83jc5vww)\" height=\"33.9688\" rx=\"12.5\" ry=\"12.5\" style=\"stroke: #A80036; stroke-width: 1.5;\" width=\"94\" x=\"454\" y=\"665.1636\"/><text fill=\"#000000\" font-family=\"sans-serif\" font-size=\"12\" lengthAdjust=\"spacingAndGlyphs\" textLength=\"74\" x=\"464\" y=\"686.3022\">speichere n</text><ellipse cx=\"501\" cy=\"729.1323\" fill=\"none\" filter=\"url(#furkj83jc5vww)\" rx=\"10\" ry=\"10\" style=\"stroke: #000000; stroke-width: 1.0;\"/><ellipse cx=\"501.5\" cy=\"729.6323\" fill=\"#000000\" filter=\"url(#furkj83jc5vww)\" rx=\"6\" ry=\"6\" style=\"stroke: none; stroke-width: 1.0;\"/><line style=\"stroke: #000000; stroke-width: 2.0;\" x1=\"584\" x2=\"584\" y1=\"12.7451\" y2=\"739.1323\"/><line style=\"stroke: #A80036; stroke-width: 1.5;\" x1=\"46.5\" x2=\"46.5\" y1=\"53.6982\" y2=\"73.6982\"/><polygon fill=\"#A80036\" points=\"42.5,63.6982,46.5,73.6982,50.5,63.6982,46.5,67.6982\" style=\"stroke: #A80036; stroke-width: 1.0;\"/><line style=\"stroke: #A80036; stroke-width: 1.5;\" x1=\"132.5\" x2=\"132.5\" y1=\"178.895\" y2=\"198.895\"/><polygon fill=\"#A80036\" points=\"128.5,188.895,132.5,198.895,136.5,188.895,132.5,192.895\" style=\"stroke: #A80036; stroke-width: 1.0;\"/><line style=\"stroke: #A80036; stroke-width: 1.5;\" x1=\"300\" x2=\"300\" y1=\"286.8325\" y2=\"306.8325\"/><polygon fill=\"#A80036\" points=\"296,296.8325,300,306.8325,304,296.8325,300,300.8325\" style=\"stroke: #A80036; stroke-width: 1.0;\"/><line style=\"stroke: #A80036; stroke-width: 1.5;\" x1=\"300\" x2=\"300\" y1=\"340.8013\" y2=\"360.8013\"/><polygon fill=\"#A80036\" points=\"296,350.8013,300,360.8013,304,350.8013,300,354.8013\" style=\"stroke: #A80036; stroke-width: 1.0;\"/><line style=\"stroke: #A80036; stroke-width: 1.5;\" x1=\"300\" x2=\"300\" y1=\"394.77\" y2=\"414.77\"/><polygon fill=\"#A80036\" points=\"296,404.77,300,414.77,304,404.77,300,408.77\" style=\"stroke: #A80036; stroke-width: 1.0;\"/><line style=\"stroke: #A80036; stroke-width: 1.5;\" x1=\"300\" x2=\"300\" y1=\"448.7388\" y2=\"468.7388\"/><polygon fill=\"#A80036\" points=\"296,458.7388,300,468.7388,304,458.7388,300,462.7388\" style=\"stroke: #A80036; stroke-width: 1.0;\"/><line style=\"stroke: #A80036; stroke-width: 1.5;\" x1=\"501\" x2=\"501\" y1=\"645.1636\" y2=\"665.1636\"/><polygon fill=\"#A80036\" points=\"497,655.1636,501,665.1636,505,655.1636,501,659.1636\" style=\"stroke: #A80036; stroke-width: 1.0;\"/><line style=\"stroke: #A80036; stroke-width: 1.5;\" x1=\"501\" x2=\"501\" y1=\"699.1323\" y2=\"719.1323\"/><polygon fill=\"#A80036\" points=\"497,709.1323,501,719.1323,505,709.1323,501,713.1323\" style=\"stroke: #A80036; stroke-width: 1.0;\"/><line style=\"stroke: #A80036; stroke-width: 1.5;\" x1=\"46.5\" x2=\"46.5\" y1=\"107.667\" y2=\"129.9263\"/><line style=\"stroke: #A80036; stroke-width: 1.5;\" x1=\"46.5\" x2=\"132.5\" y1=\"129.9263\" y2=\"129.9263\"/><line style=\"stroke: #A80036; stroke-width: 1.5;\" x1=\"132.5\" x2=\"132.5\" y1=\"129.9263\" y2=\"144.9263\"/><polygon fill=\"#A80036\" points=\"128.5,134.9263,132.5,144.9263,136.5,134.9263,132.5,138.9263\" style=\"stroke: #A80036; stroke-width: 1.0;\"/><text fill=\"#000000\" font-family=\"sans-serif\" font-size=\"11\" font-style=\"italic\" lengthAdjust=\"spacingAndGlyphs\" textLength=\"43\" x=\"50.5\" y=\"123.4263\">board s</text><line style=\"stroke: #A80036; stroke-width: 1.5;\" x1=\"132.5\" x2=\"132.5\" y1=\"232.8638\" y2=\"237.8638\"/><line style=\"stroke: #A80036; stroke-width: 1.5;\" x1=\"132.5\" x2=\"300\" y1=\"237.8638\" y2=\"237.8638\"/><line style=\"stroke: #A80036; stroke-width: 1.5;\" x1=\"300\" x2=\"300\" y1=\"237.8638\" y2=\"252.8638\"/><polygon fill=\"#A80036\" points=\"296,242.8638,300,252.8638,304,242.8638,300,246.8638\" style=\"stroke: #A80036; stroke-width: 1.0;\"/><line style=\"stroke: #A80036; stroke-width: 1.5;\" x1=\"300\" x2=\"300\" y1=\"502.7075\" y2=\"524.9668\"/><line style=\"stroke: #A80036; stroke-width: 1.5;\" x1=\"300\" x2=\"46.5\" y1=\"524.9668\" y2=\"524.9668\"/><line style=\"stroke: #A80036; stroke-width: 1.5;\" x1=\"46.5\" x2=\"46.5\" y1=\"524.9668\" y2=\"539.9668\"/><polygon fill=\"#A80036\" points=\"42.5,529.9668,46.5,539.9668,50.5,529.9668,46.5,533.9668\" style=\"stroke: #A80036; stroke-width: 1.0;\"/><text fill=\"#000000\" font-family=\"sans-serif\" font-size=\"11\" font-style=\"italic\" lengthAdjust=\"spacingAndGlyphs\" textLength=\"46\" x=\"304\" y=\"518.4668\">Aktion a</text><line style=\"stroke: #A80036; stroke-width: 1.5;\" x1=\"46.5\" x2=\"46.5\" y1=\"573.9355\" y2=\"596.1948\"/><line style=\"stroke: #A80036; stroke-width: 1.5;\" x1=\"46.5\" x2=\"501\" y1=\"596.1948\" y2=\"596.1948\"/><line style=\"stroke: #A80036; stroke-width: 1.5;\" x1=\"501\" x2=\"501\" y1=\"596.1948\" y2=\"611.1948\"/><polygon fill=\"#A80036\" points=\"497,601.1948,501,611.1948,505,601.1948,501,605.1948\" style=\"stroke: #A80036; stroke-width: 1.0;\"/><text fill=\"#000000\" font-family=\"sans-serif\" font-size=\"11\" font-style=\"italic\" lengthAdjust=\"spacingAndGlyphs\" textLength=\"5\" x=\"50.5\" y=\"589.6948\">r</text><!--\n",
       "@startuml \n",
       "|Game|\n",
       "start\n",
       ":loop;\n",
       "->//board s//;\n",
       "|init|\n",
       ":wähle Ɣ;\n",
       ":init Q(s,a);\n",
       "|makeMove|\n",
       ":Q(s_alt/a_alt)=r+Ɣmax(a)Q(s,a);\n",
       ":beobachte Zustände s;\n",
       ":speicher s in s_alt;\n",
       ":wähle Aktion gemäß Q(s,a);\n",
       ":speichere a in a_alt;\n",
       "|Game|\n",
       "->//Aktion a//;\n",
       ":?:?;\n",
       "|giveResult|\n",
       "->//r//;\n",
       ":erhalte Belohnung n;\n",
       ":speichere n;\n",
       "stop\n",
       "\n",
       "@enduml\n",
       "\n",
       "PlantUML version 1.2017.15(Mon Jul 03 16:45:34 GMT 2017)\n",
       "(GPL source distribution)\n",
       "Java Runtime: OpenJDK Runtime Environment\n",
       "JVM: OpenJDK 64-Bit Server VM\n",
       "Java Version: 11.0.11+9-Ubuntu-0ubuntu2.18.04\n",
       "Operating System: Linux\n",
       "OS Version: 5.4.0-90-generic\n",
       "Default Encoding: UTF-8\n",
       "Language: en\n",
       "Country: null\n",
       "--></g></svg>"
      ],
      "text/plain": [
       "<IPython.core.display.SVG object>"
      ]
     },
     "execution_count": 15,
     "metadata": {},
     "output_type": "execute_result"
    }
   ],
   "source": [
    "%%plantuml\n",
    "|Game|\n",
    "start\n",
    ":loop;\n",
    "->//board s//;\n",
    "|init|\n",
    ":wähle Ɣ;\n",
    ":init Q(s,a);\n",
    "|makeMove|\n",
    ":Q(s_alt/a_alt)=r+Ɣmax(a)Q(s,a);\n",
    ":beobachte Zustände s;\n",
    ":speicher s in s_alt;\n",
    ":wähle Aktion gemäß Q(s,a);\n",
    ":speichere a in a_alt;\n",
    "|Game|\n",
    "->//Aktion a//;\n",
    ":?:?;\n",
    "|giveResult|\n",
    "->//Result r//;\n",
    ":erhalte Belohnung n;\n",
    ":speichere n;\n",
    "stop"
   ]
  }
 ],
 "metadata": {
  "kernelspec": {
   "display_name": "Python 3",
   "language": "python",
   "name": "python3"
  },
  "language_info": {
   "codemirror_mode": {
    "name": "ipython",
    "version": 3
   },
   "file_extension": ".py",
   "mimetype": "text/x-python",
   "name": "python",
   "nbconvert_exporter": "python",
   "pygments_lexer": "ipython3",
   "version": "3.6.9"
  }
 },
 "nbformat": 4,
 "nbformat_minor": 2
}
