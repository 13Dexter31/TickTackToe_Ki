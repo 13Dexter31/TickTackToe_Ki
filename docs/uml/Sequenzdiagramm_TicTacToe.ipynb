{
 "cells": [
  {
   "cell_type": "code",
   "execution_count": 1,
   "metadata": {},
   "outputs": [],
   "source": [
    "import plantuml"
   ]
  },
  {
   "cell_type": "code",
   "execution_count": 15,
   "metadata": {},
   "outputs": [
    {
     "data": {
      "image/svg+xml": [
       "<svg contentScriptType=\"application/ecmascript\" contentStyleType=\"text/css\" height=\"540px\" preserveAspectRatio=\"none\" style=\"width:511px;height:540px;\" version=\"1.1\" viewBox=\"0 0 511 540\" width=\"511px\" xmlns=\"http://www.w3.org/2000/svg\" xmlns:xlink=\"http://www.w3.org/1999/xlink\" zoomAndPan=\"magnify\"><defs><filter height=\"300%\" id=\"f1hjgqh4c6ybjf\" width=\"300%\" x=\"-1\" y=\"-1\"><feGaussianBlur result=\"blurOut\" stdDeviation=\"2.0\"/><feColorMatrix in=\"blurOut\" result=\"blurOut2\" type=\"matrix\" values=\"0 0 0 0 0 0 0 0 0 0 0 0 0 0 0 0 0 0 .4 0\"/><feOffset dx=\"4.0\" dy=\"4.0\" in=\"blurOut2\" result=\"blurOut3\"/><feBlend in=\"SourceGraphic\" in2=\"blurOut3\" mode=\"normal\"/></filter></defs><g><rect fill=\"#FFFFFF\" filter=\"url(#f1hjgqh4c6ybjf)\" height=\"29.1328\" style=\"stroke: #A80036; stroke-width: 1.0;\" width=\"10\" x=\"32.5\" y=\"156.6953\"/><rect fill=\"#FFFFFF\" filter=\"url(#f1hjgqh4c6ybjf)\" height=\"29.1328\" style=\"stroke: #A80036; stroke-width: 1.0;\" width=\"10\" x=\"32.5\" y=\"377.4297\"/><rect fill=\"#FFFFFF\" filter=\"url(#f1hjgqh4c6ybjf)\" height=\"420.4688\" style=\"stroke: #A80036; stroke-width: 1.0;\" width=\"10\" x=\"166.5\" y=\"69.2969\"/><rect fill=\"#FFFFFF\" filter=\"url(#f1hjgqh4c6ybjf)\" height=\"29.1328\" style=\"stroke: #A80036; stroke-width: 1.0;\" width=\"10\" x=\"171.5\" y=\"98.4297\"/><rect fill=\"#FFFFFF\" filter=\"url(#f1hjgqh4c6ybjf)\" height=\"29.1328\" style=\"stroke: #A80036; stroke-width: 1.0;\" width=\"10\" x=\"171.5\" y=\"156.6953\"/><rect fill=\"#FFFFFF\" filter=\"url(#f1hjgqh4c6ybjf)\" height=\"58.2656\" style=\"stroke: #A80036; stroke-width: 1.0;\" width=\"10\" x=\"171.5\" y=\"239.0938\"/><rect fill=\"#FFFFFF\" filter=\"url(#f1hjgqh4c6ybjf)\" height=\"29.1328\" style=\"stroke: #A80036; stroke-width: 1.0;\" width=\"10\" x=\"409.5\" y=\"98.4297\"/><rect fill=\"#FFFFFF\" filter=\"url(#f1hjgqh4c6ybjf)\" height=\"29.1328\" style=\"stroke: #A80036; stroke-width: 1.0;\" width=\"10\" x=\"409.5\" y=\"268.2266\"/><rect fill=\"#FFFFFF\" filter=\"url(#f1hjgqh4c6ybjf)\" height=\"21\" style=\"stroke: #A80036; stroke-width: 1.0;\" width=\"10\" x=\"474\" y=\"48.2969\"/><rect fill=\"#FFFFFF\" filter=\"url(#f1hjgqh4c6ybjf)\" height=\"148.4688\" style=\"stroke: #000000; stroke-width: 2.0;\" width=\"322\" x=\"132\" y=\"200.9609\"/><rect fill=\"#FFFFFF\" height=\"43.9375\" style=\"stroke: none; stroke-width: 1.0;\" width=\"322\" x=\"132\" y=\"305.4922\"/><rect fill=\"#FFFFFF\" filter=\"url(#f1hjgqh4c6ybjf)\" height=\"61.0703\" style=\"stroke: #000000; stroke-width: 2.0;\" width=\"322\" x=\"132\" y=\"421.6953\"/><rect fill=\"#FFFFFF\" height=\"14.8047\" style=\"stroke: none; stroke-width: 1.0;\" width=\"322\" x=\"132\" y=\"467.9609\"/><line style=\"stroke: #A80036; stroke-width: 1.0; stroke-dasharray: 5.0,5.0;\" x1=\"37\" x2=\"37\" y1=\"38.2969\" y2=\"499.7656\"/><line style=\"stroke: #A80036; stroke-width: 1.0; stroke-dasharray: 5.0,5.0;\" x1=\"171\" x2=\"171\" y1=\"38.2969\" y2=\"499.7656\"/><line style=\"stroke: #A80036; stroke-width: 1.0; stroke-dasharray: 5.0,5.0;\" x1=\"414\" x2=\"414\" y1=\"38.2969\" y2=\"499.7656\"/><line style=\"stroke: #A80036; stroke-width: 1.0; stroke-dasharray: 5.0,5.0;\" x1=\"479\" x2=\"479\" y1=\"38.2969\" y2=\"499.7656\"/><rect fill=\"#FEFECE\" filter=\"url(#f1hjgqh4c6ybjf)\" height=\"30.2969\" style=\"stroke: #A80036; stroke-width: 1.5;\" width=\"55\" x=\"8\" y=\"3\"/><text fill=\"#000000\" font-family=\"sans-serif\" font-size=\"14\" lengthAdjust=\"spacingAndGlyphs\" textLength=\"41\" x=\"15\" y=\"22.9951\">Board</text><rect fill=\"#FEFECE\" filter=\"url(#f1hjgqh4c6ybjf)\" height=\"30.2969\" style=\"stroke: #A80036; stroke-width: 1.5;\" width=\"55\" x=\"8\" y=\"498.7656\"/><text fill=\"#000000\" font-family=\"sans-serif\" font-size=\"14\" lengthAdjust=\"spacingAndGlyphs\" textLength=\"41\" x=\"15\" y=\"518.7607\">Board</text><rect fill=\"#FEFECE\" filter=\"url(#f1hjgqh4c6ybjf)\" height=\"30.2969\" style=\"stroke: #A80036; stroke-width: 1.5;\" width=\"55\" x=\"142\" y=\"3\"/><text fill=\"#000000\" font-family=\"sans-serif\" font-size=\"14\" lengthAdjust=\"spacingAndGlyphs\" textLength=\"41\" x=\"149\" y=\"22.9951\">Game</text><rect fill=\"#FEFECE\" filter=\"url(#f1hjgqh4c6ybjf)\" height=\"30.2969\" style=\"stroke: #A80036; stroke-width: 1.5;\" width=\"55\" x=\"142\" y=\"498.7656\"/><text fill=\"#000000\" font-family=\"sans-serif\" font-size=\"14\" lengthAdjust=\"spacingAndGlyphs\" textLength=\"41\" x=\"149\" y=\"518.7607\">Game</text><rect fill=\"#FEFECE\" filter=\"url(#f1hjgqh4c6ybjf)\" height=\"30.2969\" style=\"stroke: #A80036; stroke-width: 1.5;\" width=\"55\" x=\"385\" y=\"3\"/><text fill=\"#000000\" font-family=\"sans-serif\" font-size=\"14\" lengthAdjust=\"spacingAndGlyphs\" textLength=\"41\" x=\"392\" y=\"22.9951\">Player</text><rect fill=\"#FEFECE\" filter=\"url(#f1hjgqh4c6ybjf)\" height=\"30.2969\" style=\"stroke: #A80036; stroke-width: 1.5;\" width=\"55\" x=\"385\" y=\"498.7656\"/><text fill=\"#000000\" font-family=\"sans-serif\" font-size=\"14\" lengthAdjust=\"spacingAndGlyphs\" textLength=\"41\" x=\"392\" y=\"518.7607\">Player</text><rect fill=\"#FEFECE\" filter=\"url(#f1hjgqh4c6ybjf)\" height=\"30.2969\" style=\"stroke: #A80036; stroke-width: 1.5;\" width=\"46\" x=\"454\" y=\"3\"/><text fill=\"#000000\" font-family=\"sans-serif\" font-size=\"14\" lengthAdjust=\"spacingAndGlyphs\" textLength=\"32\" x=\"461\" y=\"22.9951\">Start</text><rect fill=\"#FEFECE\" filter=\"url(#f1hjgqh4c6ybjf)\" height=\"30.2969\" style=\"stroke: #A80036; stroke-width: 1.5;\" width=\"46\" x=\"454\" y=\"498.7656\"/><text fill=\"#000000\" font-family=\"sans-serif\" font-size=\"14\" lengthAdjust=\"spacingAndGlyphs\" textLength=\"32\" x=\"461\" y=\"518.7607\">Start</text><rect fill=\"#FFFFFF\" filter=\"url(#f1hjgqh4c6ybjf)\" height=\"29.1328\" style=\"stroke: #A80036; stroke-width: 1.0;\" width=\"10\" x=\"32.5\" y=\"156.6953\"/><rect fill=\"#FFFFFF\" filter=\"url(#f1hjgqh4c6ybjf)\" height=\"29.1328\" style=\"stroke: #A80036; stroke-width: 1.0;\" width=\"10\" x=\"32.5\" y=\"377.4297\"/><rect fill=\"#FFFFFF\" filter=\"url(#f1hjgqh4c6ybjf)\" height=\"420.4688\" style=\"stroke: #A80036; stroke-width: 1.0;\" width=\"10\" x=\"166.5\" y=\"69.2969\"/><rect fill=\"#FFFFFF\" filter=\"url(#f1hjgqh4c6ybjf)\" height=\"29.1328\" style=\"stroke: #A80036; stroke-width: 1.0;\" width=\"10\" x=\"171.5\" y=\"98.4297\"/><rect fill=\"#FFFFFF\" filter=\"url(#f1hjgqh4c6ybjf)\" height=\"29.1328\" style=\"stroke: #A80036; stroke-width: 1.0;\" width=\"10\" x=\"171.5\" y=\"156.6953\"/><rect fill=\"#FFFFFF\" filter=\"url(#f1hjgqh4c6ybjf)\" height=\"58.2656\" style=\"stroke: #A80036; stroke-width: 1.0;\" width=\"10\" x=\"171.5\" y=\"239.0938\"/><rect fill=\"#FFFFFF\" filter=\"url(#f1hjgqh4c6ybjf)\" height=\"29.1328\" style=\"stroke: #A80036; stroke-width: 1.0;\" width=\"10\" x=\"409.5\" y=\"98.4297\"/><rect fill=\"#FFFFFF\" filter=\"url(#f1hjgqh4c6ybjf)\" height=\"29.1328\" style=\"stroke: #A80036; stroke-width: 1.0;\" width=\"10\" x=\"409.5\" y=\"268.2266\"/><rect fill=\"#FFFFFF\" filter=\"url(#f1hjgqh4c6ybjf)\" height=\"21\" style=\"stroke: #A80036; stroke-width: 1.0;\" width=\"10\" x=\"474\" y=\"48.2969\"/><polygon fill=\"#A80036\" points=\"187.5,65.2969,177.5,69.2969,187.5,73.2969,183.5,69.2969\" style=\"stroke: #A80036; stroke-width: 1.0;\"/><line style=\"stroke: #A80036; stroke-width: 1.0;\" x1=\"181.5\" x2=\"478\" y1=\"69.2969\" y2=\"69.2969\"/><text fill=\"#000000\" font-family=\"sans-serif\" font-size=\"13\" lengthAdjust=\"spacingAndGlyphs\" textLength=\"86\" x=\"193.5\" y=\"64.3638\">start(players)</text><polygon fill=\"#A80036\" points=\"397.5,94.4297,407.5,98.4297,397.5,102.4297,401.5,98.4297\" style=\"stroke: #A80036; stroke-width: 1.0;\"/><line style=\"stroke: #A80036; stroke-width: 1.0;\" x1=\"181.5\" x2=\"403.5\" y1=\"98.4297\" y2=\"98.4297\"/><text fill=\"#000000\" font-family=\"sans-serif\" font-size=\"13\" lengthAdjust=\"spacingAndGlyphs\" textLength=\"134\" x=\"188.5\" y=\"93.4966\">makeMove(Spielfeld)</text><polygon fill=\"#A80036\" points=\"187.5,123.5625,177.5,127.5625,187.5,131.5625,183.5,127.5625\" style=\"stroke: #A80036; stroke-width: 1.0;\"/><line style=\"stroke: #A80036; stroke-width: 1.0; stroke-dasharray: 2.0,2.0;\" x1=\"181.5\" x2=\"413.5\" y1=\"127.5625\" y2=\"127.5625\"/><text fill=\"#000000\" font-family=\"sans-serif\" font-size=\"13\" lengthAdjust=\"spacingAndGlyphs\" textLength=\"93\" x=\"193.5\" y=\"122.6294\">return Position</text><polygon fill=\"#A80036\" points=\"53.5,152.6953,43.5,156.6953,53.5,160.6953,49.5,156.6953\" style=\"stroke: #A80036; stroke-width: 1.0;\"/><line style=\"stroke: #A80036; stroke-width: 1.0;\" x1=\"47.5\" x2=\"170.5\" y1=\"156.6953\" y2=\"156.6953\"/><text fill=\"#000000\" font-family=\"sans-serif\" font-size=\"13\" lengthAdjust=\"spacingAndGlyphs\" textLength=\"105\" x=\"59.5\" y=\"151.7622\">update(Position)</text><polygon fill=\"#A80036\" points=\"154.5,181.8281,164.5,185.8281,154.5,189.8281,158.5,185.8281\" style=\"stroke: #A80036; stroke-width: 1.0;\"/><line style=\"stroke: #A80036; stroke-width: 1.0; stroke-dasharray: 2.0,2.0;\" x1=\"37.5\" x2=\"160.5\" y1=\"185.8281\" y2=\"185.8281\"/><text fill=\"#000000\" font-family=\"sans-serif\" font-size=\"13\" lengthAdjust=\"spacingAndGlyphs\" textLength=\"70\" x=\"44.5\" y=\"180.895\">return bool</text><rect fill=\"none\" height=\"148.4688\" style=\"stroke: #000000; stroke-width: 2.0;\" width=\"322\" x=\"132\" y=\"200.9609\"/><polygon fill=\"#EEEEEE\" points=\"132,200.9609,196,200.9609,196,207.9609,186,217.9609,132,217.9609,132,200.9609\" style=\"stroke: #000000; stroke-width: 2.0;\"/><text fill=\"#000000\" font-family=\"sans-serif\" font-size=\"13\" font-weight=\"bold\" lengthAdjust=\"spacingAndGlyphs\" textLength=\"19\" x=\"147\" y=\"214.0278\">alt</text><text fill=\"#000000\" font-family=\"sans-serif\" font-size=\"11\" font-weight=\"bold\" lengthAdjust=\"spacingAndGlyphs\" textLength=\"91\" x=\"211\" y=\"213.1714\">[move invalid]</text><polygon fill=\"#A80036\" points=\"402.5,235.0938,412.5,239.0938,402.5,243.0938,406.5,239.0938\" style=\"stroke: #A80036; stroke-width: 1.0;\"/><line style=\"stroke: #A80036; stroke-width: 1.0;\" x1=\"181.5\" x2=\"408.5\" y1=\"239.0938\" y2=\"239.0938\"/><text fill=\"#000000\" font-family=\"sans-serif\" font-size=\"13\" lengthAdjust=\"spacingAndGlyphs\" textLength=\"214\" x=\"188.5\" y=\"234.1606\">giveResult(Result.INVALID_MOVE)</text><polygon fill=\"#A80036\" points=\"397.5,264.2266,407.5,268.2266,397.5,272.2266,401.5,268.2266\" style=\"stroke: #A80036; stroke-width: 1.0;\"/><line style=\"stroke: #A80036; stroke-width: 1.0;\" x1=\"181.5\" x2=\"403.5\" y1=\"268.2266\" y2=\"268.2266\"/><text fill=\"#000000\" font-family=\"sans-serif\" font-size=\"13\" lengthAdjust=\"spacingAndGlyphs\" textLength=\"134\" x=\"188.5\" y=\"263.2935\">makeMove(Spielfeld)</text><polygon fill=\"#A80036\" points=\"187.5,293.3594,177.5,297.3594,187.5,301.3594,183.5,297.3594\" style=\"stroke: #A80036; stroke-width: 1.0;\"/><line style=\"stroke: #A80036; stroke-width: 1.0; stroke-dasharray: 2.0,2.0;\" x1=\"181.5\" x2=\"413.5\" y1=\"297.3594\" y2=\"297.3594\"/><text fill=\"#000000\" font-family=\"sans-serif\" font-size=\"13\" lengthAdjust=\"spacingAndGlyphs\" textLength=\"93\" x=\"193.5\" y=\"292.4263\">return Position</text><line style=\"stroke: #000000; stroke-width: 1.0; stroke-dasharray: 2.0,2.0;\" x1=\"132\" x2=\"454\" y1=\"306.4922\" y2=\"306.4922\"/><text fill=\"#000000\" font-family=\"sans-serif\" font-size=\"11\" font-weight=\"bold\" lengthAdjust=\"spacingAndGlyphs\" textLength=\"79\" x=\"137\" y=\"316.7026\">[move valid]</text><polygon fill=\"#A80036\" points=\"402.5,337.2969,412.5,341.2969,402.5,345.2969,406.5,341.2969\" style=\"stroke: #A80036; stroke-width: 1.0;\"/><line style=\"stroke: #A80036; stroke-width: 1.0;\" x1=\"176.5\" x2=\"408.5\" y1=\"341.2969\" y2=\"341.2969\"/><text fill=\"#000000\" font-family=\"sans-serif\" font-size=\"13\" lengthAdjust=\"spacingAndGlyphs\" textLength=\"194\" x=\"183.5\" y=\"336.3638\">giveResult(Result.NO_RESULT)</text><polygon fill=\"#A80036\" points=\"53.5,373.4297,43.5,377.4297,53.5,381.4297,49.5,377.4297\" style=\"stroke: #A80036; stroke-width: 1.0;\"/><line style=\"stroke: #A80036; stroke-width: 1.0;\" x1=\"47.5\" x2=\"165.5\" y1=\"377.4297\" y2=\"377.4297\"/><text fill=\"#000000\" font-family=\"sans-serif\" font-size=\"13\" lengthAdjust=\"spacingAndGlyphs\" textLength=\"38\" x=\"59.5\" y=\"372.4966\">over()</text><polygon fill=\"#A80036\" points=\"154.5,402.5625,164.5,406.5625,154.5,410.5625,158.5,406.5625\" style=\"stroke: #A80036; stroke-width: 1.0;\"/><line style=\"stroke: #A80036; stroke-width: 1.0; stroke-dasharray: 2.0,2.0;\" x1=\"37.5\" x2=\"160.5\" y1=\"406.5625\" y2=\"406.5625\"/><text fill=\"#000000\" font-family=\"sans-serif\" font-size=\"13\" lengthAdjust=\"spacingAndGlyphs\" textLength=\"88\" x=\"44.5\" y=\"401.6294\">return(Result)</text><rect fill=\"none\" height=\"61.0703\" style=\"stroke: #000000; stroke-width: 2.0;\" width=\"322\" x=\"132\" y=\"421.6953\"/><polygon fill=\"#EEEEEE\" points=\"132,421.6953,196,421.6953,196,428.6953,186,438.6953,132,438.6953,132,421.6953\" style=\"stroke: #000000; stroke-width: 2.0;\"/><text fill=\"#000000\" font-family=\"sans-serif\" font-size=\"13\" font-weight=\"bold\" lengthAdjust=\"spacingAndGlyphs\" textLength=\"19\" x=\"147\" y=\"434.7622\">alt</text><text fill=\"#000000\" font-family=\"sans-serif\" font-size=\"11\" font-weight=\"bold\" lengthAdjust=\"spacingAndGlyphs\" textLength=\"78\" x=\"211\" y=\"433.9058\">[Game over]</text><polygon fill=\"#A80036\" points=\"402.5,455.8281,412.5,459.8281,402.5,463.8281,406.5,459.8281\" style=\"stroke: #A80036; stroke-width: 1.0;\"/><line style=\"stroke: #A80036; stroke-width: 1.0;\" x1=\"176.5\" x2=\"408.5\" y1=\"459.8281\" y2=\"459.8281\"/><text fill=\"#000000\" font-family=\"sans-serif\" font-size=\"13\" lengthAdjust=\"spacingAndGlyphs\" textLength=\"107\" x=\"183.5\" y=\"454.895\">feedback(Result)</text><line style=\"stroke: #000000; stroke-width: 1.0; stroke-dasharray: 2.0,2.0;\" x1=\"132\" x2=\"454\" y1=\"468.9609\" y2=\"468.9609\"/><text fill=\"#000000\" font-family=\"sans-serif\" font-size=\"11\" font-weight=\"bold\" lengthAdjust=\"spacingAndGlyphs\" textLength=\"101\" x=\"137\" y=\"479.1714\">[Game goes on]</text><!--\n",
       "@startuml \n",
       "participant Board\n",
       "participant Game\n",
       "participant Player\n",
       "participant Start\n",
       "\n",
       "activate Start\n",
       "Start -> Game: start(players)\n",
       "deactivate Start\n",
       "activate Game\n",
       "Game -> Player: makeMove(Spielfeld)\n",
       "activate Game\n",
       "activate Player\n",
       "return return Position\n",
       "deactivate Game\n",
       "\n",
       "Game -> Board: update(Position)\n",
       "activate Game\n",
       "activate Board\n",
       "return return bool\n",
       "deactivate Game\n",
       "\n",
       "alt move invalid\n",
       "    Game -> Player: giveResult(Result.INVALID_MOVE)\n",
       "    activate Game\n",
       "    Game -> Player: makeMove(Spielfeld)\n",
       "    activate Player\n",
       "    return return Position\n",
       "    deactivate Game\n",
       "\n",
       "else move valid\n",
       "    Game -> Player: giveResult(Result.NO_RESULT)\n",
       "end\n",
       "\n",
       "    activate Game\n",
       "    Game -> Board: over()\n",
       "    activate Board\n",
       "    return return(Result)\n",
       "\n",
       "alt Game over\n",
       "    Game -> Player: feedback(Result)\n",
       "else Game goes on\n",
       "end\n",
       "    deactivate Game\n",
       "\n",
       "\n",
       "@enduml\n",
       "\n",
       "PlantUML version 1.2017.15(Mon Jul 03 16:45:34 GMT 2017)\n",
       "(GPL source distribution)\n",
       "Java Runtime: OpenJDK Runtime Environment\n",
       "JVM: OpenJDK 64-Bit Server VM\n",
       "Java Version: 11.0.11+9-Ubuntu-0ubuntu2.18.04\n",
       "Operating System: Linux\n",
       "OS Version: 5.4.0-90-generic\n",
       "Default Encoding: UTF-8\n",
       "Language: en\n",
       "Country: null\n",
       "--></g></svg>"
      ],
      "text/plain": [
       "<IPython.core.display.SVG object>"
      ]
     },
     "execution_count": 15,
     "metadata": {},
     "output_type": "execute_result"
    }
   ],
   "source": [
    "%%plantuml\n",
    "participant Board\n",
    "participant Game\n",
    "participant Player\n",
    "participant Start\n",
    "\n",
    "activate Start\n",
    "Start -> Game: start(players)\n",
    "deactivate Start\n",
    "activate Game\n",
    "Game -> Player: makeMove(Spielfeld)\n",
    "activate Game\n",
    "activate Player\n",
    "return return Position\n",
    "deactivate Game\n",
    "\n",
    "Game -> Board: update(Position)\n",
    "activate Game\n",
    "activate Board\n",
    "return return bool\n",
    "deactivate Game\n",
    "\n",
    "alt move invalid\n",
    "    Game -> Player: giveResult(Result.INVALID_MOVE)\n",
    "    activate Game\n",
    "    Game -> Player: makeMove(Spielfeld)\n",
    "    activate Player\n",
    "    return return Position\n",
    "    deactivate Game\n",
    "\n",
    "else move valid\n",
    "    Game -> Player: giveResult(Result.NO_RESULT)\n",
    "end\n",
    "    \n",
    "    activate Game\n",
    "    Game -> Board: over()\n",
    "    activate Board\n",
    "    return return(Result)\n",
    "\n",
    "alt Game over\n",
    "    Game -> Player: feedback(Result)\n",
    "else Game goes on\n",
    "end\n",
    "    deactivate Game\n",
    "    "
   ]
  },
  {
   "cell_type": "code",
   "execution_count": null,
   "metadata": {},
   "outputs": [],
   "source": []
  }
 ],
 "metadata": {
  "kernelspec": {
   "display_name": "Python 3",
   "language": "python",
   "name": "python3"
  },
  "language_info": {
   "codemirror_mode": {
    "name": "ipython",
    "version": 3
   },
   "file_extension": ".py",
   "mimetype": "text/x-python",
   "name": "python",
   "nbconvert_exporter": "python",
   "pygments_lexer": "ipython3",
   "version": "3.6.9"
  }
 },
 "nbformat": 4,
 "nbformat_minor": 2
}
