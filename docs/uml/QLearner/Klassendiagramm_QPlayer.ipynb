{
 "cells": [
  {
   "cell_type": "code",
   "execution_count": 1,
   "outputs": [],
   "source": [
    "import iplantuml"
   ],
   "metadata": {
    "collapsed": false,
    "pycharm": {
     "name": "#%%\n"
    }
   }
  },
  {
   "cell_type": "code",
   "execution_count": 8,
   "outputs": [
    {
     "data": {
      "text/plain": "<IPython.core.display.SVG object>",
      "image/svg+xml": "<svg xmlns=\"http://www.w3.org/2000/svg\" xmlns:xlink=\"http://www.w3.org/1999/xlink\" contentScriptType=\"application/ecmascript\" contentStyleType=\"text/css\" height=\"393px\" preserveAspectRatio=\"none\" style=\"width:300px;height:393px;background:#FFFFFF;\" version=\"1.1\" viewBox=\"0 0 300 393\" width=\"300px\" zoomAndPan=\"magnify\"><defs><filter height=\"300%\" id=\"fjzmgwa2rpygu\" width=\"300%\" x=\"-1\" y=\"-1\"><feGaussianBlur result=\"blurOut\" stdDeviation=\"2.0\"/><feColorMatrix in=\"blurOut\" result=\"blurOut2\" type=\"matrix\" values=\"0 0 0 0 0 0 0 0 0 0 0 0 0 0 0 0 0 0 .4 0\"/><feOffset dx=\"4.0\" dy=\"4.0\" in=\"blurOut2\" result=\"blurOut3\"/><feBlend in=\"SourceGraphic\" in2=\"blurOut3\" mode=\"normal\"/></filter></defs><g><!--MD5=[2cb47ba637a0d19583e6199456f6ad0b]\nclass Player--><rect codeLine=\"1\" fill=\"#FEFECE\" filter=\"url(#fjzmgwa2rpygu)\" height=\"48\" id=\"Player\" style=\"stroke:#A80036;stroke-width:1.5;\" width=\"68\" x=\"68\" y=\"7\"/><ellipse cx=\"83\" cy=\"23\" fill=\"#ADD1B2\" rx=\"11\" ry=\"11\" style=\"stroke:#A80036;stroke-width:1.0;\"/><path d=\"M85.3438,18.6719 C84.4063,18.2344 83.8125,18.0938 82.9375,18.0938 C80.3125,18.0938 78.3125,20.1719 78.3125,22.8906 L78.3125,24.0156 C78.3125,26.5938 80.4219,28.4844 83.3125,28.4844 C84.5313,28.4844 85.6875,28.1875 86.4375,27.6406 C87.0156,27.2344 87.3438,26.7813 87.3438,26.3906 C87.3438,25.9375 86.9531,25.5469 86.4844,25.5469 C86.2656,25.5469 86.0625,25.625 85.875,25.8125 C85.4219,26.2969 85.4219,26.2969 85.2344,26.3906 C84.8125,26.6563 84.125,26.7813 83.3594,26.7813 C81.3125,26.7813 80.0156,25.6875 80.0156,23.9844 L80.0156,22.8906 C80.0156,21.1094 81.2656,19.7969 83,19.7969 C83.5781,19.7969 84.1875,19.9531 84.6563,20.2031 C85.1406,20.4844 85.3125,20.7031 85.4063,21.1094 C85.4688,21.5156 85.5,21.6406 85.6406,21.7656 C85.7813,21.9063 86.0156,22.0156 86.2344,22.0156 C86.5,22.0156 86.7656,21.875 86.9375,21.6563 C87.0469,21.5 87.0781,21.3125 87.0781,20.8906 L87.0781,19.4688 C87.0781,19.0313 87.0625,18.9063 86.9688,18.75 C86.8125,18.4844 86.5313,18.3438 86.2344,18.3438 C85.9375,18.3438 85.7344,18.4375 85.5156,18.75 L85.3438,18.6719 Z \" fill=\"#000000\"/><text fill=\"#000000\" font-family=\"sans-serif\" font-size=\"12\" lengthAdjust=\"spacing\" textLength=\"36\" x=\"97\" y=\"27.1543\">Player</text><line style=\"stroke:#A80036;stroke-width:1.5;\" x1=\"69\" x2=\"135\" y1=\"39\" y2=\"39\"/><line style=\"stroke:#A80036;stroke-width:1.5;\" x1=\"69\" x2=\"135\" y1=\"47\" y2=\"47\"/><!--MD5=[c1bbdcdf582d6c5ae1a5df1ef87ed0ca]\nclass QPlayer--><rect codeLine=\"4\" fill=\"#FEFECE\" filter=\"url(#fjzmgwa2rpygu)\" height=\"48\" id=\"QPlayer\" style=\"stroke:#A80036;stroke-width:1.5;\" width=\"78\" x=\"63\" y=\"115\"/><ellipse cx=\"78\" cy=\"131\" fill=\"#ADD1B2\" rx=\"11\" ry=\"11\" style=\"stroke:#A80036;stroke-width:1.0;\"/><path d=\"M80.3438,126.6719 C79.4063,126.2344 78.8125,126.0938 77.9375,126.0938 C75.3125,126.0938 73.3125,128.1719 73.3125,130.8906 L73.3125,132.0156 C73.3125,134.5938 75.4219,136.4844 78.3125,136.4844 C79.5313,136.4844 80.6875,136.1875 81.4375,135.6406 C82.0156,135.2344 82.3438,134.7813 82.3438,134.3906 C82.3438,133.9375 81.9531,133.5469 81.4844,133.5469 C81.2656,133.5469 81.0625,133.625 80.875,133.8125 C80.4219,134.2969 80.4219,134.2969 80.2344,134.3906 C79.8125,134.6563 79.125,134.7813 78.3594,134.7813 C76.3125,134.7813 75.0156,133.6875 75.0156,131.9844 L75.0156,130.8906 C75.0156,129.1094 76.2656,127.7969 78,127.7969 C78.5781,127.7969 79.1875,127.9531 79.6563,128.2031 C80.1406,128.4844 80.3125,128.7031 80.4063,129.1094 C80.4688,129.5156 80.5,129.6406 80.6406,129.7656 C80.7813,129.9063 81.0156,130.0156 81.2344,130.0156 C81.5,130.0156 81.7656,129.875 81.9375,129.6563 C82.0469,129.5 82.0781,129.3125 82.0781,128.8906 L82.0781,127.4688 C82.0781,127.0313 82.0625,126.9063 81.9688,126.75 C81.8125,126.4844 81.5313,126.3438 81.2344,126.3438 C80.9375,126.3438 80.7344,126.4375 80.5156,126.75 L80.3438,126.6719 Z \" fill=\"#000000\"/><text fill=\"#000000\" font-family=\"sans-serif\" font-size=\"12\" lengthAdjust=\"spacing\" textLength=\"46\" x=\"92\" y=\"135.1543\">QPlayer</text><line style=\"stroke:#A80036;stroke-width:1.5;\" x1=\"64\" x2=\"140\" y1=\"147\" y2=\"147\"/><line style=\"stroke:#A80036;stroke-width:1.5;\" x1=\"64\" x2=\"140\" y1=\"155\" y2=\"155\"/><!--MD5=[eac747d42f7c3301dbd9414fa11cea74]\nclass QPUtils--><rect codeLine=\"7\" fill=\"#FEFECE\" filter=\"url(#fjzmgwa2rpygu)\" height=\"48\" id=\"QPUtils\" style=\"stroke:#A80036;stroke-width:1.5;\" width=\"74\" x=\"7\" y=\"223\"/><ellipse cx=\"22\" cy=\"239\" fill=\"#ADD1B2\" rx=\"11\" ry=\"11\" style=\"stroke:#A80036;stroke-width:1.0;\"/><path d=\"M24.3438,234.6719 C23.4063,234.2344 22.8125,234.0938 21.9375,234.0938 C19.3125,234.0938 17.3125,236.1719 17.3125,238.8906 L17.3125,240.0156 C17.3125,242.5938 19.4219,244.4844 22.3125,244.4844 C23.5313,244.4844 24.6875,244.1875 25.4375,243.6406 C26.0156,243.2344 26.3438,242.7813 26.3438,242.3906 C26.3438,241.9375 25.9531,241.5469 25.4844,241.5469 C25.2656,241.5469 25.0625,241.625 24.875,241.8125 C24.4219,242.2969 24.4219,242.2969 24.2344,242.3906 C23.8125,242.6563 23.125,242.7813 22.3594,242.7813 C20.3125,242.7813 19.0156,241.6875 19.0156,239.9844 L19.0156,238.8906 C19.0156,237.1094 20.2656,235.7969 22,235.7969 C22.5781,235.7969 23.1875,235.9531 23.6563,236.2031 C24.1406,236.4844 24.3125,236.7031 24.4063,237.1094 C24.4688,237.5156 24.5,237.6406 24.6406,237.7656 C24.7813,237.9063 25.0156,238.0156 25.2344,238.0156 C25.5,238.0156 25.7656,237.875 25.9375,237.6563 C26.0469,237.5 26.0781,237.3125 26.0781,236.8906 L26.0781,235.4688 C26.0781,235.0313 26.0625,234.9063 25.9688,234.75 C25.8125,234.4844 25.5313,234.3438 25.2344,234.3438 C24.9375,234.3438 24.7344,234.4375 24.5156,234.75 L24.3438,234.6719 Z \" fill=\"#000000\"/><text fill=\"#000000\" font-family=\"sans-serif\" font-size=\"12\" lengthAdjust=\"spacing\" textLength=\"42\" x=\"36\" y=\"243.1543\">QPUtils</text><line style=\"stroke:#A80036;stroke-width:1.5;\" x1=\"8\" x2=\"80\" y1=\"255\" y2=\"255\"/><line style=\"stroke:#A80036;stroke-width:1.5;\" x1=\"8\" x2=\"80\" y1=\"263\" y2=\"263\"/><!--MD5=[64c42e6ae4169e9f0f4452d70e0a40c1]\nclass QLearner--><rect codeLine=\"10\" fill=\"#FEFECE\" filter=\"url(#fjzmgwa2rpygu)\" height=\"48\" id=\"QLearner\" style=\"stroke:#A80036;stroke-width:1.5;\" width=\"88\" x=\"116\" y=\"223\"/><ellipse cx=\"131\" cy=\"239\" fill=\"#ADD1B2\" rx=\"11\" ry=\"11\" style=\"stroke:#A80036;stroke-width:1.0;\"/><path d=\"M133.3438,234.6719 C132.4063,234.2344 131.8125,234.0938 130.9375,234.0938 C128.3125,234.0938 126.3125,236.1719 126.3125,238.8906 L126.3125,240.0156 C126.3125,242.5938 128.4219,244.4844 131.3125,244.4844 C132.5313,244.4844 133.6875,244.1875 134.4375,243.6406 C135.0156,243.2344 135.3438,242.7813 135.3438,242.3906 C135.3438,241.9375 134.9531,241.5469 134.4844,241.5469 C134.2656,241.5469 134.0625,241.625 133.875,241.8125 C133.4219,242.2969 133.4219,242.2969 133.2344,242.3906 C132.8125,242.6563 132.125,242.7813 131.3594,242.7813 C129.3125,242.7813 128.0156,241.6875 128.0156,239.9844 L128.0156,238.8906 C128.0156,237.1094 129.2656,235.7969 131,235.7969 C131.5781,235.7969 132.1875,235.9531 132.6563,236.2031 C133.1406,236.4844 133.3125,236.7031 133.4063,237.1094 C133.4688,237.5156 133.5,237.6406 133.6406,237.7656 C133.7813,237.9063 134.0156,238.0156 134.2344,238.0156 C134.5,238.0156 134.7656,237.875 134.9375,237.6563 C135.0469,237.5 135.0781,237.3125 135.0781,236.8906 L135.0781,235.4688 C135.0781,235.0313 135.0625,234.9063 134.9688,234.75 C134.8125,234.4844 134.5313,234.3438 134.2344,234.3438 C133.9375,234.3438 133.7344,234.4375 133.5156,234.75 L133.3438,234.6719 Z \" fill=\"#000000\"/><text fill=\"#000000\" font-family=\"sans-serif\" font-size=\"12\" lengthAdjust=\"spacing\" textLength=\"56\" x=\"145\" y=\"243.1543\">QLearner</text><line style=\"stroke:#A80036;stroke-width:1.5;\" x1=\"117\" x2=\"203\" y1=\"255\" y2=\"255\"/><line style=\"stroke:#A80036;stroke-width:1.5;\" x1=\"117\" x2=\"203\" y1=\"263\" y2=\"263\"/><!--MD5=[8c96fac10d826895bf22490cd543cae2]\nclass QTableLearner--><rect codeLine=\"13\" fill=\"#FEFECE\" filter=\"url(#fjzmgwa2rpygu)\" height=\"48\" id=\"QTableLearner\" style=\"stroke:#A80036;stroke-width:1.5;\" width=\"121\" x=\"25.5\" y=\"331\"/><ellipse cx=\"40.5\" cy=\"347\" fill=\"#ADD1B2\" rx=\"11\" ry=\"11\" style=\"stroke:#A80036;stroke-width:1.0;\"/><path d=\"M42.8438,342.6719 C41.9063,342.2344 41.3125,342.0938 40.4375,342.0938 C37.8125,342.0938 35.8125,344.1719 35.8125,346.8906 L35.8125,348.0156 C35.8125,350.5938 37.9219,352.4844 40.8125,352.4844 C42.0313,352.4844 43.1875,352.1875 43.9375,351.6406 C44.5156,351.2344 44.8438,350.7813 44.8438,350.3906 C44.8438,349.9375 44.4531,349.5469 43.9844,349.5469 C43.7656,349.5469 43.5625,349.625 43.375,349.8125 C42.9219,350.2969 42.9219,350.2969 42.7344,350.3906 C42.3125,350.6563 41.625,350.7813 40.8594,350.7813 C38.8125,350.7813 37.5156,349.6875 37.5156,347.9844 L37.5156,346.8906 C37.5156,345.1094 38.7656,343.7969 40.5,343.7969 C41.0781,343.7969 41.6875,343.9531 42.1563,344.2031 C42.6406,344.4844 42.8125,344.7031 42.9063,345.1094 C42.9688,345.5156 43,345.6406 43.1406,345.7656 C43.2813,345.9063 43.5156,346.0156 43.7344,346.0156 C44,346.0156 44.2656,345.875 44.4375,345.6563 C44.5469,345.5 44.5781,345.3125 44.5781,344.8906 L44.5781,343.4688 C44.5781,343.0313 44.5625,342.9063 44.4688,342.75 C44.3125,342.4844 44.0313,342.3438 43.7344,342.3438 C43.4375,342.3438 43.2344,342.4375 43.0156,342.75 L42.8438,342.6719 Z \" fill=\"#000000\"/><text fill=\"#000000\" font-family=\"sans-serif\" font-size=\"12\" lengthAdjust=\"spacing\" textLength=\"89\" x=\"54.5\" y=\"351.1543\">QTableLearner</text><line style=\"stroke:#A80036;stroke-width:1.5;\" x1=\"26.5\" x2=\"145.5\" y1=\"363\" y2=\"363\"/><line style=\"stroke:#A80036;stroke-width:1.5;\" x1=\"26.5\" x2=\"145.5\" y1=\"371\" y2=\"371\"/><!--MD5=[c81f31476d7eca7f6c85b4d1cec1c40f]\nclass QNNLearner--><rect codeLine=\"16\" fill=\"#FEFECE\" filter=\"url(#fjzmgwa2rpygu)\" height=\"48\" id=\"QNNLearner\" style=\"stroke:#A80036;stroke-width:1.5;\" width=\"104\" x=\"182\" y=\"331\"/><ellipse cx=\"197\" cy=\"347\" fill=\"#ADD1B2\" rx=\"11\" ry=\"11\" style=\"stroke:#A80036;stroke-width:1.0;\"/><path d=\"M199.3438,342.6719 C198.4063,342.2344 197.8125,342.0938 196.9375,342.0938 C194.3125,342.0938 192.3125,344.1719 192.3125,346.8906 L192.3125,348.0156 C192.3125,350.5938 194.4219,352.4844 197.3125,352.4844 C198.5313,352.4844 199.6875,352.1875 200.4375,351.6406 C201.0156,351.2344 201.3438,350.7813 201.3438,350.3906 C201.3438,349.9375 200.9531,349.5469 200.4844,349.5469 C200.2656,349.5469 200.0625,349.625 199.875,349.8125 C199.4219,350.2969 199.4219,350.2969 199.2344,350.3906 C198.8125,350.6563 198.125,350.7813 197.3594,350.7813 C195.3125,350.7813 194.0156,349.6875 194.0156,347.9844 L194.0156,346.8906 C194.0156,345.1094 195.2656,343.7969 197,343.7969 C197.5781,343.7969 198.1875,343.9531 198.6563,344.2031 C199.1406,344.4844 199.3125,344.7031 199.4063,345.1094 C199.4688,345.5156 199.5,345.6406 199.6406,345.7656 C199.7813,345.9063 200.0156,346.0156 200.2344,346.0156 C200.5,346.0156 200.7656,345.875 200.9375,345.6563 C201.0469,345.5 201.0781,345.3125 201.0781,344.8906 L201.0781,343.4688 C201.0781,343.0313 201.0625,342.9063 200.9688,342.75 C200.8125,342.4844 200.5313,342.3438 200.2344,342.3438 C199.9375,342.3438 199.7344,342.4375 199.5156,342.75 L199.3438,342.6719 Z \" fill=\"#000000\"/><text fill=\"#000000\" font-family=\"sans-serif\" font-size=\"12\" lengthAdjust=\"spacing\" textLength=\"72\" x=\"211\" y=\"351.1543\">QNNLearner</text><line style=\"stroke:#A80036;stroke-width:1.5;\" x1=\"183\" x2=\"285\" y1=\"363\" y2=\"363\"/><line style=\"stroke:#A80036;stroke-width:1.5;\" x1=\"183\" x2=\"285\" y1=\"371\" y2=\"371\"/><!--MD5=[8e7f4ded32aa3537ccda1b4bbde47d16]\nlink QPlayer to QPUtils--><path codeLine=\"19\" d=\"M89.4149,163 C80.5833,179.141 68.7232,200.816 59.3378,217.969 \" fill=\"none\" id=\"QPlayer-to-QPUtils\" style=\"stroke:#A80036;stroke-width:1.0;\"/><polygon fill=\"#A80036\" points=\"56.7609,222.678,64.59,216.7026,59.1609,218.2917,57.5719,212.8626,56.7609,222.678\" style=\"stroke:#A80036;stroke-width:1.0;\"/><!--MD5=[5a4429f42930c09b436367a93accde82]\nreverse link Player to QPlayer--><path codeLine=\"21\" d=\"M102,75.024 C102,88.579 102,103.038 102,114.678 \" fill=\"none\" id=\"Player-backto-QPlayer\" style=\"stroke:#A80036;stroke-width:1.0;\"/><polygon fill=\"none\" points=\"95.0001,75,102,55,109,75,95.0001,75\" style=\"stroke:#A80036;stroke-width:1.0;\"/><!--MD5=[47313a505a5156b69d292025b5d55cff]\nlink QPlayer to QLearner--><path codeLine=\"23\" d=\"M114.585,163 C124.247,180.658 137.534,204.941 147.239,222.678 \" fill=\"none\" id=\"QPlayer-QLearner\" style=\"stroke:#A80036;stroke-width:1.0;\"/><!--MD5=[4e7dd2e330949da78af70a41773bab39]\nreverse link QLearner to QTableLearner--><path codeLine=\"25\" d=\"M132.316,287.6557 C122.197,302.1498 111.085,318.0681 102.2811,330.6784 \" fill=\"none\" id=\"QLearner-backto-QTableLearner\" style=\"stroke:#A80036;stroke-width:1.0;\"/><polygon fill=\"none\" points=\"126.755,283.3926,143.943,271,138.234,291.4066,126.755,283.3926\" style=\"stroke:#A80036;stroke-width:1.0;\"/><!--MD5=[477b8d56e321c44326ab0b1ad413f674]\nreverse link QLearner to QNNLearner--><path codeLine=\"26\" d=\"M187.684,287.6557 C197.803,302.1498 208.915,318.0681 217.719,330.6784 \" fill=\"none\" id=\"QLearner-backto-QNNLearner\" style=\"stroke:#A80036;stroke-width:1.0;\"/><polygon fill=\"none\" points=\"181.766,291.4066,176.057,271,193.245,283.3926,181.766,291.4066\" style=\"stroke:#A80036;stroke-width:1.0;\"/><!--MD5=[fc5da900d733bc1268d6df5493d70d97]\n@startuml\nclass Player {\n}\n\nclass QPlayer {\n}\n\nclass QPUtils {\n}\n\nclass QLearner {\n}\n\nclass QTableLearner {\n}\n\nclass QNNLearner {\n}\n\nQPlayer - -> QPUtils\n\nPlayer <|- - QPlayer\n\nQPlayer - - QLearner\n\nQLearner <|- - QTableLearner\nQLearner <|- - QNNLearner\n@enduml\n\nPlantUML version 1.2021.17beta4(Unknown compile time)\n(GPL source distribution)\nJava Runtime: Java(TM) SE Runtime Environment\nJVM: Java HotSpot(TM) 64-Bit Server VM\nDefault Encoding: UTF-8\nLanguage: en\nCountry: US\n--></g></svg>"
     },
     "execution_count": 8,
     "metadata": {},
     "output_type": "execute_result"
    }
   ],
   "source": [
    "%%plantuml\n",
    "\n",
    "class Player {\n",
    "+make_move(self, board) -> int\n",
    "+give_result(self, result) -> None\n",
    "}\n",
    "\n",
    "class QPlayer {\n",
    "+q_learner\n",
    "-state_reduction\n",
    "-prev_state\n",
    "-state\n",
    "-prev_action\n",
    "-action\n",
    "-prev_reward\n",
    "-save_fields_to_cache(self, found_field, equivalent_fields) -> None\n",
    "-update_q_lerner -> None\n",
    "}\n",
    "\n",
    "class QPUtils {\n",
    "}\n",
    "\n",
    "class QLearner {\n",
    "}\n",
    "\n",
    "class QTableLearner {\n",
    "}\n",
    "\n",
    "class QNNLearner {\n",
    "}\n",
    "\n",
    "QPlayer --> QPUtils\n",
    "\n",
    "Player <|-- QPlayer\n",
    "\n",
    "QPlayer -- QLearner\n",
    "\n",
    "QLearner <|-- QTableLearner\n",
    "QLearner <|-- QNNLearner"
   ],
   "metadata": {
    "collapsed": false,
    "pycharm": {
     "name": "#%%\n"
    }
   }
  },
  {
   "cell_type": "code",
   "execution_count": null,
   "outputs": [],
   "source": [],
   "metadata": {
    "collapsed": false,
    "pycharm": {
     "name": "#%%\n"
    }
   }
  }
 ],
 "metadata": {
  "kernelspec": {
   "display_name": "Python 3",
   "language": "python",
   "name": "python3"
  },
  "language_info": {
   "codemirror_mode": {
    "name": "ipython",
    "version": 2
   },
   "file_extension": ".py",
   "mimetype": "text/x-python",
   "name": "python",
   "nbconvert_exporter": "python",
   "pygments_lexer": "ipython2",
   "version": "2.7.6"
  }
 },
 "nbformat": 4,
 "nbformat_minor": 0
}