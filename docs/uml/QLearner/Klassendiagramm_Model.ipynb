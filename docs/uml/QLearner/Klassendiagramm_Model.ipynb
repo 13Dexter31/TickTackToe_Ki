{
 "cells": [
  {
   "cell_type": "code",
   "execution_count": 1,
   "metadata": {
    "collapsed": true
   },
   "outputs": [],
   "source": [
    "import iplantuml"
   ]
  },
  {
   "cell_type": "code",
   "execution_count": 3,
   "outputs": [
    {
     "data": {
      "text/plain": "<IPython.core.display.SVG object>",
      "image/svg+xml": "<svg xmlns=\"http://www.w3.org/2000/svg\" xmlns:xlink=\"http://www.w3.org/1999/xlink\" contentScriptType=\"application/ecmascript\" contentStyleType=\"text/css\" height=\"605px\" preserveAspectRatio=\"none\" style=\"width:377px;height:605px;background:#FFFFFF;\" version=\"1.1\" viewBox=\"0 0 377 605\" width=\"377px\" zoomAndPan=\"magnify\"><defs><filter height=\"300%\" id=\"fgjji8dhjhb48\" width=\"300%\" x=\"-1\" y=\"-1\"><feGaussianBlur result=\"blurOut\" stdDeviation=\"2.0\"/><feColorMatrix in=\"blurOut\" result=\"blurOut2\" type=\"matrix\" values=\"0 0 0 0 0 0 0 0 0 0 0 0 0 0 0 0 0 0 .4 0\"/><feOffset dx=\"4.0\" dy=\"4.0\" in=\"blurOut2\" result=\"blurOut3\"/><feBlend in=\"SourceGraphic\" in2=\"blurOut3\" mode=\"normal\"/></filter></defs><g><!--MD5=[c81f31476d7eca7f6c85b4d1cec1c40f]\nclass QNNLearner--><rect codeLine=\"1\" fill=\"#FEFECE\" filter=\"url(#fgjji8dhjhb48)\" height=\"137.6328\" id=\"QNNLearner\" style=\"stroke:#A80036;stroke-width:1.5;\" width=\"356\" x=\"7\" y=\"7\"/><ellipse cx=\"144.75\" cy=\"23\" fill=\"#ADD1B2\" rx=\"11\" ry=\"11\" style=\"stroke:#A80036;stroke-width:1.0;\"/><path d=\"M147.0938,18.6719 C146.1563,18.2344 145.5625,18.0938 144.6875,18.0938 C142.0625,18.0938 140.0625,20.1719 140.0625,22.8906 L140.0625,24.0156 C140.0625,26.5938 142.1719,28.4844 145.0625,28.4844 C146.2813,28.4844 147.4375,28.1875 148.1875,27.6406 C148.7656,27.2344 149.0938,26.7813 149.0938,26.3906 C149.0938,25.9375 148.7031,25.5469 148.2344,25.5469 C148.0156,25.5469 147.8125,25.625 147.625,25.8125 C147.1719,26.2969 147.1719,26.2969 146.9844,26.3906 C146.5625,26.6563 145.875,26.7813 145.1094,26.7813 C143.0625,26.7813 141.7656,25.6875 141.7656,23.9844 L141.7656,22.8906 C141.7656,21.1094 143.0156,19.7969 144.75,19.7969 C145.3281,19.7969 145.9375,19.9531 146.4063,20.2031 C146.8906,20.4844 147.0625,20.7031 147.1563,21.1094 C147.2188,21.5156 147.25,21.6406 147.3906,21.7656 C147.5313,21.9063 147.7656,22.0156 147.9844,22.0156 C148.25,22.0156 148.5156,21.875 148.6875,21.6563 C148.7969,21.5 148.8281,21.3125 148.8281,20.8906 L148.8281,19.4688 C148.8281,19.0313 148.8125,18.9063 148.7188,18.75 C148.5625,18.4844 148.2813,18.3438 147.9844,18.3438 C147.6875,18.3438 147.4844,18.4375 147.2656,18.75 L147.0938,18.6719 Z \" fill=\"#000000\"/><text fill=\"#000000\" font-family=\"sans-serif\" font-size=\"12\" lengthAdjust=\"spacing\" textLength=\"72\" x=\"165.25\" y=\"27.1543\">QNNLearner</text><line style=\"stroke:#A80036;stroke-width:1.5;\" x1=\"8\" x2=\"362\" y1=\"39\" y2=\"39\"/><rect fill=\"none\" height=\"6\" style=\"stroke:#C82930;stroke-width:1.0;\" width=\"6\" x=\"15\" y=\"47\"/><text fill=\"#000000\" font-family=\"sans-serif\" font-size=\"11\" lengthAdjust=\"spacing\" textLength=\"87\" x=\"27\" y=\"53.2104\">float learn_rate</text><rect fill=\"none\" height=\"6\" style=\"stroke:#C82930;stroke-width:1.0;\" width=\"6\" x=\"15\" y=\"59.8047\"/><text fill=\"#000000\" font-family=\"sans-serif\" font-size=\"11\" lengthAdjust=\"spacing\" textLength=\"114\" x=\"27\" y=\"66.0151\">float discount_factor</text><rect fill=\"none\" height=\"6\" style=\"stroke:#C82930;stroke-width:1.0;\" width=\"6\" x=\"15\" y=\"72.6094\"/><text fill=\"#000000\" font-family=\"sans-serif\" font-size=\"11\" lengthAdjust=\"spacing\" textLength=\"95\" x=\"27\" y=\"78.8198\">ndarray memory</text><rect fill=\"none\" height=\"6\" style=\"stroke:#C82930;stroke-width:1.0;\" width=\"6\" x=\"15\" y=\"85.4141\"/><text fill=\"#000000\" font-family=\"sans-serif\" font-size=\"11\" lengthAdjust=\"spacing\" textLength=\"103\" x=\"27\" y=\"91.6245\">int count_memory</text><rect fill=\"none\" height=\"6\" style=\"stroke:#C82930;stroke-width:1.0;\" width=\"6\" x=\"15\" y=\"98.2188\"/><text fill=\"#000000\" font-family=\"sans-serif\" font-size=\"11\" lengthAdjust=\"spacing\" textLength=\"79\" x=\"27\" y=\"104.4292\">int batch_size</text><line style=\"stroke:#A80036;stroke-width:1.5;\" x1=\"8\" x2=\"362\" y1=\"111.0234\" y2=\"111.0234\"/><rect fill=\"#F24D5C\" height=\"6\" style=\"stroke:#C82930;stroke-width:1.0;\" width=\"6\" x=\"15\" y=\"119.0234\"/><text fill=\"#000000\" font-family=\"sans-serif\" font-size=\"11\" lengthAdjust=\"spacing\" textLength=\"330\" x=\"27\" y=\"125.2339\">__load_to_memory(prev_state, prev_move, state, reward)</text><rect fill=\"#F24D5C\" height=\"6\" style=\"stroke:#C82930;stroke-width:1.0;\" width=\"6\" x=\"15\" y=\"131.8281\"/><text fill=\"#000000\" font-family=\"sans-serif\" font-size=\"11\" lengthAdjust=\"spacing\" textLength=\"177\" x=\"27\" y=\"138.0386\">__choose_optimal_move(state)</text><!--MD5=[7e20e022571e30ec1001cf6eabd7f3e2]\nclass Model--><rect codeLine=\"11\" fill=\"#FEFECE\" filter=\"url(#fgjji8dhjhb48)\" height=\"265.6797\" id=\"Model\" style=\"stroke:#A80036;stroke-width:1.5;\" width=\"323\" x=\"23.5\" y=\"205\"/><ellipse cx=\"162.25\" cy=\"221\" fill=\"#ADD1B2\" rx=\"11\" ry=\"11\" style=\"stroke:#A80036;stroke-width:1.0;\"/><path d=\"M164.5938,216.6719 C163.6563,216.2344 163.0625,216.0938 162.1875,216.0938 C159.5625,216.0938 157.5625,218.1719 157.5625,220.8906 L157.5625,222.0156 C157.5625,224.5938 159.6719,226.4844 162.5625,226.4844 C163.7813,226.4844 164.9375,226.1875 165.6875,225.6406 C166.2656,225.2344 166.5938,224.7813 166.5938,224.3906 C166.5938,223.9375 166.2031,223.5469 165.7344,223.5469 C165.5156,223.5469 165.3125,223.625 165.125,223.8125 C164.6719,224.2969 164.6719,224.2969 164.4844,224.3906 C164.0625,224.6563 163.375,224.7813 162.6094,224.7813 C160.5625,224.7813 159.2656,223.6875 159.2656,221.9844 L159.2656,220.8906 C159.2656,219.1094 160.5156,217.7969 162.25,217.7969 C162.8281,217.7969 163.4375,217.9531 163.9063,218.2031 C164.3906,218.4844 164.5625,218.7031 164.6563,219.1094 C164.7188,219.5156 164.75,219.6406 164.8906,219.7656 C165.0313,219.9063 165.2656,220.0156 165.4844,220.0156 C165.75,220.0156 166.0156,219.875 166.1875,219.6563 C166.2969,219.5 166.3281,219.3125 166.3281,218.8906 L166.3281,217.4688 C166.3281,217.0313 166.3125,216.9063 166.2188,216.75 C166.0625,216.4844 165.7813,216.3438 165.4844,216.3438 C165.1875,216.3438 164.9844,216.4375 164.7656,216.75 L164.5938,216.6719 Z \" fill=\"#000000\"/><text fill=\"#000000\" font-family=\"sans-serif\" font-size=\"12\" lengthAdjust=\"spacing\" textLength=\"37\" x=\"182.75\" y=\"225.1543\">Model</text><line style=\"stroke:#A80036;stroke-width:1.5;\" x1=\"24.5\" x2=\"345.5\" y1=\"237\" y2=\"237\"/><rect fill=\"none\" height=\"6\" style=\"stroke:#C82930;stroke-width:1.0;\" width=\"6\" x=\"31.5\" y=\"245\"/><text fill=\"#000000\" font-family=\"sans-serif\" font-size=\"11\" lengthAdjust=\"spacing\" textLength=\"18\" x=\"43.5\" y=\"251.2104\">tag</text><rect fill=\"none\" height=\"6\" style=\"stroke:#C82930;stroke-width:1.0;\" width=\"6\" x=\"31.5\" y=\"257.8047\"/><text fill=\"#000000\" font-family=\"sans-serif\" font-size=\"11\" lengthAdjust=\"spacing\" textLength=\"70\" x=\"43.5\" y=\"264.0151\">float epsilon</text><rect fill=\"none\" height=\"6\" style=\"stroke:#C82930;stroke-width:1.0;\" width=\"6\" x=\"31.5\" y=\"270.6094\"/><text fill=\"#000000\" font-family=\"sans-serif\" font-size=\"11\" lengthAdjust=\"spacing\" textLength=\"60\" x=\"43.5\" y=\"276.8198\">float alpha</text><rect fill=\"none\" height=\"6\" style=\"stroke:#C82930;stroke-width:1.0;\" width=\"6\" x=\"31.5\" y=\"283.4141\"/><text fill=\"#000000\" font-family=\"sans-serif\" font-size=\"11\" lengthAdjust=\"spacing\" textLength=\"61\" x=\"43.5\" y=\"289.6245\">int gamma</text><rect fill=\"none\" height=\"6\" style=\"stroke:#C82930;stroke-width:1.0;\" width=\"6\" x=\"31.5\" y=\"296.2188\"/><text fill=\"#000000\" font-family=\"sans-serif\" font-size=\"11\" lengthAdjust=\"spacing\" textLength=\"60\" x=\"43.5\" y=\"302.4292\">float alpha</text><rect fill=\"none\" height=\"6\" style=\"stroke:#C82930;stroke-width:1.0;\" width=\"6\" x=\"31.5\" y=\"309.0234\"/><text fill=\"#000000\" font-family=\"sans-serif\" font-size=\"11\" lengthAdjust=\"spacing\" textLength=\"60\" x=\"43.5\" y=\"315.2339\">float alpha</text><line style=\"stroke:#A80036;stroke-width:1.5;\" x1=\"24.5\" x2=\"345.5\" y1=\"321.8281\" y2=\"321.8281\"/><ellipse cx=\"34.5\" cy=\"332.8281\" fill=\"#84BE84\" rx=\"3\" ry=\"3\" style=\"stroke:#038048;stroke-width:1.0;\"/><text fill=\"#000000\" font-family=\"sans-serif\" font-size=\"11\" lengthAdjust=\"spacing\" textLength=\"74\" x=\"43.5\" y=\"336.0386\">load_model()</text><ellipse cx=\"34.5\" cy=\"345.6328\" fill=\"#84BE84\" rx=\"3\" ry=\"3\" style=\"stroke:#038048;stroke-width:1.0;\"/><text fill=\"#000000\" font-family=\"sans-serif\" font-size=\"11\" lengthAdjust=\"spacing\" textLength=\"87\" x=\"43.5\" y=\"348.8433\">create_model()</text><ellipse cx=\"34.5\" cy=\"358.4375\" fill=\"#84BE84\" rx=\"3\" ry=\"3\" style=\"stroke:#038048;stroke-width:1.0;\"/><text fill=\"#000000\" font-family=\"sans-serif\" font-size=\"11\" lengthAdjust=\"spacing\" textLength=\"165\" x=\"43.5\" y=\"361.6479\">state_to_tensor(state, move)</text><ellipse cx=\"34.5\" cy=\"371.2422\" fill=\"#84BE84\" rx=\"3\" ry=\"3\" style=\"stroke:#038048;stroke-width:1.0;\"/><text fill=\"#000000\" font-family=\"sans-serif\" font-size=\"11\" lengthAdjust=\"spacing\" textLength=\"137\" x=\"43.5\" y=\"374.4526\">calc_value(state, move)</text><ellipse cx=\"34.5\" cy=\"384.0469\" fill=\"#84BE84\" rx=\"3\" ry=\"3\" style=\"stroke:#038048;stroke-width:1.0;\"/><text fill=\"#000000\" font-family=\"sans-serif\" font-size=\"11\" lengthAdjust=\"spacing\" textLength=\"285\" x=\"43.5\" y=\"387.2573\">calc_target(prev_state, prev_move, state, reward)</text><ellipse cx=\"34.5\" cy=\"396.8516\" fill=\"#84BE84\" rx=\"3\" ry=\"3\" style=\"stroke:#038048;stroke-width:1.0;\"/><text fill=\"#000000\" font-family=\"sans-serif\" font-size=\"11\" lengthAdjust=\"spacing\" textLength=\"297\" x=\"43.5\" y=\"400.062\">train_model(prev_state, prev_move, target, epochs)</text><ellipse cx=\"34.5\" cy=\"409.6563\" fill=\"#84BE84\" rx=\"3\" ry=\"3\" style=\"stroke:#038048;stroke-width:1.0;\"/><text fill=\"#000000\" font-family=\"sans-serif\" font-size=\"11\" lengthAdjust=\"spacing\" textLength=\"78\" x=\"43.5\" y=\"412.8667\">save_model()</text><ellipse cx=\"34.5\" cy=\"422.4609\" fill=\"#84BE84\" rx=\"3\" ry=\"3\" style=\"stroke:#038048;stroke-width:1.0;\"/><text fill=\"#000000\" font-family=\"sans-serif\" font-size=\"11\" lengthAdjust=\"spacing\" textLength=\"75\" x=\"43.5\" y=\"425.6714\">train_model()</text><ellipse cx=\"34.5\" cy=\"435.2656\" fill=\"#84BE84\" rx=\"3\" ry=\"3\" style=\"stroke:#038048;stroke-width:1.0;\"/><text fill=\"#000000\" font-family=\"sans-serif\" font-size=\"11\" lengthAdjust=\"spacing\" textLength=\"78\" x=\"43.5\" y=\"438.4761\">save_model()</text><ellipse cx=\"34.5\" cy=\"448.0703\" fill=\"#84BE84\" rx=\"3\" ry=\"3\" style=\"stroke:#038048;stroke-width:1.0;\"/><text fill=\"#000000\" font-family=\"sans-serif\" font-size=\"11\" lengthAdjust=\"spacing\" textLength=\"122\" x=\"43.5\" y=\"451.2808\">learn_batch(memory)</text><ellipse cx=\"34.5\" cy=\"460.875\" fill=\"#84BE84\" rx=\"3\" ry=\"3\" style=\"stroke:#038048;stroke-width:1.0;\"/><text fill=\"#000000\" font-family=\"sans-serif\" font-size=\"11\" lengthAdjust=\"spacing\" textLength=\"139\" x=\"43.5\" y=\"464.0854\">create_targets(memory)</text><!--MD5=[6d6065b3605c26e405655397f60d4bb0]\nclass TicTacToeModel--><rect codeLine=\"31\" fill=\"#FEFECE\" filter=\"url(#fgjji8dhjhb48)\" height=\"60.8047\" id=\"TicTacToeModel\" style=\"stroke:#A80036;stroke-width:1.5;\" width=\"205\" x=\"82.5\" y=\"531\"/><ellipse cx=\"131.75\" cy=\"547\" fill=\"#ADD1B2\" rx=\"11\" ry=\"11\" style=\"stroke:#A80036;stroke-width:1.0;\"/><path d=\"M134.0938,542.6719 C133.1563,542.2344 132.5625,542.0938 131.6875,542.0938 C129.0625,542.0938 127.0625,544.1719 127.0625,546.8906 L127.0625,548.0156 C127.0625,550.5938 129.1719,552.4844 132.0625,552.4844 C133.2813,552.4844 134.4375,552.1875 135.1875,551.6406 C135.7656,551.2344 136.0938,550.7813 136.0938,550.3906 C136.0938,549.9375 135.7031,549.5469 135.2344,549.5469 C135.0156,549.5469 134.8125,549.625 134.625,549.8125 C134.1719,550.2969 134.1719,550.2969 133.9844,550.3906 C133.5625,550.6563 132.875,550.7813 132.1094,550.7813 C130.0625,550.7813 128.7656,549.6875 128.7656,547.9844 L128.7656,546.8906 C128.7656,545.1094 130.0156,543.7969 131.75,543.7969 C132.3281,543.7969 132.9375,543.9531 133.4063,544.2031 C133.8906,544.4844 134.0625,544.7031 134.1563,545.1094 C134.2188,545.5156 134.25,545.6406 134.3906,545.7656 C134.5313,545.9063 134.7656,546.0156 134.9844,546.0156 C135.25,546.0156 135.5156,545.875 135.6875,545.6563 C135.7969,545.5 135.8281,545.3125 135.8281,544.8906 L135.8281,543.4688 C135.8281,543.0313 135.8125,542.9063 135.7188,542.75 C135.5625,542.4844 135.2813,542.3438 134.9844,542.3438 C134.6875,542.3438 134.4844,542.4375 134.2656,542.75 L134.0938,542.6719 Z \" fill=\"#000000\"/><text fill=\"#000000\" font-family=\"sans-serif\" font-size=\"12\" lengthAdjust=\"spacing\" textLength=\"98\" x=\"152.25\" y=\"551.1543\">TicTacToeModel</text><line style=\"stroke:#A80036;stroke-width:1.5;\" x1=\"83.5\" x2=\"286.5\" y1=\"563\" y2=\"563\"/><line style=\"stroke:#A80036;stroke-width:1.5;\" x1=\"83.5\" x2=\"286.5\" y1=\"571\" y2=\"571\"/><rect fill=\"#F24D5C\" height=\"6\" style=\"stroke:#C82930;stroke-width:1.0;\" width=\"6\" x=\"90.5\" y=\"579\"/><text fill=\"#000000\" font-family=\"sans-serif\" font-size=\"11\" lengthAdjust=\"spacing\" textLength=\"179\" x=\"102.5\" y=\"585.2104\">__one_hot_encode_state(state)</text><!--MD5=[c7ce7f337b1d20ea75bfa89f5f8d0e23]\nlink QNNLearner to Model--><path codeLine=\"35\" d=\"M185,145.312 C185,163.743 185,184.327 185,204.98 \" fill=\"none\" id=\"QNNLearner-Model\" style=\"stroke:#A80036;stroke-width:1.0;\"/><!--MD5=[e2e9842f61b7a174dc4a2e64e8ac21ed]\nlink Model to TicTacToeModel--><path codeLine=\"36\" d=\"M185,471.046 C185,485.059 185,498.599 185,510.7229 \" fill=\"none\" id=\"Model-to-TicTacToeModel\" style=\"stroke:#A80036;stroke-width:1.0;\"/><polygon fill=\"none\" points=\"192,510.8126,185,530.8125,178,510.8125,192,510.8126\" style=\"stroke:#A80036;stroke-width:1.0;\"/><!--MD5=[26401d7c931a3e61b4fd4a8f283b4abd]\n@startuml\nclass QNNLearner {\n-float learn_rate\n-float discount_factor\n-ndarray memory\n-int count_memory\n-int batch_size\n-__load_to_memory(prev_state, prev_move, state, reward)\n-__choose_optimal_move(state)\n}\n\nclass Model {\n-tag\n-float epsilon\n-float alpha\n-int gamma\n-float alpha\n-float alpha\n+load_model()\n+create_model()\n+state_to_tensor(state, move)\n+calc_value(state, move)\n+calc_target(prev_state, prev_move, state, reward)\n+train_model(prev_state, prev_move, target, epochs)\n+save_model()\n+train_model()\n+save_model()\n+learn_batch(memory)\n+create_targets(memory)\n}\n\nclass TicTacToeModel {\n-__one_hot_encode_state(state)\n}\n\nQNNLearner - - Model\nModel - -|> TicTacToeModel\n@enduml\n\nPlantUML version 1.2021.17beta4(Unknown compile time)\n(GPL source distribution)\nJava Runtime: Java(TM) SE Runtime Environment\nJVM: Java HotSpot(TM) 64-Bit Server VM\nDefault Encoding: UTF-8\nLanguage: en\nCountry: US\n--></g></svg>"
     },
     "execution_count": 3,
     "metadata": {},
     "output_type": "execute_result"
    }
   ],
   "source": [
    "%%plantuml\n",
    "\n",
    "class QNNLearner {\n",
    "-float learn_rate\n",
    "-float discount_factor\n",
    "-ndarray memory\n",
    "-int count_memory\n",
    "-int batch_size\n",
    "-__load_to_memory(prev_state, prev_move, state, reward)\n",
    "-__choose_optimal_move(state)\n",
    "}\n",
    "\n",
    "class Model {\n",
    "-tag\n",
    "-float epsilon\n",
    "-float alpha\n",
    "-int gamma\n",
    "-float alpha\n",
    "-float alpha\n",
    "+load_model()\n",
    "+create_model()\n",
    "+state_to_tensor(state, move)\n",
    "+calc_value(state, move)\n",
    "+calc_target(prev_state, prev_move, state, reward)\n",
    "+train_model(prev_state, prev_move, target, epochs)\n",
    "+save_model()\n",
    "+train_model()\n",
    "+save_model()\n",
    "+learn_batch(memory)\n",
    "+create_targets(memory)\n",
    "}\n",
    "\n",
    "class TicTacToeModel {\n",
    "-__one_hot_encode_state(state)\n",
    "}\n",
    "\n",
    "QNNLearner -- Model\n",
    "Model --|> TicTacToeModel"
   ],
   "metadata": {
    "collapsed": false,
    "pycharm": {
     "name": "#%%\n"
    }
   }
  }
 ],
 "metadata": {
  "kernelspec": {
   "display_name": "Python 3",
   "language": "python",
   "name": "python3"
  },
  "language_info": {
   "codemirror_mode": {
    "name": "ipython",
    "version": 2
   },
   "file_extension": ".py",
   "mimetype": "text/x-python",
   "name": "python",
   "nbconvert_exporter": "python",
   "pygments_lexer": "ipython2",
   "version": "2.7.6"
  }
 },
 "nbformat": 4,
 "nbformat_minor": 0
}