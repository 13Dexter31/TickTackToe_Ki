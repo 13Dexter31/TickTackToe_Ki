{
 "cells": [
  {
   "cell_type": "code",
   "execution_count": 6,
   "metadata": {},
   "outputs": [],
   "source": [
    "import iplantuml"
   ]
  },
  {
   "cell_type": "code",
   "execution_count": 11,
   "metadata": {
    "pycharm": {
     "name": "#%%\n"
    }
   },
   "outputs": [
    {
     "data": {
      "image/svg+xml": [
       "<svg xmlns=\"http://www.w3.org/2000/svg\" xmlns:xlink=\"http://www.w3.org/1999/xlink\" contentScriptType=\"application/ecmascript\" contentStyleType=\"text/css\" height=\"802px\" preserveAspectRatio=\"none\" style=\"width:377px;height:802px;background:#FFFFFF;\" version=\"1.1\" viewBox=\"0 0 377 802\" width=\"377px\" zoomAndPan=\"magnify\"><defs><filter height=\"300%\" id=\"f1gd60d0atoja3\" width=\"300%\" x=\"-1\" y=\"-1\"><feGaussianBlur result=\"blurOut\" stdDeviation=\"2.0\"/><feColorMatrix in=\"blurOut\" result=\"blurOut2\" type=\"matrix\" values=\"0 0 0 0 0 0 0 0 0 0 0 0 0 0 0 0 0 0 .4 0\"/><feOffset dx=\"4.0\" dy=\"4.0\" in=\"blurOut2\" result=\"blurOut3\"/><feBlend in=\"SourceGraphic\" in2=\"blurOut3\" mode=\"normal\"/></filter></defs><g><!--MD5=[c81f31476d7eca7f6c85b4d1cec1c40f]\n",
       "class QNNLearner--><rect codeLine=\"1\" fill=\"#FEFECE\" filter=\"url(#f1gd60d0atoja3)\" height=\"137.6328\" id=\"QNNLearner\" style=\"stroke:#A80036;stroke-width:1.5;\" width=\"289\" x=\"40.5\" y=\"7\"/><ellipse cx=\"144.75\" cy=\"23\" fill=\"#ADD1B2\" rx=\"11\" ry=\"11\" style=\"stroke:#A80036;stroke-width:1.0;\"/><path d=\"M147.0938,18.6719 C146.1563,18.2344 145.5625,18.0938 144.6875,18.0938 C142.0625,18.0938 140.0625,20.1719 140.0625,22.8906 L140.0625,24.0156 C140.0625,26.5938 142.1719,28.4844 145.0625,28.4844 C146.2813,28.4844 147.4375,28.1875 148.1875,27.6406 C148.7656,27.2344 149.0938,26.7813 149.0938,26.3906 C149.0938,25.9375 148.7031,25.5469 148.2344,25.5469 C148.0156,25.5469 147.8125,25.625 147.625,25.8125 C147.1719,26.2969 147.1719,26.2969 146.9844,26.3906 C146.5625,26.6563 145.875,26.7813 145.1094,26.7813 C143.0625,26.7813 141.7656,25.6875 141.7656,23.9844 L141.7656,22.8906 C141.7656,21.1094 143.0156,19.7969 144.75,19.7969 C145.3281,19.7969 145.9375,19.9531 146.4063,20.2031 C146.8906,20.4844 147.0625,20.7031 147.1563,21.1094 C147.2188,21.5156 147.25,21.6406 147.3906,21.7656 C147.5313,21.9063 147.7656,22.0156 147.9844,22.0156 C148.25,22.0156 148.5156,21.875 148.6875,21.6563 C148.7969,21.5 148.8281,21.3125 148.8281,20.8906 L148.8281,19.4688 C148.8281,19.0313 148.8125,18.9063 148.7188,18.75 C148.5625,18.4844 148.2813,18.3438 147.9844,18.3438 C147.6875,18.3438 147.4844,18.4375 147.2656,18.75 L147.0938,18.6719 Z \" fill=\"#000000\"/><text fill=\"#000000\" font-family=\"sans-serif\" font-size=\"12\" lengthAdjust=\"spacing\" textLength=\"72\" x=\"165.25\" y=\"27.1543\">QNNLearner</text><line style=\"stroke:#A80036;stroke-width:1.5;\" x1=\"41.5\" x2=\"328.5\" y1=\"39\" y2=\"39\"/><rect fill=\"none\" height=\"6\" style=\"stroke:#C82930;stroke-width:1.0;\" width=\"6\" x=\"48.5\" y=\"47\"/><text fill=\"#000000\" font-family=\"sans-serif\" font-size=\"11\" lengthAdjust=\"spacing\" textLength=\"87\" x=\"60.5\" y=\"53.2104\">float learn_rate</text><rect fill=\"none\" height=\"6\" style=\"stroke:#C82930;stroke-width:1.0;\" width=\"6\" x=\"48.5\" y=\"59.8047\"/><text fill=\"#000000\" font-family=\"sans-serif\" font-size=\"11\" lengthAdjust=\"spacing\" textLength=\"114\" x=\"60.5\" y=\"66.0151\">float discount_factor</text><rect fill=\"none\" height=\"6\" style=\"stroke:#C82930;stroke-width:1.0;\" width=\"6\" x=\"48.5\" y=\"72.6094\"/><text fill=\"#000000\" font-family=\"sans-serif\" font-size=\"11\" lengthAdjust=\"spacing\" textLength=\"95\" x=\"60.5\" y=\"78.8198\">ndarray memory</text><rect fill=\"none\" height=\"6\" style=\"stroke:#C82930;stroke-width:1.0;\" width=\"6\" x=\"48.5\" y=\"85.4141\"/><text fill=\"#000000\" font-family=\"sans-serif\" font-size=\"11\" lengthAdjust=\"spacing\" textLength=\"103\" x=\"60.5\" y=\"91.6245\">int count_memory</text><rect fill=\"none\" height=\"6\" style=\"stroke:#C82930;stroke-width:1.0;\" width=\"6\" x=\"48.5\" y=\"98.2188\"/><text fill=\"#000000\" font-family=\"sans-serif\" font-size=\"11\" lengthAdjust=\"spacing\" textLength=\"79\" x=\"60.5\" y=\"104.4292\">int batch_size</text><line style=\"stroke:#A80036;stroke-width:1.5;\" x1=\"41.5\" x2=\"328.5\" y1=\"111.0234\" y2=\"111.0234\"/><ellipse cx=\"51.5\" cy=\"122.0234\" fill=\"#84BE84\" rx=\"3\" ry=\"3\" style=\"stroke:#038048;stroke-width:1.0;\"/><text fill=\"#000000\" font-family=\"sans-serif\" font-size=\"11\" lengthAdjust=\"spacing\" textLength=\"263\" x=\"60.5\" y=\"125.2339\">update(prev_state, state, prev_move, reward)</text><ellipse cx=\"51.5\" cy=\"134.8281\" fill=\"#84BE84\" rx=\"3\" ry=\"3\" style=\"stroke:#038048;stroke-width:1.0;\"/><text fill=\"#000000\" font-family=\"sans-serif\" font-size=\"11\" lengthAdjust=\"spacing\" textLength=\"111\" x=\"60.5\" y=\"138.0386\">select_move(state)</text><!--MD5=[7e20e022571e30ec1001cf6eabd7f3e2]\n",
       "class Model--><rect codeLine=\"11\" fill=\"#FEFECE\" filter=\"url(#f1gd60d0atoja3)\" height=\"316.8984\" id=\"Model\" style=\"stroke:#A80036;stroke-width:1.5;\" width=\"356\" x=\"7\" y=\"205\"/><ellipse cx=\"162.25\" cy=\"221\" fill=\"#ADD1B2\" rx=\"11\" ry=\"11\" style=\"stroke:#A80036;stroke-width:1.0;\"/><path d=\"M164.5938,216.6719 C163.6563,216.2344 163.0625,216.0938 162.1875,216.0938 C159.5625,216.0938 157.5625,218.1719 157.5625,220.8906 L157.5625,222.0156 C157.5625,224.5938 159.6719,226.4844 162.5625,226.4844 C163.7813,226.4844 164.9375,226.1875 165.6875,225.6406 C166.2656,225.2344 166.5938,224.7813 166.5938,224.3906 C166.5938,223.9375 166.2031,223.5469 165.7344,223.5469 C165.5156,223.5469 165.3125,223.625 165.125,223.8125 C164.6719,224.2969 164.6719,224.2969 164.4844,224.3906 C164.0625,224.6563 163.375,224.7813 162.6094,224.7813 C160.5625,224.7813 159.2656,223.6875 159.2656,221.9844 L159.2656,220.8906 C159.2656,219.1094 160.5156,217.7969 162.25,217.7969 C162.8281,217.7969 163.4375,217.9531 163.9063,218.2031 C164.3906,218.4844 164.5625,218.7031 164.6563,219.1094 C164.7188,219.5156 164.75,219.6406 164.8906,219.7656 C165.0313,219.9063 165.2656,220.0156 165.4844,220.0156 C165.75,220.0156 166.0156,219.875 166.1875,219.6563 C166.2969,219.5 166.3281,219.3125 166.3281,218.8906 L166.3281,217.4688 C166.3281,217.0313 166.3125,216.9063 166.2188,216.75 C166.0625,216.4844 165.7813,216.3438 165.4844,216.3438 C165.1875,216.3438 164.9844,216.4375 164.7656,216.75 L164.5938,216.6719 Z \" fill=\"#000000\"/><text fill=\"#000000\" font-family=\"sans-serif\" font-size=\"12\" lengthAdjust=\"spacing\" textLength=\"37\" x=\"182.75\" y=\"225.1543\">Model</text><line style=\"stroke:#A80036;stroke-width:1.5;\" x1=\"8\" x2=\"362\" y1=\"237\" y2=\"237\"/><rect fill=\"none\" height=\"6\" style=\"stroke:#C82930;stroke-width:1.0;\" width=\"6\" x=\"15\" y=\"245\"/><text fill=\"#000000\" font-family=\"sans-serif\" font-size=\"11\" lengthAdjust=\"spacing\" textLength=\"18\" x=\"27\" y=\"251.2104\">tag</text><rect fill=\"none\" height=\"6\" style=\"stroke:#C82930;stroke-width:1.0;\" width=\"6\" x=\"15\" y=\"257.8047\"/><text fill=\"#000000\" font-family=\"sans-serif\" font-size=\"11\" lengthAdjust=\"spacing\" textLength=\"70\" x=\"27\" y=\"264.0151\">float epsilon</text><rect fill=\"none\" height=\"6\" style=\"stroke:#C82930;stroke-width:1.0;\" width=\"6\" x=\"15\" y=\"270.6094\"/><text fill=\"#000000\" font-family=\"sans-serif\" font-size=\"11\" lengthAdjust=\"spacing\" textLength=\"60\" x=\"27\" y=\"276.8198\">float alpha</text><rect fill=\"none\" height=\"6\" style=\"stroke:#C82930;stroke-width:1.0;\" width=\"6\" x=\"15\" y=\"283.4141\"/><text fill=\"#000000\" font-family=\"sans-serif\" font-size=\"11\" lengthAdjust=\"spacing\" textLength=\"61\" x=\"27\" y=\"289.6245\">int gamma</text><rect fill=\"none\" height=\"6\" style=\"stroke:#C82930;stroke-width:1.0;\" width=\"6\" x=\"15\" y=\"296.2188\"/><text fill=\"#000000\" font-family=\"sans-serif\" font-size=\"11\" lengthAdjust=\"spacing\" textLength=\"60\" x=\"27\" y=\"302.4292\">float alpha</text><rect fill=\"none\" height=\"6\" style=\"stroke:#C82930;stroke-width:1.0;\" width=\"6\" x=\"15\" y=\"309.0234\"/><text fill=\"#000000\" font-family=\"sans-serif\" font-size=\"11\" lengthAdjust=\"spacing\" textLength=\"79\" x=\"27\" y=\"315.2339\">int batch_size</text><rect fill=\"none\" height=\"6\" style=\"stroke:#C82930;stroke-width:1.0;\" width=\"6\" x=\"15\" y=\"321.8281\"/><text fill=\"#000000\" font-family=\"sans-serif\" font-size=\"11\" lengthAdjust=\"spacing\" textLength=\"73\" x=\"27\" y=\"328.0386\">keras_model</text><rect fill=\"none\" height=\"6\" style=\"stroke:#C82930;stroke-width:1.0;\" width=\"6\" x=\"15\" y=\"334.6328\"/><text fill=\"#000000\" font-family=\"sans-serif\" font-size=\"11\" lengthAdjust=\"spacing\" textLength=\"58\" x=\"27\" y=\"340.8433\">list history</text><line style=\"stroke:#A80036;stroke-width:1.5;\" x1=\"8\" x2=\"362\" y1=\"347.4375\" y2=\"347.4375\"/><rect fill=\"#F24D5C\" height=\"6\" style=\"stroke:#C82930;stroke-width:1.0;\" width=\"6\" x=\"15\" y=\"355.4375\"/><text fill=\"#000000\" font-family=\"sans-serif\" font-size=\"11\" lengthAdjust=\"spacing\" textLength=\"330\" x=\"27\" y=\"361.6479\">__load_to_memory(prev_state, prev_move, state, reward)</text><rect fill=\"#F24D5C\" height=\"6\" style=\"stroke:#C82930;stroke-width:1.0;\" width=\"6\" x=\"15\" y=\"368.2422\"/><text fill=\"#000000\" font-family=\"sans-serif\" font-size=\"11\" lengthAdjust=\"spacing\" textLength=\"177\" x=\"27\" y=\"374.4526\">__choose_optimal_move(state)</text><rect fill=\"#F24D5C\" height=\"6\" style=\"stroke:#C82930;stroke-width:1.0;\" width=\"6\" x=\"15\" y=\"381.0469\"/><text fill=\"#000000\" font-family=\"sans-serif\" font-size=\"11\" lengthAdjust=\"spacing\" textLength=\"149\" x=\"27\" y=\"387.2573\">__calc_value(state, move)</text><rect fill=\"#F24D5C\" height=\"6\" style=\"stroke:#C82930;stroke-width:1.0;\" width=\"6\" x=\"15\" y=\"393.8516\"/><text fill=\"#000000\" font-family=\"sans-serif\" font-size=\"11\" lengthAdjust=\"spacing\" textLength=\"297\" x=\"27\" y=\"400.062\">__calc_target(prev_state, prev_move, state, reward)</text><rect fill=\"#F24D5C\" height=\"6\" style=\"stroke:#C82930;stroke-width:1.0;\" width=\"6\" x=\"15\" y=\"406.6563\"/><text fill=\"#000000\" font-family=\"sans-serif\" font-size=\"11\" lengthAdjust=\"spacing\" textLength=\"309\" x=\"27\" y=\"412.8667\">__train_model(prev_state, prev_move, target, epochs)</text><rect fill=\"#F24D5C\" height=\"6\" style=\"stroke:#C82930;stroke-width:1.0;\" width=\"6\" x=\"15\" y=\"419.4609\"/><text fill=\"#000000\" font-family=\"sans-serif\" font-size=\"11\" lengthAdjust=\"spacing\" textLength=\"87\" x=\"27\" y=\"425.6714\">__train_model()</text><rect fill=\"#F24D5C\" height=\"6\" style=\"stroke:#C82930;stroke-width:1.0;\" width=\"6\" x=\"15\" y=\"432.2656\"/><text fill=\"#000000\" font-family=\"sans-serif\" font-size=\"11\" lengthAdjust=\"spacing\" textLength=\"134\" x=\"27\" y=\"438.4761\">__learn_batch(memory)</text><rect fill=\"#F24D5C\" height=\"6\" style=\"stroke:#C82930;stroke-width:1.0;\" width=\"6\" x=\"15\" y=\"445.0703\"/><text fill=\"#000000\" font-family=\"sans-serif\" font-size=\"11\" lengthAdjust=\"spacing\" textLength=\"151\" x=\"27\" y=\"451.2808\">__create_targets(memory)</text><ellipse cx=\"18\" cy=\"460.875\" fill=\"#84BE84\" rx=\"3\" ry=\"3\" style=\"stroke:#038048;stroke-width:1.0;\"/><text fill=\"#000000\" font-family=\"sans-serif\" font-size=\"11\" lengthAdjust=\"spacing\" textLength=\"118\" x=\"27\" y=\"464.0854\">predict_model(state)</text><ellipse cx=\"18\" cy=\"473.6797\" fill=\"#84BE84\" rx=\"3\" ry=\"3\" style=\"stroke:#038048;stroke-width:1.0;\"/><text fill=\"#000000\" font-family=\"sans-serif\" font-size=\"11\" lengthAdjust=\"spacing\" textLength=\"78\" x=\"27\" y=\"476.8901\">save_model()</text><ellipse cx=\"18\" cy=\"486.4844\" fill=\"#84BE84\" rx=\"3\" ry=\"3\" style=\"stroke:#038048;stroke-width:1.0;\"/><text fill=\"#000000\" font-family=\"sans-serif\" font-size=\"11\" lengthAdjust=\"spacing\" textLength=\"74\" x=\"27\" y=\"489.6948\">load_model()</text><ellipse cx=\"18\" cy=\"499.2891\" fill=\"#84BE84\" rx=\"3\" ry=\"3\" style=\"stroke:#038048;stroke-width:1.0;\"/><text fill=\"#000000\" font-family=\"sans-serif\" font-size=\"11\" lengthAdjust=\"spacing\" textLength=\"87\" x=\"27\" y=\"502.4995\">create_model()</text><ellipse cx=\"18\" cy=\"512.0938\" fill=\"#84BE84\" rx=\"3\" ry=\"3\" style=\"stroke:#038048;stroke-width:1.0;\"/><text fill=\"#000000\" font-family=\"sans-serif\" font-size=\"11\" lengthAdjust=\"spacing\" textLength=\"165\" x=\"27\" y=\"515.3042\">state_to_tensor(state, move)</text><!--MD5=[6d6065b3605c26e405655397f60d4bb0]\n",
       "class TicTacToeModel--><rect codeLine=\"35\" fill=\"#FEFECE\" filter=\"url(#f1gd60d0atoja3)\" height=\"86.4141\" id=\"TicTacToeModel\" style=\"stroke:#A80036;stroke-width:1.5;\" width=\"193\" x=\"88.5\" y=\"582\"/><ellipse cx=\"131.85\" cy=\"598\" fill=\"#ADD1B2\" rx=\"11\" ry=\"11\" style=\"stroke:#A80036;stroke-width:1.0;\"/><path d=\"M134.1938,593.6719 C133.2563,593.2344 132.6625,593.0938 131.7875,593.0938 C129.1625,593.0938 127.1625,595.1719 127.1625,597.8906 L127.1625,599.0156 C127.1625,601.5938 129.2719,603.4844 132.1625,603.4844 C133.3813,603.4844 134.5375,603.1875 135.2875,602.6406 C135.8656,602.2344 136.1938,601.7813 136.1938,601.3906 C136.1938,600.9375 135.8031,600.5469 135.3344,600.5469 C135.1156,600.5469 134.9125,600.625 134.725,600.8125 C134.2719,601.2969 134.2719,601.2969 134.0844,601.3906 C133.6625,601.6563 132.975,601.7813 132.2094,601.7813 C130.1625,601.7813 128.8656,600.6875 128.8656,598.9844 L128.8656,597.8906 C128.8656,596.1094 130.1156,594.7969 131.85,594.7969 C132.4281,594.7969 133.0375,594.9531 133.5063,595.2031 C133.9906,595.4844 134.1625,595.7031 134.2563,596.1094 C134.3188,596.5156 134.35,596.6406 134.4906,596.7656 C134.6313,596.9063 134.8656,597.0156 135.0844,597.0156 C135.35,597.0156 135.6156,596.875 135.7875,596.6563 C135.8969,596.5 135.9281,596.3125 135.9281,595.8906 L135.9281,594.4688 C135.9281,594.0313 135.9125,593.9063 135.8188,593.75 C135.6625,593.4844 135.3813,593.3438 135.0844,593.3438 C134.7875,593.3438 134.5844,593.4375 134.3656,593.75 L134.1938,593.6719 Z \" fill=\"#000000\"/><text fill=\"#000000\" font-family=\"sans-serif\" font-size=\"12\" lengthAdjust=\"spacing\" textLength=\"98\" x=\"152.15\" y=\"602.1543\">TicTacToeModel</text><line style=\"stroke:#A80036;stroke-width:1.5;\" x1=\"89.5\" x2=\"280.5\" y1=\"614\" y2=\"614\"/><ellipse cx=\"99.5\" cy=\"625\" rx=\"3\" ry=\"3\" style=\"stroke:#038048;stroke-width:1.0;fill:none;\"/><text fill=\"#000000\" font-family=\"sans-serif\" font-size=\"11\" lengthAdjust=\"spacing\" textLength=\"79\" x=\"108.5\" y=\"628.2104\">create_model</text><line style=\"stroke:#A80036;stroke-width:1.5;\" x1=\"89.5\" x2=\"280.5\" y1=\"634.8047\" y2=\"634.8047\"/><ellipse cx=\"99.5\" cy=\"645.8047\" fill=\"#84BE84\" rx=\"3\" ry=\"3\" style=\"stroke:#038048;stroke-width:1.0;\"/><text fill=\"#000000\" font-family=\"sans-serif\" font-size=\"11\" lengthAdjust=\"spacing\" textLength=\"165\" x=\"108.5\" y=\"649.0151\">state_to_tensor(state, move)</text><ellipse cx=\"99.5\" cy=\"658.6094\" fill=\"#84BE84\" rx=\"3\" ry=\"3\" style=\"stroke:#038048;stroke-width:1.0;\"/><text fill=\"#000000\" font-family=\"sans-serif\" font-size=\"11\" lengthAdjust=\"spacing\" textLength=\"167\" x=\"108.5\" y=\"661.8198\">one_hot_encode_state(state)</text><!--MD5=[6e3b1703081f80b4771f2beb581e2f52]\n",
       "class TicTacToeModelSmall--><rect codeLine=\"41\" fill=\"#FEFECE\" filter=\"url(#f1gd60d0atoja3)\" height=\"60.8047\" id=\"TicTacToeModelSmall\" style=\"stroke:#A80036;stroke-width:1.5;\" width=\"162\" x=\"104\" y=\"728\"/><ellipse cx=\"119\" cy=\"744\" fill=\"#ADD1B2\" rx=\"11\" ry=\"11\" style=\"stroke:#A80036;stroke-width:1.0;\"/><path d=\"M121.3438,739.6719 C120.4063,739.2344 119.8125,739.0938 118.9375,739.0938 C116.3125,739.0938 114.3125,741.1719 114.3125,743.8906 L114.3125,745.0156 C114.3125,747.5938 116.4219,749.4844 119.3125,749.4844 C120.5313,749.4844 121.6875,749.1875 122.4375,748.6406 C123.0156,748.2344 123.3438,747.7813 123.3438,747.3906 C123.3438,746.9375 122.9531,746.5469 122.4844,746.5469 C122.2656,746.5469 122.0625,746.625 121.875,746.8125 C121.4219,747.2969 121.4219,747.2969 121.2344,747.3906 C120.8125,747.6563 120.125,747.7813 119.3594,747.7813 C117.3125,747.7813 116.0156,746.6875 116.0156,744.9844 L116.0156,743.8906 C116.0156,742.1094 117.2656,740.7969 119,740.7969 C119.5781,740.7969 120.1875,740.9531 120.6563,741.2031 C121.1406,741.4844 121.3125,741.7031 121.4063,742.1094 C121.4688,742.5156 121.5,742.6406 121.6406,742.7656 C121.7813,742.9063 122.0156,743.0156 122.2344,743.0156 C122.5,743.0156 122.7656,742.875 122.9375,742.6563 C123.0469,742.5 123.0781,742.3125 123.0781,741.8906 L123.0781,740.4688 C123.0781,740.0313 123.0625,739.9063 122.9688,739.75 C122.8125,739.4844 122.5313,739.3438 122.2344,739.3438 C121.9375,739.3438 121.7344,739.4375 121.5156,739.75 L121.3438,739.6719 Z \" fill=\"#000000\"/><text fill=\"#000000\" font-family=\"sans-serif\" font-size=\"12\" lengthAdjust=\"spacing\" textLength=\"130\" x=\"133\" y=\"748.1543\">TicTacToeModelSmall</text><line style=\"stroke:#A80036;stroke-width:1.5;\" x1=\"105\" x2=\"265\" y1=\"760\" y2=\"760\"/><ellipse cx=\"115\" cy=\"771\" rx=\"3\" ry=\"3\" style=\"stroke:#038048;stroke-width:1.0;fill:none;\"/><text fill=\"#000000\" font-family=\"sans-serif\" font-size=\"11\" lengthAdjust=\"spacing\" textLength=\"79\" x=\"124\" y=\"774.2104\">create_model</text><line style=\"stroke:#A80036;stroke-width:1.5;\" x1=\"105\" x2=\"265\" y1=\"780.8047\" y2=\"780.8047\"/><!--MD5=[c7ce7f337b1d20ea75bfa89f5f8d0e23]\n",
       "link QNNLearner to Model--><path codeLine=\"45\" d=\"M185,145.022 C185,163.329 185,183.92 185,204.944 \" fill=\"none\" id=\"QNNLearner-Model\" style=\"stroke:#A80036;stroke-width:1.0;\"/><!--MD5=[e2e9842f61b7a174dc4a2e64e8ac21ed]\n",
       "link Model to TicTacToeModel--><path codeLine=\"46\" d=\"M185,522.184 C185,536.019 185,549.409 185,561.684 \" fill=\"none\" id=\"Model-to-TicTacToeModel\" style=\"stroke:#A80036;stroke-width:1.0;\"/><polygon fill=\"none\" points=\"192,561.795,185,581.795,178,561.795,192,561.795\" style=\"stroke:#A80036;stroke-width:1.0;\"/><!--MD5=[8ce2e50db83b87b0219b2ac8cd19d716]\n",
       "link TicTacToeModel to TicTacToeModelSmall--><path codeLine=\"47\" d=\"M185,668.331 C185,680.741 185,694.4306 185,707.2809 \" fill=\"none\" id=\"TicTacToeModel-to-TicTacToeModelSmall\" style=\"stroke:#A80036;stroke-width:1.0;\"/><polygon fill=\"none\" points=\"192,707.7402,185,727.7402,178,707.7402,192,707.7402\" style=\"stroke:#A80036;stroke-width:1.0;\"/><!--MD5=[4868dd3b4fb8372ce90f89d400629ff0]\n",
       "@startuml\n",
       "class QNNLearner {\n",
       "-float learn_rate\n",
       "-float discount_factor\n",
       "-ndarray memory\n",
       "-int count_memory\n",
       "-int batch_size\n",
       "+update(prev_state, state, prev_move, reward)\n",
       "+select_move(state)\n",
       "}\n",
       "\n",
       "class Model {\n",
       "-tag\n",
       "-float epsilon\n",
       "-float alpha\n",
       "-int gamma\n",
       "-float alpha\n",
       "-int batch_size\n",
       "-keras_model\n",
       "-list history\n",
       "-__load_to_memory(prev_state, prev_move, state, reward)\n",
       "-__choose_optimal_move(state)\n",
       "-__calc_value(state, move)\n",
       "-__calc_target(prev_state, prev_move, state, reward)\n",
       "-__train_model(prev_state, prev_move, target, epochs)\n",
       "-__train_model()\n",
       "-__learn_batch(memory)\n",
       "-__create_targets(memory)\n",
       "+predict_model(state)\n",
       "+save_model()\n",
       "+load_model()\n",
       "+create_model()\n",
       "+state_to_tensor(state, move)\n",
       "}\n",
       "\n",
       "class TicTacToeModel {\n",
       "+create_model\n",
       "+state_to_tensor(state, move)\n",
       "+one_hot_encode_state(state)\n",
       "}\n",
       "\n",
       "class TicTacToeModelSmall {\n",
       "+create_model    \n",
       "}\n",
       "\n",
       "QNNLearner - - Model\n",
       "Model - -|> TicTacToeModel\n",
       "TicTacToeModel - -|> TicTacToeModelSmall\n",
       "@enduml\n",
       "\n",
       "PlantUML version 1.2021.17beta4(Unknown compile time)\n",
       "(GPL source distribution)\n",
       "Java Runtime: Java(TM) SE Runtime Environment\n",
       "JVM: Java HotSpot(TM) 64-Bit Server VM\n",
       "Default Encoding: UTF-8\n",
       "Language: en\n",
       "Country: US\n",
       "--></g></svg>"
      ],
      "text/plain": [
       "<IPython.core.display.SVG object>"
      ]
     },
     "execution_count": 11,
     "metadata": {},
     "output_type": "execute_result"
    }
   ],
   "source": [
    "%%plantuml\n",
    "\n",
    "class QNNLearner {\n",
    "-float learn_rate\n",
    "-float discount_factor\n",
    "-ndarray memory\n",
    "-int count_memory\n",
    "-int batch_size\n",
    "+update(prev_state, state, prev_move, reward)\n",
    "+select_move(state)\n",
    "}\n",
    "\n",
    "class Model {\n",
    "-tag\n",
    "-float epsilon\n",
    "-float alpha\n",
    "-int gamma\n",
    "-float alpha\n",
    "-int batch_size\n",
    "-keras_model\n",
    "-list history\n",
    "-__load_to_memory(prev_state, prev_move, state, reward)\n",
    "-__choose_optimal_move(state)\n",
    "-__calc_value(state, move)\n",
    "-__calc_target(prev_state, prev_move, state, reward)\n",
    "-__train_model(prev_state, prev_move, target, epochs)\n",
    "-__train_model()\n",
    "-__learn_batch(memory)\n",
    "-__create_targets(memory)\n",
    "+predict_model(state)\n",
    "+save_model()\n",
    "+load_model()\n",
    "+create_model()\n",
    "+state_to_tensor(state, move)\n",
    "}\n",
    "\n",
    "class TicTacToeModel {\n",
    "+create_model()\n",
    "+state_to_tensor(state, move)\n",
    "+one_hot_encode_state(state)\n",
    "}\n",
    "\n",
    "class TicTacToeModelSmall {\n",
    "-observation_space\n",
    "-action_space\n",
    "-bool online\n",
    "+create_model()    \n",
    "}\n",
    "\n",
    "QNNLearner -- Model\n",
    "Model --|> TicTacToeModel\n",
    "TicTacToeModel --|> TicTacToeModelSmall"
   ]
  }
 ],
 "metadata": {
  "kernelspec": {
   "display_name": "Python 3",
   "language": "python",
   "name": "python3"
  },
  "language_info": {
   "codemirror_mode": {
    "name": "ipython",
    "version": 3
   },
   "file_extension": ".py",
   "mimetype": "text/x-python",
   "name": "python",
   "nbconvert_exporter": "python",
   "pygments_lexer": "ipython3",
   "version": "3.8.5"
  }
 },
 "nbformat": 4,
 "nbformat_minor": 1
}