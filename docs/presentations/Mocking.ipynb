{
 "cells": [
  {
   "cell_type": "markdown",
   "metadata": {},
   "source": [
    "# Mocking\n",
    "\n",
    "vollkommen isoliertes Testen von einzelnen Objekten oder Funktionen    \n",
    "Testen der Interaktion von Objekten: vorher Umgebung nachbilden  \n",
    "\n",
    "Mock-Objekt: Programmteil als Platzhalter für echte Objekte  \n",
    "\n",
    "Mock-Objekte implementieren die Schnittstellen, über die das zu testende Objekt auf seine Umgebung zugreift  \n",
    "erwartete Methodenaufrufe müssen vollständig, mit den korrekten Parametern und in der erwarteten Reihenfolge durchgeführt werden  \n",
    "liefert vorher zum Testfall passend festgelegte Werte zurück  \n",
    "werden verwendet, um ein bestimmtes Verhalten nachzustellen  \n",
    "\n",
    "Mock-Objekte ersetzen:\n",
    "- andere Objekte die zu Testzwecken nur schwierig zu erstellen sind\n",
    "- online Resourcen\n",
    "- Frontend\n",
    "- Backend\n",
    "- ..."
   ]
  },
  {
   "cell_type": "markdown",
   "metadata": {},
   "source": [
    "## Einsatz\n",
    "\n",
    "Konkret sind Mock-Objekte sinnvoll, wenn das „echte“ Objekt\n",
    "\n",
    "- von „unerwarteten Fehlern“ während der Tests nicht beschädigt werden soll,\n",
    "- nicht deterministische Ergebnisse liefert (z. B. die aktuelle Uhrzeit oder die aktuelle Temperatur),\n",
    "- Schwierigkeiten bei der Vorbereitung oder während der Ausführung bereitet (z. B. beim Testen von Benutzungsoberflächen),\n",
    "- Verhalten zeigen soll, das nur schwer auszulösen ist (z. B. einen Netzwerkfehler),\n",
    "- langsam oder sehr komplex ist (z. B. eine vollständige Datenbank, die vor jedem Test erst initialisiert werden müsste),\n",
    "- noch nicht existiert (z. B. in größeren Software- oder Hardware-Entwicklungsprojekten),\n",
    "- Informationen und Methoden ausschließlich zu Testzwecken (und nicht für seine eigentliche Aufgabe) zur Verfügung stellen müsste,\n",
    "- nicht oder schwer rückgängig zu machende Prozesse anstößt (z. B. Dateien einer Netzwerkressource löscht)."
   ]
  },
  {
   "cell_type": "markdown",
   "metadata": {},
   "source": [
    "## Python Mocking-Frameworks\n",
    "\n",
    "- Mock\n",
    "- pymox\n",
    "- dingus"
   ]
  },
  {
   "cell_type": "markdown",
   "metadata": {},
   "source": [
    "Seit Python 3 ist mock Teil der Standard Bibliothek von Python und wird wie folgt importiert:"
   ]
  },
  {
   "cell_type": "code",
   "execution_count": 7,
   "metadata": {},
   "outputs": [],
   "source": [
    "from unittest import mock"
   ]
  },
  {
   "cell_type": "markdown",
   "metadata": {},
   "source": [
    "Das Hauptobjekt, das vom Framework zur Verfügung gestellt wird ist \"Mock\".  \n",
    "Dieses kann instanziiert werden ohne Argumente."
   ]
  },
  {
   "cell_type": "code",
   "execution_count": 8,
   "metadata": {},
   "outputs": [],
   "source": [
    "m = mock.Mock()"
   ]
  },
  {
   "cell_type": "markdown",
   "metadata": {},
   "source": [
    "Dieses Objekt hat die Eigenschaft, Methoden und Attribute on the fly erstellen zu können, wenn sie benötigt werden.  \n",
    "Der innere Aufbau sieht wie folgt aus:"
   ]
  },
  {
   "cell_type": "code",
   "execution_count": 9,
   "metadata": {},
   "outputs": [
    {
     "data": {
      "text/plain": [
       "['assert_any_call',\n",
       " 'assert_called',\n",
       " 'assert_called_once',\n",
       " 'assert_called_once_with',\n",
       " 'assert_called_with',\n",
       " 'assert_has_calls',\n",
       " 'assert_not_called',\n",
       " 'attach_mock',\n",
       " 'call_args',\n",
       " 'call_args_list',\n",
       " 'call_count',\n",
       " 'called',\n",
       " 'configure_mock',\n",
       " 'method_calls',\n",
       " 'mock_add_spec',\n",
       " 'mock_calls',\n",
       " 'reset_mock',\n",
       " 'return_value',\n",
       " 'side_effect']"
      ]
     },
     "execution_count": 9,
     "metadata": {},
     "output_type": "execute_result"
    }
   ],
   "source": [
    "dir(m)"
   ]
  },
  {
   "cell_type": "markdown",
   "metadata": {},
   "source": [
    "Das Mock Objekt löst im gegensatz zu normalen Python-Objekten keinen AttributeError aus, wenn sie nach einem nicht existierenden Attribut gefragt werden. Es wird eine andere Instanz von Mock selbst zurückgegeben."
   ]
  },
  {
   "cell_type": "code",
   "execution_count": 10,
   "metadata": {},
   "outputs": [
    {
     "data": {
      "text/plain": [
       "<Mock name='mock.some_attribute' id='140438117254648'>"
      ]
     },
     "execution_count": 10,
     "metadata": {},
     "output_type": "execute_result"
    }
   ],
   "source": [
    "m.some_attribute"
   ]
  },
  {
   "cell_type": "markdown",
   "metadata": {},
   "source": [
    "Das Attribut, auf das der Zugriffversucht wurde, ist innerhalb des Objekts erstellt worden, und der Zugriff darauf gibt dasselbe Scheinobjekt wie zuvor zurück."
   ]
  },
  {
   "cell_type": "code",
   "execution_count": 11,
   "metadata": {},
   "outputs": [
    {
     "data": {
      "text/plain": [
       "['assert_any_call',\n",
       " 'assert_called',\n",
       " 'assert_called_once',\n",
       " 'assert_called_once_with',\n",
       " 'assert_called_with',\n",
       " 'assert_has_calls',\n",
       " 'assert_not_called',\n",
       " 'attach_mock',\n",
       " 'call_args',\n",
       " 'call_args_list',\n",
       " 'call_count',\n",
       " 'called',\n",
       " 'configure_mock',\n",
       " 'method_calls',\n",
       " 'mock_add_spec',\n",
       " 'mock_calls',\n",
       " 'reset_mock',\n",
       " 'return_value',\n",
       " 'side_effect',\n",
       " 'some_attribute']"
      ]
     },
     "execution_count": 11,
     "metadata": {},
     "output_type": "execute_result"
    }
   ],
   "source": [
    "dir(m)"
   ]
  },
  {
   "cell_type": "code",
   "execution_count": 12,
   "metadata": {},
   "outputs": [
    {
     "data": {
      "text/plain": [
       "<Mock name='mock.some_attribute' id='140438117254648'>"
      ]
     },
     "execution_count": 12,
     "metadata": {},
     "output_type": "execute_result"
    }
   ],
   "source": [
    "m.some_attribute"
   ]
  },
  {
   "cell_type": "markdown",
   "metadata": {},
   "source": [
    "Mock-Objekte sind Callables.  \n",
    "Sie können sowohl als Attribute als auch als Methoden fungieren. Beim Versuch, den Mock aufzurufen, gibt er einfach einen anderen Mock mit einem Namen zurück, der Klammern enthält, um seine aufrufbare Natur zu signalisieren"
   ]
  },
  {
   "cell_type": "code",
   "execution_count": 13,
   "metadata": {},
   "outputs": [
    {
     "data": {
      "text/plain": [
       "<Mock name='mock.some_attribute()' id='140437882776432'>"
      ]
     },
     "execution_count": 13,
     "metadata": {},
     "output_type": "execute_result"
    }
   ],
   "source": [
    "m.some_attribute()"
   ]
  },
  {
   "cell_type": "markdown",
   "metadata": {},
   "source": [
    "Mock ist das perfekte Werkzeug, um andere Objekte oder Systeme zu imitieren.  \n",
    "Um Mocks in Tests verwenden zu können, müssen sie sich jedoch genau wie das Original verhalten.  \n",
    "Dafür müssen sinnvolle Werte zurückgegeben oder Operationen ausgeführt werden."
   ]
  },
  {
   "cell_type": "markdown",
   "metadata": {},
   "source": [
    "## Return\n",
    "Das Einfachste, was ein Mock tun kann, ist, bei jedem Aufruf einen bestimmten Wert zurückzugeben.  \n",
    "Dies wird über das return_value-Attribut eines Mock-Objekts konfiguriert.  \n",
    "\n",
    "Jetzt wird kein Mock-Objekt mehr zurückgegeben, sondern nur der statische Wert, der im Attribut return_value gespeichert ist.  \n",
    "\n",
    "Auch Callables wie Funktionen oder Objekte werden zurückgeben, aber nicht ausgeführt."
   ]
  },
  {
   "cell_type": "code",
   "execution_count": 14,
   "metadata": {},
   "outputs": [
    {
     "data": {
      "text/plain": [
       "42"
      ]
     },
     "execution_count": 14,
     "metadata": {},
     "output_type": "execute_result"
    }
   ],
   "source": [
    "m.some_attribute.return_value = 42\n",
    "m.some_attribute()"
   ]
  },
  {
   "cell_type": "code",
   "execution_count": 15,
   "metadata": {},
   "outputs": [
    {
     "data": {
      "text/plain": [
       "<function __main__.print_answer()>"
      ]
     },
     "execution_count": 15,
     "metadata": {},
     "output_type": "execute_result"
    }
   ],
   "source": [
    "def print_answer():\n",
    "    print(\"42\")\n",
    "\n",
    "m.some_attribute.return_value = print_answer\n",
    "m.some_attribute()"
   ]
  },
  {
   "cell_type": "markdown",
   "metadata": {},
   "source": [
    "## Side effect\n",
    "Um Werte zurückzugeben, die von einer Funktion stammen, muss das Attribut side_effect verwendet werden.  \n",
    "\n",
    "Es akzeptiert drei verschiedene Varianten von Objekten: \n",
    "- Callables\n",
    "- Iterables\n",
    "- Exceptions\n",
    "\n",
    "### Exception"
   ]
  },
  {
   "cell_type": "code",
   "execution_count": 16,
   "metadata": {},
   "outputs": [
    {
     "ename": "ValueError",
     "evalue": "A custom value error",
     "output_type": "error",
     "traceback": [
      "\u001b[0;31m---------------------------------------------------------------------------\u001b[0m",
      "\u001b[0;31mValueError\u001b[0m                                Traceback (most recent call last)",
      "\u001b[0;32m<ipython-input-16-0689d5bf0c80>\u001b[0m in \u001b[0;36m<module>\u001b[0;34m\u001b[0m\n\u001b[1;32m      1\u001b[0m \u001b[0mm\u001b[0m\u001b[0;34m.\u001b[0m\u001b[0msome_attribute\u001b[0m\u001b[0;34m.\u001b[0m\u001b[0mside_effect\u001b[0m \u001b[0;34m=\u001b[0m \u001b[0mValueError\u001b[0m\u001b[0;34m(\u001b[0m\u001b[0;34m'A custom value error'\u001b[0m\u001b[0;34m)\u001b[0m\u001b[0;34m\u001b[0m\u001b[0;34m\u001b[0m\u001b[0m\n\u001b[0;32m----> 2\u001b[0;31m \u001b[0mm\u001b[0m\u001b[0;34m.\u001b[0m\u001b[0msome_attribute\u001b[0m\u001b[0;34m(\u001b[0m\u001b[0;34m)\u001b[0m\u001b[0;34m\u001b[0m\u001b[0;34m\u001b[0m\u001b[0m\n\u001b[0m",
      "\u001b[0;32m/usr/lib/python3.6/unittest/mock.py\u001b[0m in \u001b[0;36m__call__\u001b[0;34m(_mock_self, *args, **kwargs)\u001b[0m\n\u001b[1;32m    937\u001b[0m         \u001b[0;31m# in the signature\u001b[0m\u001b[0;34m\u001b[0m\u001b[0;34m\u001b[0m\u001b[0;34m\u001b[0m\u001b[0m\n\u001b[1;32m    938\u001b[0m         \u001b[0m_mock_self\u001b[0m\u001b[0;34m.\u001b[0m\u001b[0m_mock_check_sig\u001b[0m\u001b[0;34m(\u001b[0m\u001b[0;34m*\u001b[0m\u001b[0margs\u001b[0m\u001b[0;34m,\u001b[0m \u001b[0;34m**\u001b[0m\u001b[0mkwargs\u001b[0m\u001b[0;34m)\u001b[0m\u001b[0;34m\u001b[0m\u001b[0;34m\u001b[0m\u001b[0m\n\u001b[0;32m--> 939\u001b[0;31m         \u001b[0;32mreturn\u001b[0m \u001b[0m_mock_self\u001b[0m\u001b[0;34m.\u001b[0m\u001b[0m_mock_call\u001b[0m\u001b[0;34m(\u001b[0m\u001b[0;34m*\u001b[0m\u001b[0margs\u001b[0m\u001b[0;34m,\u001b[0m \u001b[0;34m**\u001b[0m\u001b[0mkwargs\u001b[0m\u001b[0;34m)\u001b[0m\u001b[0;34m\u001b[0m\u001b[0;34m\u001b[0m\u001b[0m\n\u001b[0m\u001b[1;32m    940\u001b[0m \u001b[0;34m\u001b[0m\u001b[0m\n\u001b[1;32m    941\u001b[0m \u001b[0;34m\u001b[0m\u001b[0m\n",
      "\u001b[0;32m/usr/lib/python3.6/unittest/mock.py\u001b[0m in \u001b[0;36m_mock_call\u001b[0;34m(_mock_self, *args, **kwargs)\u001b[0m\n\u001b[1;32m    997\u001b[0m         \u001b[0;32mif\u001b[0m \u001b[0meffect\u001b[0m \u001b[0;32mis\u001b[0m \u001b[0;32mnot\u001b[0m \u001b[0;32mNone\u001b[0m\u001b[0;34m:\u001b[0m\u001b[0;34m\u001b[0m\u001b[0;34m\u001b[0m\u001b[0m\n\u001b[1;32m    998\u001b[0m             \u001b[0;32mif\u001b[0m \u001b[0m_is_exception\u001b[0m\u001b[0;34m(\u001b[0m\u001b[0meffect\u001b[0m\u001b[0;34m)\u001b[0m\u001b[0;34m:\u001b[0m\u001b[0;34m\u001b[0m\u001b[0;34m\u001b[0m\u001b[0m\n\u001b[0;32m--> 999\u001b[0;31m                 \u001b[0;32mraise\u001b[0m \u001b[0meffect\u001b[0m\u001b[0;34m\u001b[0m\u001b[0;34m\u001b[0m\u001b[0m\n\u001b[0m\u001b[1;32m   1000\u001b[0m             \u001b[0;32melif\u001b[0m \u001b[0;32mnot\u001b[0m \u001b[0m_callable\u001b[0m\u001b[0;34m(\u001b[0m\u001b[0meffect\u001b[0m\u001b[0;34m)\u001b[0m\u001b[0;34m:\u001b[0m\u001b[0;34m\u001b[0m\u001b[0;34m\u001b[0m\u001b[0m\n\u001b[1;32m   1001\u001b[0m                 \u001b[0mresult\u001b[0m \u001b[0;34m=\u001b[0m \u001b[0mnext\u001b[0m\u001b[0;34m(\u001b[0m\u001b[0meffect\u001b[0m\u001b[0;34m)\u001b[0m\u001b[0;34m\u001b[0m\u001b[0;34m\u001b[0m\u001b[0m\n",
      "\u001b[0;31mValueError\u001b[0m: A custom value error"
     ]
    }
   ],
   "source": [
    "m.some_attribute.side_effect = ValueError('A custom value error')\n",
    "m.some_attribute()"
   ]
  },
  {
   "cell_type": "markdown",
   "metadata": {},
   "source": [
    "### Iterable\n",
    "Wenn ein Iterable übergeben wird, wie z.B. einen Generator, eine einfache Liste, ein Tupel oder ähnliche Objekte, liefert der Mock die Werte dieses Iterables zurück.  \n",
    "Er gibt bei nachfolgenden Aufrufen des Mocks jeden Wert zurück, der im Iterable enthalten ist."
   ]
  },
  {
   "cell_type": "code",
   "execution_count": 17,
   "metadata": {},
   "outputs": [
    {
     "data": {
      "text/plain": [
       "0"
      ]
     },
     "execution_count": 17,
     "metadata": {},
     "output_type": "execute_result"
    }
   ],
   "source": [
    "m.some_attribute.side_effect = range(3)\n",
    "m.some_attribute()"
   ]
  },
  {
   "cell_type": "code",
   "execution_count": 18,
   "metadata": {},
   "outputs": [
    {
     "data": {
      "text/plain": [
       "1"
      ]
     },
     "execution_count": 18,
     "metadata": {},
     "output_type": "execute_result"
    }
   ],
   "source": [
    "m.some_attribute()"
   ]
  },
  {
   "cell_type": "code",
   "execution_count": 19,
   "metadata": {},
   "outputs": [
    {
     "data": {
      "text/plain": [
       "2"
      ]
     },
     "execution_count": 19,
     "metadata": {},
     "output_type": "execute_result"
    }
   ],
   "source": [
    "m.some_attribute()"
   ]
  },
  {
   "cell_type": "code",
   "execution_count": 20,
   "metadata": {},
   "outputs": [
    {
     "ename": "StopIteration",
     "evalue": "",
     "output_type": "error",
     "traceback": [
      "\u001b[0;31m---------------------------------------------------------------------------\u001b[0m",
      "\u001b[0;31mStopIteration\u001b[0m                             Traceback (most recent call last)",
      "\u001b[0;32m<ipython-input-20-8980afe31547>\u001b[0m in \u001b[0;36m<module>\u001b[0;34m\u001b[0m\n\u001b[0;32m----> 1\u001b[0;31m \u001b[0mm\u001b[0m\u001b[0;34m.\u001b[0m\u001b[0msome_attribute\u001b[0m\u001b[0;34m(\u001b[0m\u001b[0;34m)\u001b[0m\u001b[0;34m\u001b[0m\u001b[0;34m\u001b[0m\u001b[0m\n\u001b[0m",
      "\u001b[0;32m/usr/lib/python3.6/unittest/mock.py\u001b[0m in \u001b[0;36m__call__\u001b[0;34m(_mock_self, *args, **kwargs)\u001b[0m\n\u001b[1;32m    937\u001b[0m         \u001b[0;31m# in the signature\u001b[0m\u001b[0;34m\u001b[0m\u001b[0;34m\u001b[0m\u001b[0;34m\u001b[0m\u001b[0m\n\u001b[1;32m    938\u001b[0m         \u001b[0m_mock_self\u001b[0m\u001b[0;34m.\u001b[0m\u001b[0m_mock_check_sig\u001b[0m\u001b[0;34m(\u001b[0m\u001b[0;34m*\u001b[0m\u001b[0margs\u001b[0m\u001b[0;34m,\u001b[0m \u001b[0;34m**\u001b[0m\u001b[0mkwargs\u001b[0m\u001b[0;34m)\u001b[0m\u001b[0;34m\u001b[0m\u001b[0;34m\u001b[0m\u001b[0m\n\u001b[0;32m--> 939\u001b[0;31m         \u001b[0;32mreturn\u001b[0m \u001b[0m_mock_self\u001b[0m\u001b[0;34m.\u001b[0m\u001b[0m_mock_call\u001b[0m\u001b[0;34m(\u001b[0m\u001b[0;34m*\u001b[0m\u001b[0margs\u001b[0m\u001b[0;34m,\u001b[0m \u001b[0;34m**\u001b[0m\u001b[0mkwargs\u001b[0m\u001b[0;34m)\u001b[0m\u001b[0;34m\u001b[0m\u001b[0;34m\u001b[0m\u001b[0m\n\u001b[0m\u001b[1;32m    940\u001b[0m \u001b[0;34m\u001b[0m\u001b[0m\n\u001b[1;32m    941\u001b[0m \u001b[0;34m\u001b[0m\u001b[0m\n",
      "\u001b[0;32m/usr/lib/python3.6/unittest/mock.py\u001b[0m in \u001b[0;36m_mock_call\u001b[0;34m(_mock_self, *args, **kwargs)\u001b[0m\n\u001b[1;32m    999\u001b[0m                 \u001b[0;32mraise\u001b[0m \u001b[0meffect\u001b[0m\u001b[0;34m\u001b[0m\u001b[0;34m\u001b[0m\u001b[0m\n\u001b[1;32m   1000\u001b[0m             \u001b[0;32melif\u001b[0m \u001b[0;32mnot\u001b[0m \u001b[0m_callable\u001b[0m\u001b[0;34m(\u001b[0m\u001b[0meffect\u001b[0m\u001b[0;34m)\u001b[0m\u001b[0;34m:\u001b[0m\u001b[0;34m\u001b[0m\u001b[0;34m\u001b[0m\u001b[0m\n\u001b[0;32m-> 1001\u001b[0;31m                 \u001b[0mresult\u001b[0m \u001b[0;34m=\u001b[0m \u001b[0mnext\u001b[0m\u001b[0;34m(\u001b[0m\u001b[0meffect\u001b[0m\u001b[0;34m)\u001b[0m\u001b[0;34m\u001b[0m\u001b[0;34m\u001b[0m\u001b[0m\n\u001b[0m\u001b[1;32m   1002\u001b[0m                 \u001b[0;32mif\u001b[0m \u001b[0m_is_exception\u001b[0m\u001b[0;34m(\u001b[0m\u001b[0mresult\u001b[0m\u001b[0;34m)\u001b[0m\u001b[0;34m:\u001b[0m\u001b[0;34m\u001b[0m\u001b[0;34m\u001b[0m\u001b[0m\n\u001b[1;32m   1003\u001b[0m                     \u001b[0;32mraise\u001b[0m \u001b[0mresult\u001b[0m\u001b[0;34m\u001b[0m\u001b[0;34m\u001b[0m\u001b[0m\n",
      "\u001b[0;31mStopIteration\u001b[0m: "
     ]
    }
   ],
   "source": [
    "m.some_attribute()"
   ]
  },
  {
   "cell_type": "markdown",
   "metadata": {},
   "source": [
    "### Callable\n",
    "#### Funktion ohne Argumente"
   ]
  },
  {
   "cell_type": "code",
   "execution_count": 21,
   "metadata": {},
   "outputs": [
    {
     "name": "stdout",
     "output_type": "stream",
     "text": [
      "42\n"
     ]
    }
   ],
   "source": [
    "def print_answer():\n",
    "    print(\"42\")       \n",
    "m.some_attribute.side_effect = print_answer\n",
    "m.some_attribute()"
   ]
  },
  {
   "cell_type": "markdown",
   "metadata": {},
   "source": [
    "#### Funktion mit Argumenten"
   ]
  },
  {
   "cell_type": "code",
   "execution_count": 22,
   "metadata": {},
   "outputs": [
    {
     "name": "stdout",
     "output_type": "stream",
     "text": [
      "Number: 5\n"
     ]
    }
   ],
   "source": [
    "def print_number(num):\n",
    "    print(\"Number:\", num)\n",
    "    \n",
    "m.some_attribute.side_effect = print_number\n",
    "m.some_attribute.side_effect(5)"
   ]
  },
  {
   "cell_type": "markdown",
   "metadata": {},
   "source": [
    "#### Klasse"
   ]
  },
  {
   "cell_type": "code",
   "execution_count": 23,
   "metadata": {},
   "outputs": [
    {
     "data": {
      "text/plain": [
       "<__main__.Number at 0x7fba3e1e3eb8>"
      ]
     },
     "execution_count": 23,
     "metadata": {},
     "output_type": "execute_result"
    }
   ],
   "source": [
    "class Number(object):\n",
    "    def __init__(self, value):\n",
    "        self._value = value\n",
    "    def print_value(self):\n",
    "        print(\"Value:\", self._value)\n",
    "\n",
    "m.some_attribute.side_effect = Number\n",
    "n = m.some_attribute.side_effect(26)\n",
    "n"
   ]
  },
  {
   "cell_type": "code",
   "execution_count": 24,
   "metadata": {},
   "outputs": [
    {
     "name": "stdout",
     "output_type": "stream",
     "text": [
      "Value: 26\n"
     ]
    }
   ],
   "source": [
    "n.print_value()"
   ]
  },
  {
   "cell_type": "markdown",
   "metadata": {},
   "source": [
    "## Testen mit Mocks\n",
    "Beim Umgang mit externen Objekten interessiert uns nur, OB eine Methode aufgerufen wurde und WELCHE PARAMETER der Aufrufer an das Objekt übergeben hat. Wir testen nicht, ob das entfernte Objekt das richtige Ergebnis zurückgibt, dies wird vom Mock gefälscht, der tatsächlich genau das Ergebnis liefert, das wir brauchen.\n",
    "\n",
    "Der Zweck der von Mock-Objekten bereitgestellten Methoden besteht also darin, zu überprüfen, welche Methoden wir auf dem Mock selbst aufgerufen haben und welche Parameter wir im Aufruf verwendet haben."
   ]
  },
  {
   "cell_type": "code",
   "execution_count": 25,
   "metadata": {},
   "outputs": [],
   "source": [
    "import ipytest\n",
    "import pytest\n",
    "import sys\n",
    "ipytest.autoconfig()"
   ]
  },
  {
   "cell_type": "markdown",
   "metadata": {},
   "source": [
    "### Asserting calls\n",
    "Das erste, was uns beim Umgang mit einem externen Objekt normalerweise interessiert, ist zu wissen, dass eine bestimmte Methode aufgerufen wurde. Python-Mocks stellen die Methode assert_called() bereit, um diese Bedingung zu überprüfen.  \n",
    "\n",
    "Wir instanziieren die myobj.MyObj-Klasse, die ein externes Objekt erfordert. Die Klasse soll die Methode connect() des externen Objekts ohne Parameter aufrufen."
   ]
  },
  {
   "cell_type": "code",
   "execution_count": 52,
   "metadata": {},
   "outputs": [
    {
     "name": "stdout",
     "output_type": "stream",
     "text": [
      "\u001b[32m.\u001b[0m\u001b[32m                                                                                            [100%]\u001b[0m\n",
      "\u001b[32m\u001b[32m\u001b[1m1 passed\u001b[0m\u001b[32m in 0.00s\u001b[0m\u001b[0m\n"
     ]
    }
   ],
   "source": [
    "%%ipytest\n",
    "def test_instantiation():\n",
    "    external_obj = mock.Mock()\n",
    "    MyObj(external_obj)\n",
    "    external_obj.connect.assert_called()"
   ]
  },
  {
   "cell_type": "code",
   "execution_count": 48,
   "metadata": {},
   "outputs": [
    {
     "ename": "SyntaxError",
     "evalue": "unexpected EOF while parsing (<ipython-input-48-248d851d4cb8>, line 2)",
     "output_type": "error",
     "traceback": [
      "\u001b[0;36m  File \u001b[0;32m\"<ipython-input-48-248d851d4cb8>\"\u001b[0;36m, line \u001b[0;32m2\u001b[0m\n\u001b[0;31m    \u001b[0m\n\u001b[0m    ^\u001b[0m\n\u001b[0;31mSyntaxError\u001b[0m\u001b[0;31m:\u001b[0m unexpected EOF while parsing\n"
     ]
    }
   ],
   "source": [
    "class MyObj():\n",
    "    def __init__(self, repo):\n",
    "        repo.connect()"
   ]
  },
  {
   "cell_type": "markdown",
   "metadata": {},
   "source": [
    "asserting calls überprüft außerdem die übergebenen Parameter  \n",
    "\n",
    "Um dies zu zeigen, nehmen wir an, dass wir erwarten, dass die Methode  \n",
    "\n",
    "MyObj.setup()  \n",
    "setup(cache=True, max_connections=256)  \n",
    "für das externe Objekt aufruft."
   ]
  },
  {
   "cell_type": "code",
   "execution_count": 47,
   "metadata": {},
   "outputs": [
    {
     "name": "stdout",
     "output_type": "stream",
     "text": [
      "\u001b[32m.\u001b[0m\u001b[32m                                                                                            [100%]\u001b[0m\n",
      "\u001b[32m\u001b[32m\u001b[1m1 passed\u001b[0m\u001b[32m in 0.00s\u001b[0m\u001b[0m\n"
     ]
    }
   ],
   "source": [
    "%%ipytest\n",
    "def test_setup():\n",
    "    external_obj = mock.Mock()\n",
    "    obj = MyObj(external_obj)\n",
    "    obj.setup()\n",
    "    external_obj.setup.assert_called_with(cache=True, max_connections=256)"
   ]
  },
  {
   "cell_type": "code",
   "execution_count": 44,
   "metadata": {},
   "outputs": [],
   "source": [
    "class MyObj():\n",
    "    def __init__(self, repo):\n",
    "        self._repo = repo\n",
    "        repo.connect()\n",
    "\n",
    "    def setup(self):\n",
    "        self._repo.setup(cache=True)"
   ]
  },
  {
   "cell_type": "code",
   "execution_count": 46,
   "metadata": {},
   "outputs": [],
   "source": [
    "class MyObj():\n",
    "    def __init__(self, repo):\n",
    "        self._repo = repo\n",
    "        repo.connect()\n",
    "\n",
    "    def setup(self):\n",
    "        self._repo.setup(cache=True, max_connections=256)"
   ]
  },
  {
   "cell_type": "markdown",
   "metadata": {},
   "source": [
    "##### Das Mock Objekt bietet noch weitere Methoden:\n",
    "\n",
    "https://docs.python.org/3/library/unittest.mock.html"
   ]
  },
  {
   "cell_type": "code",
   "execution_count": 51,
   "metadata": {},
   "outputs": [
    {
     "data": {
      "text/plain": [
       "['assert_any_call',\n",
       " 'assert_called',\n",
       " 'assert_called_once',\n",
       " 'assert_called_once_with',\n",
       " 'assert_called_with',\n",
       " 'assert_has_calls',\n",
       " 'assert_not_called',\n",
       " 'attach_mock',\n",
       " 'call_args',\n",
       " 'call_args_list',\n",
       " 'call_count',\n",
       " 'called',\n",
       " 'configure_mock',\n",
       " 'method_calls',\n",
       " 'mock_add_spec',\n",
       " 'mock_calls',\n",
       " 'reset_mock',\n",
       " 'return_value',\n",
       " 'side_effect']"
      ]
     },
     "execution_count": 51,
     "metadata": {},
     "output_type": "execute_result"
    }
   ],
   "source": [
    "m = mock.Mock()\n",
    "dir(m)"
   ]
  }
 ],
 "metadata": {
  "kernelspec": {
   "display_name": "Python 3",
   "language": "python",
   "name": "python3"
  },
  "language_info": {
   "codemirror_mode": {
    "name": "ipython",
    "version": 3
   },
   "file_extension": ".py",
   "mimetype": "text/x-python",
   "name": "python",
   "nbconvert_exporter": "python",
   "pygments_lexer": "ipython3",
   "version": "3.6.9"
  }
 },
 "nbformat": 4,
 "nbformat_minor": 2
}
