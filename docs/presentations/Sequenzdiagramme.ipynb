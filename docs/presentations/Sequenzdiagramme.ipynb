{
 "cells": [
  {
   "cell_type": "markdown",
   "metadata": {},
   "source": [
    "# Sequenzdiagramme mit Jupyter Notebook und plantuml\n",
    "\n",
    "von Christian Kubisch\n"
   ]
  },
  {
   "cell_type": "markdown",
   "metadata": {},
   "source": [
    "Damit UML-Diagramme erstellt werden können, muss vorher plantuml importiert werden."
   ]
  },
  {
   "cell_type": "code",
   "execution_count": 3,
   "metadata": {},
   "outputs": [],
   "source": [
    "import plantuml"
   ]
  },
  {
   "cell_type": "markdown",
   "metadata": {},
   "source": [
    "## Wie wird ein Diagramm dargestellt?\n",
    "    \n",
    "Durch die Annotation `%%plantuml`wird der nächste Blog als UML Diagramm dargestellt.\n",
    "\n",
    "Die vollständige Doku zu Sequenzdiagrammen ist unter\n",
    "https://plantuml.com/de/sequence-diagram\n",
    "zu finden.\n",
    "\n",
    "## Nachrichten\n",
    "Die Reihenfolge der Nachrichten entspreicht ihrer Deklaration  \n",
    "\n",
    "`->`   Nachricht zwischen zwei Teilnehmern  \n",
    "\n",
    "`<-` ist auch möglich und erlaubt eine bessere Lesbarkeit"
   ]
  },
  {
   "cell_type": "code",
   "execution_count": 24,
   "metadata": {},
   "outputs": [
    {
     "data": {
      "image/svg+xml": [
       "<svg contentScriptType=\"application/ecmascript\" contentStyleType=\"text/css\" height=\"215px\" preserveAspectRatio=\"none\" style=\"width:274px;height:215px;\" version=\"1.1\" viewBox=\"0 0 274 215\" width=\"274px\" xmlns=\"http://www.w3.org/2000/svg\" xmlns:xlink=\"http://www.w3.org/1999/xlink\" zoomAndPan=\"magnify\"><defs><filter height=\"300%\" id=\"fwxhzvtf8yw3j\" width=\"300%\" x=\"-1\" y=\"-1\"><feGaussianBlur result=\"blurOut\" stdDeviation=\"2.0\"/><feColorMatrix in=\"blurOut\" result=\"blurOut2\" type=\"matrix\" values=\"0 0 0 0 0 0 0 0 0 0 0 0 0 0 0 0 0 0 .4 0\"/><feOffset dx=\"4.0\" dy=\"4.0\" in=\"blurOut2\" result=\"blurOut3\"/><feBlend in=\"SourceGraphic\" in2=\"blurOut3\" mode=\"normal\"/></filter></defs><g><line style=\"stroke: #A80036; stroke-width: 1.0; stroke-dasharray: 5.0,5.0;\" x1=\"60\" x2=\"60\" y1=\"38.2969\" y2=\"174.8281\"/><line style=\"stroke: #A80036; stroke-width: 1.0; stroke-dasharray: 5.0,5.0;\" x1=\"214\" x2=\"214\" y1=\"38.2969\" y2=\"174.8281\"/><rect fill=\"#FEFECE\" filter=\"url(#fwxhzvtf8yw3j)\" height=\"30.2969\" style=\"stroke: #A80036; stroke-width: 1.5;\" width=\"101\" x=\"8\" y=\"3\"/><text fill=\"#000000\" font-family=\"sans-serif\" font-size=\"14\" lengthAdjust=\"spacingAndGlyphs\" textLength=\"87\" x=\"15\" y=\"22.9951\">Teilnehmer1</text><rect fill=\"#FEFECE\" filter=\"url(#fwxhzvtf8yw3j)\" height=\"30.2969\" style=\"stroke: #A80036; stroke-width: 1.5;\" width=\"101\" x=\"8\" y=\"173.8281\"/><text fill=\"#000000\" font-family=\"sans-serif\" font-size=\"14\" lengthAdjust=\"spacingAndGlyphs\" textLength=\"87\" x=\"15\" y=\"193.8232\">Teilnehmer1</text><rect fill=\"#FEFECE\" filter=\"url(#fwxhzvtf8yw3j)\" height=\"30.2969\" style=\"stroke: #A80036; stroke-width: 1.5;\" width=\"101\" x=\"162\" y=\"3\"/><text fill=\"#000000\" font-family=\"sans-serif\" font-size=\"14\" lengthAdjust=\"spacingAndGlyphs\" textLength=\"87\" x=\"169\" y=\"22.9951\">Teilnehmer2</text><rect fill=\"#FEFECE\" filter=\"url(#fwxhzvtf8yw3j)\" height=\"30.2969\" style=\"stroke: #A80036; stroke-width: 1.5;\" width=\"101\" x=\"162\" y=\"173.8281\"/><text fill=\"#000000\" font-family=\"sans-serif\" font-size=\"14\" lengthAdjust=\"spacingAndGlyphs\" textLength=\"87\" x=\"169\" y=\"193.8232\">Teilnehmer2</text><polygon fill=\"#A80036\" points=\"202.5,65.2969,212.5,69.2969,202.5,73.2969,206.5,69.2969\" style=\"stroke: #A80036; stroke-width: 1.0;\"/><line style=\"stroke: #A80036; stroke-width: 1.0;\" x1=\"60.5\" x2=\"208.5\" y1=\"69.2969\" y2=\"69.2969\"/><text fill=\"#000000\" font-family=\"sans-serif\" font-size=\"13\" lengthAdjust=\"spacingAndGlyphs\" textLength=\"61\" x=\"67.5\" y=\"64.3638\">Nachricht</text><polygon fill=\"#A80036\" points=\"71.5,94.4297,61.5,98.4297,71.5,102.4297,67.5,98.4297\" style=\"stroke: #A80036; stroke-width: 1.0;\"/><line style=\"stroke: #A80036; stroke-width: 1.0;\" x1=\"65.5\" x2=\"213.5\" y1=\"98.4297\" y2=\"98.4297\"/><text fill=\"#000000\" font-family=\"sans-serif\" font-size=\"13\" lengthAdjust=\"spacingAndGlyphs\" textLength=\"49\" x=\"77.5\" y=\"93.4966\">Antwort</text><polygon fill=\"#A80036\" points=\"202.5,123.5625,212.5,127.5625,202.5,131.5625,206.5,127.5625\" style=\"stroke: #A80036; stroke-width: 1.0;\"/><line style=\"stroke: #A80036; stroke-width: 1.0;\" x1=\"60.5\" x2=\"208.5\" y1=\"127.5625\" y2=\"127.5625\"/><text fill=\"#000000\" font-family=\"sans-serif\" font-size=\"13\" lengthAdjust=\"spacingAndGlyphs\" textLength=\"127\" x=\"67.5\" y=\"122.6294\">noch eine Nachricht</text><polygon fill=\"#A80036\" points=\"71.5,152.6953,61.5,156.6953,71.5,160.6953,67.5,156.6953\" style=\"stroke: #A80036; stroke-width: 1.0;\"/><line style=\"stroke: #A80036; stroke-width: 1.0;\" x1=\"65.5\" x2=\"213.5\" y1=\"156.6953\" y2=\"156.6953\"/><text fill=\"#000000\" font-family=\"sans-serif\" font-size=\"13\" lengthAdjust=\"spacingAndGlyphs\" textLength=\"130\" x=\"77.5\" y=\"151.7622\">eine weitere Antwort</text><!--\n",
       "@startuml \n",
       "Teilnehmer1 -> Teilnehmer2: Nachricht\n",
       "Teilnehmer2 -> Teilnehmer1: Antwort\n",
       "\n",
       "Teilnehmer1 -> Teilnehmer2: noch eine Nachricht\n",
       "Teilnehmer1 <- Teilnehmer2: eine weitere Antwort\n",
       "\n",
       "@enduml\n",
       "\n",
       "PlantUML version 1.2017.15(Mon Jul 03 16:45:34 GMT 2017)\n",
       "(GPL source distribution)\n",
       "Java Runtime: OpenJDK Runtime Environment\n",
       "JVM: OpenJDK 64-Bit Server VM\n",
       "Java Version: 11.0.11+9-Ubuntu-0ubuntu2.18.04\n",
       "Operating System: Linux\n",
       "OS Version: 5.4.0-84-generic\n",
       "Default Encoding: UTF-8\n",
       "Language: en\n",
       "Country: null\n",
       "--></g></svg>"
      ],
      "text/plain": [
       "<IPython.core.display.SVG object>"
      ]
     },
     "execution_count": 24,
     "metadata": {},
     "output_type": "execute_result"
    }
   ],
   "source": [
    "%%plantuml\n",
    "Teilnehmer1 -> Teilnehmer2: Nachricht\n",
    "Teilnehmer2 -> Teilnehmer1: Antwort\n",
    "\n",
    "Teilnehmer1 -> Teilnehmer2: noch eine Nachricht\n",
    "Teilnehmer1 <- Teilnehmer2: eine weitere Antwort"
   ]
  },
  {
   "cell_type": "markdown",
   "metadata": {},
   "source": [
    "Es sind auch Nachrichten an sich selbst möglich."
   ]
  },
  {
   "cell_type": "code",
   "execution_count": 19,
   "metadata": {},
   "outputs": [
    {
     "data": {
      "image/svg+xml": [
       "<svg contentScriptType=\"application/ecmascript\" contentStyleType=\"text/css\" height=\"155px\" preserveAspectRatio=\"none\" style=\"width:160px;height:155px;\" version=\"1.1\" viewBox=\"0 0 160 155\" width=\"160px\" xmlns=\"http://www.w3.org/2000/svg\" xmlns:xlink=\"http://www.w3.org/1999/xlink\" zoomAndPan=\"magnify\"><defs><filter height=\"300%\" id=\"f17lyoq2b8yg4m\" width=\"300%\" x=\"-1\" y=\"-1\"><feGaussianBlur result=\"blurOut\" stdDeviation=\"2.0\"/><feColorMatrix in=\"blurOut\" result=\"blurOut2\" type=\"matrix\" values=\"0 0 0 0 0 0 0 0 0 0 0 0 0 0 0 0 0 0 .4 0\"/><feOffset dx=\"4.0\" dy=\"4.0\" in=\"blurOut2\" result=\"blurOut3\"/><feBlend in=\"SourceGraphic\" in2=\"blurOut3\" mode=\"normal\"/></filter></defs><g><line style=\"stroke: #A80036; stroke-width: 1.0; stroke-dasharray: 5.0,5.0;\" x1=\"56\" x2=\"56\" y1=\"38.2969\" y2=\"115.5625\"/><rect fill=\"#FEFECE\" filter=\"url(#f17lyoq2b8yg4m)\" height=\"30.2969\" style=\"stroke: #A80036; stroke-width: 1.5;\" width=\"92\" x=\"8\" y=\"3\"/><text fill=\"#000000\" font-family=\"sans-serif\" font-size=\"14\" lengthAdjust=\"spacingAndGlyphs\" textLength=\"78\" x=\"15\" y=\"22.9951\">Teilnehmer</text><rect fill=\"#FEFECE\" filter=\"url(#f17lyoq2b8yg4m)\" height=\"30.2969\" style=\"stroke: #A80036; stroke-width: 1.5;\" width=\"92\" x=\"8\" y=\"114.5625\"/><text fill=\"#000000\" font-family=\"sans-serif\" font-size=\"14\" lengthAdjust=\"spacingAndGlyphs\" textLength=\"78\" x=\"15\" y=\"134.5576\">Teilnehmer</text><line style=\"stroke: #A80036; stroke-width: 1.0;\" x1=\"56\" x2=\"98\" y1=\"84.5625\" y2=\"84.5625\"/><line style=\"stroke: #A80036; stroke-width: 1.0;\" x1=\"98\" x2=\"98\" y1=\"84.5625\" y2=\"97.5625\"/><line style=\"stroke: #A80036; stroke-width: 1.0;\" x1=\"57\" x2=\"98\" y1=\"97.5625\" y2=\"97.5625\"/><polygon fill=\"#A80036\" points=\"67,93.5625,57,97.5625,67,101.5625,63,97.5625\" style=\"stroke: #A80036; stroke-width: 1.0;\"/><text fill=\"#000000\" font-family=\"sans-serif\" font-size=\"13\" lengthAdjust=\"spacingAndGlyphs\" textLength=\"81\" x=\"63\" y=\"64.3638\">Nachricht an</text><text fill=\"#000000\" font-family=\"sans-serif\" font-size=\"13\" lengthAdjust=\"spacingAndGlyphs\" textLength=\"73\" x=\"63\" y=\"79.4966\">mich selbst</text><!--\n",
       "@startuml \n",
       "Teilnehmer -> Teilnehmer: Nachricht an \\nmich selbst\n",
       "\n",
       "@enduml\n",
       "\n",
       "PlantUML version 1.2017.15(Mon Jul 03 16:45:34 GMT 2017)\n",
       "(GPL source distribution)\n",
       "Java Runtime: OpenJDK Runtime Environment\n",
       "JVM: OpenJDK 64-Bit Server VM\n",
       "Java Version: 11.0.11+9-Ubuntu-0ubuntu2.18.04\n",
       "Operating System: Linux\n",
       "OS Version: 5.4.0-84-generic\n",
       "Default Encoding: UTF-8\n",
       "Language: en\n",
       "Country: null\n",
       "--></g></svg>"
      ],
      "text/plain": [
       "<IPython.core.display.SVG object>"
      ]
     },
     "execution_count": 19,
     "metadata": {},
     "output_type": "execute_result"
    }
   ],
   "source": [
    "%%plantuml\n",
    "Teilnehmer -> Teilnehmer: Nachricht an \\nmich selbst"
   ]
  },
  {
   "cell_type": "markdown",
   "metadata": {},
   "source": [
    "## Deklaration eines Teilnehmers\n",
    "Die reihenfolge im Diagramm ist abhängig von der Reihenfolge der Deklaration.  \n",
    "Das Schlüsselwort ``order`` funktioniert in Jupyter Notebook nicht.  \n",
    "\n",
    "Folgende Schlüsselwörter deklarieren einen Teilnehmer  \n",
    "* ``actor``\n",
    "* ``boundary``\n",
    "* ``control``\n",
    "* ``entity``\n",
    "* ``database``\n",
    "* ``collections``\n",
    "* ``queue``\n",
    "\n",
    "Teilnehmer können mittels ``as`` umbenannt werden.  \n",
    "Für die Verwendung von nicht-alphanumerischen Zeichen (Klammern oder Zeilenumbrüche) müssen Anführungszeichen bei der Deklaration verwendet werden.\n",
    "\n",
    "Teilnehmer müssen nicht explizit deklariert werden.  "
   ]
  },
  {
   "cell_type": "code",
   "execution_count": 10,
   "metadata": {},
   "outputs": [
    {
     "data": {
      "image/svg+xml": [
       "<svg contentScriptType=\"application/ecmascript\" contentStyleType=\"text/css\" height=\"397px\" preserveAspectRatio=\"none\" style=\"width:631px;height:397px;\" version=\"1.1\" viewBox=\"0 0 631 397\" width=\"631px\" xmlns=\"http://www.w3.org/2000/svg\" xmlns:xlink=\"http://www.w3.org/1999/xlink\" zoomAndPan=\"magnify\"><defs><filter height=\"300%\" id=\"fixf2w66pkcg2\" width=\"300%\" x=\"-1\" y=\"-1\"><feGaussianBlur result=\"blurOut\" stdDeviation=\"2.0\"/><feColorMatrix in=\"blurOut\" result=\"blurOut2\" type=\"matrix\" values=\"0 0 0 0 0 0 0 0 0 0 0 0 0 0 0 0 0 0 .4 0\"/><feOffset dx=\"4.0\" dy=\"4.0\" in=\"blurOut2\" result=\"blurOut3\"/><feBlend in=\"SourceGraphic\" in2=\"blurOut3\" mode=\"normal\"/></filter></defs><g><line style=\"stroke: #A80036; stroke-width: 1.0; stroke-dasharray: 5.0,5.0;\" x1=\"53\" x2=\"53\" y1=\"86.2969\" y2=\"310.2266\"/><line style=\"stroke: #A80036; stroke-width: 1.0; stroke-dasharray: 5.0,5.0;\" x1=\"129\" x2=\"129\" y1=\"86.2969\" y2=\"310.2266\"/><line style=\"stroke: #A80036; stroke-width: 1.0; stroke-dasharray: 5.0,5.0;\" x1=\"196\" x2=\"196\" y1=\"86.2969\" y2=\"310.2266\"/><line style=\"stroke: #A80036; stroke-width: 1.0; stroke-dasharray: 5.0,5.0;\" x1=\"270\" x2=\"270\" y1=\"86.2969\" y2=\"310.2266\"/><line style=\"stroke: #A80036; stroke-width: 1.0; stroke-dasharray: 5.0,5.0;\" x1=\"330\" x2=\"330\" y1=\"86.2969\" y2=\"310.2266\"/><line style=\"stroke: #A80036; stroke-width: 1.0; stroke-dasharray: 5.0,5.0;\" x1=\"398\" x2=\"398\" y1=\"86.2969\" y2=\"310.2266\"/><line style=\"stroke: #A80036; stroke-width: 1.0; stroke-dasharray: 5.0,5.0;\" x1=\"493\" x2=\"493\" y1=\"86.2969\" y2=\"310.2266\"/><line style=\"stroke: #A80036; stroke-width: 1.0; stroke-dasharray: 5.0,5.0;\" x1=\"585\" x2=\"585\" y1=\"86.2969\" y2=\"310.2266\"/><rect fill=\"#FEFECE\" filter=\"url(#fixf2w66pkcg2)\" height=\"30.2969\" style=\"stroke: #A80036; stroke-width: 1.5;\" width=\"86\" x=\"8\" y=\"51\"/><text fill=\"#000000\" font-family=\"sans-serif\" font-size=\"14\" lengthAdjust=\"spacingAndGlyphs\" textLength=\"72\" x=\"15\" y=\"70.9951\">Participant</text><rect fill=\"#FEFECE\" filter=\"url(#fixf2w66pkcg2)\" height=\"30.2969\" style=\"stroke: #A80036; stroke-width: 1.5;\" width=\"86\" x=\"8\" y=\"309.2266\"/><text fill=\"#000000\" font-family=\"sans-serif\" font-size=\"14\" lengthAdjust=\"spacingAndGlyphs\" textLength=\"72\" x=\"15\" y=\"329.2217\">Participant</text><text fill=\"#000000\" font-family=\"sans-serif\" font-size=\"14\" lengthAdjust=\"spacingAndGlyphs\" textLength=\"36\" x=\"108\" y=\"82.9951\">Actor</text><ellipse cx=\"129\" cy=\"13\" fill=\"#FEFECE\" filter=\"url(#fixf2w66pkcg2)\" rx=\"8\" ry=\"8\" style=\"stroke: #A80036; stroke-width: 2.0;\"/><path d=\"M129,21 L129,48 M116,29 L142,29 M129,48 L116,63 M129,48 L142,63 \" fill=\"#FEFECE\" filter=\"url(#fixf2w66pkcg2)\" style=\"stroke: #A80036; stroke-width: 2.0;\"/><text fill=\"#000000\" font-family=\"sans-serif\" font-size=\"14\" lengthAdjust=\"spacingAndGlyphs\" textLength=\"36\" x=\"108\" y=\"322.2217\">Actor</text><ellipse cx=\"129\" cy=\"335.5234\" fill=\"#FEFECE\" filter=\"url(#fixf2w66pkcg2)\" rx=\"8\" ry=\"8\" style=\"stroke: #A80036; stroke-width: 2.0;\"/><path d=\"M129,343.5234 L129,370.5234 M116,351.5234 L142,351.5234 M129,370.5234 L116,385.5234 M129,370.5234 L142,385.5234 \" fill=\"#FEFECE\" filter=\"url(#fixf2w66pkcg2)\" style=\"stroke: #A80036; stroke-width: 2.0;\"/><text fill=\"#000000\" font-family=\"sans-serif\" font-size=\"14\" lengthAdjust=\"spacingAndGlyphs\" textLength=\"66\" x=\"160\" y=\"82.9951\">Boundary</text><path d=\"M175.5,42 L175.5,66 M175.5,54 L192.5,54 \" fill=\"#FEFECE\" filter=\"url(#fixf2w66pkcg2)\" style=\"stroke: #A80036; stroke-width: 2.0;\"/><ellipse cx=\"204.5\" cy=\"54\" fill=\"#FEFECE\" filter=\"url(#fixf2w66pkcg2)\" rx=\"12\" ry=\"12\" style=\"stroke: #A80036; stroke-width: 2.0;\"/><text fill=\"#000000\" font-family=\"sans-serif\" font-size=\"14\" lengthAdjust=\"spacingAndGlyphs\" textLength=\"66\" x=\"160\" y=\"322.2217\">Boundary</text><path d=\"M175.5,329.5234 L175.5,353.5234 M175.5,341.5234 L192.5,341.5234 \" fill=\"#FEFECE\" filter=\"url(#fixf2w66pkcg2)\" style=\"stroke: #A80036; stroke-width: 2.0;\"/><ellipse cx=\"204.5\" cy=\"341.5234\" fill=\"#FEFECE\" filter=\"url(#fixf2w66pkcg2)\" rx=\"12\" ry=\"12\" style=\"stroke: #A80036; stroke-width: 2.0;\"/><text fill=\"#000000\" font-family=\"sans-serif\" font-size=\"14\" lengthAdjust=\"spacingAndGlyphs\" textLength=\"50\" x=\"242\" y=\"82.9951\">Control</text><ellipse cx=\"270\" cy=\"54\" fill=\"#FEFECE\" filter=\"url(#fixf2w66pkcg2)\" rx=\"12\" ry=\"12\" style=\"stroke: #A80036; stroke-width: 2.0;\"/><polygon fill=\"#A80036\" points=\"266,42,272,37,270,42,272,47,266,42\" style=\"stroke: #A80036; stroke-width: 1.0;\"/><text fill=\"#000000\" font-family=\"sans-serif\" font-size=\"14\" lengthAdjust=\"spacingAndGlyphs\" textLength=\"50\" x=\"242\" y=\"322.2217\">Control</text><ellipse cx=\"270\" cy=\"341.5234\" fill=\"#FEFECE\" filter=\"url(#fixf2w66pkcg2)\" rx=\"12\" ry=\"12\" style=\"stroke: #A80036; stroke-width: 2.0;\"/><polygon fill=\"#A80036\" points=\"266,329.5234,272,324.5234,270,329.5234,272,334.5234,266,329.5234\" style=\"stroke: #A80036; stroke-width: 1.0;\"/><text fill=\"#000000\" font-family=\"sans-serif\" font-size=\"14\" lengthAdjust=\"spacingAndGlyphs\" textLength=\"38\" x=\"308\" y=\"82.9951\">Entity</text><ellipse cx=\"330\" cy=\"54\" fill=\"#FEFECE\" filter=\"url(#fixf2w66pkcg2)\" rx=\"12\" ry=\"12\" style=\"stroke: #A80036; stroke-width: 2.0;\"/><line style=\"stroke: #A80036; stroke-width: 2.0;\" x1=\"318\" x2=\"342\" y1=\"68\" y2=\"68\"/><text fill=\"#000000\" font-family=\"sans-serif\" font-size=\"14\" lengthAdjust=\"spacingAndGlyphs\" textLength=\"38\" x=\"308\" y=\"322.2217\">Entity</text><ellipse cx=\"330\" cy=\"341.5234\" fill=\"#FEFECE\" filter=\"url(#fixf2w66pkcg2)\" rx=\"12\" ry=\"12\" style=\"stroke: #A80036; stroke-width: 2.0;\"/><line style=\"stroke: #A80036; stroke-width: 2.0;\" x1=\"318\" x2=\"342\" y1=\"355.5234\" y2=\"355.5234\"/><text fill=\"#000000\" font-family=\"sans-serif\" font-size=\"14\" lengthAdjust=\"spacingAndGlyphs\" textLength=\"66\" x=\"362\" y=\"82.9951\">Database</text><path d=\"M380,34 C380,24 398,24 398,24 C398,24 416,24 416,34 L416,60 C416,70 398,70 398,70 C398,70 380,70 380,60 L380,34 \" fill=\"#FEFECE\" filter=\"url(#fixf2w66pkcg2)\" style=\"stroke: #000000; stroke-width: 1.5;\"/><path d=\"M380,34 C380,44 398,44 398,44 C398,44 416,44 416,34 \" fill=\"none\" style=\"stroke: #000000; stroke-width: 1.5;\"/><text fill=\"#000000\" font-family=\"sans-serif\" font-size=\"14\" lengthAdjust=\"spacingAndGlyphs\" textLength=\"66\" x=\"362\" y=\"322.2217\">Database</text><path d=\"M380,335.5234 C380,325.5234 398,325.5234 398,325.5234 C398,325.5234 416,325.5234 416,335.5234 L416,361.5234 C416,371.5234 398,371.5234 398,371.5234 C398,371.5234 380,371.5234 380,361.5234 L380,335.5234 \" fill=\"#FEFECE\" filter=\"url(#fixf2w66pkcg2)\" style=\"stroke: #000000; stroke-width: 1.5;\"/><path d=\"M380,335.5234 C380,345.5234 398,345.5234 398,345.5234 C398,345.5234 416,345.5234 416,335.5234 \" fill=\"none\" style=\"stroke: #000000; stroke-width: 1.5;\"/><rect fill=\"#FEFECE\" filter=\"url(#fixf2w66pkcg2)\" height=\"30.2969\" style=\"stroke: #A80036; stroke-width: 1.5;\" width=\"90\" x=\"448\" y=\"47\"/><rect fill=\"#FEFECE\" filter=\"url(#fixf2w66pkcg2)\" height=\"30.2969\" style=\"stroke: #A80036; stroke-width: 1.5;\" width=\"90\" x=\"444\" y=\"51\"/><text fill=\"#000000\" font-family=\"sans-serif\" font-size=\"14\" lengthAdjust=\"spacingAndGlyphs\" textLength=\"76\" x=\"451\" y=\"70.9951\">Collections</text><rect fill=\"#FEFECE\" filter=\"url(#fixf2w66pkcg2)\" height=\"30.2969\" style=\"stroke: #A80036; stroke-width: 1.5;\" width=\"90\" x=\"448\" y=\"309.2266\"/><rect fill=\"#FEFECE\" filter=\"url(#fixf2w66pkcg2)\" height=\"30.2969\" style=\"stroke: #A80036; stroke-width: 1.5;\" width=\"90\" x=\"444\" y=\"313.2266\"/><text fill=\"#000000\" font-family=\"sans-serif\" font-size=\"14\" lengthAdjust=\"spacingAndGlyphs\" textLength=\"76\" x=\"451\" y=\"333.2217\">Collections</text><path d=\"M557,60 L614,60 C619,60 619,73.1484 619,73.1484 C619,73.1484 619,86.2969 614,86.2969 L557,86.2969 C552,86.2969 552,73.1484 552,73.1484 C552,73.1484 552,60 557,60 \" fill=\"#FEFECE\" filter=\"url(#fixf2w66pkcg2)\" style=\"stroke: #A80036; stroke-width: 2.0;\"/><path d=\"M614,60 C609,60 609,73.1484 609,73.1484 C609,86.2969 614,86.2969 614,86.2969 \" fill=\"none\" style=\"stroke: #A80036; stroke-width: 2.0;\"/><text fill=\"#000000\" font-family=\"sans-serif\" font-size=\"14\" lengthAdjust=\"spacingAndGlyphs\" textLength=\"47\" x=\"557\" y=\"77.9951\">Queue</text><path d=\"M557,309.2266 L614,309.2266 C619,309.2266 619,322.375 619,322.375 C619,322.375 619,335.5234 614,335.5234 L557,335.5234 C552,335.5234 552,322.375 552,322.375 C552,322.375 552,309.2266 557,309.2266 \" fill=\"#FEFECE\" filter=\"url(#fixf2w66pkcg2)\" style=\"stroke: #A80036; stroke-width: 2.0;\"/><path d=\"M614,309.2266 C609,309.2266 609,322.375 609,322.375 C609,335.5234 614,335.5234 614,335.5234 \" fill=\"none\" style=\"stroke: #A80036; stroke-width: 2.0;\"/><text fill=\"#000000\" font-family=\"sans-serif\" font-size=\"14\" lengthAdjust=\"spacingAndGlyphs\" textLength=\"47\" x=\"557\" y=\"327.2217\">Queue</text><polygon fill=\"#A80036\" points=\"117,113.2969,127,117.2969,117,121.2969,121,117.2969\" style=\"stroke: #A80036; stroke-width: 1.0;\"/><line style=\"stroke: #A80036; stroke-width: 1.0;\" x1=\"53\" x2=\"123\" y1=\"117.2969\" y2=\"117.2969\"/><text fill=\"#000000\" font-family=\"sans-serif\" font-size=\"13\" lengthAdjust=\"spacingAndGlyphs\" textLength=\"52\" x=\"60\" y=\"112.3638\">To actor</text><polygon fill=\"#A80036\" points=\"184,142.4297,194,146.4297,184,150.4297,188,146.4297\" style=\"stroke: #A80036; stroke-width: 1.0;\"/><line style=\"stroke: #A80036; stroke-width: 1.0;\" x1=\"53\" x2=\"190\" y1=\"146.4297\" y2=\"146.4297\"/><text fill=\"#000000\" font-family=\"sans-serif\" font-size=\"13\" lengthAdjust=\"spacingAndGlyphs\" textLength=\"79\" x=\"60\" y=\"141.4966\">To boundary</text><polygon fill=\"#A80036\" points=\"258,171.5625,268,175.5625,258,179.5625,262,175.5625\" style=\"stroke: #A80036; stroke-width: 1.0;\"/><line style=\"stroke: #A80036; stroke-width: 1.0;\" x1=\"53\" x2=\"264\" y1=\"175.5625\" y2=\"175.5625\"/><text fill=\"#000000\" font-family=\"sans-serif\" font-size=\"13\" lengthAdjust=\"spacingAndGlyphs\" textLength=\"63\" x=\"60\" y=\"170.6294\">To control</text><polygon fill=\"#A80036\" points=\"318,200.6953,328,204.6953,318,208.6953,322,204.6953\" style=\"stroke: #A80036; stroke-width: 1.0;\"/><line style=\"stroke: #A80036; stroke-width: 1.0;\" x1=\"53\" x2=\"324\" y1=\"204.6953\" y2=\"204.6953\"/><text fill=\"#000000\" font-family=\"sans-serif\" font-size=\"13\" lengthAdjust=\"spacingAndGlyphs\" textLength=\"55\" x=\"60\" y=\"199.7622\">To entity</text><polygon fill=\"#A80036\" points=\"386,229.8281,396,233.8281,386,237.8281,390,233.8281\" style=\"stroke: #A80036; stroke-width: 1.0;\"/><line style=\"stroke: #A80036; stroke-width: 1.0;\" x1=\"53\" x2=\"392\" y1=\"233.8281\" y2=\"233.8281\"/><text fill=\"#000000\" font-family=\"sans-serif\" font-size=\"13\" lengthAdjust=\"spacingAndGlyphs\" textLength=\"79\" x=\"60\" y=\"228.895\">To database</text><polygon fill=\"#A80036\" points=\"481,258.9609,491,262.9609,481,266.9609,485,262.9609\" style=\"stroke: #A80036; stroke-width: 1.0;\"/><line style=\"stroke: #A80036; stroke-width: 1.0;\" x1=\"53\" x2=\"487\" y1=\"262.9609\" y2=\"262.9609\"/><text fill=\"#000000\" font-family=\"sans-serif\" font-size=\"13\" lengthAdjust=\"spacingAndGlyphs\" textLength=\"86\" x=\"60\" y=\"258.0278\">To collections</text><polygon fill=\"#A80036\" points=\"573.5,288.0938,583.5,292.0938,573.5,296.0938,577.5,292.0938\" style=\"stroke: #A80036; stroke-width: 1.0;\"/><line style=\"stroke: #A80036; stroke-width: 1.0;\" x1=\"53\" x2=\"579.5\" y1=\"292.0938\" y2=\"292.0938\"/><text fill=\"#000000\" font-family=\"sans-serif\" font-size=\"13\" lengthAdjust=\"spacingAndGlyphs\" textLength=\"59\" x=\"60\" y=\"287.1606\">To queue</text><!--\n",
       "@startuml \n",
       "participant Participant as Foo\n",
       "actor       Actor       as Foo1\n",
       "boundary    Boundary    as Foo2\n",
       "control     Control     as Foo3\n",
       "entity      Entity      as Foo4\n",
       "database    Database    as Foo5\n",
       "collections Collections as Foo6\n",
       "queue       Queue       as Foo7\n",
       "Foo -> Foo1 : To actor \n",
       "Foo -> Foo2 : To boundary\n",
       "Foo -> Foo3 : To control\n",
       "Foo -> Foo4 : To entity\n",
       "Foo -> Foo5 : To database\n",
       "Foo -> Foo6 : To collections\n",
       "Foo -> Foo7: To queue\n",
       "\n",
       "@enduml\n",
       "\n",
       "PlantUML version 1.2017.15(Mon Jul 03 16:45:34 GMT 2017)\n",
       "(GPL source distribution)\n",
       "Java Runtime: OpenJDK Runtime Environment\n",
       "JVM: OpenJDK 64-Bit Server VM\n",
       "Java Version: 11.0.11+9-Ubuntu-0ubuntu2.18.04\n",
       "Operating System: Linux\n",
       "OS Version: 5.4.0-84-generic\n",
       "Default Encoding: UTF-8\n",
       "Language: en\n",
       "Country: null\n",
       "--></g></svg>"
      ],
      "text/plain": [
       "<IPython.core.display.SVG object>"
      ]
     },
     "execution_count": 10,
     "metadata": {},
     "output_type": "execute_result"
    }
   ],
   "source": [
    "%%plantuml\n",
    "participant Participant as Foo\n",
    "actor       Actor       as Foo1\n",
    "boundary    Boundary    as Foo2\n",
    "control     Control     as Foo3\n",
    "entity      Entity      as Foo4\n",
    "database    Database    as Foo5\n",
    "collections Collections as Foo6\n",
    "queue       Queue       as Foo7\n",
    "Foo -> Foo1 : To actor \n",
    "Foo -> Foo2 : To boundary\n",
    "Foo -> Foo3 : To control\n",
    "Foo -> Foo4 : To entity\n",
    "Foo -> Foo5 : To database\n",
    "Foo -> Foo6 : To collections\n",
    "Foo -> Foo7: To queue"
   ]
  },
  {
   "cell_type": "markdown",
   "metadata": {},
   "source": [
    "## Pfeilarten\n",
    "\n",
    "- ``->`` normale Nachricht\n",
    "- ``->x`` verloren gegangene Nachricht\n",
    "- ``-\\`` oder ``-/`` nur die jeweils halbe Pfeilspitze\n",
    "- ``->>`` oder ``-//`` eine dünne Pfeilspitze\n",
    "- ``-->`` gestrichelter Pfeil\n",
    "- ``->o`` Kreis am Ende\n",
    "- ``<->`` beidseitiger Pfeil\n",
    "- ``-[#blue]>`` farbiger Pfeil\n",
    "- ``-[#0000ff]>`` farbiger Pfeil"
   ]
  },
  {
   "cell_type": "code",
   "execution_count": 46,
   "metadata": {},
   "outputs": [
    {
     "data": {
      "image/svg+xml": [
       "<svg contentScriptType=\"application/ecmascript\" contentStyleType=\"text/css\" height=\"419px\" preserveAspectRatio=\"none\" style=\"width:280px;height:419px;\" version=\"1.1\" viewBox=\"0 0 280 419\" width=\"280px\" xmlns=\"http://www.w3.org/2000/svg\" xmlns:xlink=\"http://www.w3.org/1999/xlink\" zoomAndPan=\"magnify\"><defs><filter height=\"300%\" id=\"fmi7iqyooqvef\" width=\"300%\" x=\"-1\" y=\"-1\"><feGaussianBlur result=\"blurOut\" stdDeviation=\"2.0\"/><feColorMatrix in=\"blurOut\" result=\"blurOut2\" type=\"matrix\" values=\"0 0 0 0 0 0 0 0 0 0 0 0 0 0 0 0 0 0 .4 0\"/><feOffset dx=\"4.0\" dy=\"4.0\" in=\"blurOut2\" result=\"blurOut3\"/><feBlend in=\"SourceGraphic\" in2=\"blurOut3\" mode=\"normal\"/></filter></defs><g><line style=\"stroke: #A80036; stroke-width: 1.0; stroke-dasharray: 5.0,5.0;\" x1=\"33\" x2=\"33\" y1=\"38.2969\" y2=\"378.7578\"/><line style=\"stroke: #A80036; stroke-width: 1.0; stroke-dasharray: 5.0,5.0;\" x1=\"250\" x2=\"250\" y1=\"38.2969\" y2=\"378.7578\"/><rect fill=\"#FEFECE\" filter=\"url(#fmi7iqyooqvef)\" height=\"30.2969\" style=\"stroke: #A80036; stroke-width: 1.5;\" width=\"46\" x=\"8\" y=\"3\"/><text fill=\"#000000\" font-family=\"sans-serif\" font-size=\"14\" lengthAdjust=\"spacingAndGlyphs\" textLength=\"32\" x=\"15\" y=\"22.9951\">Alice</text><rect fill=\"#FEFECE\" filter=\"url(#fmi7iqyooqvef)\" height=\"30.2969\" style=\"stroke: #A80036; stroke-width: 1.5;\" width=\"46\" x=\"8\" y=\"377.7578\"/><text fill=\"#000000\" font-family=\"sans-serif\" font-size=\"14\" lengthAdjust=\"spacingAndGlyphs\" textLength=\"32\" x=\"15\" y=\"397.7529\">Alice</text><rect fill=\"#FEFECE\" filter=\"url(#fmi7iqyooqvef)\" height=\"30.2969\" style=\"stroke: #A80036; stroke-width: 1.5;\" width=\"42\" x=\"227\" y=\"3\"/><text fill=\"#000000\" font-family=\"sans-serif\" font-size=\"14\" lengthAdjust=\"spacingAndGlyphs\" textLength=\"28\" x=\"234\" y=\"22.9951\">Bob</text><rect fill=\"#FEFECE\" filter=\"url(#fmi7iqyooqvef)\" height=\"30.2969\" style=\"stroke: #A80036; stroke-width: 1.5;\" width=\"42\" x=\"227\" y=\"377.7578\"/><text fill=\"#000000\" font-family=\"sans-serif\" font-size=\"14\" lengthAdjust=\"spacingAndGlyphs\" textLength=\"28\" x=\"234\" y=\"397.7529\">Bob</text><polygon fill=\"#A80036\" points=\"238,65.2969,248,69.2969,238,73.2969,242,69.2969\" style=\"stroke: #A80036; stroke-width: 1.0;\"/><line style=\"stroke: #A80036; stroke-width: 1.0;\" x1=\"33\" x2=\"244\" y1=\"69.2969\" y2=\"69.2969\"/><text fill=\"#000000\" font-family=\"sans-serif\" font-size=\"13\" lengthAdjust=\"spacingAndGlyphs\" textLength=\"118\" x=\"40\" y=\"64.3638\">normale Nachricht</text><line style=\"stroke: #A80036; stroke-width: 2.0;\" x1=\"232\" x2=\"242\" y1=\"93.4297\" y2=\"103.4297\"/><line style=\"stroke: #A80036; stroke-width: 2.0;\" x1=\"232\" x2=\"242\" y1=\"103.4297\" y2=\"93.4297\"/><line style=\"stroke: #A80036; stroke-width: 1.0;\" x1=\"33\" x2=\"237\" y1=\"98.4297\" y2=\"98.4297\"/><text fill=\"#000000\" font-family=\"sans-serif\" font-size=\"13\" lengthAdjust=\"spacingAndGlyphs\" textLength=\"193\" x=\"40\" y=\"93.4966\">verloren gegangene Nachricht</text><polygon fill=\"#A80036\" points=\"238,123.5625,248,127.5625,238,127.5625\" style=\"stroke: #A80036; stroke-width: 1.0;\"/><line style=\"stroke: #A80036; stroke-width: 1.0;\" x1=\"33\" x2=\"249\" y1=\"127.5625\" y2=\"127.5625\"/><text fill=\"#000000\" font-family=\"sans-serif\" font-size=\"13\" lengthAdjust=\"spacingAndGlyphs\" textLength=\"106\" x=\"40\" y=\"122.6294\">halber Pfeil oben</text><polygon fill=\"#A80036\" points=\"238,157.6953,248,157.6953,238,161.6953\" style=\"stroke: #A80036; stroke-width: 1.0;\"/><line style=\"stroke: #A80036; stroke-width: 1.0;\" x1=\"33\" x2=\"249\" y1=\"156.6953\" y2=\"156.6953\"/><text fill=\"#000000\" font-family=\"sans-serif\" font-size=\"13\" lengthAdjust=\"spacingAndGlyphs\" textLength=\"111\" x=\"40\" y=\"151.7622\">halber Pfeil unten</text><line style=\"stroke: #A80036; stroke-width: 1.0;\" x1=\"248\" x2=\"238\" y1=\"185.8281\" y2=\"181.8281\"/><line style=\"stroke: #A80036; stroke-width: 1.0;\" x1=\"248\" x2=\"238\" y1=\"185.8281\" y2=\"189.8281\"/><line style=\"stroke: #A80036; stroke-width: 1.0;\" x1=\"33\" x2=\"249\" y1=\"185.8281\" y2=\"185.8281\"/><text fill=\"#000000\" font-family=\"sans-serif\" font-size=\"13\" lengthAdjust=\"spacingAndGlyphs\" textLength=\"108\" x=\"40\" y=\"180.895\">dünne Pfeilspitze</text><line style=\"stroke: #A80036; stroke-width: 1.0;\" x1=\"248\" x2=\"238\" y1=\"214.9609\" y2=\"218.9609\"/><line style=\"stroke: #A80036; stroke-width: 1.0;\" x1=\"33\" x2=\"249\" y1=\"214.9609\" y2=\"214.9609\"/><text fill=\"#000000\" font-family=\"sans-serif\" font-size=\"13\" lengthAdjust=\"spacingAndGlyphs\" textLength=\"147\" x=\"40\" y=\"210.0278\">dünne halbe Pfeilspitze</text><polygon fill=\"#A80036\" points=\"238,240.0938,248,244.0938,238,248.0938,242,244.0938\" style=\"stroke: #A80036; stroke-width: 1.0;\"/><line style=\"stroke: #A80036; stroke-width: 1.0; stroke-dasharray: 2.0,2.0;\" x1=\"33\" x2=\"244\" y1=\"244.0938\" y2=\"244.0938\"/><text fill=\"#000000\" font-family=\"sans-serif\" font-size=\"13\" lengthAdjust=\"spacingAndGlyphs\" textLength=\"110\" x=\"40\" y=\"239.1606\">gestrichelter Pfeil</text><ellipse cx=\"249.5\" cy=\"272.4766\" fill=\"none\" rx=\"4\" ry=\"4\" style=\"stroke: #A80036; stroke-width: 1.5;\"/><polygon fill=\"#A80036\" points=\"232.5,269.2266,242.5,273.2266,232.5,277.2266,236.5,273.2266\" style=\"stroke: #A80036; stroke-width: 1.0;\"/><line style=\"stroke: #A80036; stroke-width: 1.0;\" x1=\"33\" x2=\"238.5\" y1=\"273.2266\" y2=\"273.2266\"/><text fill=\"#000000\" font-family=\"sans-serif\" font-size=\"13\" lengthAdjust=\"spacingAndGlyphs\" textLength=\"92\" x=\"40\" y=\"268.2935\">Kreis am Ende</text><polygon fill=\"#A80036\" points=\"44,298.3594,34,302.3594,44,306.3594,40,302.3594\" style=\"stroke: #A80036; stroke-width: 1.0;\"/><polygon fill=\"#A80036\" points=\"238,298.3594,248,302.3594,238,306.3594,242,302.3594\" style=\"stroke: #A80036; stroke-width: 1.0;\"/><line style=\"stroke: #A80036; stroke-width: 1.0;\" x1=\"38\" x2=\"244\" y1=\"302.3594\" y2=\"302.3594\"/><text fill=\"#000000\" font-family=\"sans-serif\" font-size=\"13\" lengthAdjust=\"spacingAndGlyphs\" textLength=\"104\" x=\"50\" y=\"297.4263\">beidseitiger Pfeil</text><ellipse cx=\"249.5\" cy=\"330.7422\" fill=\"none\" rx=\"4\" ry=\"4\" style=\"stroke: #0000FF; stroke-width: 1.5;\"/><polygon fill=\"#0000FF\" points=\"232.5,327.4922,242.5,331.4922,232.5,335.4922,236.5,331.4922\" style=\"stroke: #0000FF; stroke-width: 1.0;\"/><line style=\"stroke: #0000FF; stroke-width: 1.0; stroke-dasharray: 2.0,2.0;\" x1=\"33\" x2=\"238.5\" y1=\"331.4922\" y2=\"331.4922\"/><text fill=\"#000000\" font-family=\"sans-serif\" font-size=\"13\" lengthAdjust=\"spacingAndGlyphs\" textLength=\"80\" x=\"40\" y=\"326.5591\">Kombination</text><polygon fill=\"#A80036\" points=\"44,356.625,34,360.625,44,364.625,40,360.625\" style=\"stroke: #A80036; stroke-width: 1.0;\"/><line style=\"stroke: #A80036; stroke-width: 2.0;\" x1=\"232\" x2=\"242\" y1=\"355.625\" y2=\"365.625\"/><line style=\"stroke: #A80036; stroke-width: 2.0;\" x1=\"232\" x2=\"242\" y1=\"365.625\" y2=\"355.625\"/><line style=\"stroke: #A80036; stroke-width: 1.0;\" x1=\"38\" x2=\"237\" y1=\"360.625\" y2=\"360.625\"/><text fill=\"#000000\" font-family=\"sans-serif\" font-size=\"13\" lengthAdjust=\"spacingAndGlyphs\" textLength=\"80\" x=\"50\" y=\"355.6919\">Kombination</text><!--\n",
       "@startuml \n",
       "Alice -> Bob: normale Nachricht\n",
       "Alice ->x Bob: verloren gegangene Nachricht\n",
       "Alice -\\ Bob:  halber Pfeil oben\n",
       "Alice -/ Bob:  halber Pfeil unten\n",
       "Alice ->> Bob:  dünne Pfeilspitze\n",
       "Alice -// Bob:  dünne halbe Pfeilspitze\n",
       "Alice - -> Bob:  gestrichelter Pfeil\n",
       "Alice ->o Bob:  Kreis am Ende\n",
       "Alice <-> Bob:  beidseitiger Pfeil\n",
       "Alice -[#blue]->o Bob: Kombination\n",
       "Alice <->x Bob: Kombination\n",
       "\n",
       "@enduml\n",
       "\n",
       "PlantUML version 1.2017.15(Mon Jul 03 16:45:34 GMT 2017)\n",
       "(GPL source distribution)\n",
       "Java Runtime: OpenJDK Runtime Environment\n",
       "JVM: OpenJDK 64-Bit Server VM\n",
       "Java Version: 11.0.11+9-Ubuntu-0ubuntu2.18.04\n",
       "Operating System: Linux\n",
       "OS Version: 5.4.0-84-generic\n",
       "Default Encoding: UTF-8\n",
       "Language: en\n",
       "Country: null\n",
       "--></g></svg>"
      ],
      "text/plain": [
       "<IPython.core.display.SVG object>"
      ]
     },
     "execution_count": 46,
     "metadata": {},
     "output_type": "execute_result"
    }
   ],
   "source": [
    "%%plantuml\n",
    "Alice -> Bob: normale Nachricht\n",
    "Alice ->x Bob: verloren gegangene Nachricht\n",
    "Alice -\\ Bob:  halber Pfeil oben\n",
    "Alice -/ Bob:  halber Pfeil unten\n",
    "Alice ->> Bob:  dünne Pfeilspitze\n",
    "Alice -// Bob:  dünne halbe Pfeilspitze\n",
    "Alice --> Bob:  gestrichelter Pfeil\n",
    "Alice ->o Bob:  Kreis am Ende\n",
    "Alice <-> Bob:  beidseitiger Pfeil\n",
    "Alice -[#blue]->o Bob: Kombination\n",
    "Alice <->x Bob: Kombination"
   ]
  },
  {
   "cell_type": "markdown",
   "metadata": {},
   "source": [
    "## Farben, Zeilenumbrüche und Kommentare:"
   ]
  },
  {
   "cell_type": "code",
   "execution_count": 40,
   "metadata": {
    "scrolled": true
   },
   "outputs": [
    {
     "data": {
      "image/svg+xml": [
       "<svg contentScriptType=\"application/ecmascript\" contentStyleType=\"text/css\" height=\"296px\" preserveAspectRatio=\"none\" style=\"width:359px;height:296px;\" version=\"1.1\" viewBox=\"0 0 359 296\" width=\"359px\" xmlns=\"http://www.w3.org/2000/svg\" xmlns:xlink=\"http://www.w3.org/1999/xlink\" zoomAndPan=\"magnify\"><defs><filter height=\"300%\" id=\"f1o3jrl5yi41us\" width=\"300%\" x=\"-1\" y=\"-1\"><feGaussianBlur result=\"blurOut\" stdDeviation=\"2.0\"/><feColorMatrix in=\"blurOut\" result=\"blurOut2\" type=\"matrix\" values=\"0 0 0 0 0 0 0 0 0 0 0 0 0 0 0 0 0 0 .4 0\"/><feOffset dx=\"4.0\" dy=\"4.0\" in=\"blurOut2\" result=\"blurOut3\"/><feBlend in=\"SourceGraphic\" in2=\"blurOut3\" mode=\"normal\"/></filter></defs><g><line style=\"stroke: #A80036; stroke-width: 1.0; stroke-dasharray: 5.0,5.0;\" x1=\"25\" x2=\"25\" y1=\"86.2969\" y2=\"208.8281\"/><line style=\"stroke: #A80036; stroke-width: 1.0; stroke-dasharray: 5.0,5.0;\" x1=\"208\" x2=\"208\" y1=\"86.2969\" y2=\"208.8281\"/><line style=\"stroke: #A80036; stroke-width: 1.0; stroke-dasharray: 5.0,5.0;\" x1=\"297\" x2=\"297\" y1=\"86.2969\" y2=\"208.8281\"/><text fill=\"#000000\" font-family=\"sans-serif\" font-size=\"14\" lengthAdjust=\"spacingAndGlyphs\" textLength=\"28\" x=\"8\" y=\"82.9951\">Bob</text><ellipse cx=\"25\" cy=\"13\" fill=\"#008000\" filter=\"url(#f1o3jrl5yi41us)\" rx=\"8\" ry=\"8\" style=\"stroke: #A80036; stroke-width: 2.0;\"/><path d=\"M25,21 L25,48 M12,29 L38,29 M25,48 L12,63 M25,48 L38,63 \" fill=\"#008000\" filter=\"url(#f1o3jrl5yi41us)\" style=\"stroke: #A80036; stroke-width: 2.0;\"/><text fill=\"#000000\" font-family=\"sans-serif\" font-size=\"14\" lengthAdjust=\"spacingAndGlyphs\" textLength=\"28\" x=\"8\" y=\"220.8232\">Bob</text><ellipse cx=\"25\" cy=\"234.125\" fill=\"#008000\" filter=\"url(#f1o3jrl5yi41us)\" rx=\"8\" ry=\"8\" style=\"stroke: #A80036; stroke-width: 2.0;\"/><path d=\"M25,242.125 L25,269.125 M12,250.125 L38,250.125 M25,269.125 L12,284.125 M25,269.125 L38,284.125 \" fill=\"#008000\" filter=\"url(#f1o3jrl5yi41us)\" style=\"stroke: #A80036; stroke-width: 2.0;\"/><rect fill=\"#FEFECE\" filter=\"url(#f1o3jrl5yi41us)\" height=\"30.2969\" style=\"stroke: #A80036; stroke-width: 1.5;\" width=\"46\" x=\"183\" y=\"51\"/><text fill=\"#000000\" font-family=\"sans-serif\" font-size=\"14\" lengthAdjust=\"spacingAndGlyphs\" textLength=\"32\" x=\"190\" y=\"70.9951\">Alice</text><rect fill=\"#FEFECE\" filter=\"url(#f1o3jrl5yi41us)\" height=\"30.2969\" style=\"stroke: #A80036; stroke-width: 1.5;\" width=\"46\" x=\"183\" y=\"207.8281\"/><text fill=\"#000000\" font-family=\"sans-serif\" font-size=\"14\" lengthAdjust=\"spacingAndGlyphs\" textLength=\"32\" x=\"190\" y=\"227.8232\">Alice</text><rect fill=\"#99FF99\" filter=\"url(#f1o3jrl5yi41us)\" height=\"46.5938\" style=\"stroke: #A80036; stroke-width: 1.5;\" width=\"105\" x=\"243\" y=\"34.7031\"/><text fill=\"#000000\" font-family=\"sans-serif\" font-size=\"14\" lengthAdjust=\"spacingAndGlyphs\" textLength=\"91\" x=\"250\" y=\"54.6982\">I have a really</text><text fill=\"#000000\" font-family=\"sans-serif\" font-size=\"14\" lengthAdjust=\"spacingAndGlyphs\" textLength=\"73\" x=\"259\" y=\"70.9951\">long name</text><rect fill=\"#99FF99\" filter=\"url(#f1o3jrl5yi41us)\" height=\"46.5938\" style=\"stroke: #A80036; stroke-width: 1.5;\" width=\"105\" x=\"243\" y=\"207.8281\"/><text fill=\"#000000\" font-family=\"sans-serif\" font-size=\"14\" lengthAdjust=\"spacingAndGlyphs\" textLength=\"91\" x=\"250\" y=\"227.8232\">I have a really</text><text fill=\"#000000\" font-family=\"sans-serif\" font-size=\"14\" lengthAdjust=\"spacingAndGlyphs\" textLength=\"73\" x=\"259\" y=\"244.1201\">long name</text><polygon fill=\"#A80036\" points=\"36,113.2969,26,117.2969,36,121.2969,32,117.2969\" style=\"stroke: #A80036; stroke-width: 1.0;\"/><line style=\"stroke: #A80036; stroke-width: 1.0;\" x1=\"30\" x2=\"207\" y1=\"117.2969\" y2=\"117.2969\"/><text fill=\"#000000\" font-family=\"sans-serif\" font-size=\"13\" lengthAdjust=\"spacingAndGlyphs\" textLength=\"149\" x=\"42\" y=\"112.3638\">Authentication Request</text><polygon fill=\"#A80036\" points=\"196,142.4297,206,146.4297,196,150.4297,200,146.4297\" style=\"stroke: #A80036; stroke-width: 1.0;\"/><line style=\"stroke: #A80036; stroke-width: 1.0;\" x1=\"25\" x2=\"202\" y1=\"146.4297\" y2=\"146.4297\"/><text fill=\"#000000\" font-family=\"sans-serif\" font-size=\"13\" lengthAdjust=\"spacingAndGlyphs\" textLength=\"159\" x=\"32\" y=\"141.4966\">Authentication Response</text><polygon fill=\"#A80036\" points=\"285.5,186.5625,295.5,190.5625,285.5,194.5625,289.5,190.5625\" style=\"stroke: #A80036; stroke-width: 1.0;\"/><line style=\"stroke: #A80036; stroke-width: 1.0;\" x1=\"25\" x2=\"291.5\" y1=\"190.5625\" y2=\"190.5625\"/><text fill=\"#000000\" font-family=\"sans-serif\" font-size=\"13\" lengthAdjust=\"spacingAndGlyphs\" textLength=\"23\" x=\"32\" y=\"170.6294\">Log</text><text fill=\"#000000\" font-family=\"sans-serif\" font-size=\"13\" lengthAdjust=\"spacingAndGlyphs\" textLength=\"72\" x=\"32\" y=\"185.7622\">transaction</text><!--\n",
       "@startuml \n",
       "actor Bob #green\n",
       "' The only difference between actor\n",
       "'and participant is the drawing\n",
       "participant Alice\n",
       "participant \"I have a really\\nlong name\" as L #99FF99\n",
       "/' You can also declare:\n",
       "   participant L as \"I have a really\\nlong name\"  #99FF99\n",
       "  '/\n",
       "\n",
       "Alice->Bob: Authentication Request\n",
       "Bob->Alice: Authentication Response\n",
       "Bob->L: Log \\ntransaction\n",
       "\n",
       "@enduml\n",
       "\n",
       "PlantUML version 1.2017.15(Mon Jul 03 16:45:34 GMT 2017)\n",
       "(GPL source distribution)\n",
       "Java Runtime: OpenJDK Runtime Environment\n",
       "JVM: OpenJDK 64-Bit Server VM\n",
       "Java Version: 11.0.11+9-Ubuntu-0ubuntu2.18.04\n",
       "Operating System: Linux\n",
       "OS Version: 5.4.0-84-generic\n",
       "Default Encoding: UTF-8\n",
       "Language: en\n",
       "Country: null\n",
       "--></g></svg>"
      ],
      "text/plain": [
       "<IPython.core.display.SVG object>"
      ]
     },
     "execution_count": 40,
     "metadata": {},
     "output_type": "execute_result"
    }
   ],
   "source": [
    "%%plantuml\n",
    "actor Bob #green\n",
    "' The only difference between actor\n",
    "'and participant is the drawing\n",
    "participant Alice\n",
    "participant \"I have a really\\nlong name\" as L #99FF99\n",
    "/' You can also declare:\n",
    "   participant L as \"I have a really\\nlong name\"  #99FF99\n",
    "  '/\n",
    "\n",
    "Alice->Bob: Authentication Request\n",
    "Bob->Alice: Authentication Response\n",
    "Bob->L: Log \\ntransaction"
   ]
  },
  {
   "cell_type": "markdown",
   "metadata": {},
   "source": [
    "## Textausrichtung\n",
    "``skinparam`` erlaubt diverse weitere Einstellungen siehe: https://plantuml.com/de/skinparam  \n",
    "\n",
    "* sequenceMessageAlign ``left``, ``right``, ``center``, ``direction`` oder ``reverseDirection``"
   ]
  },
  {
   "cell_type": "code",
   "execution_count": 23,
   "metadata": {},
   "outputs": [
    {
     "data": {
      "image/svg+xml": [
       "<svg contentScriptType=\"application/ecmascript\" contentStyleType=\"text/css\" height=\"156px\" preserveAspectRatio=\"none\" style=\"width:149px;height:156px;\" version=\"1.1\" viewBox=\"0 0 149 156\" width=\"149px\" xmlns=\"http://www.w3.org/2000/svg\" xmlns:xlink=\"http://www.w3.org/1999/xlink\" zoomAndPan=\"magnify\"><defs><filter height=\"300%\" id=\"fc17ywgutmw2d\" width=\"300%\" x=\"-1\" y=\"-1\"><feGaussianBlur result=\"blurOut\" stdDeviation=\"2.0\"/><feColorMatrix in=\"blurOut\" result=\"blurOut2\" type=\"matrix\" values=\"0 0 0 0 0 0 0 0 0 0 0 0 0 0 0 0 0 0 .4 0\"/><feOffset dx=\"4.0\" dy=\"4.0\" in=\"blurOut2\" result=\"blurOut3\"/><feBlend in=\"SourceGraphic\" in2=\"blurOut3\" mode=\"normal\"/></filter></defs><g><line style=\"stroke: #A80036; stroke-width: 1.0; stroke-dasharray: 5.0,5.0;\" x1=\"31\" x2=\"31\" y1=\"38.2969\" y2=\"116.5625\"/><line style=\"stroke: #A80036; stroke-width: 1.0; stroke-dasharray: 5.0,5.0;\" x1=\"117\" x2=\"117\" y1=\"38.2969\" y2=\"116.5625\"/><rect fill=\"#FEFECE\" filter=\"url(#fc17ywgutmw2d)\" height=\"30.2969\" style=\"stroke: #A80036; stroke-width: 1.5;\" width=\"42\" x=\"8\" y=\"3\"/><text fill=\"#000000\" font-family=\"sans-serif\" font-size=\"14\" lengthAdjust=\"spacingAndGlyphs\" textLength=\"28\" x=\"15\" y=\"22.9951\">Bob</text><rect fill=\"#FEFECE\" filter=\"url(#fc17ywgutmw2d)\" height=\"30.2969\" style=\"stroke: #A80036; stroke-width: 1.5;\" width=\"42\" x=\"8\" y=\"115.5625\"/><text fill=\"#000000\" font-family=\"sans-serif\" font-size=\"14\" lengthAdjust=\"spacingAndGlyphs\" textLength=\"28\" x=\"15\" y=\"135.5576\">Bob</text><rect fill=\"#FEFECE\" filter=\"url(#fc17ywgutmw2d)\" height=\"30.2969\" style=\"stroke: #A80036; stroke-width: 1.5;\" width=\"46\" x=\"92\" y=\"3\"/><text fill=\"#000000\" font-family=\"sans-serif\" font-size=\"14\" lengthAdjust=\"spacingAndGlyphs\" textLength=\"32\" x=\"99\" y=\"22.9951\">Alice</text><rect fill=\"#FEFECE\" filter=\"url(#fc17ywgutmw2d)\" height=\"30.2969\" style=\"stroke: #A80036; stroke-width: 1.5;\" width=\"46\" x=\"92\" y=\"115.5625\"/><text fill=\"#000000\" font-family=\"sans-serif\" font-size=\"14\" lengthAdjust=\"spacingAndGlyphs\" textLength=\"32\" x=\"99\" y=\"135.5576\">Alice</text><polygon fill=\"#A80036\" points=\"105,65.2969,115,69.2969,105,73.2969,109,69.2969\" style=\"stroke: #A80036; stroke-width: 1.0;\"/><line style=\"stroke: #A80036; stroke-width: 1.0;\" x1=\"31\" x2=\"111\" y1=\"69.2969\" y2=\"69.2969\"/><text fill=\"#000000\" font-family=\"sans-serif\" font-size=\"13\" lengthAdjust=\"spacingAndGlyphs\" textLength=\"52\" x=\"48\" y=\"64.3638\">Request</text><polygon fill=\"#A80036\" points=\"42,94.4297,32,98.4297,42,102.4297,38,98.4297\" style=\"stroke: #A80036; stroke-width: 1.0;\"/><line style=\"stroke: #A80036; stroke-width: 1.0;\" x1=\"36\" x2=\"116\" y1=\"98.4297\" y2=\"98.4297\"/><text fill=\"#000000\" font-family=\"sans-serif\" font-size=\"13\" lengthAdjust=\"spacingAndGlyphs\" textLength=\"62\" x=\"48\" y=\"93.4966\">Response</text><!--\n",
       "@startuml \n",
       "skinparam sequenceMessageAlign right\n",
       "Bob -> Alice : Request\n",
       "Alice -> Bob : Response\n",
       "\n",
       "@enduml\n",
       "\n",
       "PlantUML version 1.2017.15(Mon Jul 03 16:45:34 GMT 2017)\n",
       "(GPL source distribution)\n",
       "Java Runtime: OpenJDK Runtime Environment\n",
       "JVM: OpenJDK 64-Bit Server VM\n",
       "Java Version: 11.0.11+9-Ubuntu-0ubuntu2.18.04\n",
       "Operating System: Linux\n",
       "OS Version: 5.4.0-84-generic\n",
       "Default Encoding: UTF-8\n",
       "Language: en\n",
       "Country: null\n",
       "--></g></svg>"
      ],
      "text/plain": [
       "<IPython.core.display.SVG object>"
      ]
     },
     "execution_count": 23,
     "metadata": {},
     "output_type": "execute_result"
    }
   ],
   "source": [
    "%%plantuml\n",
    "skinparam sequenceMessageAlign right\n",
    "Bob -> Alice : Request\n",
    "Alice -> Bob : Response"
   ]
  },
  {
   "cell_type": "markdown",
   "metadata": {},
   "source": [
    "## Gruppierung von Nachrichten\n",
    "\n",
    "### Seiten\n",
    "\n",
    "Das ``newpage`` Schlüsselwort wird verwendet, um ein Diagramm in mehrere Bilder aufzuteilen.\n",
    "Man kann den Titel der neuen Seite direkt hinter dem newpage Schlüsselwort angeben.\n",
    "\n",
    "Funktioniert wirklich z.B. bei der Einbindung in Word, dargestellt wird nur die erste Seite."
   ]
  },
  {
   "cell_type": "code",
   "execution_count": 48,
   "metadata": {},
   "outputs": [
    {
     "data": {
      "image/svg+xml": [
       "<svg contentScriptType=\"application/ecmascript\" contentStyleType=\"text/css\" height=\"157px\" preserveAspectRatio=\"none\" style=\"width:168px;height:157px;\" version=\"1.1\" viewBox=\"0 0 168 157\" width=\"168px\" xmlns=\"http://www.w3.org/2000/svg\" xmlns:xlink=\"http://www.w3.org/1999/xlink\" zoomAndPan=\"magnify\"><defs><filter height=\"300%\" id=\"fldfsjy1bqp2i\" width=\"300%\" x=\"-1\" y=\"-1\"><feGaussianBlur result=\"blurOut\" stdDeviation=\"2.0\"/><feColorMatrix in=\"blurOut\" result=\"blurOut2\" type=\"matrix\" values=\"0 0 0 0 0 0 0 0 0 0 0 0 0 0 0 0 0 0 .4 0\"/><feOffset dx=\"4.0\" dy=\"4.0\" in=\"blurOut2\" result=\"blurOut3\"/><feBlend in=\"SourceGraphic\" in2=\"blurOut3\" mode=\"normal\"/></filter></defs><g><line style=\"stroke: #A80036; stroke-width: 1.0; stroke-dasharray: 5.0,5.0;\" x1=\"33\" x2=\"33\" y1=\"38.2969\" y2=\"117.5625\"/><line style=\"stroke: #A80036; stroke-width: 1.0; stroke-dasharray: 5.0,5.0;\" x1=\"128\" x2=\"128\" y1=\"38.2969\" y2=\"117.5625\"/><rect fill=\"#FEFECE\" filter=\"url(#fldfsjy1bqp2i)\" height=\"30.2969\" style=\"stroke: #A80036; stroke-width: 1.5;\" width=\"46\" x=\"8\" y=\"3\"/><text fill=\"#000000\" font-family=\"sans-serif\" font-size=\"14\" lengthAdjust=\"spacingAndGlyphs\" textLength=\"32\" x=\"15\" y=\"22.9951\">Alice</text><rect fill=\"#FEFECE\" filter=\"url(#fldfsjy1bqp2i)\" height=\"30.2969\" style=\"stroke: #A80036; stroke-width: 1.5;\" width=\"46\" x=\"8\" y=\"116.5625\"/><text fill=\"#000000\" font-family=\"sans-serif\" font-size=\"14\" lengthAdjust=\"spacingAndGlyphs\" textLength=\"32\" x=\"15\" y=\"136.5576\">Alice</text><rect fill=\"#FEFECE\" filter=\"url(#fldfsjy1bqp2i)\" height=\"30.2969\" style=\"stroke: #A80036; stroke-width: 1.5;\" width=\"42\" x=\"105\" y=\"3\"/><text fill=\"#000000\" font-family=\"sans-serif\" font-size=\"14\" lengthAdjust=\"spacingAndGlyphs\" textLength=\"28\" x=\"112\" y=\"22.9951\">Bob</text><rect fill=\"#FEFECE\" filter=\"url(#fldfsjy1bqp2i)\" height=\"30.2969\" style=\"stroke: #A80036; stroke-width: 1.5;\" width=\"42\" x=\"105\" y=\"116.5625\"/><text fill=\"#000000\" font-family=\"sans-serif\" font-size=\"14\" lengthAdjust=\"spacingAndGlyphs\" textLength=\"28\" x=\"112\" y=\"136.5576\">Bob</text><polygon fill=\"#A80036\" points=\"116,65.2969,126,69.2969,116,73.2969,120,69.2969\" style=\"stroke: #A80036; stroke-width: 1.0;\"/><line style=\"stroke: #A80036; stroke-width: 1.0;\" x1=\"33\" x2=\"122\" y1=\"69.2969\" y2=\"69.2969\"/><text fill=\"#000000\" font-family=\"sans-serif\" font-size=\"13\" lengthAdjust=\"spacingAndGlyphs\" textLength=\"71\" x=\"40\" y=\"64.3638\">message 1</text><polygon fill=\"#A80036\" points=\"116,94.4297,126,98.4297,116,102.4297,120,98.4297\" style=\"stroke: #A80036; stroke-width: 1.0;\"/><line style=\"stroke: #A80036; stroke-width: 1.0;\" x1=\"33\" x2=\"122\" y1=\"98.4297\" y2=\"98.4297\"/><text fill=\"#000000\" font-family=\"sans-serif\" font-size=\"13\" lengthAdjust=\"spacingAndGlyphs\" textLength=\"71\" x=\"40\" y=\"93.4966\">message 2</text><line style=\"stroke: #000000; stroke-width: 1.0; stroke-dasharray: 2.0,2.0;\" x1=\"3\" x2=\"156\" y1=\"106.5625\" y2=\"106.5625\"/><!--\n",
       "@startuml \n",
       "Alice -> Bob : message 1\n",
       "Alice -> Bob : message 2\n",
       "\n",
       "newpage\n",
       "\n",
       "Alice -> Bob : message 3\n",
       "Alice -> Bob : message 4\n",
       "\n",
       "newpage A title for the\\nlast page\n",
       "\n",
       "Alice -> Bob : message 5\n",
       "Alice -> Bob : message 6\n",
       "\n",
       "@enduml\n",
       "\n",
       "PlantUML version 1.2017.15(Mon Jul 03 16:45:34 GMT 2017)\n",
       "(GPL source distribution)\n",
       "Java Runtime: OpenJDK Runtime Environment\n",
       "JVM: OpenJDK 64-Bit Server VM\n",
       "Java Version: 11.0.11+9-Ubuntu-0ubuntu2.18.04\n",
       "Operating System: Linux\n",
       "OS Version: 5.4.0-84-generic\n",
       "Default Encoding: UTF-8\n",
       "Language: en\n",
       "Country: null\n",
       "--></g></svg>"
      ],
      "text/plain": [
       "<IPython.core.display.SVG object>"
      ]
     },
     "execution_count": 48,
     "metadata": {},
     "output_type": "execute_result"
    }
   ],
   "source": [
    "%%plantuml\n",
    "Alice -> Bob : message 1\n",
    "Alice -> Bob : message 2\n",
    "\n",
    "newpage\n",
    "\n",
    "Alice -> Bob : message 3\n",
    "Alice -> Bob : message 4\n",
    "\n",
    "newpage A title for the\\nlast page\n",
    "\n",
    "Alice -> Bob : message 5\n",
    "Alice -> Bob : message 6"
   ]
  },
  {
   "cell_type": "markdown",
   "metadata": {},
   "source": [
    "### Gruppierung\n",
    "\n",
    "Nachrichten können mit den folgenden Schlüsselwörtern gruppiert werden:\n",
    "* ``alt/else``\n",
    "* ``opt``\n",
    "* ``loop``\n",
    "* ``par``\n",
    "* ``break``\n",
    "* ``critical``\n",
    "* ``group``, gefolgt von einem anzuzeigenden Text und [Titeltext]\n",
    "\n",
    "Es ist möglich einen Text anzugeben, der im Titel angezeigt werden soll.  \n",
    "Das ``end`` Schlüsselwort beendet eine Gruppe  \n",
    "\n",
    "Gruppen können geschachtelt werden!\n"
   ]
  },
  {
   "cell_type": "code",
   "execution_count": 50,
   "metadata": {},
   "outputs": [
    {
     "data": {
      "image/svg+xml": [
       "<svg contentScriptType=\"application/ecmascript\" contentStyleType=\"text/css\" height=\"425px\" preserveAspectRatio=\"none\" style=\"width:357px;height:425px;\" version=\"1.1\" viewBox=\"0 0 357 425\" width=\"357px\" xmlns=\"http://www.w3.org/2000/svg\" xmlns:xlink=\"http://www.w3.org/1999/xlink\" zoomAndPan=\"magnify\"><defs><filter height=\"300%\" id=\"fp5zvb4a0ryct\" width=\"300%\" x=\"-1\" y=\"-1\"><feGaussianBlur result=\"blurOut\" stdDeviation=\"2.0\"/><feColorMatrix in=\"blurOut\" result=\"blurOut2\" type=\"matrix\" values=\"0 0 0 0 0 0 0 0 0 0 0 0 0 0 0 0 0 0 .4 0\"/><feOffset dx=\"4.0\" dy=\"4.0\" in=\"blurOut2\" result=\"blurOut3\"/><feBlend in=\"SourceGraphic\" in2=\"blurOut3\" mode=\"normal\"/></filter></defs><g><rect fill=\"#FFFFFF\" filter=\"url(#fp5zvb4a0ryct)\" height=\"283.8047\" style=\"stroke: #000000; stroke-width: 2.0;\" width=\"332\" x=\"13\" y=\"84.4297\"/><rect fill=\"#FFFFFF\" height=\"193.6016\" style=\"stroke: none; stroke-width: 1.0;\" width=\"332\" x=\"13\" y=\"130.6953\"/><rect fill=\"#FFFFFF\" filter=\"url(#fp5zvb4a0ryct)\" height=\"135.6641\" style=\"stroke: #000000; stroke-width: 2.0;\" width=\"312\" x=\"23\" y=\"181.6328\"/><rect fill=\"#FFFFFF\" filter=\"url(#fp5zvb4a0ryct)\" height=\"46.2656\" style=\"stroke: #000000; stroke-width: 2.0;\" width=\"249\" x=\"33\" y=\"234.8984\"/><rect fill=\"#FFFFFF\" height=\"43.9375\" style=\"stroke: none; stroke-width: 1.0;\" width=\"332\" x=\"13\" y=\"324.2969\"/><line style=\"stroke: #A80036; stroke-width: 1.0; stroke-dasharray: 5.0,5.0;\" x1=\"68\" x2=\"68\" y1=\"38.2969\" y2=\"385.2344\"/><line style=\"stroke: #A80036; stroke-width: 1.0; stroke-dasharray: 5.0,5.0;\" x1=\"249\" x2=\"249\" y1=\"38.2969\" y2=\"385.2344\"/><line style=\"stroke: #A80036; stroke-width: 1.0; stroke-dasharray: 5.0,5.0;\" x1=\"303\" x2=\"303\" y1=\"38.2969\" y2=\"385.2344\"/><rect fill=\"#FEFECE\" filter=\"url(#fp5zvb4a0ryct)\" height=\"30.2969\" style=\"stroke: #A80036; stroke-width: 1.5;\" width=\"46\" x=\"43\" y=\"3\"/><text fill=\"#000000\" font-family=\"sans-serif\" font-size=\"14\" lengthAdjust=\"spacingAndGlyphs\" textLength=\"32\" x=\"50\" y=\"22.9951\">Alice</text><rect fill=\"#FEFECE\" filter=\"url(#fp5zvb4a0ryct)\" height=\"30.2969\" style=\"stroke: #A80036; stroke-width: 1.5;\" width=\"46\" x=\"43\" y=\"384.2344\"/><text fill=\"#000000\" font-family=\"sans-serif\" font-size=\"14\" lengthAdjust=\"spacingAndGlyphs\" textLength=\"32\" x=\"50\" y=\"404.2295\">Alice</text><rect fill=\"#FEFECE\" filter=\"url(#fp5zvb4a0ryct)\" height=\"30.2969\" style=\"stroke: #A80036; stroke-width: 1.5;\" width=\"42\" x=\"226\" y=\"3\"/><text fill=\"#000000\" font-family=\"sans-serif\" font-size=\"14\" lengthAdjust=\"spacingAndGlyphs\" textLength=\"28\" x=\"233\" y=\"22.9951\">Bob</text><rect fill=\"#FEFECE\" filter=\"url(#fp5zvb4a0ryct)\" height=\"30.2969\" style=\"stroke: #A80036; stroke-width: 1.5;\" width=\"42\" x=\"226\" y=\"384.2344\"/><text fill=\"#000000\" font-family=\"sans-serif\" font-size=\"14\" lengthAdjust=\"spacingAndGlyphs\" textLength=\"28\" x=\"233\" y=\"404.2295\">Bob</text><rect fill=\"#FEFECE\" filter=\"url(#fp5zvb4a0ryct)\" height=\"30.2969\" style=\"stroke: #A80036; stroke-width: 1.5;\" width=\"39\" x=\"282\" y=\"3\"/><text fill=\"#000000\" font-family=\"sans-serif\" font-size=\"14\" lengthAdjust=\"spacingAndGlyphs\" textLength=\"25\" x=\"289\" y=\"22.9951\">Log</text><rect fill=\"#FEFECE\" filter=\"url(#fp5zvb4a0ryct)\" height=\"30.2969\" style=\"stroke: #A80036; stroke-width: 1.5;\" width=\"39\" x=\"282\" y=\"384.2344\"/><text fill=\"#000000\" font-family=\"sans-serif\" font-size=\"14\" lengthAdjust=\"spacingAndGlyphs\" textLength=\"25\" x=\"289\" y=\"404.2295\">Log</text><polygon fill=\"#A80036\" points=\"237,65.2969,247,69.2969,237,73.2969,241,69.2969\" style=\"stroke: #A80036; stroke-width: 1.0;\"/><line style=\"stroke: #A80036; stroke-width: 1.0;\" x1=\"68\" x2=\"243\" y1=\"69.2969\" y2=\"69.2969\"/><text fill=\"#000000\" font-family=\"sans-serif\" font-size=\"13\" lengthAdjust=\"spacingAndGlyphs\" textLength=\"149\" x=\"75\" y=\"64.3638\">Authentication Request</text><rect fill=\"none\" height=\"283.8047\" style=\"stroke: #000000; stroke-width: 2.0;\" width=\"332\" x=\"13\" y=\"84.4297\"/><polygon fill=\"#EEEEEE\" points=\"13,84.4297,77,84.4297,77,91.4297,67,101.4297,13,101.4297,13,84.4297\" style=\"stroke: #000000; stroke-width: 2.0;\"/><text fill=\"#000000\" font-family=\"sans-serif\" font-size=\"13\" font-weight=\"bold\" lengthAdjust=\"spacingAndGlyphs\" textLength=\"19\" x=\"28\" y=\"97.4966\">alt</text><text fill=\"#000000\" font-family=\"sans-serif\" font-size=\"11\" font-weight=\"bold\" lengthAdjust=\"spacingAndGlyphs\" textLength=\"112\" x=\"92\" y=\"96.6401\">[successful case]</text><polygon fill=\"#A80036\" points=\"79,118.5625,69,122.5625,79,126.5625,75,122.5625\" style=\"stroke: #A80036; stroke-width: 1.0;\"/><line style=\"stroke: #A80036; stroke-width: 1.0;\" x1=\"73\" x2=\"248\" y1=\"122.5625\" y2=\"122.5625\"/><text fill=\"#000000\" font-family=\"sans-serif\" font-size=\"13\" lengthAdjust=\"spacingAndGlyphs\" textLength=\"157\" x=\"85\" y=\"117.6294\">Authentication Accepted</text><line style=\"stroke: #000000; stroke-width: 1.0; stroke-dasharray: 2.0,2.0;\" x1=\"13\" x2=\"345\" y1=\"131.6953\" y2=\"131.6953\"/><text fill=\"#000000\" font-family=\"sans-serif\" font-size=\"11\" font-weight=\"bold\" lengthAdjust=\"spacingAndGlyphs\" textLength=\"138\" x=\"18\" y=\"141.9058\">[some kind of failure]</text><polygon fill=\"#A80036\" points=\"79,162.5,69,166.5,79,170.5,75,166.5\" style=\"stroke: #A80036; stroke-width: 1.0;\"/><line style=\"stroke: #A80036; stroke-width: 1.0;\" x1=\"73\" x2=\"248\" y1=\"166.5\" y2=\"166.5\"/><text fill=\"#000000\" font-family=\"sans-serif\" font-size=\"13\" lengthAdjust=\"spacingAndGlyphs\" textLength=\"139\" x=\"85\" y=\"161.5669\">Authentication Failure</text><rect fill=\"none\" height=\"135.6641\" style=\"stroke: #000000; stroke-width: 2.0;\" width=\"312\" x=\"23\" y=\"181.6328\"/><polygon fill=\"#EEEEEE\" points=\"23,181.6328,170,181.6328,170,188.6328,160,198.6328,23,198.6328,23,181.6328\" style=\"stroke: #000000; stroke-width: 2.0;\"/><text fill=\"#000000\" font-family=\"sans-serif\" font-size=\"13\" font-weight=\"bold\" lengthAdjust=\"spacingAndGlyphs\" textLength=\"97\" x=\"38\" y=\"194.6997\">My own label</text><text fill=\"#000000\" font-family=\"sans-serif\" font-size=\"11\" font-weight=\"bold\" lengthAdjust=\"spacingAndGlyphs\" textLength=\"107\" x=\"185\" y=\"193.8433\">[My own label 2]</text><polygon fill=\"#A80036\" points=\"291.5,215.7656,301.5,219.7656,291.5,223.7656,295.5,219.7656\" style=\"stroke: #A80036; stroke-width: 1.0;\"/><line style=\"stroke: #A80036; stroke-width: 1.0;\" x1=\"68\" x2=\"297.5\" y1=\"219.7656\" y2=\"219.7656\"/><text fill=\"#000000\" font-family=\"sans-serif\" font-size=\"13\" lengthAdjust=\"spacingAndGlyphs\" textLength=\"101\" x=\"75\" y=\"214.8325\">Log attack start</text><rect fill=\"none\" height=\"46.2656\" style=\"stroke: #000000; stroke-width: 2.0;\" width=\"249\" x=\"33\" y=\"234.8984\"/><polygon fill=\"#EEEEEE\" points=\"33,234.8984,110,234.8984,110,241.8984,100,251.8984,33,251.8984,33,234.8984\" style=\"stroke: #000000; stroke-width: 2.0;\"/><text fill=\"#000000\" font-family=\"sans-serif\" font-size=\"13\" font-weight=\"bold\" lengthAdjust=\"spacingAndGlyphs\" textLength=\"32\" x=\"48\" y=\"247.9653\">loop</text><text fill=\"#000000\" font-family=\"sans-serif\" font-size=\"11\" font-weight=\"bold\" lengthAdjust=\"spacingAndGlyphs\" textLength=\"81\" x=\"125\" y=\"247.1089\">[1000 times]</text><polygon fill=\"#A80036\" points=\"237,269.0313,247,273.0313,237,277.0313,241,273.0313\" style=\"stroke: #A80036; stroke-width: 1.0;\"/><line style=\"stroke: #A80036; stroke-width: 1.0;\" x1=\"68\" x2=\"243\" y1=\"273.0313\" y2=\"273.0313\"/><text fill=\"#000000\" font-family=\"sans-serif\" font-size=\"13\" lengthAdjust=\"spacingAndGlyphs\" textLength=\"74\" x=\"75\" y=\"268.0981\">DNS Attack</text><polygon fill=\"#A80036\" points=\"291.5,305.1641,301.5,309.1641,291.5,313.1641,295.5,309.1641\" style=\"stroke: #A80036; stroke-width: 1.0;\"/><line style=\"stroke: #A80036; stroke-width: 1.0;\" x1=\"68\" x2=\"297.5\" y1=\"309.1641\" y2=\"309.1641\"/><text fill=\"#000000\" font-family=\"sans-serif\" font-size=\"13\" lengthAdjust=\"spacingAndGlyphs\" textLength=\"95\" x=\"75\" y=\"304.231\">Log attack end</text><line style=\"stroke: #000000; stroke-width: 1.0; stroke-dasharray: 2.0,2.0;\" x1=\"13\" x2=\"345\" y1=\"325.2969\" y2=\"325.2969\"/><text fill=\"#000000\" font-family=\"sans-serif\" font-size=\"11\" font-weight=\"bold\" lengthAdjust=\"spacingAndGlyphs\" textLength=\"155\" x=\"18\" y=\"335.5073\">[Another type of failure]</text><polygon fill=\"#A80036\" points=\"79,356.1016,69,360.1016,79,364.1016,75,360.1016\" style=\"stroke: #A80036; stroke-width: 1.0;\"/><line style=\"stroke: #A80036; stroke-width: 1.0;\" x1=\"73\" x2=\"248\" y1=\"360.1016\" y2=\"360.1016\"/><text fill=\"#000000\" font-family=\"sans-serif\" font-size=\"13\" lengthAdjust=\"spacingAndGlyphs\" textLength=\"88\" x=\"85\" y=\"355.1685\">Please repeat</text><!--\n",
       "@startuml \n",
       "Alice -> Bob: Authentication Request\n",
       "\n",
       "alt successful case\n",
       "\n",
       "    Bob -> Alice: Authentication Accepted\n",
       "\n",
       "else some kind of failure\n",
       "\n",
       "    Bob -> Alice: Authentication Failure\n",
       "    group My own label [My own label 2]\n",
       "    Alice -> Log : Log attack start\n",
       "        loop 1000 times\n",
       "Alice -> Bob: DNS Attack\n",
       "        end\n",
       "    Alice -> Log : Log attack end\n",
       "    end\n",
       "\n",
       "else Another type of failure\n",
       "\n",
       "   Bob -> Alice: Please repeat\n",
       "\n",
       "end\n",
       "\n",
       "@enduml\n",
       "\n",
       "PlantUML version 1.2017.15(Mon Jul 03 16:45:34 GMT 2017)\n",
       "(GPL source distribution)\n",
       "Java Runtime: OpenJDK Runtime Environment\n",
       "JVM: OpenJDK 64-Bit Server VM\n",
       "Java Version: 11.0.11+9-Ubuntu-0ubuntu2.18.04\n",
       "Operating System: Linux\n",
       "OS Version: 5.4.0-84-generic\n",
       "Default Encoding: UTF-8\n",
       "Language: en\n",
       "Country: null\n",
       "--></g></svg>"
      ],
      "text/plain": [
       "<IPython.core.display.SVG object>"
      ]
     },
     "execution_count": 50,
     "metadata": {},
     "output_type": "execute_result"
    }
   ],
   "source": [
    "%%plantuml\n",
    "Alice -> Bob: Authentication Request\n",
    "\n",
    "alt successful case\n",
    "\n",
    "    Bob -> Alice: Authentication Accepted\n",
    "\n",
    "else some kind of failure\n",
    "\n",
    "    Bob -> Alice: Authentication Failure\n",
    "    group My own label [My own label 2]\n",
    "    Alice -> Log : Log attack start\n",
    "        loop 1000 times\n",
    "            Alice -> Bob: DNS Attack\n",
    "        end\n",
    "    Alice -> Log : Log attack end\n",
    "    end\n",
    "\n",
    "else Another type of failure\n",
    "\n",
    "   Bob -> Alice: Please repeat\n",
    "\n",
    "end"
   ]
  },
  {
   "cell_type": "markdown",
   "metadata": {},
   "source": [
    "### Schritte\n",
    "Bei Bedarf kann ein Diagramm mit dem \"``==``\" Separator in logische Schritte unterteilt werden."
   ]
  },
  {
   "cell_type": "code",
   "execution_count": 52,
   "metadata": {},
   "outputs": [
    {
     "data": {
      "image/svg+xml": [
       "<svg contentScriptType=\"application/ecmascript\" contentStyleType=\"text/css\" height=\"301px\" preserveAspectRatio=\"none\" style=\"width:309px;height:301px;\" version=\"1.1\" viewBox=\"0 0 309 301\" width=\"309px\" xmlns=\"http://www.w3.org/2000/svg\" xmlns:xlink=\"http://www.w3.org/1999/xlink\" zoomAndPan=\"magnify\"><defs><filter height=\"300%\" id=\"f1tbf2gw7xq1jn\" width=\"300%\" x=\"-1\" y=\"-1\"><feGaussianBlur result=\"blurOut\" stdDeviation=\"2.0\"/><feColorMatrix in=\"blurOut\" result=\"blurOut2\" type=\"matrix\" values=\"0 0 0 0 0 0 0 0 0 0 0 0 0 0 0 0 0 0 .4 0\"/><feOffset dx=\"4.0\" dy=\"4.0\" in=\"blurOut2\" result=\"blurOut3\"/><feBlend in=\"SourceGraphic\" in2=\"blurOut3\" mode=\"normal\"/></filter></defs><g><line style=\"stroke: #A80036; stroke-width: 1.0; stroke-dasharray: 5.0,5.0;\" x1=\"33\" x2=\"33\" y1=\"38.2969\" y2=\"261.0938\"/><line style=\"stroke: #A80036; stroke-width: 1.0; stroke-dasharray: 5.0,5.0;\" x1=\"269\" x2=\"269\" y1=\"38.2969\" y2=\"261.0938\"/><rect fill=\"#FEFECE\" filter=\"url(#f1tbf2gw7xq1jn)\" height=\"30.2969\" style=\"stroke: #A80036; stroke-width: 1.5;\" width=\"46\" x=\"8\" y=\"3\"/><text fill=\"#000000\" font-family=\"sans-serif\" font-size=\"14\" lengthAdjust=\"spacingAndGlyphs\" textLength=\"32\" x=\"15\" y=\"22.9951\">Alice</text><rect fill=\"#FEFECE\" filter=\"url(#f1tbf2gw7xq1jn)\" height=\"30.2969\" style=\"stroke: #A80036; stroke-width: 1.5;\" width=\"46\" x=\"8\" y=\"260.0938\"/><text fill=\"#000000\" font-family=\"sans-serif\" font-size=\"14\" lengthAdjust=\"spacingAndGlyphs\" textLength=\"32\" x=\"15\" y=\"280.0889\">Alice</text><rect fill=\"#FEFECE\" filter=\"url(#f1tbf2gw7xq1jn)\" height=\"30.2969\" style=\"stroke: #A80036; stroke-width: 1.5;\" width=\"42\" x=\"246\" y=\"3\"/><text fill=\"#000000\" font-family=\"sans-serif\" font-size=\"14\" lengthAdjust=\"spacingAndGlyphs\" textLength=\"28\" x=\"253\" y=\"22.9951\">Bob</text><rect fill=\"#FEFECE\" filter=\"url(#f1tbf2gw7xq1jn)\" height=\"30.2969\" style=\"stroke: #A80036; stroke-width: 1.5;\" width=\"42\" x=\"246\" y=\"260.0938\"/><text fill=\"#000000\" font-family=\"sans-serif\" font-size=\"14\" lengthAdjust=\"spacingAndGlyphs\" textLength=\"28\" x=\"253\" y=\"280.0889\">Bob</text><rect fill=\"#EEEEEE\" filter=\"url(#f1tbf2gw7xq1jn)\" height=\"3\" style=\"stroke: #EEEEEE; stroke-width: 1.0;\" width=\"294\" x=\"3\" y=\"68.8633\"/><line style=\"stroke: #000000; stroke-width: 1.0;\" x1=\"3\" x2=\"297\" y1=\"68.8633\" y2=\"68.8633\"/><line style=\"stroke: #000000; stroke-width: 1.0;\" x1=\"3\" x2=\"297\" y1=\"71.8633\" y2=\"71.8633\"/><rect fill=\"#EEEEEE\" filter=\"url(#f1tbf2gw7xq1jn)\" height=\"23.1328\" style=\"stroke: #000000; stroke-width: 2.0;\" width=\"108\" x=\"96\" y=\"58.2969\"/><text fill=\"#000000\" font-family=\"sans-serif\" font-size=\"13\" font-weight=\"bold\" lengthAdjust=\"spacingAndGlyphs\" textLength=\"89\" x=\"102\" y=\"74.3638\">Initialization</text><polygon fill=\"#A80036\" points=\"257,108.4297,267,112.4297,257,116.4297,261,112.4297\" style=\"stroke: #A80036; stroke-width: 1.0;\"/><line style=\"stroke: #A80036; stroke-width: 1.0;\" x1=\"33\" x2=\"263\" y1=\"112.4297\" y2=\"112.4297\"/><text fill=\"#000000\" font-family=\"sans-serif\" font-size=\"13\" lengthAdjust=\"spacingAndGlyphs\" textLength=\"149\" x=\"40\" y=\"107.4966\">Authentication Request</text><polygon fill=\"#A80036\" points=\"44,137.5625,34,141.5625,44,145.5625,40,141.5625\" style=\"stroke: #A80036; stroke-width: 1.0;\"/><line style=\"stroke: #A80036; stroke-width: 1.0; stroke-dasharray: 2.0,2.0;\" x1=\"38\" x2=\"268\" y1=\"141.5625\" y2=\"141.5625\"/><text fill=\"#000000\" font-family=\"sans-serif\" font-size=\"13\" lengthAdjust=\"spacingAndGlyphs\" textLength=\"159\" x=\"50\" y=\"136.6294\">Authentication Response</text><rect fill=\"#EEEEEE\" filter=\"url(#f1tbf2gw7xq1jn)\" height=\"3\" style=\"stroke: #EEEEEE; stroke-width: 1.0;\" width=\"294\" x=\"3\" y=\"170.2617\"/><line style=\"stroke: #000000; stroke-width: 1.0;\" x1=\"3\" x2=\"297\" y1=\"170.2617\" y2=\"170.2617\"/><line style=\"stroke: #000000; stroke-width: 1.0;\" x1=\"3\" x2=\"297\" y1=\"173.2617\" y2=\"173.2617\"/><rect fill=\"#EEEEEE\" filter=\"url(#f1tbf2gw7xq1jn)\" height=\"23.1328\" style=\"stroke: #000000; stroke-width: 2.0;\" width=\"95\" x=\"102.5\" y=\"159.6953\"/><text fill=\"#000000\" font-family=\"sans-serif\" font-size=\"13\" font-weight=\"bold\" lengthAdjust=\"spacingAndGlyphs\" textLength=\"76\" x=\"108.5\" y=\"175.7622\">Repetition</text><polygon fill=\"#A80036\" points=\"257,209.8281,267,213.8281,257,217.8281,261,213.8281\" style=\"stroke: #A80036; stroke-width: 1.0;\"/><line style=\"stroke: #A80036; stroke-width: 1.0;\" x1=\"33\" x2=\"263\" y1=\"213.8281\" y2=\"213.8281\"/><text fill=\"#000000\" font-family=\"sans-serif\" font-size=\"13\" lengthAdjust=\"spacingAndGlyphs\" textLength=\"203\" x=\"40\" y=\"208.895\">Another authentication Request</text><polygon fill=\"#A80036\" points=\"44,238.9609,34,242.9609,44,246.9609,40,242.9609\" style=\"stroke: #A80036; stroke-width: 1.0;\"/><line style=\"stroke: #A80036; stroke-width: 1.0; stroke-dasharray: 2.0,2.0;\" x1=\"38\" x2=\"268\" y1=\"242.9609\" y2=\"242.9609\"/><text fill=\"#000000\" font-family=\"sans-serif\" font-size=\"13\" lengthAdjust=\"spacingAndGlyphs\" textLength=\"212\" x=\"50\" y=\"238.0278\">another authentication Response</text><!--\n",
       "@startuml \n",
       "== Initialization ==\n",
       "\n",
       "Alice -> Bob: Authentication Request\n",
       "Bob - -> Alice: Authentication Response\n",
       "\n",
       "== Repetition ==\n",
       "\n",
       "Alice -> Bob: Another authentication Request\n",
       "Alice <- - Bob: another authentication Response\n",
       "\n",
       "@enduml\n",
       "\n",
       "PlantUML version 1.2017.15(Mon Jul 03 16:45:34 GMT 2017)\n",
       "(GPL source distribution)\n",
       "Java Runtime: OpenJDK Runtime Environment\n",
       "JVM: OpenJDK 64-Bit Server VM\n",
       "Java Version: 11.0.11+9-Ubuntu-0ubuntu2.18.04\n",
       "Operating System: Linux\n",
       "OS Version: 5.4.0-84-generic\n",
       "Default Encoding: UTF-8\n",
       "Language: en\n",
       "Country: null\n",
       "--></g></svg>"
      ],
      "text/plain": [
       "<IPython.core.display.SVG object>"
      ]
     },
     "execution_count": 52,
     "metadata": {},
     "output_type": "execute_result"
    }
   ],
   "source": [
    "%%plantuml\n",
    "== Initialization ==\n",
    "\n",
    "Alice -> Bob: Authentication Request\n",
    "Bob --> Alice: Authentication Response\n",
    "\n",
    "== Repetition ==\n",
    "\n",
    "Alice -> Bob: Another authentication Request\n",
    "Alice <-- Bob: another authentication Response"
   ]
  },
  {
   "cell_type": "markdown",
   "metadata": {},
   "source": [
    "### Verzögerungen\n",
    "\n",
    "Mit ``...`` kann man eine Verzögerung in dem Diagramm anzeigen. In dieser Verzögerung kann außerdem eine Nachricht angezeigt werden."
   ]
  },
  {
   "cell_type": "code",
   "execution_count": 53,
   "metadata": {},
   "outputs": [
    {
     "data": {
      "image/svg+xml": [
       "<svg contentScriptType=\"application/ecmascript\" contentStyleType=\"text/css\" height=\"254px\" preserveAspectRatio=\"none\" style=\"width:246px;height:254px;\" version=\"1.1\" viewBox=\"0 0 246 254\" width=\"246px\" xmlns=\"http://www.w3.org/2000/svg\" xmlns:xlink=\"http://www.w3.org/1999/xlink\" zoomAndPan=\"magnify\"><defs><filter height=\"300%\" id=\"f1dievbei3x2wr\" width=\"300%\" x=\"-1\" y=\"-1\"><feGaussianBlur result=\"blurOut\" stdDeviation=\"2.0\"/><feColorMatrix in=\"blurOut\" result=\"blurOut2\" type=\"matrix\" values=\"0 0 0 0 0 0 0 0 0 0 0 0 0 0 0 0 0 0 .4 0\"/><feOffset dx=\"4.0\" dy=\"4.0\" in=\"blurOut2\" result=\"blurOut3\"/><feBlend in=\"SourceGraphic\" in2=\"blurOut3\" mode=\"normal\"/></filter></defs><g><line style=\"stroke: #A80036; stroke-width: 1.0;\" x1=\"33\" x2=\"33\" y1=\"38.2969\" y2=\"77.4297\"/><line style=\"stroke: #A80036; stroke-width: 1.0; stroke-dasharray: 1.0,4.0;\" x1=\"33\" x2=\"33\" y1=\"77.4297\" y2=\"105.4297\"/><line style=\"stroke: #A80036; stroke-width: 1.0;\" x1=\"33\" x2=\"33\" y1=\"105.4297\" y2=\"134.5625\"/><line style=\"stroke: #A80036; stroke-width: 1.0; stroke-dasharray: 1.0,4.0;\" x1=\"33\" x2=\"33\" y1=\"134.5625\" y2=\"175.3672\"/><line style=\"stroke: #A80036; stroke-width: 1.0;\" x1=\"33\" x2=\"33\" y1=\"175.3672\" y2=\"214.5\"/><line style=\"stroke: #A80036; stroke-width: 1.0;\" x1=\"216\" x2=\"216\" y1=\"38.2969\" y2=\"77.4297\"/><line style=\"stroke: #A80036; stroke-width: 1.0; stroke-dasharray: 1.0,4.0;\" x1=\"216\" x2=\"216\" y1=\"77.4297\" y2=\"105.4297\"/><line style=\"stroke: #A80036; stroke-width: 1.0;\" x1=\"216\" x2=\"216\" y1=\"105.4297\" y2=\"134.5625\"/><line style=\"stroke: #A80036; stroke-width: 1.0; stroke-dasharray: 1.0,4.0;\" x1=\"216\" x2=\"216\" y1=\"134.5625\" y2=\"175.3672\"/><line style=\"stroke: #A80036; stroke-width: 1.0;\" x1=\"216\" x2=\"216\" y1=\"175.3672\" y2=\"214.5\"/><rect fill=\"#FEFECE\" filter=\"url(#f1dievbei3x2wr)\" height=\"30.2969\" style=\"stroke: #A80036; stroke-width: 1.5;\" width=\"46\" x=\"8\" y=\"3\"/><text fill=\"#000000\" font-family=\"sans-serif\" font-size=\"14\" lengthAdjust=\"spacingAndGlyphs\" textLength=\"32\" x=\"15\" y=\"22.9951\">Alice</text><rect fill=\"#FEFECE\" filter=\"url(#f1dievbei3x2wr)\" height=\"30.2969\" style=\"stroke: #A80036; stroke-width: 1.5;\" width=\"46\" x=\"8\" y=\"213.5\"/><text fill=\"#000000\" font-family=\"sans-serif\" font-size=\"14\" lengthAdjust=\"spacingAndGlyphs\" textLength=\"32\" x=\"15\" y=\"233.4951\">Alice</text><rect fill=\"#FEFECE\" filter=\"url(#f1dievbei3x2wr)\" height=\"30.2969\" style=\"stroke: #A80036; stroke-width: 1.5;\" width=\"42\" x=\"193\" y=\"3\"/><text fill=\"#000000\" font-family=\"sans-serif\" font-size=\"14\" lengthAdjust=\"spacingAndGlyphs\" textLength=\"28\" x=\"200\" y=\"22.9951\">Bob</text><rect fill=\"#FEFECE\" filter=\"url(#f1dievbei3x2wr)\" height=\"30.2969\" style=\"stroke: #A80036; stroke-width: 1.5;\" width=\"42\" x=\"193\" y=\"213.5\"/><text fill=\"#000000\" font-family=\"sans-serif\" font-size=\"14\" lengthAdjust=\"spacingAndGlyphs\" textLength=\"28\" x=\"200\" y=\"233.4951\">Bob</text><polygon fill=\"#A80036\" points=\"204,65.2969,214,69.2969,204,73.2969,208,69.2969\" style=\"stroke: #A80036; stroke-width: 1.0;\"/><line style=\"stroke: #A80036; stroke-width: 1.0;\" x1=\"33\" x2=\"210\" y1=\"69.2969\" y2=\"69.2969\"/><text fill=\"#000000\" font-family=\"sans-serif\" font-size=\"13\" lengthAdjust=\"spacingAndGlyphs\" textLength=\"149\" x=\"40\" y=\"64.3638\">Authentication Request</text><polygon fill=\"#A80036\" points=\"44,122.4297,34,126.4297,44,130.4297,40,126.4297\" style=\"stroke: #A80036; stroke-width: 1.0;\"/><line style=\"stroke: #A80036; stroke-width: 1.0; stroke-dasharray: 2.0,2.0;\" x1=\"38\" x2=\"215\" y1=\"126.4297\" y2=\"126.4297\"/><text fill=\"#000000\" font-family=\"sans-serif\" font-size=\"13\" lengthAdjust=\"spacingAndGlyphs\" textLength=\"159\" x=\"50\" y=\"121.4966\">Authentication Response</text><text fill=\"#000000\" font-family=\"sans-serif\" font-size=\"11\" lengthAdjust=\"spacingAndGlyphs\" textLength=\"87\" x=\"81\" y=\"158.7729\">5 minutes later</text><polygon fill=\"#A80036\" points=\"44,192.3672,34,196.3672,44,200.3672,40,196.3672\" style=\"stroke: #A80036; stroke-width: 1.0;\"/><line style=\"stroke: #A80036; stroke-width: 1.0; stroke-dasharray: 2.0,2.0;\" x1=\"38\" x2=\"215\" y1=\"196.3672\" y2=\"196.3672\"/><text fill=\"#000000\" font-family=\"sans-serif\" font-size=\"13\" lengthAdjust=\"spacingAndGlyphs\" textLength=\"33\" x=\"50\" y=\"191.4341\">Bye !</text><!--\n",
       "@startuml \n",
       "Alice -> Bob: Authentication Request\n",
       "...\n",
       "Bob - -> Alice: Authentication Response\n",
       "...5 minutes later...\n",
       "Bob - -> Alice: Bye !\n",
       "\n",
       "@enduml\n",
       "\n",
       "PlantUML version 1.2017.15(Mon Jul 03 16:45:34 GMT 2017)\n",
       "(GPL source distribution)\n",
       "Java Runtime: OpenJDK Runtime Environment\n",
       "JVM: OpenJDK 64-Bit Server VM\n",
       "Java Version: 11.0.11+9-Ubuntu-0ubuntu2.18.04\n",
       "Operating System: Linux\n",
       "OS Version: 5.4.0-84-generic\n",
       "Default Encoding: UTF-8\n",
       "Language: en\n",
       "Country: null\n",
       "--></g></svg>"
      ],
      "text/plain": [
       "<IPython.core.display.SVG object>"
      ]
     },
     "execution_count": 53,
     "metadata": {},
     "output_type": "execute_result"
    }
   ],
   "source": [
    "%%plantuml\n",
    "Alice -> Bob: Authentication Request\n",
    "...\n",
    "Bob --> Alice: Authentication Response\n",
    "...5 minutes later...\n",
    "Bob --> Alice: Bye !"
   ]
  },
  {
   "cell_type": "markdown",
   "metadata": {},
   "source": [
    "### Abstände\n",
    "\n",
    "\n",
    "Mit  ``|||`` kann ein Abstand zwischen zwei Nachrichten eingefügt werden.\n",
    "\n",
    "Außerdem ist es möglich, die Größe des Abstandes in Pixeln festzulegen."
   ]
  },
  {
   "cell_type": "code",
   "execution_count": 57,
   "metadata": {},
   "outputs": [
    {
     "data": {
      "image/svg+xml": [
       "<svg contentScriptType=\"application/ecmascript\" contentStyleType=\"text/css\" height=\"343px\" preserveAspectRatio=\"none\" style=\"width:158px;height:343px;\" version=\"1.1\" viewBox=\"0 0 158 343\" width=\"158px\" xmlns=\"http://www.w3.org/2000/svg\" xmlns:xlink=\"http://www.w3.org/1999/xlink\" zoomAndPan=\"magnify\"><defs><filter height=\"300%\" id=\"f5u1gleaomsus\" width=\"300%\" x=\"-1\" y=\"-1\"><feGaussianBlur result=\"blurOut\" stdDeviation=\"2.0\"/><feColorMatrix in=\"blurOut\" result=\"blurOut2\" type=\"matrix\" values=\"0 0 0 0 0 0 0 0 0 0 0 0 0 0 0 0 0 0 .4 0\"/><feOffset dx=\"4.0\" dy=\"4.0\" in=\"blurOut2\" result=\"blurOut3\"/><feBlend in=\"SourceGraphic\" in2=\"blurOut3\" mode=\"normal\"/></filter></defs><g><line style=\"stroke: #A80036; stroke-width: 1.0; stroke-dasharray: 5.0,5.0;\" x1=\"33\" x2=\"33\" y1=\"38.2969\" y2=\"303.0938\"/><line style=\"stroke: #A80036; stroke-width: 1.0; stroke-dasharray: 5.0,5.0;\" x1=\"128\" x2=\"128\" y1=\"38.2969\" y2=\"303.0938\"/><rect fill=\"#FEFECE\" filter=\"url(#f5u1gleaomsus)\" height=\"30.2969\" style=\"stroke: #A80036; stroke-width: 1.5;\" width=\"46\" x=\"8\" y=\"3\"/><text fill=\"#000000\" font-family=\"sans-serif\" font-size=\"14\" lengthAdjust=\"spacingAndGlyphs\" textLength=\"32\" x=\"15\" y=\"22.9951\">Alice</text><rect fill=\"#FEFECE\" filter=\"url(#f5u1gleaomsus)\" height=\"30.2969\" style=\"stroke: #A80036; stroke-width: 1.5;\" width=\"46\" x=\"8\" y=\"302.0938\"/><text fill=\"#000000\" font-family=\"sans-serif\" font-size=\"14\" lengthAdjust=\"spacingAndGlyphs\" textLength=\"32\" x=\"15\" y=\"322.0889\">Alice</text><rect fill=\"#FEFECE\" filter=\"url(#f5u1gleaomsus)\" height=\"30.2969\" style=\"stroke: #A80036; stroke-width: 1.5;\" width=\"42\" x=\"105\" y=\"3\"/><text fill=\"#000000\" font-family=\"sans-serif\" font-size=\"14\" lengthAdjust=\"spacingAndGlyphs\" textLength=\"28\" x=\"112\" y=\"22.9951\">Bob</text><rect fill=\"#FEFECE\" filter=\"url(#f5u1gleaomsus)\" height=\"30.2969\" style=\"stroke: #A80036; stroke-width: 1.5;\" width=\"42\" x=\"105\" y=\"302.0938\"/><text fill=\"#000000\" font-family=\"sans-serif\" font-size=\"14\" lengthAdjust=\"spacingAndGlyphs\" textLength=\"28\" x=\"112\" y=\"322.0889\">Bob</text><polygon fill=\"#A80036\" points=\"116,65.2969,126,69.2969,116,73.2969,120,69.2969\" style=\"stroke: #A80036; stroke-width: 1.0;\"/><line style=\"stroke: #A80036; stroke-width: 1.0;\" x1=\"33\" x2=\"122\" y1=\"69.2969\" y2=\"69.2969\"/><text fill=\"#000000\" font-family=\"sans-serif\" font-size=\"13\" lengthAdjust=\"spacingAndGlyphs\" textLength=\"71\" x=\"40\" y=\"64.3638\">message 1</text><polygon fill=\"#A80036\" points=\"44,94.4297,34,98.4297,44,102.4297,40,98.4297\" style=\"stroke: #A80036; stroke-width: 1.0;\"/><line style=\"stroke: #A80036; stroke-width: 1.0; stroke-dasharray: 2.0,2.0;\" x1=\"38\" x2=\"127\" y1=\"98.4297\" y2=\"98.4297\"/><text fill=\"#000000\" font-family=\"sans-serif\" font-size=\"13\" lengthAdjust=\"spacingAndGlyphs\" textLength=\"15\" x=\"50\" y=\"93.4966\">ok</text><polygon fill=\"#A80036\" points=\"116,148.5625,126,152.5625,116,156.5625,120,152.5625\" style=\"stroke: #A80036; stroke-width: 1.0;\"/><line style=\"stroke: #A80036; stroke-width: 1.0;\" x1=\"33\" x2=\"122\" y1=\"152.5625\" y2=\"152.5625\"/><text fill=\"#000000\" font-family=\"sans-serif\" font-size=\"13\" lengthAdjust=\"spacingAndGlyphs\" textLength=\"71\" x=\"40\" y=\"147.6294\">message 2</text><polygon fill=\"#A80036\" points=\"44,177.6953,34,181.6953,44,185.6953,40,181.6953\" style=\"stroke: #A80036; stroke-width: 1.0;\"/><line style=\"stroke: #A80036; stroke-width: 1.0; stroke-dasharray: 2.0,2.0;\" x1=\"38\" x2=\"127\" y1=\"181.6953\" y2=\"181.6953\"/><text fill=\"#000000\" font-family=\"sans-serif\" font-size=\"13\" lengthAdjust=\"spacingAndGlyphs\" textLength=\"15\" x=\"50\" y=\"176.7622\">ok</text><polygon fill=\"#A80036\" points=\"116,251.8281,126,255.8281,116,259.8281,120,255.8281\" style=\"stroke: #A80036; stroke-width: 1.0;\"/><line style=\"stroke: #A80036; stroke-width: 1.0;\" x1=\"33\" x2=\"122\" y1=\"255.8281\" y2=\"255.8281\"/><text fill=\"#000000\" font-family=\"sans-serif\" font-size=\"13\" lengthAdjust=\"spacingAndGlyphs\" textLength=\"71\" x=\"40\" y=\"250.895\">message 3</text><polygon fill=\"#A80036\" points=\"44,280.9609,34,284.9609,44,288.9609,40,284.9609\" style=\"stroke: #A80036; stroke-width: 1.0;\"/><line style=\"stroke: #A80036; stroke-width: 1.0; stroke-dasharray: 2.0,2.0;\" x1=\"38\" x2=\"127\" y1=\"284.9609\" y2=\"284.9609\"/><text fill=\"#000000\" font-family=\"sans-serif\" font-size=\"13\" lengthAdjust=\"spacingAndGlyphs\" textLength=\"15\" x=\"50\" y=\"280.0278\">ok</text><!--\n",
       "@startuml \n",
       "Alice -> Bob: message 1\n",
       "Bob - -> Alice: ok\n",
       "|||\n",
       "Alice -> Bob: message 2\n",
       "Bob - -> Alice: ok\n",
       "||45||\n",
       "Alice -> Bob: message 3\n",
       "Bob - -> Alice: ok\n",
       "\n",
       "@enduml\n",
       "\n",
       "PlantUML version 1.2017.15(Mon Jul 03 16:45:34 GMT 2017)\n",
       "(GPL source distribution)\n",
       "Java Runtime: OpenJDK Runtime Environment\n",
       "JVM: OpenJDK 64-Bit Server VM\n",
       "Java Version: 11.0.11+9-Ubuntu-0ubuntu2.18.04\n",
       "Operating System: Linux\n",
       "OS Version: 5.4.0-84-generic\n",
       "Default Encoding: UTF-8\n",
       "Language: en\n",
       "Country: null\n",
       "--></g></svg>"
      ],
      "text/plain": [
       "<IPython.core.display.SVG object>"
      ]
     },
     "execution_count": 57,
     "metadata": {},
     "output_type": "execute_result"
    }
   ],
   "source": [
    "%%plantuml\n",
    "Alice -> Bob: message 1\n",
    "Bob --> Alice: ok\n",
    "|||\n",
    "Alice -> Bob: message 2\n",
    "Bob --> Alice: ok\n",
    "||45||\n",
    "Alice -> Bob: message 3\n",
    "Bob --> Alice: ok"
   ]
  },
  {
   "cell_type": "markdown",
   "metadata": {},
   "source": [
    "## Notizen\n",
    "\n",
    "Notizen zu einer Nachricht werden mit dem Schlüsselwort ``note left`` (links) oder ``note right`` (rechts) gleich nach der Nachricht eingeleitet.  \n",
    "Soll die Notiz mehrere Zeilen umfassen, muss das Schlüsselwort ``end note`` am Ende der Notiz verwendet werden.\n",
    "\n",
    "Weitere Positionierungen und Formveränderungen siehe PlantUML Doku."
   ]
  },
  {
   "cell_type": "code",
   "execution_count": 51,
   "metadata": {},
   "outputs": [
    {
     "data": {
      "image/svg+xml": [
       "<svg contentScriptType=\"application/ecmascript\" contentStyleType=\"text/css\" height=\"246px\" preserveAspectRatio=\"none\" style=\"width:378px;height:246px;\" version=\"1.1\" viewBox=\"0 0 378 246\" width=\"378px\" xmlns=\"http://www.w3.org/2000/svg\" xmlns:xlink=\"http://www.w3.org/1999/xlink\" zoomAndPan=\"magnify\"><defs><filter height=\"300%\" id=\"f878y93vglfls\" width=\"300%\" x=\"-1\" y=\"-1\"><feGaussianBlur result=\"blurOut\" stdDeviation=\"2.0\"/><feColorMatrix in=\"blurOut\" result=\"blurOut2\" type=\"matrix\" values=\"0 0 0 0 0 0 0 0 0 0 0 0 0 0 0 0 0 0 .4 0\"/><feOffset dx=\"4.0\" dy=\"4.0\" in=\"blurOut2\" result=\"blurOut3\"/><feBlend in=\"SourceGraphic\" in2=\"blurOut3\" mode=\"normal\"/></filter></defs><g><line style=\"stroke: #A80036; stroke-width: 1.0; stroke-dasharray: 5.0,5.0;\" x1=\"148\" x2=\"148\" y1=\"38.2969\" y2=\"205.9609\"/><line style=\"stroke: #A80036; stroke-width: 1.0; stroke-dasharray: 5.0,5.0;\" x1=\"206\" x2=\"206\" y1=\"38.2969\" y2=\"205.9609\"/><rect fill=\"#FEFECE\" filter=\"url(#f878y93vglfls)\" height=\"30.2969\" style=\"stroke: #A80036; stroke-width: 1.5;\" width=\"46\" x=\"123\" y=\"3\"/><text fill=\"#000000\" font-family=\"sans-serif\" font-size=\"14\" lengthAdjust=\"spacingAndGlyphs\" textLength=\"32\" x=\"130\" y=\"22.9951\">Alice</text><rect fill=\"#FEFECE\" filter=\"url(#f878y93vglfls)\" height=\"30.2969\" style=\"stroke: #A80036; stroke-width: 1.5;\" width=\"46\" x=\"123\" y=\"204.9609\"/><text fill=\"#000000\" font-family=\"sans-serif\" font-size=\"14\" lengthAdjust=\"spacingAndGlyphs\" textLength=\"32\" x=\"130\" y=\"224.9561\">Alice</text><rect fill=\"#FEFECE\" filter=\"url(#f878y93vglfls)\" height=\"30.2969\" style=\"stroke: #A80036; stroke-width: 1.5;\" width=\"42\" x=\"183\" y=\"3\"/><text fill=\"#000000\" font-family=\"sans-serif\" font-size=\"14\" lengthAdjust=\"spacingAndGlyphs\" textLength=\"28\" x=\"190\" y=\"22.9951\">Bob</text><rect fill=\"#FEFECE\" filter=\"url(#f878y93vglfls)\" height=\"30.2969\" style=\"stroke: #A80036; stroke-width: 1.5;\" width=\"42\" x=\"183\" y=\"204.9609\"/><text fill=\"#000000\" font-family=\"sans-serif\" font-size=\"14\" lengthAdjust=\"spacingAndGlyphs\" textLength=\"28\" x=\"190\" y=\"224.9561\">Bob</text><polygon fill=\"#A80036\" points=\"194,70.2969,204,74.2969,194,78.2969,198,74.2969\" style=\"stroke: #A80036; stroke-width: 1.0;\"/><line style=\"stroke: #A80036; stroke-width: 1.0;\" x1=\"148\" x2=\"200\" y1=\"74.2969\" y2=\"74.2969\"/><text fill=\"#000000\" font-family=\"sans-serif\" font-size=\"13\" lengthAdjust=\"spacingAndGlyphs\" textLength=\"30\" x=\"155\" y=\"69.3638\">hello</text><polygon fill=\"#FBFB77\" filter=\"url(#f878y93vglfls)\" points=\"8,53.2969,8,78.2969,139,78.2969,139,63.2969,129,53.2969,8,53.2969\" style=\"stroke: #A80036; stroke-width: 1.0;\"/><line style=\"stroke: #A80036; stroke-width: 1.0;\" x1=\"129\" x2=\"129\" y1=\"53.2969\" y2=\"63.2969\"/><line style=\"stroke: #A80036; stroke-width: 1.0;\" x1=\"139\" x2=\"129\" y1=\"63.2969\" y2=\"63.2969\"/><text fill=\"#000000\" font-family=\"sans-serif\" font-size=\"13\" lengthAdjust=\"spacingAndGlyphs\" textLength=\"110\" x=\"14\" y=\"70.3638\">this is a first note</text><polygon fill=\"#A80036\" points=\"159,109.4297,149,113.4297,159,117.4297,155,113.4297\" style=\"stroke: #A80036; stroke-width: 1.0;\"/><line style=\"stroke: #A80036; stroke-width: 1.0;\" x1=\"153\" x2=\"205\" y1=\"113.4297\" y2=\"113.4297\"/><text fill=\"#000000\" font-family=\"sans-serif\" font-size=\"13\" lengthAdjust=\"spacingAndGlyphs\" textLength=\"15\" x=\"165\" y=\"108.4966\">ok</text><polygon fill=\"#FBFB77\" filter=\"url(#f878y93vglfls)\" points=\"211,92.4297,211,117.4297,356,117.4297,356,102.4297,346,92.4297,211,92.4297\" style=\"stroke: #A80036; stroke-width: 1.0;\"/><line style=\"stroke: #A80036; stroke-width: 1.0;\" x1=\"346\" x2=\"346\" y1=\"92.4297\" y2=\"102.4297\"/><line style=\"stroke: #A80036; stroke-width: 1.0;\" x1=\"356\" x2=\"346\" y1=\"102.4297\" y2=\"102.4297\"/><text fill=\"#000000\" font-family=\"sans-serif\" font-size=\"13\" lengthAdjust=\"spacingAndGlyphs\" textLength=\"124\" x=\"217\" y=\"109.4966\">this is another note</text><line style=\"stroke: #A80036; stroke-width: 1.0;\" x1=\"206\" x2=\"248\" y1=\"161.3281\" y2=\"161.3281\"/><line style=\"stroke: #A80036; stroke-width: 1.0;\" x1=\"248\" x2=\"248\" y1=\"161.3281\" y2=\"174.3281\"/><line style=\"stroke: #A80036; stroke-width: 1.0;\" x1=\"207\" x2=\"248\" y1=\"174.3281\" y2=\"174.3281\"/><polygon fill=\"#A80036\" points=\"217,170.3281,207,174.3281,217,178.3281,213,174.3281\" style=\"stroke: #A80036; stroke-width: 1.0;\"/><text fill=\"#000000\" font-family=\"sans-serif\" font-size=\"13\" lengthAdjust=\"spacingAndGlyphs\" textLength=\"82\" x=\"213\" y=\"156.2622\">I am thinking</text><polygon fill=\"#FBFB77\" filter=\"url(#f878y93vglfls)\" points=\"52,131.5625,52,186.5625,197,186.5625,197,141.5625,187,131.5625,52,131.5625\" style=\"stroke: #A80036; stroke-width: 1.0;\"/><line style=\"stroke: #A80036; stroke-width: 1.0;\" x1=\"187\" x2=\"187\" y1=\"131.5625\" y2=\"141.5625\"/><line style=\"stroke: #A80036; stroke-width: 1.0;\" x1=\"197\" x2=\"187\" y1=\"141.5625\" y2=\"141.5625\"/><text fill=\"#000000\" font-family=\"sans-serif\" font-size=\"13\" lengthAdjust=\"spacingAndGlyphs\" textLength=\"41\" x=\"58\" y=\"148.6294\">a note</text><text fill=\"#000000\" font-family=\"sans-serif\" font-size=\"13\" lengthAdjust=\"spacingAndGlyphs\" textLength=\"124\" x=\"58\" y=\"163.7622\">can also be defined</text><text fill=\"#000000\" font-family=\"sans-serif\" font-size=\"13\" lengthAdjust=\"spacingAndGlyphs\" textLength=\"99\" x=\"58\" y=\"178.895\">on several lines</text><!--\n",
       "@startuml \n",
       "Alice->Bob : hello\n",
       "note left: this is a first note\n",
       "\n",
       "Bob->Alice : ok\n",
       "note right: this is another note\n",
       "\n",
       "Bob->Bob : I am thinking\n",
       "note left\n",
       "a note\n",
       "can also be defined\n",
       "on several lines\n",
       "end note\n",
       "\n",
       "@enduml\n",
       "\n",
       "PlantUML version 1.2017.15(Mon Jul 03 16:45:34 GMT 2017)\n",
       "(GPL source distribution)\n",
       "Java Runtime: OpenJDK Runtime Environment\n",
       "JVM: OpenJDK 64-Bit Server VM\n",
       "Java Version: 11.0.11+9-Ubuntu-0ubuntu2.18.04\n",
       "Operating System: Linux\n",
       "OS Version: 5.4.0-84-generic\n",
       "Default Encoding: UTF-8\n",
       "Language: en\n",
       "Country: null\n",
       "--></g></svg>"
      ],
      "text/plain": [
       "<IPython.core.display.SVG object>"
      ]
     },
     "execution_count": 51,
     "metadata": {},
     "output_type": "execute_result"
    }
   ],
   "source": [
    "%%plantuml\n",
    "Alice->Bob : hello\n",
    "note left: this is a first note\n",
    "\n",
    "Bob->Alice : ok\n",
    "note right: this is another note\n",
    "\n",
    "Bob->Bob : I am thinking\n",
    "note left\n",
    "a note\n",
    "can also be defined\n",
    "on several lines\n",
    "end note"
   ]
  },
  {
   "cell_type": "markdown",
   "metadata": {},
   "source": [
    "## Lebenslinien\n",
    "\n",
    "Mit den Befehlen ``activate`` und ``deactivate`` können die Teilnehmer\n",
    "aktiviert und deaktiviert werden.\n",
    "\n",
    "Wenn ein Teilnehmer aktiviert wurde, dann erscheint seine Lebenlinie.\n",
    "\n",
    "Die Befehle ``activate`` und ``deactivate`` wirken nach der vorhergehenden\n",
    "Nachricht.\n",
    "\n",
    "Der Befehl ``destroy`` beendet die Lebenslinie eines Teilnehmers.  \n",
    "alternativ kann der Befehl ``return (message)`` verwendet werden.\n",
    "\n",
    "\n",
    "Es ist auch möglich, geschachtelte Lebenslinien zu erzeugen. Außerdem kann man einer Lebenslinie eine [Farbe](color) zuweisen."
   ]
  },
  {
   "cell_type": "code",
   "execution_count": 55,
   "metadata": {},
   "outputs": [
    {
     "data": {
      "image/svg+xml": [
       "<svg contentScriptType=\"application/ecmascript\" contentStyleType=\"text/css\" height=\"273px\" preserveAspectRatio=\"none\" style=\"width:400px;height:273px;\" version=\"1.1\" viewBox=\"0 0 400 273\" width=\"400px\" xmlns=\"http://www.w3.org/2000/svg\" xmlns:xlink=\"http://www.w3.org/1999/xlink\" zoomAndPan=\"magnify\"><defs><filter height=\"300%\" id=\"f16wku2ganu6eb\" width=\"300%\" x=\"-1\" y=\"-1\"><feGaussianBlur result=\"blurOut\" stdDeviation=\"2.0\"/><feColorMatrix in=\"blurOut\" result=\"blurOut2\" type=\"matrix\" values=\"0 0 0 0 0 0 0 0 0 0 0 0 0 0 0 0 0 0 .4 0\"/><feOffset dx=\"4.0\" dy=\"4.0\" in=\"blurOut2\" result=\"blurOut3\"/><feBlend in=\"SourceGraphic\" in2=\"blurOut3\" mode=\"normal\"/></filter></defs><g><rect fill=\"#FFFFFF\" filter=\"url(#f16wku2ganu6eb)\" height=\"145.6641\" style=\"stroke: #A80036; stroke-width: 1.0;\" width=\"10\" x=\"101\" y=\"69.2969\"/><rect fill=\"#FFFFFF\" filter=\"url(#f16wku2ganu6eb)\" height=\"87.3984\" style=\"stroke: #A80036; stroke-width: 1.0;\" width=\"10\" x=\"275\" y=\"98.4297\"/><rect fill=\"#FFFFFF\" filter=\"url(#f16wku2ganu6eb)\" height=\"29.1328\" style=\"stroke: #A80036; stroke-width: 1.0;\" width=\"10\" x=\"374\" y=\"127.5625\"/><line style=\"stroke: #A80036; stroke-width: 1.0; stroke-dasharray: 5.0,5.0;\" x1=\"33\" x2=\"33\" y1=\"38.2969\" y2=\"233.0938\"/><line style=\"stroke: #A80036; stroke-width: 1.0; stroke-dasharray: 5.0,5.0;\" x1=\"105.5\" x2=\"105.5\" y1=\"38.2969\" y2=\"233.0938\"/><line style=\"stroke: #A80036; stroke-width: 1.0; stroke-dasharray: 5.0,5.0;\" x1=\"280\" x2=\"280\" y1=\"38.2969\" y2=\"233.0938\"/><line style=\"stroke: #A80036; stroke-width: 1.0; stroke-dasharray: 5.0,5.0;\" x1=\"379\" x2=\"379\" y1=\"38.2969\" y2=\"233.0938\"/><rect fill=\"#FEFECE\" filter=\"url(#f16wku2ganu6eb)\" height=\"30.2969\" style=\"stroke: #A80036; stroke-width: 1.5;\" width=\"46\" x=\"8\" y=\"3\"/><text fill=\"#000000\" font-family=\"sans-serif\" font-size=\"14\" lengthAdjust=\"spacingAndGlyphs\" textLength=\"32\" x=\"15\" y=\"22.9951\">User</text><rect fill=\"#FEFECE\" filter=\"url(#f16wku2ganu6eb)\" height=\"30.2969\" style=\"stroke: #A80036; stroke-width: 1.5;\" width=\"46\" x=\"8\" y=\"232.0938\"/><text fill=\"#000000\" font-family=\"sans-serif\" font-size=\"14\" lengthAdjust=\"spacingAndGlyphs\" textLength=\"32\" x=\"15\" y=\"252.0889\">User</text><rect fill=\"#FEFECE\" filter=\"url(#f16wku2ganu6eb)\" height=\"30.2969\" style=\"stroke: #A80036; stroke-width: 1.5;\" width=\"23\" x=\"92.5\" y=\"3\"/><text fill=\"#000000\" font-family=\"sans-serif\" font-size=\"14\" lengthAdjust=\"spacingAndGlyphs\" textLength=\"9\" x=\"99.5\" y=\"22.9951\">A</text><rect fill=\"#FEFECE\" filter=\"url(#f16wku2ganu6eb)\" height=\"30.2969\" style=\"stroke: #A80036; stroke-width: 1.5;\" width=\"23\" x=\"92.5\" y=\"232.0938\"/><text fill=\"#000000\" font-family=\"sans-serif\" font-size=\"14\" lengthAdjust=\"spacingAndGlyphs\" textLength=\"9\" x=\"99.5\" y=\"252.0889\">A</text><rect fill=\"#FEFECE\" filter=\"url(#f16wku2ganu6eb)\" height=\"30.2969\" style=\"stroke: #A80036; stroke-width: 1.5;\" width=\"24\" x=\"266\" y=\"3\"/><text fill=\"#000000\" font-family=\"sans-serif\" font-size=\"14\" lengthAdjust=\"spacingAndGlyphs\" textLength=\"10\" x=\"273\" y=\"22.9951\">B</text><rect fill=\"#FEFECE\" filter=\"url(#f16wku2ganu6eb)\" height=\"30.2969\" style=\"stroke: #A80036; stroke-width: 1.5;\" width=\"24\" x=\"266\" y=\"232.0938\"/><text fill=\"#000000\" font-family=\"sans-serif\" font-size=\"14\" lengthAdjust=\"spacingAndGlyphs\" textLength=\"10\" x=\"273\" y=\"252.0889\">B</text><rect fill=\"#FEFECE\" filter=\"url(#f16wku2ganu6eb)\" height=\"30.2969\" style=\"stroke: #A80036; stroke-width: 1.5;\" width=\"24\" x=\"365\" y=\"3\"/><text fill=\"#000000\" font-family=\"sans-serif\" font-size=\"14\" lengthAdjust=\"spacingAndGlyphs\" textLength=\"10\" x=\"372\" y=\"22.9951\">C</text><rect fill=\"#FEFECE\" filter=\"url(#f16wku2ganu6eb)\" height=\"30.2969\" style=\"stroke: #A80036; stroke-width: 1.5;\" width=\"24\" x=\"365\" y=\"232.0938\"/><text fill=\"#000000\" font-family=\"sans-serif\" font-size=\"14\" lengthAdjust=\"spacingAndGlyphs\" textLength=\"10\" x=\"372\" y=\"252.0889\">C</text><rect fill=\"#FFFFFF\" filter=\"url(#f16wku2ganu6eb)\" height=\"145.6641\" style=\"stroke: #A80036; stroke-width: 1.0;\" width=\"10\" x=\"101\" y=\"69.2969\"/><rect fill=\"#FFFFFF\" filter=\"url(#f16wku2ganu6eb)\" height=\"87.3984\" style=\"stroke: #A80036; stroke-width: 1.0;\" width=\"10\" x=\"275\" y=\"98.4297\"/><rect fill=\"#FFFFFF\" filter=\"url(#f16wku2ganu6eb)\" height=\"29.1328\" style=\"stroke: #A80036; stroke-width: 1.0;\" width=\"10\" x=\"374\" y=\"127.5625\"/><polygon fill=\"#A80036\" points=\"89,65.2969,99,69.2969,89,73.2969,93,69.2969\" style=\"stroke: #A80036; stroke-width: 1.0;\"/><line style=\"stroke: #A80036; stroke-width: 1.0;\" x1=\"33\" x2=\"95\" y1=\"69.2969\" y2=\"69.2969\"/><text fill=\"#000000\" font-family=\"sans-serif\" font-size=\"13\" lengthAdjust=\"spacingAndGlyphs\" textLength=\"49\" x=\"40\" y=\"64.3638\">DoWork</text><polygon fill=\"#A80036\" points=\"263,94.4297,273,98.4297,263,102.4297,267,98.4297\" style=\"stroke: #A80036; stroke-width: 1.0;\"/><line style=\"stroke: #A80036; stroke-width: 1.0;\" x1=\"111\" x2=\"269\" y1=\"98.4297\" y2=\"98.4297\"/><text fill=\"#000000\" font-family=\"sans-serif\" font-size=\"13\" lengthAdjust=\"spacingAndGlyphs\" textLength=\"145\" x=\"118\" y=\"93.4966\">&lt;&lt; createRequest &gt;&gt;</text><polygon fill=\"#A80036\" points=\"362,123.5625,372,127.5625,362,131.5625,366,127.5625\" style=\"stroke: #A80036; stroke-width: 1.0;\"/><line style=\"stroke: #A80036; stroke-width: 1.0;\" x1=\"285\" x2=\"368\" y1=\"127.5625\" y2=\"127.5625\"/><text fill=\"#000000\" font-family=\"sans-serif\" font-size=\"13\" lengthAdjust=\"spacingAndGlyphs\" textLength=\"49\" x=\"292\" y=\"122.6294\">DoWork</text><polygon fill=\"#A80036\" points=\"296,152.6953,286,156.6953,296,160.6953,292,156.6953\" style=\"stroke: #A80036; stroke-width: 1.0;\"/><line style=\"stroke: #A80036; stroke-width: 1.0; stroke-dasharray: 2.0,2.0;\" x1=\"290\" x2=\"378\" y1=\"156.6953\" y2=\"156.6953\"/><text fill=\"#000000\" font-family=\"sans-serif\" font-size=\"13\" lengthAdjust=\"spacingAndGlyphs\" textLength=\"65\" x=\"302\" y=\"151.7622\">WorkDone</text><line style=\"stroke: #A80036; stroke-width: 2.0;\" x1=\"370\" x2=\"388\" y1=\"147.6953\" y2=\"165.6953\"/><line style=\"stroke: #A80036; stroke-width: 2.0;\" x1=\"370\" x2=\"388\" y1=\"165.6953\" y2=\"147.6953\"/><polygon fill=\"#A80036\" points=\"122,181.8281,112,185.8281,122,189.8281,118,185.8281\" style=\"stroke: #A80036; stroke-width: 1.0;\"/><line style=\"stroke: #A80036; stroke-width: 1.0; stroke-dasharray: 2.0,2.0;\" x1=\"116\" x2=\"279\" y1=\"185.8281\" y2=\"185.8281\"/><text fill=\"#000000\" font-family=\"sans-serif\" font-size=\"13\" lengthAdjust=\"spacingAndGlyphs\" textLength=\"103\" x=\"128\" y=\"180.895\">RequestCreated</text><polygon fill=\"#A80036\" points=\"44,210.9609,34,214.9609,44,218.9609,40,214.9609\" style=\"stroke: #A80036; stroke-width: 1.0;\"/><line style=\"stroke: #A80036; stroke-width: 1.0;\" x1=\"38\" x2=\"105\" y1=\"214.9609\" y2=\"214.9609\"/><text fill=\"#000000\" font-family=\"sans-serif\" font-size=\"13\" lengthAdjust=\"spacingAndGlyphs\" textLength=\"34\" x=\"50\" y=\"210.0278\">Done</text><!--\n",
       "@startuml \n",
       "participant User\n",
       "\n",
       "User -> A: DoWork\n",
       "activate A\n",
       "\n",
       "A -> B: << createRequest >>\n",
       "activate B\n",
       "\n",
       "B -> C: DoWork\n",
       "activate C\n",
       "C - -> B: WorkDone\n",
       "destroy C\n",
       "\n",
       "B - -> A: RequestCreated\n",
       "deactivate B\n",
       "\n",
       "A -> User: Done\n",
       "deactivate A\n",
       "\n",
       "@enduml\n",
       "\n",
       "PlantUML version 1.2017.15(Mon Jul 03 16:45:34 GMT 2017)\n",
       "(GPL source distribution)\n",
       "Java Runtime: OpenJDK Runtime Environment\n",
       "JVM: OpenJDK 64-Bit Server VM\n",
       "Java Version: 11.0.11+9-Ubuntu-0ubuntu2.18.04\n",
       "Operating System: Linux\n",
       "OS Version: 5.4.0-84-generic\n",
       "Default Encoding: UTF-8\n",
       "Language: en\n",
       "Country: null\n",
       "--></g></svg>"
      ],
      "text/plain": [
       "<IPython.core.display.SVG object>"
      ]
     },
     "execution_count": 55,
     "metadata": {},
     "output_type": "execute_result"
    }
   ],
   "source": [
    "%%plantuml\n",
    "participant User\n",
    "\n",
    "User -> A: DoWork\n",
    "activate A\n",
    "\n",
    "A -> B: << createRequest >>\n",
    "activate B\n",
    "\n",
    "B -> C: DoWork\n",
    "activate C\n",
    "C --> B: WorkDone\n",
    "destroy C\n",
    "\n",
    "B --> A: RequestCreated\n",
    "deactivate B\n",
    "\n",
    "A -> User: Done\n",
    "deactivate A"
   ]
  },
  {
   "cell_type": "code",
   "execution_count": 56,
   "metadata": {},
   "outputs": [
    {
     "data": {
      "image/svg+xml": [
       "<svg contentScriptType=\"application/ecmascript\" contentStyleType=\"text/css\" height=\"257px\" preserveAspectRatio=\"none\" style=\"width:306px;height:257px;\" version=\"1.1\" viewBox=\"0 0 306 257\" width=\"306px\" xmlns=\"http://www.w3.org/2000/svg\" xmlns:xlink=\"http://www.w3.org/1999/xlink\" zoomAndPan=\"magnify\"><defs><filter height=\"300%\" id=\"fgrcoz2lhd52n\" width=\"300%\" x=\"-1\" y=\"-1\"><feGaussianBlur result=\"blurOut\" stdDeviation=\"2.0\"/><feColorMatrix in=\"blurOut\" result=\"blurOut2\" type=\"matrix\" values=\"0 0 0 0 0 0 0 0 0 0 0 0 0 0 0 0 0 0 .4 0\"/><feOffset dx=\"4.0\" dy=\"4.0\" in=\"blurOut2\" result=\"blurOut3\"/><feBlend in=\"SourceGraphic\" in2=\"blurOut3\" mode=\"normal\"/></filter></defs><g><rect fill=\"#FFBBBB\" filter=\"url(#fgrcoz2lhd52n)\" height=\"129.5313\" style=\"stroke: #A80036; stroke-width: 1.0;\" width=\"10\" x=\"101\" y=\"69.2969\"/><rect fill=\"#E9967A\" filter=\"url(#fgrcoz2lhd52n)\" height=\"63.2656\" style=\"stroke: #A80036; stroke-width: 1.0;\" width=\"10\" x=\"106\" y=\"106.4297\"/><rect fill=\"#FFFFFF\" filter=\"url(#fgrcoz2lhd52n)\" height=\"29.1328\" style=\"stroke: #A80036; stroke-width: 1.0;\" width=\"10\" x=\"280\" y=\"140.5625\"/><line style=\"stroke: #A80036; stroke-width: 1.0; stroke-dasharray: 5.0,5.0;\" x1=\"33\" x2=\"33\" y1=\"38.2969\" y2=\"216.9609\"/><line style=\"stroke: #A80036; stroke-width: 1.0; stroke-dasharray: 5.0,5.0;\" x1=\"105.5\" x2=\"105.5\" y1=\"38.2969\" y2=\"216.9609\"/><line style=\"stroke: #A80036; stroke-width: 1.0; stroke-dasharray: 5.0,5.0;\" x1=\"285\" x2=\"285\" y1=\"38.2969\" y2=\"216.9609\"/><rect fill=\"#FEFECE\" filter=\"url(#fgrcoz2lhd52n)\" height=\"30.2969\" style=\"stroke: #A80036; stroke-width: 1.5;\" width=\"46\" x=\"8\" y=\"3\"/><text fill=\"#000000\" font-family=\"sans-serif\" font-size=\"14\" lengthAdjust=\"spacingAndGlyphs\" textLength=\"32\" x=\"15\" y=\"22.9951\">User</text><rect fill=\"#FEFECE\" filter=\"url(#fgrcoz2lhd52n)\" height=\"30.2969\" style=\"stroke: #A80036; stroke-width: 1.5;\" width=\"46\" x=\"8\" y=\"215.9609\"/><text fill=\"#000000\" font-family=\"sans-serif\" font-size=\"14\" lengthAdjust=\"spacingAndGlyphs\" textLength=\"32\" x=\"15\" y=\"235.9561\">User</text><rect fill=\"#FEFECE\" filter=\"url(#fgrcoz2lhd52n)\" height=\"30.2969\" style=\"stroke: #A80036; stroke-width: 1.5;\" width=\"23\" x=\"92.5\" y=\"3\"/><text fill=\"#000000\" font-family=\"sans-serif\" font-size=\"14\" lengthAdjust=\"spacingAndGlyphs\" textLength=\"9\" x=\"99.5\" y=\"22.9951\">A</text><rect fill=\"#FEFECE\" filter=\"url(#fgrcoz2lhd52n)\" height=\"30.2969\" style=\"stroke: #A80036; stroke-width: 1.5;\" width=\"23\" x=\"92.5\" y=\"215.9609\"/><text fill=\"#000000\" font-family=\"sans-serif\" font-size=\"14\" lengthAdjust=\"spacingAndGlyphs\" textLength=\"9\" x=\"99.5\" y=\"235.9561\">A</text><rect fill=\"#FEFECE\" filter=\"url(#fgrcoz2lhd52n)\" height=\"30.2969\" style=\"stroke: #A80036; stroke-width: 1.5;\" width=\"24\" x=\"271\" y=\"3\"/><text fill=\"#000000\" font-family=\"sans-serif\" font-size=\"14\" lengthAdjust=\"spacingAndGlyphs\" textLength=\"10\" x=\"278\" y=\"22.9951\">B</text><rect fill=\"#FEFECE\" filter=\"url(#fgrcoz2lhd52n)\" height=\"30.2969\" style=\"stroke: #A80036; stroke-width: 1.5;\" width=\"24\" x=\"271\" y=\"215.9609\"/><text fill=\"#000000\" font-family=\"sans-serif\" font-size=\"14\" lengthAdjust=\"spacingAndGlyphs\" textLength=\"10\" x=\"278\" y=\"235.9561\">B</text><rect fill=\"#FFBBBB\" filter=\"url(#fgrcoz2lhd52n)\" height=\"129.5313\" style=\"stroke: #A80036; stroke-width: 1.0;\" width=\"10\" x=\"101\" y=\"69.2969\"/><rect fill=\"#E9967A\" filter=\"url(#fgrcoz2lhd52n)\" height=\"63.2656\" style=\"stroke: #A80036; stroke-width: 1.0;\" width=\"10\" x=\"106\" y=\"106.4297\"/><rect fill=\"#FFFFFF\" filter=\"url(#fgrcoz2lhd52n)\" height=\"29.1328\" style=\"stroke: #A80036; stroke-width: 1.0;\" width=\"10\" x=\"280\" y=\"140.5625\"/><polygon fill=\"#A80036\" points=\"89,65.2969,99,69.2969,89,73.2969,93,69.2969\" style=\"stroke: #A80036; stroke-width: 1.0;\"/><line style=\"stroke: #A80036; stroke-width: 1.0;\" x1=\"33\" x2=\"95\" y1=\"69.2969\" y2=\"69.2969\"/><text fill=\"#000000\" font-family=\"sans-serif\" font-size=\"13\" lengthAdjust=\"spacingAndGlyphs\" textLength=\"49\" x=\"40\" y=\"64.3638\">DoWork</text><line style=\"stroke: #A80036; stroke-width: 1.0;\" x1=\"111\" x2=\"158\" y1=\"93.5625\" y2=\"93.5625\"/><line style=\"stroke: #A80036; stroke-width: 1.0;\" x1=\"158\" x2=\"158\" y1=\"93.5625\" y2=\"106.5625\"/><line style=\"stroke: #A80036; stroke-width: 1.0;\" x1=\"117\" x2=\"158\" y1=\"106.5625\" y2=\"106.5625\"/><polygon fill=\"#A80036\" points=\"127,102.5625,117,106.5625,127,110.5625,123,106.5625\" style=\"stroke: #A80036; stroke-width: 1.0;\"/><text fill=\"#000000\" font-family=\"sans-serif\" font-size=\"13\" lengthAdjust=\"spacingAndGlyphs\" textLength=\"73\" x=\"123\" y=\"88.4966\">Internal call</text><polygon fill=\"#A80036\" points=\"268,136.5625,278,140.5625,268,144.5625,272,140.5625\" style=\"stroke: #A80036; stroke-width: 1.0;\"/><line style=\"stroke: #A80036; stroke-width: 1.0;\" x1=\"116\" x2=\"274\" y1=\"140.5625\" y2=\"140.5625\"/><text fill=\"#000000\" font-family=\"sans-serif\" font-size=\"13\" lengthAdjust=\"spacingAndGlyphs\" textLength=\"145\" x=\"123\" y=\"135.6294\">&lt;&lt; createRequest &gt;&gt;</text><polygon fill=\"#A80036\" points=\"122,165.6953,112,169.6953,122,173.6953,118,169.6953\" style=\"stroke: #A80036; stroke-width: 1.0;\"/><line style=\"stroke: #A80036; stroke-width: 1.0; stroke-dasharray: 2.0,2.0;\" x1=\"116\" x2=\"284\" y1=\"169.6953\" y2=\"169.6953\"/><text fill=\"#000000\" font-family=\"sans-serif\" font-size=\"13\" lengthAdjust=\"spacingAndGlyphs\" textLength=\"103\" x=\"128\" y=\"164.7622\">RequestCreated</text><polygon fill=\"#A80036\" points=\"44,194.8281,34,198.8281,44,202.8281,40,198.8281\" style=\"stroke: #A80036; stroke-width: 1.0;\"/><line style=\"stroke: #A80036; stroke-width: 1.0;\" x1=\"38\" x2=\"105\" y1=\"198.8281\" y2=\"198.8281\"/><text fill=\"#000000\" font-family=\"sans-serif\" font-size=\"13\" lengthAdjust=\"spacingAndGlyphs\" textLength=\"34\" x=\"50\" y=\"193.895\">Done</text><!--\n",
       "@startuml \n",
       "participant User\n",
       "\n",
       "User -> A: DoWork\n",
       "activate A #FFBBBB\n",
       "\n",
       "A -> A: Internal call\n",
       "activate A #DarkSalmon\n",
       "\n",
       "A -> B: << createRequest >>\n",
       "activate B\n",
       "\n",
       "B - -> A: RequestCreated\n",
       "deactivate B\n",
       "deactivate A\n",
       "A -> User: Done\n",
       "deactivate A\n",
       "\n",
       "@enduml\n",
       "\n",
       "PlantUML version 1.2017.15(Mon Jul 03 16:45:34 GMT 2017)\n",
       "(GPL source distribution)\n",
       "Java Runtime: OpenJDK Runtime Environment\n",
       "JVM: OpenJDK 64-Bit Server VM\n",
       "Java Version: 11.0.11+9-Ubuntu-0ubuntu2.18.04\n",
       "Operating System: Linux\n",
       "OS Version: 5.4.0-84-generic\n",
       "Default Encoding: UTF-8\n",
       "Language: en\n",
       "Country: null\n",
       "--></g></svg>"
      ],
      "text/plain": [
       "<IPython.core.display.SVG object>"
      ]
     },
     "execution_count": 56,
     "metadata": {},
     "output_type": "execute_result"
    }
   ],
   "source": [
    "%%plantuml\n",
    "participant User\n",
    "\n",
    "User -> A: DoWork\n",
    "activate A #FFBBBB\n",
    "\n",
    "A -> A: Internal call\n",
    "activate A #DarkSalmon\n",
    "\n",
    "A -> B: << createRequest >>\n",
    "activate B\n",
    "\n",
    "B --> A: RequestCreated\n",
    "deactivate B\n",
    "deactivate A\n",
    "A -> User: Done\n",
    "deactivate A"
   ]
  }
 ],
 "metadata": {
  "kernelspec": {
   "display_name": "Python 3",
   "language": "python",
   "name": "python3"
  },
  "language_info": {
   "codemirror_mode": {
    "name": "ipython",
    "version": 3
   },
   "file_extension": ".py",
   "mimetype": "text/x-python",
   "name": "python",
   "nbconvert_exporter": "python",
   "pygments_lexer": "ipython3",
   "version": "3.6.9"
  }
 },
 "nbformat": 4,
 "nbformat_minor": 2
}
