{
 "cells": [
  {
   "cell_type": "markdown",
   "metadata": {},
   "source": [
    "# Aktivitätsdiagramme mit Jupyter Notebook und plantuml\n",
    "von Lisa Schönfuß-Smith"
   ]
  },
  {
   "cell_type": "markdown",
   "metadata": {},
   "source": [
    "**Was ist ein Aktivitätsdiagramm?**\n",
    "- Verhaltensdiagramm der UML (Unified Modeling Language)\n",
    "- stellt grafisch die schrittweise von Aktionen und Aktivitäten da\n",
    "- kann Kontroll- und Datenflüssen darstellen"
   ]
  },
  {
   "cell_type": "markdown",
   "metadata": {},
   "source": [
    "## PlantUML\n",
    "Zur Darstellung der Aktivitätsdiagramme, benutzen wir PlantUML.\n",
    "Dies muss zuerst importiert werden. "
   ]
  },
  {
   "cell_type": "code",
   "execution_count": 1,
   "metadata": {},
   "outputs": [],
   "source": [
    "import plantuml"
   ]
  },
  {
   "cell_type": "markdown",
   "metadata": {},
   "source": [
    "## Erste Schritte\n",
    "Aktivitätsdiagramme bestehen aus zwei Arten von Bausteinen. Immer wenn etwas passiert (Aktivität), werden diese Bausteine Knoten genannt. Der zweite Baustein sind die Kanten. Diese verbinden die Knoten miteinander.\n",
    "<br/>\n",
    "Durch die Angabe \"%%plantuml\" geben wir an, das ab hier das UML-Diagramm anfängt, welches dargestellt werden soll. Ein Aktivitätsdiagramm fängt meist mit einem Startpunkt an und endet mit einem Endpunkt. Dieses wird mit \"start\" und \"stop\" angegeben.\n",
    "<br/>\n",
    "Eine Aktivität geben wir mit, schreiben wir zwischen \":\" und \";\".\n",
    "Durch die Markierung \"**\" können wir ein Wort in Bold schreiben."
   ]
  },
  {
   "cell_type": "code",
   "execution_count": 2,
   "metadata": {},
   "outputs": [
    {
     "data": {
      "image/svg+xml": [
       "<svg contentScriptType=\"application/ecmascript\" contentStyleType=\"text/css\" height=\"202px\" preserveAspectRatio=\"none\" style=\"width:109px;height:202px;\" version=\"1.1\" viewBox=\"0 0 109 202\" width=\"109px\" xmlns=\"http://www.w3.org/2000/svg\" xmlns:xlink=\"http://www.w3.org/1999/xlink\" zoomAndPan=\"magnify\"><defs><filter height=\"300%\" id=\"f1oei0bd3qzxe6\" width=\"300%\" x=\"-1\" y=\"-1\"><feGaussianBlur result=\"blurOut\" stdDeviation=\"2.0\"/><feColorMatrix in=\"blurOut\" result=\"blurOut2\" type=\"matrix\" values=\"0 0 0 0 0 0 0 0 0 0 0 0 0 0 0 0 0 0 .4 0\"/><feOffset dx=\"4.0\" dy=\"4.0\" in=\"blurOut2\" result=\"blurOut3\"/><feBlend in=\"SourceGraphic\" in2=\"blurOut3\" mode=\"normal\"/></filter></defs><g><ellipse cx=\"54\" cy=\"20\" fill=\"#000000\" filter=\"url(#f1oei0bd3qzxe6)\" rx=\"10\" ry=\"10\" style=\"stroke: none; stroke-width: 1.0;\"/><rect fill=\"#FEFECE\" filter=\"url(#f1oei0bd3qzxe6)\" height=\"33.9688\" rx=\"12.5\" ry=\"12.5\" style=\"stroke: #A80036; stroke-width: 1.5;\" width=\"88\" x=\"10\" y=\"50\"/><text fill=\"#000000\" font-family=\"sans-serif\" font-size=\"12\" lengthAdjust=\"spacingAndGlyphs\" textLength=\"68\" x=\"20\" y=\"71.1387\">Hello world</text><rect fill=\"#FEFECE\" filter=\"url(#f1oei0bd3qzxe6)\" height=\"47.9375\" rx=\"12.5\" ry=\"12.5\" style=\"stroke: #A80036; stroke-width: 1.5;\" width=\"60\" x=\"24\" y=\"103.9688\"/><text fill=\"#000000\" font-family=\"sans-serif\" font-size=\"12\" lengthAdjust=\"spacingAndGlyphs\" textLength=\"31\" x=\"34\" y=\"125.1074\">Hello</text><text fill=\"#000000\" font-family=\"sans-serif\" font-size=\"12\" font-weight=\"bold\" lengthAdjust=\"spacingAndGlyphs\" textLength=\"40\" x=\"34\" y=\"139.0762\">world</text><ellipse cx=\"54\" cy=\"181.9063\" fill=\"none\" filter=\"url(#f1oei0bd3qzxe6)\" rx=\"10\" ry=\"10\" style=\"stroke: #000000; stroke-width: 1.0;\"/><ellipse cx=\"54.5\" cy=\"182.4063\" fill=\"#000000\" filter=\"url(#f1oei0bd3qzxe6)\" rx=\"6\" ry=\"6\" style=\"stroke: none; stroke-width: 1.0;\"/><line style=\"stroke: #A80036; stroke-width: 1.5;\" x1=\"54\" x2=\"54\" y1=\"30\" y2=\"50\"/><polygon fill=\"#A80036\" points=\"50,40,54,50,58,40,54,44\" style=\"stroke: #A80036; stroke-width: 1.0;\"/><line style=\"stroke: #A80036; stroke-width: 1.5;\" x1=\"54\" x2=\"54\" y1=\"83.9688\" y2=\"103.9688\"/><polygon fill=\"#A80036\" points=\"50,93.9688,54,103.9688,58,93.9688,54,97.9688\" style=\"stroke: #A80036; stroke-width: 1.0;\"/><line style=\"stroke: #A80036; stroke-width: 1.5;\" x1=\"54\" x2=\"54\" y1=\"151.9063\" y2=\"171.9063\"/><polygon fill=\"#A80036\" points=\"50,161.9063,54,171.9063,58,161.9063,54,165.9063\" style=\"stroke: #A80036; stroke-width: 1.0;\"/><!--\n",
       "@startuml \n",
       "start\n",
       ":Hello world;\n",
       ":Hello \n",
       "**world**;\n",
       "stop\n",
       "\n",
       "@enduml\n",
       "\n",
       "PlantUML version 1.2017.15(Mon Jul 03 16:45:34 GMT 2017)\n",
       "(GPL source distribution)\n",
       "Java Runtime: OpenJDK Runtime Environment\n",
       "JVM: OpenJDK 64-Bit Server VM\n",
       "Java Version: 11.0.11+9-Ubuntu-0ubuntu2.18.04\n",
       "Operating System: Linux\n",
       "OS Version: 5.4.0-84-generic\n",
       "Default Encoding: UTF-8\n",
       "Language: en\n",
       "Country: null\n",
       "--></g></svg>"
      ],
      "text/plain": [
       "<IPython.core.display.SVG object>"
      ]
     },
     "execution_count": 2,
     "metadata": {},
     "output_type": "execute_result"
    }
   ],
   "source": [
    "%%plantuml\n",
    "start\n",
    ":Hello world;\n",
    ":Hello \n",
    "**world**;\n",
    "stop"
   ]
  },
  {
   "cell_type": "markdown",
   "metadata": {},
   "source": [
    "## Bedingungen\n",
    "Damit wir Bedingungen mit Verzweigungen anzeigen lassen können, können wir die folgenden Wörter benutzen. \n",
    "- if\n",
    "- then\n",
    "- else\n",
    "- elseif "
   ]
  },
  {
   "cell_type": "code",
   "execution_count": 3,
   "metadata": {},
   "outputs": [
    {
     "data": {
      "image/svg+xml": [
       "<svg contentScriptType=\"application/ecmascript\" contentStyleType=\"text/css\" height=\"198px\" preserveAspectRatio=\"none\" style=\"width:501px;height:198px;\" version=\"1.1\" viewBox=\"0 0 501 198\" width=\"501px\" xmlns=\"http://www.w3.org/2000/svg\" xmlns:xlink=\"http://www.w3.org/1999/xlink\" zoomAndPan=\"magnify\"><defs><filter height=\"300%\" id=\"f1tixag7mmmicl\" width=\"300%\" x=\"-1\" y=\"-1\"><feGaussianBlur result=\"blurOut\" stdDeviation=\"2.0\"/><feColorMatrix in=\"blurOut\" result=\"blurOut2\" type=\"matrix\" values=\"0 0 0 0 0 0 0 0 0 0 0 0 0 0 0 0 0 0 .4 0\"/><feOffset dx=\"4.0\" dy=\"4.0\" in=\"blurOut2\" result=\"blurOut3\"/><feBlend in=\"SourceGraphic\" in2=\"blurOut3\" mode=\"normal\"/></filter></defs><g><ellipse cx=\"227\" cy=\"20\" fill=\"#000000\" filter=\"url(#f1tixag7mmmicl)\" rx=\"10\" ry=\"10\" style=\"stroke: none; stroke-width: 1.0;\"/><polygon fill=\"#FEFECE\" filter=\"url(#f1tixag7mmmicl)\" points=\"191.5,50,262.5,50,274.5,62,262.5,74,191.5,74,179.5,62,191.5,50\" style=\"stroke: #A80036; stroke-width: 1.5;\"/><text fill=\"#000000\" font-family=\"sans-serif\" font-size=\"11\" lengthAdjust=\"spacingAndGlyphs\" textLength=\"71\" x=\"191.5\" y=\"65.8081\">Verstanden?</text><text fill=\"#000000\" font-family=\"sans-serif\" font-size=\"11\" lengthAdjust=\"spacingAndGlyphs\" textLength=\"10\" x=\"169.5\" y=\"59.4058\">ja</text><text fill=\"#000000\" font-family=\"sans-serif\" font-size=\"11\" lengthAdjust=\"spacingAndGlyphs\" textLength=\"24\" x=\"274.5\" y=\"59.4058\">nein</text><rect fill=\"#FEFECE\" filter=\"url(#f1tixag7mmmicl)\" height=\"33.9688\" rx=\"12.5\" ry=\"12.5\" style=\"stroke: #A80036; stroke-width: 1.5;\" width=\"184\" x=\"10\" y=\"84\"/><text fill=\"#000000\" font-family=\"sans-serif\" font-size=\"12\" lengthAdjust=\"spacingAndGlyphs\" textLength=\"164\" x=\"20\" y=\"105.1387\">Zur nächsten Zelle gehen</text><rect fill=\"#FEFECE\" filter=\"url(#f1tixag7mmmicl)\" height=\"33.9688\" rx=\"12.5\" ry=\"12.5\" style=\"stroke: #A80036; stroke-width: 1.5;\" width=\"276\" x=\"214\" y=\"84\"/><text fill=\"#000000\" font-family=\"sans-serif\" font-size=\"12\" lengthAdjust=\"spacingAndGlyphs\" textLength=\"256\" x=\"224\" y=\"105.1387\">Nachfragen oder nocheinmal durchlesen</text><polygon fill=\"#FEFECE\" filter=\"url(#f1tixag7mmmicl)\" points=\"227,123.9688,239,135.9688,227,147.9688,215,135.9688,227,123.9688\" style=\"stroke: #A80036; stroke-width: 1.5;\"/><ellipse cx=\"227\" cy=\"177.9688\" fill=\"none\" filter=\"url(#f1tixag7mmmicl)\" rx=\"10\" ry=\"10\" style=\"stroke: #000000; stroke-width: 1.0;\"/><ellipse cx=\"227.5\" cy=\"178.4688\" fill=\"#000000\" filter=\"url(#f1tixag7mmmicl)\" rx=\"6\" ry=\"6\" style=\"stroke: none; stroke-width: 1.0;\"/><line style=\"stroke: #A80036; stroke-width: 1.5;\" x1=\"179.5\" x2=\"102\" y1=\"62\" y2=\"62\"/><line style=\"stroke: #A80036; stroke-width: 1.5;\" x1=\"102\" x2=\"102\" y1=\"62\" y2=\"84\"/><polygon fill=\"#A80036\" points=\"98,74,102,84,106,74,102,78\" style=\"stroke: #A80036; stroke-width: 1.0;\"/><line style=\"stroke: #A80036; stroke-width: 1.5;\" x1=\"274.5\" x2=\"352\" y1=\"62\" y2=\"62\"/><line style=\"stroke: #A80036; stroke-width: 1.5;\" x1=\"352\" x2=\"352\" y1=\"62\" y2=\"84\"/><polygon fill=\"#A80036\" points=\"348,74,352,84,356,74,352,78\" style=\"stroke: #A80036; stroke-width: 1.0;\"/><line style=\"stroke: #A80036; stroke-width: 1.5;\" x1=\"102\" x2=\"102\" y1=\"117.9688\" y2=\"135.9688\"/><line style=\"stroke: #A80036; stroke-width: 1.5;\" x1=\"102\" x2=\"215\" y1=\"135.9688\" y2=\"135.9688\"/><polygon fill=\"#A80036\" points=\"205,131.9688,215,135.9688,205,139.9688,209,135.9688\" style=\"stroke: #A80036; stroke-width: 1.0;\"/><line style=\"stroke: #A80036; stroke-width: 1.5;\" x1=\"352\" x2=\"352\" y1=\"117.9688\" y2=\"135.9688\"/><line style=\"stroke: #A80036; stroke-width: 1.5;\" x1=\"352\" x2=\"239\" y1=\"135.9688\" y2=\"135.9688\"/><polygon fill=\"#A80036\" points=\"249,131.9688,239,135.9688,249,139.9688,245,135.9688\" style=\"stroke: #A80036; stroke-width: 1.0;\"/><line style=\"stroke: #A80036; stroke-width: 1.5;\" x1=\"227\" x2=\"227\" y1=\"30\" y2=\"50\"/><polygon fill=\"#A80036\" points=\"223,40,227,50,231,40,227,44\" style=\"stroke: #A80036; stroke-width: 1.0;\"/><line style=\"stroke: #A80036; stroke-width: 1.5;\" x1=\"227\" x2=\"227\" y1=\"147.9688\" y2=\"167.9688\"/><polygon fill=\"#A80036\" points=\"223,157.9688,227,167.9688,231,157.9688,227,161.9688\" style=\"stroke: #A80036; stroke-width: 1.0;\"/><!--\n",
       "@startuml \n",
       "start\n",
       "if (Verstanden?) then (ja)\n",
       "    :Zur nächsten Zelle gehen; \n",
       "else (nein) \n",
       "    :Nachfragen oder nocheinmal durchlesen;\n",
       "endif\n",
       "stop\n",
       "\n",
       "@enduml\n",
       "\n",
       "PlantUML version 1.2017.15(Mon Jul 03 16:45:34 GMT 2017)\n",
       "(GPL source distribution)\n",
       "Java Runtime: OpenJDK Runtime Environment\n",
       "JVM: OpenJDK 64-Bit Server VM\n",
       "Java Version: 11.0.11+9-Ubuntu-0ubuntu2.18.04\n",
       "Operating System: Linux\n",
       "OS Version: 5.4.0-84-generic\n",
       "Default Encoding: UTF-8\n",
       "Language: en\n",
       "Country: null\n",
       "--></g></svg>"
      ],
      "text/plain": [
       "<IPython.core.display.SVG object>"
      ]
     },
     "execution_count": 3,
     "metadata": {},
     "output_type": "execute_result"
    }
   ],
   "source": [
    "%%plantuml \n",
    "start\n",
    "if (Verstanden?) then (ja)\n",
    "    :Zur nächsten Zelle gehen; \n",
    "else (nein) \n",
    "    :Nachfragen oder nocheinmal durchlesen;\n",
    "endif\n",
    "stop"
   ]
  },
  {
   "cell_type": "code",
   "execution_count": 4,
   "metadata": {},
   "outputs": [
    {
     "data": {
      "image/svg+xml": [
       "<svg contentScriptType=\"application/ecmascript\" contentStyleType=\"text/css\" height=\"250px\" preserveAspectRatio=\"none\" style=\"width:441px;height:250px;\" version=\"1.1\" viewBox=\"0 0 441 250\" width=\"441px\" xmlns=\"http://www.w3.org/2000/svg\" xmlns:xlink=\"http://www.w3.org/1999/xlink\" zoomAndPan=\"magnify\"><defs><filter height=\"300%\" id=\"f1wxsxhhg3ffj8\" width=\"300%\" x=\"-1\" y=\"-1\"><feGaussianBlur result=\"blurOut\" stdDeviation=\"2.0\"/><feColorMatrix in=\"blurOut\" result=\"blurOut2\" type=\"matrix\" values=\"0 0 0 0 0 0 0 0 0 0 0 0 0 0 0 0 0 0 .4 0\"/><feOffset dx=\"4.0\" dy=\"4.0\" in=\"blurOut2\" result=\"blurOut3\"/><feBlend in=\"SourceGraphic\" in2=\"blurOut3\" mode=\"normal\"/></filter></defs><g><ellipse cx=\"220\" cy=\"20\" fill=\"#000000\" filter=\"url(#f1wxsxhhg3ffj8)\" rx=\"10\" ry=\"10\" style=\"stroke: none; stroke-width: 1.0;\"/><polygon fill=\"#FEFECE\" filter=\"url(#f1wxsxhhg3ffj8)\" points=\"37,50,93,50,105,62,93,74,37,74,25,62,37,50\" style=\"stroke: #A80036; stroke-width: 1.5;\"/><text fill=\"#000000\" font-family=\"sans-serif\" font-size=\"11\" lengthAdjust=\"spacingAndGlyphs\" textLength=\"10\" x=\"69\" y=\"84.2104\">ja</text><text fill=\"#000000\" font-family=\"sans-serif\" font-size=\"11\" lengthAdjust=\"spacingAndGlyphs\" textLength=\"56\" x=\"37\" y=\"65.8081\">Beispiel 1</text><rect fill=\"#FEFECE\" filter=\"url(#f1wxsxhhg3ffj8)\" height=\"33.9688\" rx=\"12.5\" ry=\"12.5\" style=\"stroke: #A80036; stroke-width: 1.5;\" width=\"110\" x=\"10\" y=\"105.7104\"/><text fill=\"#000000\" font-family=\"sans-serif\" font-size=\"12\" lengthAdjust=\"spacingAndGlyphs\" textLength=\"90\" x=\"20\" y=\"126.8491\">Beispiel 1 Text</text><polygon fill=\"#FEFECE\" filter=\"url(#f1wxsxhhg3ffj8)\" points=\"167,50,223,50,235,62,223,74,167,74,155,62,167,50\" style=\"stroke: #A80036; stroke-width: 1.5;\"/><text fill=\"#000000\" font-family=\"sans-serif\" font-size=\"11\" lengthAdjust=\"spacingAndGlyphs\" textLength=\"10\" x=\"199\" y=\"84.2104\">ja</text><text fill=\"#000000\" font-family=\"sans-serif\" font-size=\"11\" lengthAdjust=\"spacingAndGlyphs\" textLength=\"56\" x=\"167\" y=\"65.8081\">Beispiel 2</text><rect fill=\"#FEFECE\" filter=\"url(#f1wxsxhhg3ffj8)\" height=\"33.9688\" rx=\"12.5\" ry=\"12.5\" style=\"stroke: #A80036; stroke-width: 1.5;\" width=\"110\" x=\"140\" y=\"105.7104\"/><text fill=\"#000000\" font-family=\"sans-serif\" font-size=\"12\" lengthAdjust=\"spacingAndGlyphs\" textLength=\"90\" x=\"150\" y=\"126.8491\">Beispiel 2 Text</text><polygon fill=\"#FEFECE\" filter=\"url(#f1wxsxhhg3ffj8)\" points=\"297,50,353,50,365,62,353,74,297,74,285,62,297,50\" style=\"stroke: #A80036; stroke-width: 1.5;\"/><text fill=\"#000000\" font-family=\"sans-serif\" font-size=\"11\" lengthAdjust=\"spacingAndGlyphs\" textLength=\"10\" x=\"329\" y=\"84.2104\">ja</text><text fill=\"#000000\" font-family=\"sans-serif\" font-size=\"11\" lengthAdjust=\"spacingAndGlyphs\" textLength=\"56\" x=\"297\" y=\"65.8081\">Beispiel 3</text><rect fill=\"#FEFECE\" filter=\"url(#f1wxsxhhg3ffj8)\" height=\"33.9688\" rx=\"12.5\" ry=\"12.5\" style=\"stroke: #A80036; stroke-width: 1.5;\" width=\"110\" x=\"270\" y=\"105.7104\"/><text fill=\"#000000\" font-family=\"sans-serif\" font-size=\"12\" lengthAdjust=\"spacingAndGlyphs\" textLength=\"90\" x=\"280\" y=\"126.8491\">Beispiel 3 Text</text><ellipse cx=\"325\" cy=\"169.6792\" fill=\"none\" filter=\"url(#f1wxsxhhg3ffj8)\" rx=\"10\" ry=\"10\" style=\"stroke: #000000; stroke-width: 1.0;\"/><ellipse cx=\"325.5\" cy=\"170.1792\" fill=\"#000000\" filter=\"url(#f1wxsxhhg3ffj8)\" rx=\"6\" ry=\"6\" style=\"stroke: none; stroke-width: 1.0;\"/><ellipse cx=\"220\" cy=\"229.6792\" fill=\"none\" filter=\"url(#f1wxsxhhg3ffj8)\" rx=\"10\" ry=\"10\" style=\"stroke: #000000; stroke-width: 1.0;\"/><ellipse cx=\"220.5\" cy=\"230.1792\" fill=\"#000000\" filter=\"url(#f1wxsxhhg3ffj8)\" rx=\"6\" ry=\"6\" style=\"stroke: none; stroke-width: 1.0;\"/><line style=\"stroke: #A80036; stroke-width: 1.5;\" x1=\"325\" x2=\"325\" y1=\"139.6792\" y2=\"159.6792\"/><polygon fill=\"#A80036\" points=\"321,149.6792,325,159.6792,329,149.6792,325,153.6792\" style=\"stroke: #A80036; stroke-width: 1.0;\"/><line style=\"stroke: #A80036; stroke-width: 1.5;\" x1=\"65\" x2=\"65\" y1=\"74\" y2=\"105.7104\"/><polygon fill=\"#A80036\" points=\"61,95.7104,65,105.7104,69,95.7104,65,99.7104\" style=\"stroke: #A80036; stroke-width: 1.0;\"/><line style=\"stroke: #A80036; stroke-width: 1.5;\" x1=\"65\" x2=\"65\" y1=\"139.6792\" y2=\"199.6792\"/><polygon fill=\"#A80036\" points=\"61,189.6792,65,199.6792,69,189.6792,65,193.6792\" style=\"stroke: #A80036; stroke-width: 1.0;\"/><line style=\"stroke: #A80036; stroke-width: 1.5;\" x1=\"195\" x2=\"195\" y1=\"74\" y2=\"105.7104\"/><polygon fill=\"#A80036\" points=\"191,95.7104,195,105.7104,199,95.7104,195,99.7104\" style=\"stroke: #A80036; stroke-width: 1.0;\"/><line style=\"stroke: #A80036; stroke-width: 1.5;\" x1=\"195\" x2=\"195\" y1=\"139.6792\" y2=\"199.6792\"/><polygon fill=\"#A80036\" points=\"191,189.6792,195,199.6792,199,189.6792,195,193.6792\" style=\"stroke: #A80036; stroke-width: 1.0;\"/><line style=\"stroke: #A80036; stroke-width: 1.5;\" x1=\"325\" x2=\"325\" y1=\"74\" y2=\"105.7104\"/><polygon fill=\"#A80036\" points=\"321,95.7104,325,105.7104,329,95.7104,325,99.7104\" style=\"stroke: #A80036; stroke-width: 1.0;\"/><line style=\"stroke: #A80036; stroke-width: 1.5;\" x1=\"105\" x2=\"155\" y1=\"62\" y2=\"62\"/><polygon fill=\"#A80036\" points=\"145,58,155,62,145,66,149,62\" style=\"stroke: #A80036; stroke-width: 1.0;\"/><line style=\"stroke: #A80036; stroke-width: 1.5;\" x1=\"235\" x2=\"285\" y1=\"62\" y2=\"62\"/><polygon fill=\"#A80036\" points=\"275,58,285,62,275,66,279,62\" style=\"stroke: #A80036; stroke-width: 1.0;\"/><line style=\"stroke: #A80036; stroke-width: 1.5;\" x1=\"220\" x2=\"220\" y1=\"30\" y2=\"35\"/><line style=\"stroke: #A80036; stroke-width: 1.5;\" x1=\"220\" x2=\"65\" y1=\"35\" y2=\"35\"/><line style=\"stroke: #A80036; stroke-width: 1.5;\" x1=\"65\" x2=\"65\" y1=\"35\" y2=\"50\"/><polygon fill=\"#A80036\" points=\"61,40,65,50,69,40,65,44\" style=\"stroke: #A80036; stroke-width: 1.0;\"/><line style=\"stroke: #A80036; stroke-width: 1.5;\" x1=\"365\" x2=\"415\" y1=\"62\" y2=\"62\"/><line style=\"stroke: #A80036; stroke-width: 1.5;\" x1=\"415\" x2=\"415\" y1=\"62\" y2=\"199.6792\"/><polygon fill=\"#A80036\" points=\"411,189.6792,415,199.6792,419,189.6792,415,193.6792\" style=\"stroke: #A80036; stroke-width: 1.0;\"/><line style=\"stroke: #A80036; stroke-width: 1.5;\" x1=\"65\" x2=\"415\" y1=\"199.6792\" y2=\"199.6792\"/><line style=\"stroke: #A80036; stroke-width: 1.5;\" x1=\"220\" x2=\"220\" y1=\"199.6792\" y2=\"219.6792\"/><polygon fill=\"#A80036\" points=\"216,209.6792,220,219.6792,224,209.6792,220,213.6792\" style=\"stroke: #A80036; stroke-width: 1.0;\"/><!--\n",
       "@startuml \n",
       "start\n",
       "if (Beispiel 1) then (ja)\n",
       "    :Beispiel 1 Text;\n",
       "elseif (Beispiel 2) then (ja)\n",
       "    :Beispiel 2 Text;\n",
       "elseif (Beispiel 3) then (ja)\n",
       "    :Beispiel 3 Text;\n",
       "    stop\n",
       "endif\n",
       "stop\n",
       "\n",
       "@enduml\n",
       "\n",
       "PlantUML version 1.2017.15(Mon Jul 03 16:45:34 GMT 2017)\n",
       "(GPL source distribution)\n",
       "Java Runtime: OpenJDK Runtime Environment\n",
       "JVM: OpenJDK 64-Bit Server VM\n",
       "Java Version: 11.0.11+9-Ubuntu-0ubuntu2.18.04\n",
       "Operating System: Linux\n",
       "OS Version: 5.4.0-84-generic\n",
       "Default Encoding: UTF-8\n",
       "Language: en\n",
       "Country: null\n",
       "--></g></svg>"
      ],
      "text/plain": [
       "<IPython.core.display.SVG object>"
      ]
     },
     "execution_count": 4,
     "metadata": {},
     "output_type": "execute_result"
    }
   ],
   "source": [
    "%%plantuml\n",
    "start\n",
    "if (Beispiel 1) then (ja)\n",
    "    :Beispiel 1 Text;\n",
    "elseif (Beispiel 2) then (ja)\n",
    "    :Beispiel 2 Text;\n",
    "elseif (Beispiel 3) then (ja)\n",
    "    :Beispiel 3 Text;\n",
    "    stop\n",
    "endif\n",
    "stop"
   ]
  },
  {
   "cell_type": "markdown",
   "metadata": {},
   "source": [
    "## \"Switch\" und \"Case\"\n",
    "Um verschiedene Fälle darstellen zu können, benutzten wir eine Switch mit verschiedenen Fällen (Cases). \n",
    "- switch\n",
    "- case\n",
    "- endswitch\n",
    "\n",
    "Durch Beta Schwierigkeiten ist die jedoch zurzeit nicht ausführbar."
   ]
  },
  {
   "cell_type": "code",
   "execution_count": 6,
   "metadata": {
    "scrolled": true
   },
   "outputs": [
    {
     "data": {
      "image/svg+xml": [
       "<svg contentScriptType=\"application/ecmascript\" contentStyleType=\"text/css\" height=\"70px\" preserveAspectRatio=\"none\" style=\"width:118px;height:70px;background:#000000;\" version=\"1.1\" viewBox=\"0 0 118 70\" width=\"118px\" xmlns=\"http://www.w3.org/2000/svg\" xmlns:xlink=\"http://www.w3.org/1999/xlink\" zoomAndPan=\"magnify\"><defs/><g><text fill=\"#33FF02\" font-family=\"sans-serif\" font-size=\"14\" font-weight=\"bold\" lengthAdjust=\"spacingAndGlyphs\" textLength=\"79\" x=\"5\" y=\"17.9951\">@startuml</text><text fill=\"#33FF02\" font-family=\"sans-serif\" font-size=\"14\" font-weight=\"bold\" lengthAdjust=\"spacingAndGlyphs\" textLength=\"37\" x=\"5\" y=\"34.292\">start</text><text fill=\"#33FF02\" font-family=\"sans-serif\" font-size=\"14\" font-weight=\"bold\" lengthAdjust=\"spacingAndGlyphs\" textLength=\"100\" x=\"5\" y=\"50.5889\">switch (test)</text><text fill=\"#33FF02\" font-family=\"sans-serif\" font-size=\"14\" font-weight=\"bold\" lengthAdjust=\"spacingAndGlyphs\" textLength=\"0\" x=\"10\" y=\"66.8857\"/><text fill=\"#FF0000\" font-family=\"sans-serif\" font-size=\"14\" font-weight=\"bold\" lengthAdjust=\"spacingAndGlyphs\" textLength=\"106\" x=\"10\" y=\"66.8857\">Syntax Error?</text><!--\n",
       "@startuml \n",
       "start\n",
       "switch (test)\n",
       "case ( condition A )\n",
       "  :Text 1;\n",
       "case ( condition B ) \n",
       "  :Text 2;\n",
       "case ( condition C )\n",
       "  :Text 3;\n",
       "case ( condition D )\n",
       "  :Text 4;\n",
       "case ( condition E )\n",
       "  :Text 5;\n",
       "endswitch\n",
       "stop\n",
       "\n",
       "@enduml\n",
       "\n",
       "PlantUML version 1.2017.15(Mon Jul 03 16:45:34 GMT 2017)\n",
       "(GPL source distribution)\n",
       "Java Runtime: OpenJDK Runtime Environment\n",
       "JVM: OpenJDK 64-Bit Server VM\n",
       "Java Version: 11.0.11+9-Ubuntu-0ubuntu2.18.04\n",
       "Operating System: Linux\n",
       "OS Version: 5.4.0-84-generic\n",
       "Default Encoding: UTF-8\n",
       "Language: en\n",
       "Country: null\n",
       "--></g></svg>"
      ],
      "text/plain": [
       "<IPython.core.display.SVG object>"
      ]
     },
     "execution_count": 6,
     "metadata": {},
     "output_type": "execute_result"
    }
   ],
   "source": [
    "%%plantuml\n",
    "start\n",
    "switch (test?)\n",
    "case ( condition A )\n",
    "  :Text 1;\n",
    "case ( condition B ) \n",
    "  :Text 2;\n",
    "case ( condition C )\n",
    "  :Text 3;\n",
    "case ( condition D )\n",
    "  :Text 4;\n",
    "case ( condition E )\n",
    "  :Text 5;\n",
    "endswitch\n",
    "stop"
   ]
  },
  {
   "attachments": {
    "img-3d07702d6efeff0619af2a9a1741f2e6.webp": {
     "image/webp": "[encoded data removed]"
    }
   },
   "cell_type": "markdown",
   "metadata": {},
   "source": [
    "![img-3d07702d6efeff0619af2a9a1741f2e6.webp](attachment:img-3d07702d6efeff0619af2a9a1741f2e6.webp)\n",
    "Quelle: https://plantuml.com/de/activity-diagram-beta"
   ]
  },
  {
   "cell_type": "markdown",
   "metadata": {},
   "source": [
    "## Schleifen\n",
    "Wir können Repeat-Schleifen und While-Schleifen darstellen. Dazu benötigen wir folgende Schlüsselwörter: \n",
    "<br/>\n",
    "Für die Repeat-Schleife: \n",
    "- repeat\n",
    "- repeatwhile\n",
    "<br/>\n",
    "Für die While-Schleife:\n",
    "- while\n",
    "- endwhile"
   ]
  },
  {
   "cell_type": "code",
   "execution_count": 7,
   "metadata": {},
   "outputs": [
    {
     "data": {
      "image/svg+xml": [
       "<svg contentScriptType=\"application/ecmascript\" contentStyleType=\"text/css\" height=\"222px\" preserveAspectRatio=\"none\" style=\"width:214px;height:222px;\" version=\"1.1\" viewBox=\"0 0 214 222\" width=\"214px\" xmlns=\"http://www.w3.org/2000/svg\" xmlns:xlink=\"http://www.w3.org/1999/xlink\" zoomAndPan=\"magnify\"><defs><filter height=\"300%\" id=\"f3o6ac4h3xhy6\" width=\"300%\" x=\"-1\" y=\"-1\"><feGaussianBlur result=\"blurOut\" stdDeviation=\"2.0\"/><feColorMatrix in=\"blurOut\" result=\"blurOut2\" type=\"matrix\" values=\"0 0 0 0 0 0 0 0 0 0 0 0 0 0 0 0 0 0 .4 0\"/><feOffset dx=\"4.0\" dy=\"4.0\" in=\"blurOut2\" result=\"blurOut3\"/><feBlend in=\"SourceGraphic\" in2=\"blurOut3\" mode=\"normal\"/></filter></defs><g><ellipse cx=\"98\" cy=\"20\" fill=\"#000000\" filter=\"url(#f3o6ac4h3xhy6)\" rx=\"10\" ry=\"10\" style=\"stroke: none; stroke-width: 1.0;\"/><rect fill=\"#FEFECE\" filter=\"url(#f3o6ac4h3xhy6)\" height=\"33.9688\" rx=\"12.5\" ry=\"12.5\" style=\"stroke: #A80036; stroke-width: 1.5;\" width=\"88\" x=\"54\" y=\"94\"/><text fill=\"#000000\" font-family=\"sans-serif\" font-size=\"12\" lengthAdjust=\"spacingAndGlyphs\" textLength=\"68\" x=\"64\" y=\"115.1387\">lese Daten</text><polygon fill=\"#FEFECE\" filter=\"url(#f3o6ac4h3xhy6)\" points=\"98,50,110,62,98,74,86,62,98,50\" style=\"stroke: #A80036; stroke-width: 1.5;\"/><polygon fill=\"#FEFECE\" filter=\"url(#f3o6ac4h3xhy6)\" points=\"32,147.9688,164,147.9688,176,159.9688,164,171.9688,32,171.9688,20,159.9688,32,147.9688\" style=\"stroke: #A80036; stroke-width: 1.5;\"/><text fill=\"#000000\" font-family=\"sans-serif\" font-size=\"11\" lengthAdjust=\"spacingAndGlyphs\" textLength=\"132\" x=\"32\" y=\"163.7769\">mehr Daten verfügbar?</text><ellipse cx=\"98\" cy=\"201.9688\" fill=\"none\" filter=\"url(#f3o6ac4h3xhy6)\" rx=\"10\" ry=\"10\" style=\"stroke: #000000; stroke-width: 1.0;\"/><ellipse cx=\"98.5\" cy=\"202.4688\" fill=\"#000000\" filter=\"url(#f3o6ac4h3xhy6)\" rx=\"6\" ry=\"6\" style=\"stroke: none; stroke-width: 1.0;\"/><line style=\"stroke: #A80036; stroke-width: 1.5;\" x1=\"98\" x2=\"98\" y1=\"74\" y2=\"94\"/><polygon fill=\"#A80036\" points=\"94,84,98,94,102,84,98,88\" style=\"stroke: #A80036; stroke-width: 1.0;\"/><line style=\"stroke: #A80036; stroke-width: 1.5;\" x1=\"176\" x2=\"188\" y1=\"159.9688\" y2=\"159.9688\"/><polygon fill=\"#A80036\" points=\"184,120.9844,188,110.9844,192,120.9844,188,116.9844\" style=\"stroke: #A80036; stroke-width: 1.5;\"/><line style=\"stroke: #A80036; stroke-width: 1.5;\" x1=\"188\" x2=\"188\" y1=\"62\" y2=\"159.9688\"/><line style=\"stroke: #A80036; stroke-width: 1.5;\" x1=\"188\" x2=\"110\" y1=\"62\" y2=\"62\"/><polygon fill=\"#A80036\" points=\"120,58,110,62,120,66,116,62\" style=\"stroke: #A80036; stroke-width: 1.0;\"/><line style=\"stroke: #A80036; stroke-width: 1.5;\" x1=\"98\" x2=\"98\" y1=\"127.9688\" y2=\"147.9688\"/><polygon fill=\"#A80036\" points=\"94,137.9688,98,147.9688,102,137.9688,98,141.9688\" style=\"stroke: #A80036; stroke-width: 1.0;\"/><line style=\"stroke: #A80036; stroke-width: 1.5;\" x1=\"98\" x2=\"98\" y1=\"30\" y2=\"50\"/><polygon fill=\"#A80036\" points=\"94,40,98,50,102,40,98,44\" style=\"stroke: #A80036; stroke-width: 1.0;\"/><line style=\"stroke: #A80036; stroke-width: 1.5;\" x1=\"98\" x2=\"98\" y1=\"171.9688\" y2=\"191.9688\"/><polygon fill=\"#A80036\" points=\"94,181.9688,98,191.9688,102,181.9688,98,185.9688\" style=\"stroke: #A80036; stroke-width: 1.0;\"/><!--\n",
       "@startuml \n",
       "start\n",
       "repeat\n",
       "    :lese Daten;\n",
       "repeat while (mehr Daten verfügbar?)\n",
       "stop\n",
       "\n",
       "@enduml\n",
       "\n",
       "PlantUML version 1.2017.15(Mon Jul 03 16:45:34 GMT 2017)\n",
       "(GPL source distribution)\n",
       "Java Runtime: OpenJDK Runtime Environment\n",
       "JVM: OpenJDK 64-Bit Server VM\n",
       "Java Version: 11.0.11+9-Ubuntu-0ubuntu2.18.04\n",
       "Operating System: Linux\n",
       "OS Version: 5.4.0-84-generic\n",
       "Default Encoding: UTF-8\n",
       "Language: en\n",
       "Country: null\n",
       "--></g></svg>"
      ],
      "text/plain": [
       "<IPython.core.display.SVG object>"
      ]
     },
     "execution_count": 7,
     "metadata": {},
     "output_type": "execute_result"
    }
   ],
   "source": [
    "%%plantuml\n",
    "start\n",
    "repeat\n",
    "    :lese Daten;\n",
    "repeat while (mehr Daten verfügbar?)\n",
    "stop"
   ]
  },
  {
   "cell_type": "code",
   "execution_count": 8,
   "metadata": {},
   "outputs": [
    {
     "data": {
      "image/svg+xml": [
       "<svg contentScriptType=\"application/ecmascript\" contentStyleType=\"text/css\" height=\"161px\" preserveAspectRatio=\"none\" style=\"width:184px;height:161px;\" version=\"1.1\" viewBox=\"0 0 184 161\" width=\"184px\" xmlns=\"http://www.w3.org/2000/svg\" xmlns:xlink=\"http://www.w3.org/1999/xlink\" zoomAndPan=\"magnify\"><defs><filter height=\"300%\" id=\"fv2siavg02z4o\" width=\"300%\" x=\"-1\" y=\"-1\"><feGaussianBlur result=\"blurOut\" stdDeviation=\"2.0\"/><feColorMatrix in=\"blurOut\" result=\"blurOut2\" type=\"matrix\" values=\"0 0 0 0 0 0 0 0 0 0 0 0 0 0 0 0 0 0 .4 0\"/><feOffset dx=\"4.0\" dy=\"4.0\" in=\"blurOut2\" result=\"blurOut3\"/><feBlend in=\"SourceGraphic\" in2=\"blurOut3\" mode=\"normal\"/></filter></defs><g><ellipse cx=\"83\" cy=\"20\" fill=\"#000000\" filter=\"url(#fv2siavg02z4o)\" rx=\"10\" ry=\"10\" style=\"stroke: none; stroke-width: 1.0;\"/><rect fill=\"#FEFECE\" filter=\"url(#fv2siavg02z4o)\" height=\"33.9688\" rx=\"12.5\" ry=\"12.5\" style=\"stroke: #A80036; stroke-width: 1.5;\" width=\"96\" x=\"35\" y=\"94\"/><text fill=\"#000000\" font-family=\"sans-serif\" font-size=\"12\" lengthAdjust=\"spacingAndGlyphs\" textLength=\"68\" x=\"49\" y=\"115.1387\">lese Daten</text><polygon fill=\"#FEFECE\" filter=\"url(#fv2siavg02z4o)\" points=\"32,50,134,50,146,62,134,74,32,74,20,62,32,50\" style=\"stroke: #A80036; stroke-width: 1.5;\"/><text fill=\"#000000\" font-family=\"sans-serif\" font-size=\"11\" lengthAdjust=\"spacingAndGlyphs\" textLength=\"98\" x=\"36\" y=\"65.8081\">Daten verfügbar?</text><ellipse cx=\"25\" cy=\"104\" fill=\"none\" filter=\"url(#fv2siavg02z4o)\" rx=\"10\" ry=\"10\" style=\"stroke: #000000; stroke-width: 1.0;\"/><ellipse cx=\"25.5\" cy=\"104.5\" fill=\"#000000\" filter=\"url(#fv2siavg02z4o)\" rx=\"6\" ry=\"6\" style=\"stroke: none; stroke-width: 1.0;\"/><line style=\"stroke: #A80036; stroke-width: 1.5;\" x1=\"83\" x2=\"83\" y1=\"74\" y2=\"94\"/><polygon fill=\"#A80036\" points=\"79,84,83,94,87,84,83,88\" style=\"stroke: #A80036; stroke-width: 1.0;\"/><line style=\"stroke: #A80036; stroke-width: 1.5;\" x1=\"83\" x2=\"83\" y1=\"127.9688\" y2=\"137.9688\"/><line style=\"stroke: #A80036; stroke-width: 1.5;\" x1=\"83\" x2=\"158\" y1=\"137.9688\" y2=\"137.9688\"/><polygon fill=\"#A80036\" points=\"154,108.9844,158,98.9844,162,108.9844,158,104.9844\" style=\"stroke: #A80036; stroke-width: 1.5;\"/><line style=\"stroke: #A80036; stroke-width: 1.5;\" x1=\"158\" x2=\"158\" y1=\"62\" y2=\"137.9688\"/><line style=\"stroke: #A80036; stroke-width: 1.5;\" x1=\"158\" x2=\"146\" y1=\"62\" y2=\"62\"/><polygon fill=\"#A80036\" points=\"156,58,146,62,156,66,152,62\" style=\"stroke: #A80036; stroke-width: 1.0;\"/><line style=\"stroke: #A80036; stroke-width: 1.5;\" x1=\"20\" x2=\"25\" y1=\"62\" y2=\"62\"/><line style=\"stroke: #A80036; stroke-width: 1.5;\" x1=\"25\" x2=\"25\" y1=\"62\" y2=\"94\"/><polygon fill=\"#A80036\" points=\"21,84,25,94,29,84,25,88\" style=\"stroke: #A80036; stroke-width: 1.0;\"/><line style=\"stroke: #A80036; stroke-width: 1.5;\" x1=\"83\" x2=\"83\" y1=\"30\" y2=\"50\"/><polygon fill=\"#A80036\" points=\"79,40,83,50,87,40,83,44\" style=\"stroke: #A80036; stroke-width: 1.0;\"/><!--\n",
       "@startuml \n",
       "start\n",
       "while ( Daten verfügbar?)\n",
       "    : lese Daten ;\n",
       "endwhile\n",
       "stop\n",
       "\n",
       "@enduml\n",
       "\n",
       "PlantUML version 1.2017.15(Mon Jul 03 16:45:34 GMT 2017)\n",
       "(GPL source distribution)\n",
       "Java Runtime: OpenJDK Runtime Environment\n",
       "JVM: OpenJDK 64-Bit Server VM\n",
       "Java Version: 11.0.11+9-Ubuntu-0ubuntu2.18.04\n",
       "Operating System: Linux\n",
       "OS Version: 5.4.0-84-generic\n",
       "Default Encoding: UTF-8\n",
       "Language: en\n",
       "Country: null\n",
       "--></g></svg>"
      ],
      "text/plain": [
       "<IPython.core.display.SVG object>"
      ]
     },
     "execution_count": 8,
     "metadata": {},
     "output_type": "execute_result"
    }
   ],
   "source": [
    "%%plantuml\n",
    "start\n",
    "while ( Daten verfügbar?)\n",
    "    : lese Daten ;\n",
    "endwhile\n",
    "stop"
   ]
  },
  {
   "cell_type": "markdown",
   "metadata": {},
   "source": [
    "## Parallele Verarbeitung\n",
    "Sobald parallele Prozesse stattfinden sollen, können wir folgende Schlüsselwörter benutzen, um diese darzustellen. \n",
    "- fork\n",
    "- fork again\n",
    "- end fork"
   ]
  },
  {
   "cell_type": "code",
   "execution_count": 9,
   "metadata": {},
   "outputs": [
    {
     "data": {
      "image/svg+xml": [
       "<svg contentScriptType=\"application/ecmascript\" contentStyleType=\"text/css\" height=\"250px\" preserveAspectRatio=\"none\" style=\"width:453px;height:250px;\" version=\"1.1\" viewBox=\"0 0 453 250\" width=\"453px\" xmlns=\"http://www.w3.org/2000/svg\" xmlns:xlink=\"http://www.w3.org/1999/xlink\" zoomAndPan=\"magnify\"><defs><filter height=\"300%\" id=\"f1awtw3h8yo19z\" width=\"300%\" x=\"-1\" y=\"-1\"><feGaussianBlur result=\"blurOut\" stdDeviation=\"2.0\"/><feColorMatrix in=\"blurOut\" result=\"blurOut2\" type=\"matrix\" values=\"0 0 0 0 0 0 0 0 0 0 0 0 0 0 0 0 0 0 .4 0\"/><feOffset dx=\"4.0\" dy=\"4.0\" in=\"blurOut2\" result=\"blurOut3\"/><feBlend in=\"SourceGraphic\" in2=\"blurOut3\" mode=\"normal\"/></filter></defs><g><ellipse cx=\"269\" cy=\"20\" fill=\"#000000\" filter=\"url(#f1awtw3h8yo19z)\" rx=\"10\" ry=\"10\" style=\"stroke: none; stroke-width: 1.0;\"/><polygon fill=\"#FEFECE\" filter=\"url(#f1awtw3h8yo19z)\" points=\"245.5,50,292.5,50,304.5,62,292.5,74,245.5,74,233.5,62,245.5,50\" style=\"stroke: #A80036; stroke-width: 1.5;\"/><text fill=\"#000000\" font-family=\"sans-serif\" font-size=\"11\" lengthAdjust=\"spacingAndGlyphs\" textLength=\"47\" x=\"245.5\" y=\"65.8081\">Kochen?</text><text fill=\"#000000\" font-family=\"sans-serif\" font-size=\"11\" lengthAdjust=\"spacingAndGlyphs\" textLength=\"10\" x=\"223.5\" y=\"59.4058\">ja</text><text fill=\"#000000\" font-family=\"sans-serif\" font-size=\"11\" lengthAdjust=\"spacingAndGlyphs\" textLength=\"24\" x=\"304.5\" y=\"59.4058\">nein</text><rect fill=\"#000000\" filter=\"url(#f1awtw3h8yo19z)\" height=\"6\" rx=\"2.5\" ry=\"2.5\" style=\"stroke: #000000; stroke-width: 1.0;\" width=\"292\" x=\"10\" y=\"84\"/><rect fill=\"#FEFECE\" filter=\"url(#f1awtw3h8yo19z)\" height=\"33.9688\" rx=\"12.5\" ry=\"12.5\" style=\"stroke: #A80036; stroke-width: 1.5;\" width=\"96\" x=\"24\" y=\"110\"/><text fill=\"#000000\" font-family=\"sans-serif\" font-size=\"12\" lengthAdjust=\"spacingAndGlyphs\" textLength=\"76\" x=\"34\" y=\"131.1387\">Reis kochen</text><rect fill=\"#FEFECE\" filter=\"url(#f1awtw3h8yo19z)\" height=\"33.9688\" rx=\"12.5\" ry=\"12.5\" style=\"stroke: #A80036; stroke-width: 1.5;\" width=\"140\" x=\"148\" y=\"110\"/><text fill=\"#000000\" font-family=\"sans-serif\" font-size=\"12\" lengthAdjust=\"spacingAndGlyphs\" textLength=\"120\" x=\"158\" y=\"131.1387\">Gemüse schneiden</text><rect fill=\"#000000\" filter=\"url(#f1awtw3h8yo19z)\" height=\"6\" rx=\"2.5\" ry=\"2.5\" style=\"stroke: #000000; stroke-width: 1.0;\" width=\"292\" x=\"10\" y=\"163.9688\"/><rect fill=\"#FEFECE\" filter=\"url(#f1awtw3h8yo19z)\" height=\"33.9688\" rx=\"12.5\" ry=\"12.5\" style=\"stroke: #A80036; stroke-width: 1.5;\" width=\"120\" x=\"322\" y=\"84\"/><text fill=\"#000000\" font-family=\"sans-serif\" font-size=\"12\" lengthAdjust=\"spacingAndGlyphs\" textLength=\"100\" x=\"332\" y=\"105.1387\">Essen bestellen</text><polygon fill=\"#FEFECE\" filter=\"url(#f1awtw3h8yo19z)\" points=\"269,175.9688,281,187.9688,269,199.9688,257,187.9688,269,175.9688\" style=\"stroke: #A80036; stroke-width: 1.5;\"/><ellipse cx=\"269\" cy=\"229.9688\" fill=\"none\" filter=\"url(#f1awtw3h8yo19z)\" rx=\"10\" ry=\"10\" style=\"stroke: #000000; stroke-width: 1.0;\"/><ellipse cx=\"269.5\" cy=\"230.4688\" fill=\"#000000\" filter=\"url(#f1awtw3h8yo19z)\" rx=\"6\" ry=\"6\" style=\"stroke: none; stroke-width: 1.0;\"/><line style=\"stroke: #A80036; stroke-width: 1.5;\" x1=\"72\" x2=\"72\" y1=\"90\" y2=\"110\"/><polygon fill=\"#A80036\" points=\"68,100,72,110,76,100,72,104\" style=\"stroke: #A80036; stroke-width: 1.0;\"/><line style=\"stroke: #A80036; stroke-width: 1.5;\" x1=\"218\" x2=\"218\" y1=\"90\" y2=\"110\"/><polygon fill=\"#A80036\" points=\"214,100,218,110,222,100,218,104\" style=\"stroke: #A80036; stroke-width: 1.0;\"/><line style=\"stroke: #A80036; stroke-width: 1.5;\" x1=\"72\" x2=\"72\" y1=\"143.9688\" y2=\"163.9688\"/><polygon fill=\"#A80036\" points=\"68,153.9688,72,163.9688,76,153.9688,72,157.9688\" style=\"stroke: #A80036; stroke-width: 1.0;\"/><line style=\"stroke: #A80036; stroke-width: 1.5;\" x1=\"218\" x2=\"218\" y1=\"143.9688\" y2=\"163.9688\"/><polygon fill=\"#A80036\" points=\"214,153.9688,218,163.9688,222,153.9688,218,157.9688\" style=\"stroke: #A80036; stroke-width: 1.0;\"/><line style=\"stroke: #A80036; stroke-width: 1.5;\" x1=\"233.5\" x2=\"156\" y1=\"62\" y2=\"62\"/><line style=\"stroke: #A80036; stroke-width: 1.5;\" x1=\"156\" x2=\"156\" y1=\"62\" y2=\"84\"/><polygon fill=\"#A80036\" points=\"152,74,156,84,160,74,156,78\" style=\"stroke: #A80036; stroke-width: 1.0;\"/><line style=\"stroke: #A80036; stroke-width: 1.5;\" x1=\"304.5\" x2=\"382\" y1=\"62\" y2=\"62\"/><line style=\"stroke: #A80036; stroke-width: 1.5;\" x1=\"382\" x2=\"382\" y1=\"62\" y2=\"84\"/><polygon fill=\"#A80036\" points=\"378,74,382,84,386,74,382,78\" style=\"stroke: #A80036; stroke-width: 1.0;\"/><line style=\"stroke: #A80036; stroke-width: 1.5;\" x1=\"156\" x2=\"156\" y1=\"169.9688\" y2=\"187.9688\"/><line style=\"stroke: #A80036; stroke-width: 1.5;\" x1=\"156\" x2=\"257\" y1=\"187.9688\" y2=\"187.9688\"/><polygon fill=\"#A80036\" points=\"247,183.9688,257,187.9688,247,191.9688,251,187.9688\" style=\"stroke: #A80036; stroke-width: 1.0;\"/><line style=\"stroke: #A80036; stroke-width: 1.5;\" x1=\"382\" x2=\"382\" y1=\"117.9688\" y2=\"187.9688\"/><line style=\"stroke: #A80036; stroke-width: 1.5;\" x1=\"382\" x2=\"281\" y1=\"187.9688\" y2=\"187.9688\"/><polygon fill=\"#A80036\" points=\"291,183.9688,281,187.9688,291,191.9688,287,187.9688\" style=\"stroke: #A80036; stroke-width: 1.0;\"/><line style=\"stroke: #A80036; stroke-width: 1.5;\" x1=\"269\" x2=\"269\" y1=\"30\" y2=\"50\"/><polygon fill=\"#A80036\" points=\"265,40,269,50,273,40,269,44\" style=\"stroke: #A80036; stroke-width: 1.0;\"/><line style=\"stroke: #A80036; stroke-width: 1.5;\" x1=\"269\" x2=\"269\" y1=\"199.9688\" y2=\"219.9688\"/><polygon fill=\"#A80036\" points=\"265,209.9688,269,219.9688,273,209.9688,269,213.9688\" style=\"stroke: #A80036; stroke-width: 1.0;\"/><!--\n",
       "@startuml \n",
       "start\n",
       "if (Kochen?) then (ja)\n",
       "    fork\n",
       "        :Reis kochen;\n",
       "    fork again\n",
       "        :Gemüse schneiden;\n",
       "    end fork\n",
       "else (nein)\n",
       "    :Essen bestellen;\n",
       "endif\n",
       "stop\n",
       "\n",
       "@enduml\n",
       "\n",
       "PlantUML version 1.2017.15(Mon Jul 03 16:45:34 GMT 2017)\n",
       "(GPL source distribution)\n",
       "Java Runtime: OpenJDK Runtime Environment\n",
       "JVM: OpenJDK 64-Bit Server VM\n",
       "Java Version: 11.0.11+9-Ubuntu-0ubuntu2.18.04\n",
       "Operating System: Linux\n",
       "OS Version: 5.4.0-84-generic\n",
       "Default Encoding: UTF-8\n",
       "Language: en\n",
       "Country: null\n",
       "--></g></svg>"
      ],
      "text/plain": [
       "<IPython.core.display.SVG object>"
      ]
     },
     "execution_count": 9,
     "metadata": {},
     "output_type": "execute_result"
    }
   ],
   "source": [
    "%%plantuml\n",
    "start\n",
    "if (Kochen?) then (ja)\n",
    "    fork\n",
    "        :Reis kochen;\n",
    "    fork again\n",
    "        :Gemüse schneiden;\n",
    "    end fork\n",
    "else (nein)\n",
    "    :Essen bestellen;\n",
    "endif\n",
    "stop"
   ]
  },
  {
   "cell_type": "markdown",
   "metadata": {},
   "source": [
    "## Schwimmbahnen\n",
    "Schwimmbahnen werden zur Übersichtlichkeit in einem Aktivitätsdiagramm benutzt. Dabei werden die Aktivitäten nach bestimmten Kriterien auf die entsprechende Schwimmbahn zugeteilt. Diese Schwimmbahnen kann man mit \"|\" darstellen."
   ]
  },
  {
   "cell_type": "code",
   "execution_count": 10,
   "metadata": {},
   "outputs": [
    {
     "data": {
      "image/svg+xml": [
       "<svg contentScriptType=\"application/ecmascript\" contentStyleType=\"text/css\" height=\"267px\" preserveAspectRatio=\"none\" style=\"width:354px;height:267px;\" version=\"1.1\" viewBox=\"0 0 354 267\" width=\"354px\" xmlns=\"http://www.w3.org/2000/svg\" xmlns:xlink=\"http://www.w3.org/1999/xlink\" zoomAndPan=\"magnify\"><defs><filter height=\"300%\" id=\"fqhjf2au173ql\" width=\"300%\" x=\"-1\" y=\"-1\"><feGaussianBlur result=\"blurOut\" stdDeviation=\"2.0\"/><feColorMatrix in=\"blurOut\" result=\"blurOut2\" type=\"matrix\" values=\"0 0 0 0 0 0 0 0 0 0 0 0 0 0 0 0 0 0 .4 0\"/><feOffset dx=\"4.0\" dy=\"4.0\" in=\"blurOut2\" result=\"blurOut3\"/><feBlend in=\"SourceGraphic\" in2=\"blurOut3\" mode=\"normal\"/></filter></defs><g><text fill=\"#000000\" font-family=\"sans-serif\" font-size=\"18\" lengthAdjust=\"spacingAndGlyphs\" textLength=\"146\" x=\"20\" y=\"29.4531\">Schwimmbahn 1</text><line style=\"stroke: #000000; stroke-width: 2.0;\" x1=\"10\" x2=\"10\" y1=\"12.7451\" y2=\"255.6045\"/><ellipse cx=\"93.5\" cy=\"43.6982\" fill=\"#000000\" filter=\"url(#fqhjf2au173ql)\" rx=\"10\" ry=\"10\" style=\"stroke: none; stroke-width: 1.0;\"/><rect fill=\"#FEFECE\" filter=\"url(#fqhjf2au173ql)\" height=\"33.9688\" rx=\"12.5\" ry=\"12.5\" style=\"stroke: #A80036; stroke-width: 1.5;\" width=\"82\" x=\"52.5\" y=\"73.6982\"/><text fill=\"#000000\" font-family=\"sans-serif\" font-size=\"12\" lengthAdjust=\"spacingAndGlyphs\" textLength=\"62\" x=\"62.5\" y=\"94.8369\">aktivität 1</text><rect fill=\"#FEFECE\" filter=\"url(#fqhjf2au173ql)\" height=\"33.9688\" rx=\"12.5\" ry=\"12.5\" style=\"stroke: #A80036; stroke-width: 1.5;\" width=\"82\" x=\"52.5\" y=\"181.6357\"/><text fill=\"#000000\" font-family=\"sans-serif\" font-size=\"12\" lengthAdjust=\"spacingAndGlyphs\" textLength=\"62\" x=\"62.5\" y=\"202.7744\">aktivität 3</text><ellipse cx=\"93.5\" cy=\"245.6045\" fill=\"none\" filter=\"url(#fqhjf2au173ql)\" rx=\"10\" ry=\"10\" style=\"stroke: #000000; stroke-width: 1.0;\"/><ellipse cx=\"94\" cy=\"246.1045\" fill=\"#000000\" filter=\"url(#fqhjf2au173ql)\" rx=\"6\" ry=\"6\" style=\"stroke: none; stroke-width: 1.0;\"/><text fill=\"#000000\" font-family=\"sans-serif\" font-size=\"18\" lengthAdjust=\"spacingAndGlyphs\" textLength=\"146\" x=\"186\" y=\"29.4531\">Schwimmbahn 2</text><line style=\"stroke: #000000; stroke-width: 2.0;\" x1=\"176\" x2=\"176\" y1=\"12.7451\" y2=\"255.6045\"/><rect fill=\"#FEFECE\" filter=\"url(#fqhjf2au173ql)\" height=\"33.9688\" rx=\"12.5\" ry=\"12.5\" style=\"stroke: #A80036; stroke-width: 1.5;\" width=\"82\" x=\"218.5\" y=\"127.667\"/><text fill=\"#000000\" font-family=\"sans-serif\" font-size=\"12\" lengthAdjust=\"spacingAndGlyphs\" textLength=\"62\" x=\"228.5\" y=\"148.8057\">aktivität 2</text><line style=\"stroke: #000000; stroke-width: 2.0;\" x1=\"342\" x2=\"342\" y1=\"12.7451\" y2=\"255.6045\"/><line style=\"stroke: #A80036; stroke-width: 1.5;\" x1=\"93.5\" x2=\"93.5\" y1=\"53.6982\" y2=\"73.6982\"/><polygon fill=\"#A80036\" points=\"89.5,63.6982,93.5,73.6982,97.5,63.6982,93.5,67.6982\" style=\"stroke: #A80036; stroke-width: 1.0;\"/><line style=\"stroke: #A80036; stroke-width: 1.5;\" x1=\"93.5\" x2=\"93.5\" y1=\"215.6045\" y2=\"235.6045\"/><polygon fill=\"#A80036\" points=\"89.5,225.6045,93.5,235.6045,97.5,225.6045,93.5,229.6045\" style=\"stroke: #A80036; stroke-width: 1.0;\"/><line style=\"stroke: #A80036; stroke-width: 1.5;\" x1=\"93.5\" x2=\"93.5\" y1=\"107.667\" y2=\"112.667\"/><line style=\"stroke: #A80036; stroke-width: 1.5;\" x1=\"93.5\" x2=\"259.5\" y1=\"112.667\" y2=\"112.667\"/><line style=\"stroke: #A80036; stroke-width: 1.5;\" x1=\"259.5\" x2=\"259.5\" y1=\"112.667\" y2=\"127.667\"/><polygon fill=\"#A80036\" points=\"255.5,117.667,259.5,127.667,263.5,117.667,259.5,121.667\" style=\"stroke: #A80036; stroke-width: 1.0;\"/><line style=\"stroke: #A80036; stroke-width: 1.5;\" x1=\"259.5\" x2=\"259.5\" y1=\"161.6357\" y2=\"166.6357\"/><line style=\"stroke: #A80036; stroke-width: 1.5;\" x1=\"259.5\" x2=\"93.5\" y1=\"166.6357\" y2=\"166.6357\"/><line style=\"stroke: #A80036; stroke-width: 1.5;\" x1=\"93.5\" x2=\"93.5\" y1=\"166.6357\" y2=\"181.6357\"/><polygon fill=\"#A80036\" points=\"89.5,171.6357,93.5,181.6357,97.5,171.6357,93.5,175.6357\" style=\"stroke: #A80036; stroke-width: 1.0;\"/><!--\n",
       "@startuml \n",
       "|Schwimmbahn 1|\n",
       "start\n",
       ":aktivität 1;\n",
       "|Schwimmbahn 2|\n",
       ":aktivität 2;\n",
       "|Schwimmbahn 1|\n",
       ":aktivität 3;\n",
       "stop\n",
       "\n",
       "@enduml\n",
       "\n",
       "PlantUML version 1.2017.15(Mon Jul 03 16:45:34 GMT 2017)\n",
       "(GPL source distribution)\n",
       "Java Runtime: OpenJDK Runtime Environment\n",
       "JVM: OpenJDK 64-Bit Server VM\n",
       "Java Version: 11.0.11+9-Ubuntu-0ubuntu2.18.04\n",
       "Operating System: Linux\n",
       "OS Version: 5.4.0-84-generic\n",
       "Default Encoding: UTF-8\n",
       "Language: en\n",
       "Country: null\n",
       "--></g></svg>"
      ],
      "text/plain": [
       "<IPython.core.display.SVG object>"
      ]
     },
     "execution_count": 10,
     "metadata": {},
     "output_type": "execute_result"
    }
   ],
   "source": [
    "%%plantuml\n",
    "|Schwimmbahn 1|\n",
    "start\n",
    ":aktivität 1;\n",
    "|Schwimmbahn 2|\n",
    ":aktivität 2;\n",
    "|Schwimmbahn 1|\n",
    ":aktivität 3;\n",
    "stop"
   ]
  },
  {
   "cell_type": "markdown",
   "metadata": {},
   "source": [
    "## Beispiel zur Authentifizierung"
   ]
  },
  {
   "cell_type": "code",
   "execution_count": 11,
   "metadata": {},
   "outputs": [
    {
     "data": {
      "image/svg+xml": [
       "<svg contentScriptType=\"application/ecmascript\" contentStyleType=\"text/css\" height=\"509px\" preserveAspectRatio=\"none\" style=\"width:663px;height:509px;\" version=\"1.1\" viewBox=\"0 0 663 509\" width=\"663px\" xmlns=\"http://www.w3.org/2000/svg\" xmlns:xlink=\"http://www.w3.org/1999/xlink\" zoomAndPan=\"magnify\"><defs><filter height=\"300%\" id=\"f1nvrc9iflmd76\" width=\"300%\" x=\"-1\" y=\"-1\"><feGaussianBlur result=\"blurOut\" stdDeviation=\"2.0\"/><feColorMatrix in=\"blurOut\" result=\"blurOut2\" type=\"matrix\" values=\"0 0 0 0 0 0 0 0 0 0 0 0 0 0 0 0 0 0 .4 0\"/><feOffset dx=\"4.0\" dy=\"4.0\" in=\"blurOut2\" result=\"blurOut3\"/><feBlend in=\"SourceGraphic\" in2=\"blurOut3\" mode=\"normal\"/></filter></defs><g><text fill=\"#000000\" font-family=\"sans-serif\" font-size=\"18\" lengthAdjust=\"spacingAndGlyphs\" textLength=\"80\" x=\"75.5\" y=\"29.4531\">Frontend</text><line style=\"stroke: #000000; stroke-width: 2.0;\" x1=\"10\" x2=\"10\" y1=\"12.7451\" y2=\"497.5186\"/><ellipse cx=\"116\" cy=\"43.6982\" fill=\"#000000\" filter=\"url(#f1nvrc9iflmd76)\" rx=\"10\" ry=\"10\" style=\"stroke: none; stroke-width: 1.0;\"/><rect fill=\"#FEFECE\" filter=\"url(#f1nvrc9iflmd76)\" height=\"33.9688\" rx=\"12.5\" ry=\"12.5\" style=\"stroke: #A80036; stroke-width: 1.5;\" width=\"140\" x=\"46\" y=\"127.667\"/><text fill=\"#000000\" font-family=\"sans-serif\" font-size=\"12\" lengthAdjust=\"spacingAndGlyphs\" textLength=\"120\" x=\"56\" y=\"148.8057\">Passwort eingeben</text><rect fill=\"#FEFECE\" filter=\"url(#f1nvrc9iflmd76)\" height=\"33.9688\" rx=\"12.5\" ry=\"12.5\" style=\"stroke: #A80036; stroke-width: 1.5;\" width=\"192\" x=\"20\" y=\"350.0342\"/><text fill=\"#000000\" font-family=\"sans-serif\" font-size=\"12\" lengthAdjust=\"spacingAndGlyphs\" textLength=\"172\" x=\"30\" y=\"371.1729\">Seite kann geladen werden</text><ellipse cx=\"116\" cy=\"421.5186\" fill=\"none\" filter=\"url(#f1nvrc9iflmd76)\" rx=\"10\" ry=\"10\" style=\"stroke: #000000; stroke-width: 1.0;\"/><ellipse cx=\"116.5\" cy=\"422.0186\" fill=\"#000000\" filter=\"url(#f1nvrc9iflmd76)\" rx=\"6\" ry=\"6\" style=\"stroke: none; stroke-width: 1.0;\"/><rect fill=\"#FEFECE\" filter=\"url(#f1nvrc9iflmd76)\" height=\"33.9688\" rx=\"12.5\" ry=\"12.5\" style=\"stroke: #A80036; stroke-width: 1.5;\" width=\"120\" x=\"56\" y=\"73.6982\"/><text fill=\"#000000\" font-family=\"sans-serif\" font-size=\"12\" lengthAdjust=\"spacingAndGlyphs\" textLength=\"100\" x=\"66\" y=\"94.8369\">E-mail eingeben</text><text fill=\"#000000\" font-family=\"sans-serif\" font-size=\"18\" lengthAdjust=\"spacingAndGlyphs\" textLength=\"74\" x=\"312.75\" y=\"29.4531\">Backend</text><line style=\"stroke: #000000; stroke-width: 2.0;\" x1=\"221\" x2=\"221\" y1=\"12.7451\" y2=\"497.5186\"/><rect fill=\"#FEFECE\" filter=\"url(#f1nvrc9iflmd76)\" height=\"33.9688\" rx=\"12.5\" ry=\"12.5\" style=\"stroke: #A80036; stroke-width: 1.5;\" width=\"222\" x=\"231\" y=\"181.6357\"/><text fill=\"#000000\" font-family=\"sans-serif\" font-size=\"12\" lengthAdjust=\"spacingAndGlyphs\" textLength=\"202\" x=\"241\" y=\"202.7744\">Daten aus der Datenbank holen</text><polygon fill=\"#FEFECE\" filter=\"url(#f1nvrc9iflmd76)\" points=\"279,301.6318,405,301.6318,417,313.6318,405,325.6318,279,325.6318,267,313.6318,279,301.6318\" style=\"stroke: #A80036; stroke-width: 1.5;\"/><text fill=\"#000000\" font-family=\"sans-serif\" font-size=\"11\" lengthAdjust=\"spacingAndGlyphs\" textLength=\"10\" x=\"346\" y=\"335.8423\">ja</text><text fill=\"#000000\" font-family=\"sans-serif\" font-size=\"11\" lengthAdjust=\"spacingAndGlyphs\" textLength=\"126\" x=\"279\" y=\"317.4399\">Anmeldedaten richtig?</text><text fill=\"#000000\" font-family=\"sans-serif\" font-size=\"11\" lengthAdjust=\"spacingAndGlyphs\" textLength=\"24\" x=\"417\" y=\"311.0376\">nein</text><polygon fill=\"#FEFECE\" filter=\"url(#f1nvrc9iflmd76)\" points=\"342,473.5186,342,473.5186,354,485.5186,342,497.5186,342,497.5186,330,485.5186,342,473.5186\" style=\"stroke: #A80036; stroke-width: 1.5;\"/><text fill=\"#000000\" font-family=\"sans-serif\" font-size=\"18\" lengthAdjust=\"spacingAndGlyphs\" textLength=\"95\" x=\"517.5\" y=\"29.4531\">Datenbank</text><line style=\"stroke: #000000; stroke-width: 2.0;\" x1=\"478.5\" x2=\"478.5\" y1=\"12.7451\" y2=\"497.5186\"/><rect fill=\"#FEFECE\" filter=\"url(#f1nvrc9iflmd76)\" height=\"33.9688\" rx=\"12.5\" ry=\"12.5\" style=\"stroke: #A80036; stroke-width: 1.5;\" width=\"154\" x=\"488.5\" y=\"235.6045\"/><text fill=\"#000000\" font-family=\"sans-serif\" font-size=\"12\" lengthAdjust=\"spacingAndGlyphs\" textLength=\"134\" x=\"498.5\" y=\"256.7432\">Suche Daten herraus</text><line style=\"stroke: #000000; stroke-width: 2.0;\" x1=\"651.5\" x2=\"651.5\" y1=\"12.7451\" y2=\"497.5186\"/><line style=\"stroke: #A80036; stroke-width: 1.5;\" x1=\"116\" x2=\"116\" y1=\"384.0029\" y2=\"411.5186\"/><polygon fill=\"#A80036\" points=\"112,401.5186,116,411.5186,120,401.5186,116,405.5186\" style=\"stroke: #A80036; stroke-width: 1.0;\"/><line style=\"stroke: #A80036; stroke-width: 1.5;\" x1=\"116\" x2=\"116\" y1=\"107.667\" y2=\"127.667\"/><polygon fill=\"#A80036\" points=\"112,117.667,116,127.667,120,117.667,116,121.667\" style=\"stroke: #A80036; stroke-width: 1.0;\"/><line style=\"stroke: #A80036; stroke-width: 1.5;\" x1=\"116\" x2=\"116\" y1=\"53.6982\" y2=\"73.6982\"/><polygon fill=\"#A80036\" points=\"112,63.6982,116,73.6982,120,63.6982,116,67.6982\" style=\"stroke: #A80036; stroke-width: 1.0;\"/><line style=\"stroke: #A80036; stroke-width: 1.5;\" x1=\"417\" x2=\"448\" y1=\"313.6318\" y2=\"313.6318\"/><polygon fill=\"#A80036\" points=\"444,381.5186,448,391.5186,452,381.5186,448,385.5186\" style=\"stroke: #A80036; stroke-width: 1.5;\"/><line style=\"stroke: #A80036; stroke-width: 1.5;\" x1=\"448\" x2=\"448\" y1=\"313.6318\" y2=\"453.5186\"/><line style=\"stroke: #A80036; stroke-width: 1.5;\" x1=\"448\" x2=\"342\" y1=\"453.5186\" y2=\"453.5186\"/><line style=\"stroke: #A80036; stroke-width: 1.5;\" x1=\"342\" x2=\"342\" y1=\"453.5186\" y2=\"473.5186\"/><polygon fill=\"#A80036\" points=\"338,463.5186,342,473.5186,346,463.5186,342,467.5186\" style=\"stroke: #A80036; stroke-width: 1.0;\"/><line style=\"stroke: #A80036; stroke-width: 1.5;\" x1=\"354\" x2=\"468.5\" y1=\"485.5186\" y2=\"485.5186\"/><polygon fill=\"#A80036\" points=\"464.5,289.5732,468.5,279.5732,472.5,289.5732,468.5,285.5732\" style=\"stroke: #A80036; stroke-width: 1.5;\"/><line style=\"stroke: #A80036; stroke-width: 1.5;\" x1=\"468.5\" x2=\"468.5\" y1=\"90.6826\" y2=\"485.5186\"/><line style=\"stroke: #A80036; stroke-width: 1.5;\" x1=\"468.5\" x2=\"176\" y1=\"90.6826\" y2=\"90.6826\"/><polygon fill=\"#A80036\" points=\"186,86.6826,176,90.6826,186,94.6826,182,90.6826\" style=\"stroke: #A80036; stroke-width: 1.0;\"/><line style=\"stroke: #A80036; stroke-width: 1.5;\" x1=\"116\" x2=\"116\" y1=\"161.6357\" y2=\"166.6357\"/><line style=\"stroke: #A80036; stroke-width: 1.5;\" x1=\"116\" x2=\"342\" y1=\"166.6357\" y2=\"166.6357\"/><line style=\"stroke: #A80036; stroke-width: 1.5;\" x1=\"342\" x2=\"342\" y1=\"166.6357\" y2=\"181.6357\"/><polygon fill=\"#A80036\" points=\"338,171.6357,342,181.6357,346,171.6357,342,175.6357\" style=\"stroke: #A80036; stroke-width: 1.0;\"/><line style=\"stroke: #A80036; stroke-width: 1.5;\" x1=\"342\" x2=\"342\" y1=\"215.6045\" y2=\"220.6045\"/><line style=\"stroke: #A80036; stroke-width: 1.5;\" x1=\"342\" x2=\"565.5\" y1=\"220.6045\" y2=\"220.6045\"/><line style=\"stroke: #A80036; stroke-width: 1.5;\" x1=\"565.5\" x2=\"565.5\" y1=\"220.6045\" y2=\"235.6045\"/><polygon fill=\"#A80036\" points=\"561.5,225.6045,565.5,235.6045,569.5,225.6045,565.5,229.6045\" style=\"stroke: #A80036; stroke-width: 1.0;\"/><line style=\"stroke: #A80036; stroke-width: 1.5;\" x1=\"342\" x2=\"342\" y1=\"325.6318\" y2=\"337.833\"/><line style=\"stroke: #A80036; stroke-width: 1.5;\" x1=\"342\" x2=\"116\" y1=\"337.833\" y2=\"337.833\"/><line style=\"stroke: #A80036; stroke-width: 1.5;\" x1=\"116\" x2=\"116\" y1=\"337.833\" y2=\"350.0342\"/><polygon fill=\"#A80036\" points=\"112,340.0342,116,350.0342,120,340.0342,116,344.0342\" style=\"stroke: #A80036; stroke-width: 1.0;\"/><line style=\"stroke: #A80036; stroke-width: 1.5;\" x1=\"565.5\" x2=\"565.5\" y1=\"269.5732\" y2=\"284.1318\"/><line style=\"stroke: #A80036; stroke-width: 1.5;\" x1=\"565.5\" x2=\"342\" y1=\"284.1318\" y2=\"284.1318\"/><line style=\"stroke: #A80036; stroke-width: 1.5;\" x1=\"342\" x2=\"342\" y1=\"284.1318\" y2=\"301.6318\"/><polygon fill=\"#A80036\" points=\"338,291.6318,342,301.6318,346,291.6318,342,295.6318\" style=\"stroke: #A80036; stroke-width: 1.0;\"/><!--\n",
       "@startuml \n",
       "|Frontend|\n",
       "start\n",
       "repeat :E-mail eingeben;\n",
       ":Passwort eingeben;\n",
       "|Backend|\n",
       ":Daten aus der Datenbank holen;\n",
       "|Datenbank|\n",
       ":Suche Daten herraus;\n",
       "|Backend|\n",
       " if (Anmeldedaten richtig?) then (ja)\n",
       "|Frontend|\n",
       "    :Seite kann geladen werden;\n",
       "    stop\n",
       "    else (nein)\n",
       "\n",
       "@enduml\n",
       "\n",
       "PlantUML version 1.2017.15(Mon Jul 03 16:45:34 GMT 2017)\n",
       "(GPL source distribution)\n",
       "Java Runtime: OpenJDK Runtime Environment\n",
       "JVM: OpenJDK 64-Bit Server VM\n",
       "Java Version: 11.0.11+9-Ubuntu-0ubuntu2.18.04\n",
       "Operating System: Linux\n",
       "OS Version: 5.4.0-84-generic\n",
       "Default Encoding: UTF-8\n",
       "Language: en\n",
       "Country: null\n",
       "--></g></svg>"
      ],
      "text/plain": [
       "<IPython.core.display.SVG object>"
      ]
     },
     "execution_count": 11,
     "metadata": {},
     "output_type": "execute_result"
    }
   ],
   "source": [
    "%%plantuml\n",
    "|Frontend|\n",
    "start\n",
    "repeat :E-mail eingeben;\n",
    ":Passwort eingeben;\n",
    "|Backend|\n",
    ":Daten aus der Datenbank holen;\n",
    "|Datenbank|\n",
    ":Suche Daten herraus;\n",
    "|Backend|\n",
    " if (Anmeldedaten richtig?) then (ja)\n",
    "|Frontend|\n",
    "    :Seite kann geladen werden;\n",
    "    stop\n",
    "    else (nein)"
   ]
  },
  {
   "cell_type": "markdown",
   "metadata": {},
   "source": [
    "## Zusätzliches\n",
    "#### Gruppierung\n",
    "Gruppierungen können verwendet werden, um Partitionen darzustellen. Diese beschreiben meist, welche Person oder Komponente für diese Aktivität verantwortlich ist."
   ]
  },
  {
   "cell_type": "code",
   "execution_count": 12,
   "metadata": {},
   "outputs": [
    {
     "data": {
      "image/svg+xml": [
       "<svg contentScriptType=\"application/ecmascript\" contentStyleType=\"text/css\" height=\"421px\" preserveAspectRatio=\"none\" style=\"width:123px;height:421px;\" version=\"1.1\" viewBox=\"0 0 123 421\" width=\"123px\" xmlns=\"http://www.w3.org/2000/svg\" xmlns:xlink=\"http://www.w3.org/1999/xlink\" zoomAndPan=\"magnify\"><defs><filter height=\"300%\" id=\"f19hcukc50z70k\" width=\"300%\" x=\"-1\" y=\"-1\"><feGaussianBlur result=\"blurOut\" stdDeviation=\"2.0\"/><feColorMatrix in=\"blurOut\" result=\"blurOut2\" type=\"matrix\" values=\"0 0 0 0 0 0 0 0 0 0 0 0 0 0 0 0 0 0 .4 0\"/><feOffset dx=\"4.0\" dy=\"4.0\" in=\"blurOut2\" result=\"blurOut3\"/><feBlend in=\"SourceGraphic\" in2=\"blurOut3\" mode=\"normal\"/></filter></defs><g><ellipse cx=\"61\" cy=\"20\" fill=\"#000000\" filter=\"url(#f19hcukc50z70k)\" rx=\"10\" ry=\"10\" style=\"stroke: none; stroke-width: 1.0;\"/><rect fill=\"#FFFFFF\" filter=\"url(#f19hcukc50z70k)\" height=\"159.2344\" style=\"stroke: #000000; stroke-width: 2.0;\" width=\"102\" x=\"10\" y=\"40.8018\"/><path d=\"M47,41.8018 L47,50.0986 L37,60.0986 L10,60.0986 \" fill=\"none\" style=\"stroke: #000000; stroke-width: 2.0;\"/><text fill=\"#000000\" font-family=\"sans-serif\" font-size=\"14\" lengthAdjust=\"spacingAndGlyphs\" textLength=\"27\" x=\"13\" y=\"54.7969\">Max</text><rect fill=\"#FEFECE\" filter=\"url(#f19hcukc50z70k)\" height=\"33.9688\" rx=\"12.5\" ry=\"12.5\" style=\"stroke: #A80036; stroke-width: 1.5;\" width=\"82\" x=\"20\" y=\"77.0986\"/><text fill=\"#000000\" font-family=\"sans-serif\" font-size=\"12\" lengthAdjust=\"spacingAndGlyphs\" textLength=\"62\" x=\"30\" y=\"98.2373\">aktivität 1</text><rect fill=\"#FEFECE\" filter=\"url(#f19hcukc50z70k)\" height=\"33.9688\" rx=\"12.5\" ry=\"12.5\" style=\"stroke: #A80036; stroke-width: 1.5;\" width=\"82\" x=\"20\" y=\"146.0674\"/><text fill=\"#000000\" font-family=\"sans-serif\" font-size=\"12\" lengthAdjust=\"spacingAndGlyphs\" textLength=\"62\" x=\"30\" y=\"167.2061\">aktivität 2</text><rect fill=\"#FFFFFF\" filter=\"url(#f19hcukc50z70k)\" height=\"159.2344\" style=\"stroke: #000000; stroke-width: 2.0;\" width=\"102\" x=\"10\" y=\"210.8379\"/><path d=\"M50,211.8379 L50,220.1348 L40,230.1348 L10,230.1348 \" fill=\"none\" style=\"stroke: #000000; stroke-width: 2.0;\"/><text fill=\"#000000\" font-family=\"sans-serif\" font-size=\"14\" lengthAdjust=\"spacingAndGlyphs\" textLength=\"30\" x=\"13\" y=\"224.833\">John</text><rect fill=\"#FEFECE\" filter=\"url(#f19hcukc50z70k)\" height=\"33.9688\" rx=\"12.5\" ry=\"12.5\" style=\"stroke: #A80036; stroke-width: 1.5;\" width=\"82\" x=\"20\" y=\"247.1348\"/><text fill=\"#000000\" font-family=\"sans-serif\" font-size=\"12\" lengthAdjust=\"spacingAndGlyphs\" textLength=\"62\" x=\"30\" y=\"268.2734\">aktivität 3</text><rect fill=\"#FEFECE\" filter=\"url(#f19hcukc50z70k)\" height=\"33.9688\" rx=\"12.5\" ry=\"12.5\" style=\"stroke: #A80036; stroke-width: 1.5;\" width=\"82\" x=\"20\" y=\"316.1035\"/><text fill=\"#000000\" font-family=\"sans-serif\" font-size=\"12\" lengthAdjust=\"spacingAndGlyphs\" textLength=\"62\" x=\"30\" y=\"337.2422\">aktivität 4</text><ellipse cx=\"61\" cy=\"400.0723\" fill=\"none\" filter=\"url(#f19hcukc50z70k)\" rx=\"10\" ry=\"10\" style=\"stroke: #000000; stroke-width: 1.0;\"/><ellipse cx=\"61.5\" cy=\"400.5723\" fill=\"#000000\" filter=\"url(#f19hcukc50z70k)\" rx=\"6\" ry=\"6\" style=\"stroke: none; stroke-width: 1.0;\"/><line style=\"stroke: #A80036; stroke-width: 1.5;\" x1=\"61\" x2=\"61\" y1=\"111.0674\" y2=\"146.0674\"/><polygon fill=\"#A80036\" points=\"57,136.0674,61,146.0674,65,136.0674,61,140.0674\" style=\"stroke: #A80036; stroke-width: 1.0;\"/><line style=\"stroke: #A80036; stroke-width: 1.5;\" x1=\"61\" x2=\"61\" y1=\"30\" y2=\"77.0986\"/><polygon fill=\"#A80036\" points=\"57,67.0986,61,77.0986,65,67.0986,61,71.0986\" style=\"stroke: #A80036; stroke-width: 1.0;\"/><line style=\"stroke: #A80036; stroke-width: 1.5;\" x1=\"61\" x2=\"61\" y1=\"281.1035\" y2=\"316.1035\"/><polygon fill=\"#A80036\" points=\"57,306.1035,61,316.1035,65,306.1035,61,310.1035\" style=\"stroke: #A80036; stroke-width: 1.0;\"/><line style=\"stroke: #A80036; stroke-width: 1.5;\" x1=\"61\" x2=\"61\" y1=\"180.0361\" y2=\"247.1348\"/><polygon fill=\"#A80036\" points=\"57,237.1348,61,247.1348,65,237.1348,61,241.1348\" style=\"stroke: #A80036; stroke-width: 1.0;\"/><line style=\"stroke: #A80036; stroke-width: 1.5;\" x1=\"61\" x2=\"61\" y1=\"350.0723\" y2=\"390.0723\"/><polygon fill=\"#A80036\" points=\"57,380.0723,61,390.0723,65,380.0723,61,384.0723\" style=\"stroke: #A80036; stroke-width: 1.0;\"/><!--\n",
       "@startuml \n",
       "start\n",
       "partition Max {\n",
       "    :aktivität 1;\n",
       "    :aktivität 2;\n",
       "}\n",
       "partition John {\n",
       "    :aktivität 3;\n",
       "    :aktivität 4;\n",
       "}\n",
       "stop\n",
       "\n",
       "@enduml\n",
       "\n",
       "PlantUML version 1.2017.15(Mon Jul 03 16:45:34 GMT 2017)\n",
       "(GPL source distribution)\n",
       "Java Runtime: OpenJDK Runtime Environment\n",
       "JVM: OpenJDK 64-Bit Server VM\n",
       "Java Version: 11.0.11+9-Ubuntu-0ubuntu2.18.04\n",
       "Operating System: Linux\n",
       "OS Version: 5.4.0-84-generic\n",
       "Default Encoding: UTF-8\n",
       "Language: en\n",
       "Country: null\n",
       "--></g></svg>"
      ],
      "text/plain": [
       "<IPython.core.display.SVG object>"
      ]
     },
     "execution_count": 12,
     "metadata": {},
     "output_type": "execute_result"
    }
   ],
   "source": [
    "%%plantuml\n",
    "start\n",
    "partition Max {\n",
    "    :aktivität 1;\n",
    "    :aktivität 2;\n",
    "}\n",
    "partition John {\n",
    "    :aktivität 3;\n",
    "    :aktivität 4;\n",
    "}\n",
    "stop"
   ]
  },
  {
   "cell_type": "markdown",
   "metadata": {},
   "source": [
    "#### Notizen\n",
    "Kommentare, Notizen oder auch Anmerkung können durch \"floating\" umgesetzt werden. "
   ]
  },
  {
   "cell_type": "code",
   "execution_count": 13,
   "metadata": {},
   "outputs": [
    {
     "data": {
      "image/svg+xml": [
       "<svg contentScriptType=\"application/ecmascript\" contentStyleType=\"text/css\" height=\"197px\" preserveAspectRatio=\"none\" style=\"width:489px;height:197px;\" version=\"1.1\" viewBox=\"0 0 489 197\" width=\"489px\" xmlns=\"http://www.w3.org/2000/svg\" xmlns:xlink=\"http://www.w3.org/1999/xlink\" zoomAndPan=\"magnify\"><defs><filter height=\"300%\" id=\"f4p7u0jmgrhe3\" width=\"300%\" x=\"-1\" y=\"-1\"><feGaussianBlur result=\"blurOut\" stdDeviation=\"2.0\"/><feColorMatrix in=\"blurOut\" result=\"blurOut2\" type=\"matrix\" values=\"0 0 0 0 0 0 0 0 0 0 0 0 0 0 0 0 0 0 .4 0\"/><feOffset dx=\"4.0\" dy=\"4.0\" in=\"blurOut2\" result=\"blurOut3\"/><feBlend in=\"SourceGraphic\" in2=\"blurOut3\" mode=\"normal\"/></filter></defs><g><ellipse cx=\"233\" cy=\"20\" fill=\"#000000\" filter=\"url(#f4p7u0jmgrhe3)\" rx=\"10\" ry=\"10\" style=\"stroke: none; stroke-width: 1.0;\"/><polygon fill=\"#FBFB77\" filter=\"url(#f4p7u0jmgrhe3)\" points=\"20,54.418,20,79.5508,172,79.5508,172,64.418,162,54.418,20,54.418\" style=\"stroke: #A80036; stroke-width: 1.0;\"/><line style=\"stroke: #A80036; stroke-width: 1.0;\" x1=\"162\" x2=\"162\" y1=\"54.418\" y2=\"64.418\"/><line style=\"stroke: #A80036; stroke-width: 1.0;\" x1=\"172\" x2=\"162\" y1=\"64.418\" y2=\"64.418\"/><text fill=\"#000000\" font-family=\"sans-serif\" font-size=\"13\" lengthAdjust=\"spacingAndGlyphs\" textLength=\"131\" x=\"26\" y=\"71.4849\">Notiz an mich selber</text><rect fill=\"#FEFECE\" filter=\"url(#f4p7u0jmgrhe3)\" height=\"33.9688\" rx=\"12.5\" ry=\"12.5\" style=\"stroke: #A80036; stroke-width: 1.5;\" width=\"82\" x=\"192\" y=\"50\"/><text fill=\"#000000\" font-family=\"sans-serif\" font-size=\"12\" lengthAdjust=\"spacingAndGlyphs\" textLength=\"62\" x=\"202\" y=\"71.1387\">aktivität 1</text><polygon fill=\"#FBFB77\" filter=\"url(#f4p7u0jmgrhe3)\" points=\"294,95.8203,294,146.0859,467,146.0859,467,105.8203,457,95.8203,294,95.8203\" style=\"stroke: #A80036; stroke-width: 1.0;\"/><polygon fill=\"#FBFB77\" points=\"294,95.8203,294,116.9531,274,120.9531,294,124.9531,294,146.0859,467,146.0859,467,105.8203,457,95.8203,294,95.8203\" style=\"stroke: #A80036; stroke-width: 1.0;\"/><line style=\"stroke: #A80036; stroke-width: 1.0;\" x1=\"457\" x2=\"457\" y1=\"95.8203\" y2=\"105.8203\"/><line style=\"stroke: #A80036; stroke-width: 1.0;\" x1=\"467\" x2=\"457\" y1=\"105.8203\" y2=\"105.8203\"/><text fill=\"#000000\" font-family=\"sans-serif\" font-size=\"13\" lengthAdjust=\"spacingAndGlyphs\" textLength=\"79\" x=\"300\" y=\"112.8872\">Notiz an alle</text><line style=\"stroke: #A80036; stroke-width: 1.0;\" x1=\"294\" x2=\"467\" y1=\"120.9531\" y2=\"120.9531\"/><line style=\"stroke: #A80036; stroke-width: 1.0;\" x1=\"294\" x2=\"467\" y1=\"122.9531\" y2=\"122.9531\"/><ellipse cx=\"305.5\" cy=\"133.5859\" fill=\"#000000\" rx=\"2.5\" ry=\"2.5\" style=\"stroke: #000000; stroke-width: 0.0;\"/><text fill=\"#000000\" font-family=\"sans-serif\" font-size=\"13\" lengthAdjust=\"spacingAndGlyphs\" textLength=\"141\" x=\"311\" y=\"138.02\">Unterteilung der Notiz</text><rect fill=\"#FEFECE\" filter=\"url(#f4p7u0jmgrhe3)\" height=\"33.9688\" rx=\"12.5\" ry=\"12.5\" style=\"stroke: #A80036; stroke-width: 1.5;\" width=\"82\" x=\"192\" y=\"103.9688\"/><text fill=\"#000000\" font-family=\"sans-serif\" font-size=\"12\" lengthAdjust=\"spacingAndGlyphs\" textLength=\"62\" x=\"202\" y=\"125.1074\">aktivität 2</text><ellipse cx=\"233\" cy=\"176.0859\" fill=\"none\" filter=\"url(#f4p7u0jmgrhe3)\" rx=\"10\" ry=\"10\" style=\"stroke: #000000; stroke-width: 1.0;\"/><ellipse cx=\"233.5\" cy=\"176.5859\" fill=\"#000000\" filter=\"url(#f4p7u0jmgrhe3)\" rx=\"6\" ry=\"6\" style=\"stroke: none; stroke-width: 1.0;\"/><line style=\"stroke: #A80036; stroke-width: 1.5;\" x1=\"233\" x2=\"233\" y1=\"30\" y2=\"50\"/><polygon fill=\"#A80036\" points=\"229,40,233,50,237,40,233,44\" style=\"stroke: #A80036; stroke-width: 1.0;\"/><line style=\"stroke: #A80036; stroke-width: 1.5;\" x1=\"233\" x2=\"233\" y1=\"83.9688\" y2=\"103.9688\"/><polygon fill=\"#A80036\" points=\"229,93.9688,233,103.9688,237,93.9688,233,97.9688\" style=\"stroke: #A80036; stroke-width: 1.0;\"/><line style=\"stroke: #A80036; stroke-width: 1.5;\" x1=\"233\" x2=\"233\" y1=\"137.9375\" y2=\"166.0859\"/><polygon fill=\"#A80036\" points=\"229,156.0859,233,166.0859,237,156.0859,233,160.0859\" style=\"stroke: #A80036; stroke-width: 1.0;\"/><!--\n",
       "@startuml \n",
       "start\n",
       ":aktivität 1;\n",
       "floating note left: Notiz an mich selber\n",
       ":aktivität 2;\n",
       "note right\n",
       "  Notiz an alle\n",
       "  ====\n",
       "  * Unterteilung der Notiz\n",
       "end note\n",
       "stop\n",
       "\n",
       "@enduml\n",
       "\n",
       "PlantUML version 1.2017.15(Mon Jul 03 16:45:34 GMT 2017)\n",
       "(GPL source distribution)\n",
       "Java Runtime: OpenJDK Runtime Environment\n",
       "JVM: OpenJDK 64-Bit Server VM\n",
       "Java Version: 11.0.11+9-Ubuntu-0ubuntu2.18.04\n",
       "Operating System: Linux\n",
       "OS Version: 5.4.0-84-generic\n",
       "Default Encoding: UTF-8\n",
       "Language: en\n",
       "Country: null\n",
       "--></g></svg>"
      ],
      "text/plain": [
       "<IPython.core.display.SVG object>"
      ]
     },
     "execution_count": 13,
     "metadata": {},
     "output_type": "execute_result"
    }
   ],
   "source": [
    "%%plantuml\n",
    "start\n",
    ":aktivität 1;\n",
    "floating note left: Notiz an mich selber\n",
    ":aktivität 2;\n",
    "note right\n",
    "  Notiz an alle\n",
    "  ====\n",
    "  * Unterteilung der Notiz\n",
    "end note\n",
    "stop"
   ]
  },
  {
   "cell_type": "markdown",
   "metadata": {},
   "source": [
    "#### Farben\n",
    "Die folgenden Komponenten in einem Aktivitätsdiagramm können farblich geändert werden:\n",
    "- Pfeile\n",
    "- Aktivitäten\n",
    "- Schwimmbahn\n"
   ]
  },
  {
   "cell_type": "code",
   "execution_count": 14,
   "metadata": {},
   "outputs": [
    {
     "data": {
      "image/svg+xml": [
       "<svg contentScriptType=\"application/ecmascript\" contentStyleType=\"text/css\" height=\"327px\" preserveAspectRatio=\"none\" style=\"width:325px;height:327px;\" version=\"1.1\" viewBox=\"0 0 325 327\" width=\"325px\" xmlns=\"http://www.w3.org/2000/svg\" xmlns:xlink=\"http://www.w3.org/1999/xlink\" zoomAndPan=\"magnify\"><defs><filter height=\"300%\" id=\"f2tptl5917ihu\" width=\"300%\" x=\"-1\" y=\"-1\"><feGaussianBlur result=\"blurOut\" stdDeviation=\"2.0\"/><feColorMatrix in=\"blurOut\" result=\"blurOut2\" type=\"matrix\" values=\"0 0 0 0 0 0 0 0 0 0 0 0 0 0 0 0 0 0 .4 0\"/><feOffset dx=\"4.0\" dy=\"4.0\" in=\"blurOut2\" result=\"blurOut3\"/><feBlend in=\"SourceGraphic\" in2=\"blurOut3\" mode=\"normal\"/></filter></defs><g><rect fill=\"#00FFFF\" height=\"302.8594\" style=\"stroke: #00FFFF; stroke-width: 1.0;\" width=\"143\" x=\"10\" y=\"12.7451\"/><text fill=\"#000000\" font-family=\"sans-serif\" font-size=\"18\" lengthAdjust=\"spacingAndGlyphs\" textLength=\"123\" x=\"20\" y=\"29.4531\">Schwimbahn1</text><line style=\"stroke: #000000; stroke-width: 2.0;\" x1=\"10\" x2=\"10\" y1=\"12.7451\" y2=\"315.6045\"/><ellipse cx=\"82\" cy=\"43.6982\" fill=\"#000000\" filter=\"url(#f2tptl5917ihu)\" rx=\"10\" ry=\"10\" style=\"stroke: none; stroke-width: 1.0;\"/><rect fill=\"#FEFECE\" filter=\"url(#f2tptl5917ihu)\" height=\"33.9688\" rx=\"12.5\" ry=\"12.5\" style=\"stroke: #A80036; stroke-width: 1.5;\" width=\"82\" x=\"41\" y=\"88.6982\"/><text fill=\"#000000\" font-family=\"sans-serif\" font-size=\"12\" lengthAdjust=\"spacingAndGlyphs\" textLength=\"62\" x=\"51\" y=\"109.8369\">aktivität 1</text><text fill=\"#000000\" font-family=\"sans-serif\" font-size=\"18\" lengthAdjust=\"spacingAndGlyphs\" textLength=\"140\" x=\"163\" y=\"29.4531\">Schwimmbahn2</text><line style=\"stroke: #000000; stroke-width: 2.0;\" x1=\"153\" x2=\"153\" y1=\"12.7451\" y2=\"315.6045\"/><rect fill=\"#FEFECE\" filter=\"url(#f2tptl5917ihu)\" height=\"33.9688\" rx=\"12.5\" ry=\"12.5\" style=\"stroke: #A80036; stroke-width: 1.5;\" width=\"82\" x=\"192.5\" y=\"157.667\"/><text fill=\"#000000\" font-family=\"sans-serif\" font-size=\"12\" lengthAdjust=\"spacingAndGlyphs\" textLength=\"62\" x=\"202.5\" y=\"178.8057\">aktivität 2</text><rect fill=\"#FF0000\" filter=\"url(#f2tptl5917ihu)\" height=\"33.9688\" rx=\"12.5\" ry=\"12.5\" style=\"stroke: #A80036; stroke-width: 1.5;\" width=\"82\" x=\"192.5\" y=\"226.6357\"/><text fill=\"#000000\" font-family=\"sans-serif\" font-size=\"12\" lengthAdjust=\"spacingAndGlyphs\" textLength=\"62\" x=\"202.5\" y=\"247.7744\">aktivität 3</text><ellipse cx=\"233.5\" cy=\"305.6045\" fill=\"none\" filter=\"url(#f2tptl5917ihu)\" rx=\"10\" ry=\"10\" style=\"stroke: #000000; stroke-width: 1.0;\"/><ellipse cx=\"234\" cy=\"306.1045\" fill=\"#000000\" filter=\"url(#f2tptl5917ihu)\" rx=\"6\" ry=\"6\" style=\"stroke: none; stroke-width: 1.0;\"/><line style=\"stroke: #000000; stroke-width: 2.0;\" x1=\"313\" x2=\"313\" y1=\"12.7451\" y2=\"315.6045\"/><line style=\"stroke: #000000; stroke-width: 1.5; stroke-dasharray: 1.0,3.0;\" x1=\"82\" x2=\"82\" y1=\"53.6982\" y2=\"88.6982\"/><polygon fill=\"#000000\" points=\"78,78.6982,82,88.6982,86,78.6982,82,82.6982\" style=\"stroke: #000000; stroke-width: 1.0;\"/><line style=\"stroke: #808080; stroke-width: 2.5;\" x1=\"233.5\" x2=\"233.5\" y1=\"191.6357\" y2=\"226.6357\"/><polygon fill=\"#808080\" points=\"229.5,216.6357,233.5,226.6357,237.5,216.6357,233.5,220.6357\" style=\"stroke: #808080; stroke-width: 1.0;\"/><line style=\"stroke: #A80036; stroke-width: 1.5;\" x1=\"233.5\" x2=\"233.5\" y1=\"260.6045\" y2=\"295.6045\"/><polygon fill=\"#A80036\" points=\"229.5,285.6045,233.5,295.6045,237.5,285.6045,233.5,289.6045\" style=\"stroke: #A80036; stroke-width: 1.0;\"/><line style=\"stroke: #006400; stroke-width: 1.5; stroke-dasharray: 6.0,6.0;\" x1=\"82\" x2=\"82\" y1=\"122.667\" y2=\"140.167\"/><line style=\"stroke: #006400; stroke-width: 1.5; stroke-dasharray: 6.0,6.0;\" x1=\"82\" x2=\"233.5\" y1=\"140.167\" y2=\"140.167\"/><line style=\"stroke: #006400; stroke-width: 1.5; stroke-dasharray: 6.0,6.0;\" x1=\"233.5\" x2=\"233.5\" y1=\"140.167\" y2=\"157.667\"/><polygon fill=\"#006400\" points=\"229.5,147.667,233.5,157.667,237.5,147.667,233.5,151.667\" style=\"stroke: #006400; stroke-width: 1.0;\"/><!--\n",
       "@startuml \n",
       "|#Cyan|Schwimbahn1|\n",
       "start\n",
       "-[#black,dotted]->\n",
       ":aktivität 1;\n",
       "|Schwimmbahn2|\n",
       "-[#darkgreen,dashed]->\n",
       ":aktivität 2;\n",
       "-[#grey,bold]->\n",
       "#Red:aktivität 3;\n",
       "stop\n",
       "\n",
       "@enduml\n",
       "\n",
       "PlantUML version 1.2017.15(Mon Jul 03 16:45:34 GMT 2017)\n",
       "(GPL source distribution)\n",
       "Java Runtime: OpenJDK Runtime Environment\n",
       "JVM: OpenJDK 64-Bit Server VM\n",
       "Java Version: 11.0.11+9-Ubuntu-0ubuntu2.18.04\n",
       "Operating System: Linux\n",
       "OS Version: 5.4.0-84-generic\n",
       "Default Encoding: UTF-8\n",
       "Language: en\n",
       "Country: null\n",
       "--></g></svg>"
      ],
      "text/plain": [
       "<IPython.core.display.SVG object>"
      ]
     },
     "execution_count": 14,
     "metadata": {},
     "output_type": "execute_result"
    }
   ],
   "source": [
    "%%plantuml\n",
    "|#Cyan|Schwimbahn1|\n",
    "start\n",
    "-[#black,dotted]->\n",
    ":aktivität 1;\n",
    "|Schwimmbahn2|\n",
    "-[#darkgreen,dashed]->\n",
    ":aktivität 2;\n",
    "-[#grey,bold]->\n",
    "#Red:aktivität 3;\n",
    "stop"
   ]
  },
  {
   "cell_type": "markdown",
   "metadata": {},
   "source": [
    "### Quellen\n",
    "https://de.wikipedia.org/wiki/Aktivit%C3%A4tsdiagramm\n",
    "<br/>\n",
    "https://plantuml.com/de/activity-diagram-beta\n",
    "<br/>\n",
    "https://www.ibm.com/docs/de/rational-soft-arch/9.6.1?topic=diagrams-partitions"
   ]
  }
 ],
 "metadata": {
  "kernelspec": {
   "display_name": "Python 3",
   "language": "python",
   "name": "python3"
  },
  "language_info": {
   "codemirror_mode": {
    "name": "ipython",
    "version": 3
   },
   "file_extension": ".py",
   "mimetype": "text/x-python",
   "name": "python",
   "nbconvert_exporter": "python",
   "pygments_lexer": "ipython3",
   "version": "3.6.9"
  }
 },
 "nbformat": 4,
 "nbformat_minor": 2
}
