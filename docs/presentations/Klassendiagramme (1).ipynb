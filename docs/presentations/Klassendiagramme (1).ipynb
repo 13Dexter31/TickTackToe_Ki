{
 "cells": [
  {
   "cell_type": "markdown",
   "metadata": {},
   "source": [
    "# Klassendiagramme mit Jupyter Notebook und plantuml\n",
    "\n",
    "von Leon Schinski"
   ]
  },
  {
   "cell_type": "markdown",
   "metadata": {},
   "source": [
    "**Damit UML-Diagramme erstellt werden können, muss vorher plantuml importiert werden.**"
   ]
  },
  {
   "cell_type": "code",
   "execution_count": 18,
   "metadata": {
    "scrolled": true
   },
   "outputs": [],
   "source": [
    "import plantuml"
   ]
  },
  {
   "cell_type": "markdown",
   "metadata": {},
   "source": [
    "## Erstellen einer Klasse\n",
    "\n",
    "Eine Klasse besitzt folgenden Inhalt:  \n",
    "- Name\n",
    "- Attribute\n",
    "- Methoden\n",
    " \n",
    "## Wie wird der Inhalt dargestellt?\n",
    "    \n",
    "Durch die Annotation `%%plantuml`wird der nächste Blog als UML Diagramm dargestellt.  \n",
    "Für eine normale Klasse wird folgender Aufbau benötigt:"
   ]
  },
  {
   "cell_type": "code",
   "execution_count": 19,
   "metadata": {
    "scrolled": true
   },
   "outputs": [
    {
     "data": {
      "image/svg+xml": [
       "<svg contentScriptType=\"application/ecmascript\" contentStyleType=\"text/css\" height=\"92px\" preserveAspectRatio=\"none\" style=\"width:168px;height:92px;\" version=\"1.1\" viewBox=\"0 0 168 92\" width=\"168px\" xmlns=\"http://www.w3.org/2000/svg\" xmlns:xlink=\"http://www.w3.org/1999/xlink\" zoomAndPan=\"magnify\"><defs><filter height=\"300%\" id=\"fgargccbxj2is\" width=\"300%\" x=\"-1\" y=\"-1\"><feGaussianBlur result=\"blurOut\" stdDeviation=\"2.0\"/><feColorMatrix in=\"blurOut\" result=\"blurOut2\" type=\"matrix\" values=\"0 0 0 0 0 0 0 0 0 0 0 0 0 0 0 0 0 0 .4 0\"/><feOffset dx=\"4.0\" dy=\"4.0\" in=\"blurOut2\" result=\"blurOut3\"/><feBlend in=\"SourceGraphic\" in2=\"blurOut3\" mode=\"normal\"/></filter></defs><g><!--class Klasse--><rect fill=\"#FEFECE\" filter=\"url(#fgargccbxj2is)\" height=\"73.6094\" id=\"Klasse\" style=\"stroke: #A80036; stroke-width: 1.5;\" width=\"151\" x=\"6\" y=\"8\"/><ellipse cx=\"57.25\" cy=\"24\" fill=\"#ADD1B2\" rx=\"11\" ry=\"11\" style=\"stroke: #A80036; stroke-width: 1.0;\"/><path d=\"M60.2188,29.6406 Q59.6406,29.9375 59,30.0781 Q58.3594,30.2344 57.6563,30.2344 Q55.1563,30.2344 53.8281,28.5938 Q52.5156,26.9375 52.5156,23.8125 Q52.5156,20.6875 53.8281,19.0313 Q55.1563,17.375 57.6563,17.375 Q58.3594,17.375 59,17.5313 Q59.6563,17.6875 60.2188,17.9844 L60.2188,20.7031 Q59.5938,20.125 59,19.8594 Q58.4063,19.5781 57.7813,19.5781 Q56.4375,19.5781 55.75,20.6563 Q55.0625,21.7188 55.0625,23.8125 Q55.0625,25.9063 55.75,26.9844 Q56.4375,28.0469 57.7813,28.0469 Q58.4063,28.0469 59,27.7813 Q59.5938,27.5 60.2188,26.9219 L60.2188,29.6406 Z \"/><text fill=\"#000000\" font-family=\"sans-serif\" font-size=\"12\" lengthAdjust=\"spacingAndGlyphs\" textLength=\"40\" x=\"77.75\" y=\"28.1543\">Klasse</text><line style=\"stroke: #A80036; stroke-width: 1.5;\" x1=\"7\" x2=\"156\" y1=\"40\" y2=\"40\"/><text fill=\"#000000\" font-family=\"sans-serif\" font-size=\"11\" lengthAdjust=\"spacingAndGlyphs\" textLength=\"102\" x=\"12\" y=\"54.2104\">Datentyp Attribute</text><line style=\"stroke: #A80036; stroke-width: 1.5;\" x1=\"7\" x2=\"156\" y1=\"60.8047\" y2=\"60.8047\"/><text fill=\"#000000\" font-family=\"sans-serif\" font-size=\"11\" lengthAdjust=\"spacingAndGlyphs\" textLength=\"139\" x=\"12\" y=\"75.0151\">Rückgabewert Methode()</text><!--\n",
       "@startuml \n",
       "class Klasse {\n",
       "    {field} Datentyp Attribute\n",
       "    {method} Rückgabewert Methode()\n",
       "}\n",
       "\n",
       "@enduml\n",
       "\n",
       "PlantUML version 1.2017.15(Mon Jul 03 16:45:34 GMT 2017)\n",
       "(GPL source distribution)\n",
       "Java Runtime: OpenJDK Runtime Environment\n",
       "JVM: OpenJDK 64-Bit Server VM\n",
       "Java Version: 11.0.11+9-Ubuntu-0ubuntu2.18.04\n",
       "Operating System: Linux\n",
       "OS Version: 5.4.0-84-generic\n",
       "Default Encoding: UTF-8\n",
       "Language: en\n",
       "Country: null\n",
       "--></g></svg>"
      ],
      "text/plain": [
       "<IPython.core.display.SVG object>"
      ]
     },
     "execution_count": 19,
     "metadata": {},
     "output_type": "execute_result"
    }
   ],
   "source": [
    "%%plantuml\n",
    "class Klasse {\n",
    "    {field} Datentyp Attribute\n",
    "    {method} Rückgabewert Methode()\n",
    "}\n"
   ]
  },
  {
   "cell_type": "markdown",
   "metadata": {},
   "source": [
    "## Eine eigene Klasse erstellen\n",
    "        \n",
    "Da nun der Aufbau einer Klasse bekannt ist, erstellen wir mal eine Klasse für ein Tier.  \n",
    "Das Tier besitzt einen Namen, es hat ein Alter und konsumiert eine bestimmte Art von Nahrung.  \n",
    "Das Tier besitzt zudem auch die getter und setter Methoden für die bestehenden Attribute."
   ]
  },
  {
   "cell_type": "code",
   "execution_count": 20,
   "metadata": {},
   "outputs": [
    {
     "data": {
      "image/svg+xml": [
       "<svg contentScriptType=\"application/ecmascript\" contentStyleType=\"text/css\" height=\"182px\" preserveAspectRatio=\"none\" style=\"width:230px;height:182px;\" version=\"1.1\" viewBox=\"0 0 230 182\" width=\"230px\" xmlns=\"http://www.w3.org/2000/svg\" xmlns:xlink=\"http://www.w3.org/1999/xlink\" zoomAndPan=\"magnify\"><defs><filter height=\"300%\" id=\"foj8wowceen9k\" width=\"300%\" x=\"-1\" y=\"-1\"><feGaussianBlur result=\"blurOut\" stdDeviation=\"2.0\"/><feColorMatrix in=\"blurOut\" result=\"blurOut2\" type=\"matrix\" values=\"0 0 0 0 0 0 0 0 0 0 0 0 0 0 0 0 0 0 .4 0\"/><feOffset dx=\"4.0\" dy=\"4.0\" in=\"blurOut2\" result=\"blurOut3\"/><feBlend in=\"SourceGraphic\" in2=\"blurOut3\" mode=\"normal\"/></filter></defs><g><!--class Tier--><rect fill=\"#FEFECE\" filter=\"url(#foj8wowceen9k)\" height=\"163.2422\" id=\"Tier\" style=\"stroke: #A80036; stroke-width: 1.5;\" width=\"213\" x=\"6\" y=\"8\"/><ellipse cx=\"96.75\" cy=\"24\" fill=\"#ADD1B2\" rx=\"11\" ry=\"11\" style=\"stroke: #A80036; stroke-width: 1.0;\"/><path d=\"M99.7188,29.6406 Q99.1406,29.9375 98.5,30.0781 Q97.8594,30.2344 97.1563,30.2344 Q94.6563,30.2344 93.3281,28.5938 Q92.0156,26.9375 92.0156,23.8125 Q92.0156,20.6875 93.3281,19.0313 Q94.6563,17.375 97.1563,17.375 Q97.8594,17.375 98.5,17.5313 Q99.1563,17.6875 99.7188,17.9844 L99.7188,20.7031 Q99.0938,20.125 98.5,19.8594 Q97.9063,19.5781 97.2813,19.5781 Q95.9375,19.5781 95.25,20.6563 Q94.5625,21.7188 94.5625,23.8125 Q94.5625,25.9063 95.25,26.9844 Q95.9375,28.0469 97.2813,28.0469 Q97.9063,28.0469 98.5,27.7813 Q99.0938,27.5 99.7188,26.9219 L99.7188,29.6406 Z \"/><text fill=\"#000000\" font-family=\"sans-serif\" font-size=\"12\" lengthAdjust=\"spacingAndGlyphs\" textLength=\"23\" x=\"117.25\" y=\"28.1543\">Tier</text><line style=\"stroke: #A80036; stroke-width: 1.5;\" x1=\"7\" x2=\"218\" y1=\"40\" y2=\"40\"/><rect fill=\"none\" height=\"6\" style=\"stroke: #C82930; stroke-width: 1.0;\" width=\"6\" x=\"14\" y=\"48.9023\"/><text fill=\"#000000\" font-family=\"sans-serif\" font-size=\"11\" lengthAdjust=\"spacingAndGlyphs\" textLength=\"71\" x=\"26\" y=\"54.2104\">String Name</text><rect fill=\"none\" height=\"6\" style=\"stroke: #C82930; stroke-width: 1.0;\" width=\"6\" x=\"14\" y=\"61.707\"/><text fill=\"#000000\" font-family=\"sans-serif\" font-size=\"11\" lengthAdjust=\"spacingAndGlyphs\" textLength=\"44\" x=\"26\" y=\"67.0151\">int Alter</text><rect fill=\"none\" height=\"6\" style=\"stroke: #C82930; stroke-width: 1.0;\" width=\"6\" x=\"14\" y=\"74.5117\"/><text fill=\"#000000\" font-family=\"sans-serif\" font-size=\"11\" lengthAdjust=\"spacingAndGlyphs\" textLength=\"86\" x=\"26\" y=\"79.8198\">String Nahrung</text><line style=\"stroke: #A80036; stroke-width: 1.5;\" x1=\"7\" x2=\"218\" y1=\"86.4141\" y2=\"86.4141\"/><ellipse cx=\"17\" cy=\"98.3164\" fill=\"#84BE84\" rx=\"3\" ry=\"3\" style=\"stroke: #038048; stroke-width: 1.0;\"/><text fill=\"#000000\" font-family=\"sans-serif\" font-size=\"11\" lengthAdjust=\"spacingAndGlyphs\" textLength=\"157\" x=\"26\" y=\"100.6245\">void setName(String Name)</text><ellipse cx=\"17\" cy=\"111.1211\" fill=\"#84BE84\" rx=\"3\" ry=\"3\" style=\"stroke: #038048; stroke-width: 1.0;\"/><text fill=\"#000000\" font-family=\"sans-serif\" font-size=\"11\" lengthAdjust=\"spacingAndGlyphs\" textLength=\"123\" x=\"26\" y=\"113.4292\">void setAlter(int Alter)</text><ellipse cx=\"17\" cy=\"123.9258\" fill=\"#84BE84\" rx=\"3\" ry=\"3\" style=\"stroke: #038048; stroke-width: 1.0;\"/><text fill=\"#000000\" font-family=\"sans-serif\" font-size=\"11\" lengthAdjust=\"spacingAndGlyphs\" textLength=\"187\" x=\"26\" y=\"126.2339\">void setNahrung(String Nahrung)</text><ellipse cx=\"17\" cy=\"136.7305\" fill=\"#84BE84\" rx=\"3\" ry=\"3\" style=\"stroke: #038048; stroke-width: 1.0;\"/><text fill=\"#000000\" font-family=\"sans-serif\" font-size=\"11\" lengthAdjust=\"spacingAndGlyphs\" textLength=\"97\" x=\"26\" y=\"139.0386\">String getName()</text><ellipse cx=\"17\" cy=\"149.5352\" fill=\"#84BE84\" rx=\"3\" ry=\"3\" style=\"stroke: #038048; stroke-width: 1.0;\"/><text fill=\"#000000\" font-family=\"sans-serif\" font-size=\"11\" lengthAdjust=\"spacingAndGlyphs\" textLength=\"70\" x=\"26\" y=\"151.8433\">int getAlter()</text><ellipse cx=\"17\" cy=\"162.3398\" fill=\"#84BE84\" rx=\"3\" ry=\"3\" style=\"stroke: #038048; stroke-width: 1.0;\"/><text fill=\"#000000\" font-family=\"sans-serif\" font-size=\"11\" lengthAdjust=\"spacingAndGlyphs\" textLength=\"112\" x=\"26\" y=\"164.6479\">String getNahrung()</text><!--\n",
       "@startuml \n",
       "class Tier {\n",
       "    -String Name\n",
       "    -int Alter\n",
       "    -String Nahrung\n",
       "    +void setName(String Name)\n",
       "    +void setAlter(int Alter)\n",
       "    +void setNahrung(String Nahrung)\n",
       "    +String getName()\n",
       "    +int getAlter()\n",
       "    +String getNahrung()\n",
       "}\n",
       "\n",
       "@enduml\n",
       "\n",
       "PlantUML version 1.2017.15(Mon Jul 03 16:45:34 GMT 2017)\n",
       "(GPL source distribution)\n",
       "Java Runtime: OpenJDK Runtime Environment\n",
       "JVM: OpenJDK 64-Bit Server VM\n",
       "Java Version: 11.0.11+9-Ubuntu-0ubuntu2.18.04\n",
       "Operating System: Linux\n",
       "OS Version: 5.4.0-84-generic\n",
       "Default Encoding: UTF-8\n",
       "Language: en\n",
       "Country: null\n",
       "--></g></svg>"
      ],
      "text/plain": [
       "<IPython.core.display.SVG object>"
      ]
     },
     "execution_count": 20,
     "metadata": {},
     "output_type": "execute_result"
    }
   ],
   "source": [
    "%%plantuml\n",
    "class Tier {\n",
    "    -String Name\n",
    "    -int Alter\n",
    "    -String Nahrung\n",
    "    +void setName(String Name)\n",
    "    +void setAlter(int Alter)\n",
    "    +void setNahrung(String Nahrung)\n",
    "    +String getName()\n",
    "    +int getAlter()\n",
    "    +String getNahrung()\n",
    "}"
   ]
  },
  {
   "cell_type": "markdown",
   "metadata": {},
   "source": [
    "## Beziehungen\n",
    "\n",
    "Klassen können auch Beziehungen zueinander besitzen. Dabei gibt es 4 Arten:\n",
    "- Assoziation\n",
    "- Aggregation\n",
    "- Komposition\n",
    "- Generalisierung/Spezialisierung"
   ]
  },
  {
   "cell_type": "markdown",
   "metadata": {},
   "source": [
    "## Assoziation\n",
    "\n",
    "Die Assoziation beschreibt die Kommunikation zwischen zwei Klassen. Diese kann auch beschriftet werden, um mehr Informationen zu übergeben. Eine Assoziation wird mithilfe einer Linie dargestellt. Diese Linie kann auch Pfeilspitzen oder Zahlen besitzen. Diese zusätzlichen Informationen helfen dem Nutzer dabei, das Diagramm besser zu verstehen. Als Beispiel nehmen wir nun 2 Tierklassen und eine Menschklasse."
   ]
  },
  {
   "cell_type": "code",
   "execution_count": 21,
   "metadata": {},
   "outputs": [
    {
     "data": {
      "image/svg+xml": [
       "<svg contentScriptType=\"application/ecmascript\" contentStyleType=\"text/css\" height=\"192px\" preserveAspectRatio=\"none\" style=\"width:182px;height:192px;\" version=\"1.1\" viewBox=\"0 0 182 192\" width=\"182px\" xmlns=\"http://www.w3.org/2000/svg\" xmlns:xlink=\"http://www.w3.org/1999/xlink\" zoomAndPan=\"magnify\"><defs><filter height=\"300%\" id=\"fy67qcaw5xynb\" width=\"300%\" x=\"-1\" y=\"-1\"><feGaussianBlur result=\"blurOut\" stdDeviation=\"2.0\"/><feColorMatrix in=\"blurOut\" result=\"blurOut2\" type=\"matrix\" values=\"0 0 0 0 0 0 0 0 0 0 0 0 0 0 0 0 0 0 .4 0\"/><feOffset dx=\"4.0\" dy=\"4.0\" in=\"blurOut2\" result=\"blurOut3\"/><feBlend in=\"SourceGraphic\" in2=\"blurOut3\" mode=\"normal\"/></filter></defs><g><!--class Katze--><rect fill=\"#FEFECE\" filter=\"url(#fy67qcaw5xynb)\" height=\"48\" id=\"Katze\" style=\"stroke: #A80036; stroke-width: 1.5;\" width=\"65\" x=\"6\" y=\"8\"/><ellipse cx=\"21\" cy=\"24\" fill=\"#ADD1B2\" rx=\"11\" ry=\"11\" style=\"stroke: #A80036; stroke-width: 1.0;\"/><path d=\"M23.9688,29.6406 Q23.3906,29.9375 22.75,30.0781 Q22.1094,30.2344 21.4063,30.2344 Q18.9063,30.2344 17.5781,28.5938 Q16.2656,26.9375 16.2656,23.8125 Q16.2656,20.6875 17.5781,19.0313 Q18.9063,17.375 21.4063,17.375 Q22.1094,17.375 22.75,17.5313 Q23.4063,17.6875 23.9688,17.9844 L23.9688,20.7031 Q23.3438,20.125 22.75,19.8594 Q22.1563,19.5781 21.5313,19.5781 Q20.1875,19.5781 19.5,20.6563 Q18.8125,21.7188 18.8125,23.8125 Q18.8125,25.9063 19.5,26.9844 Q20.1875,28.0469 21.5313,28.0469 Q22.1563,28.0469 22.75,27.7813 Q23.3438,27.5 23.9688,26.9219 L23.9688,29.6406 Z \"/><text fill=\"#000000\" font-family=\"sans-serif\" font-size=\"12\" lengthAdjust=\"spacingAndGlyphs\" textLength=\"33\" x=\"35\" y=\"28.1543\">Katze</text><line style=\"stroke: #A80036; stroke-width: 1.5;\" x1=\"7\" x2=\"70\" y1=\"40\" y2=\"40\"/><line style=\"stroke: #A80036; stroke-width: 1.5;\" x1=\"7\" x2=\"70\" y1=\"48\" y2=\"48\"/><!--class Mensch--><rect fill=\"#FEFECE\" filter=\"url(#fy67qcaw5xynb)\" height=\"48\" id=\"Mensch\" style=\"stroke: #A80036; stroke-width: 1.5;\" width=\"80\" x=\"48.5\" y=\"133\"/><ellipse cx=\"63.5\" cy=\"149\" fill=\"#ADD1B2\" rx=\"11\" ry=\"11\" style=\"stroke: #A80036; stroke-width: 1.0;\"/><path d=\"M66.4688,154.6406 Q65.8906,154.9375 65.25,155.0781 Q64.6094,155.2344 63.9063,155.2344 Q61.4063,155.2344 60.0781,153.5938 Q58.7656,151.9375 58.7656,148.8125 Q58.7656,145.6875 60.0781,144.0313 Q61.4063,142.375 63.9063,142.375 Q64.6094,142.375 65.25,142.5313 Q65.9063,142.6875 66.4688,142.9844 L66.4688,145.7031 Q65.8438,145.125 65.25,144.8594 Q64.6563,144.5781 64.0313,144.5781 Q62.6875,144.5781 62,145.6563 Q61.3125,146.7188 61.3125,148.8125 Q61.3125,150.9063 62,151.9844 Q62.6875,153.0469 64.0313,153.0469 Q64.6563,153.0469 65.25,152.7813 Q65.8438,152.5 66.4688,151.9219 L66.4688,154.6406 Z \"/><text fill=\"#000000\" font-family=\"sans-serif\" font-size=\"12\" lengthAdjust=\"spacingAndGlyphs\" textLength=\"48\" x=\"77.5\" y=\"153.1543\">Mensch</text><line style=\"stroke: #A80036; stroke-width: 1.5;\" x1=\"49.5\" x2=\"127.5\" y1=\"165\" y2=\"165\"/><line style=\"stroke: #A80036; stroke-width: 1.5;\" x1=\"49.5\" x2=\"127.5\" y1=\"173\" y2=\"173\"/><!--class Hund--><rect fill=\"#FEFECE\" filter=\"url(#fy67qcaw5xynb)\" height=\"48\" id=\"Hund\" style=\"stroke: #A80036; stroke-width: 1.5;\" width=\"65\" x=\"106\" y=\"8\"/><ellipse cx=\"121\" cy=\"24\" fill=\"#ADD1B2\" rx=\"11\" ry=\"11\" style=\"stroke: #A80036; stroke-width: 1.0;\"/><path d=\"M123.9688,29.6406 Q123.3906,29.9375 122.75,30.0781 Q122.1094,30.2344 121.4063,30.2344 Q118.9063,30.2344 117.5781,28.5938 Q116.2656,26.9375 116.2656,23.8125 Q116.2656,20.6875 117.5781,19.0313 Q118.9063,17.375 121.4063,17.375 Q122.1094,17.375 122.75,17.5313 Q123.4063,17.6875 123.9688,17.9844 L123.9688,20.7031 Q123.3438,20.125 122.75,19.8594 Q122.1563,19.5781 121.5313,19.5781 Q120.1875,19.5781 119.5,20.6563 Q118.8125,21.7188 118.8125,23.8125 Q118.8125,25.9063 119.5,26.9844 Q120.1875,28.0469 121.5313,28.0469 Q122.1563,28.0469 122.75,27.7813 Q123.3438,27.5 123.9688,26.9219 L123.9688,29.6406 Z \"/><text fill=\"#000000\" font-family=\"sans-serif\" font-size=\"12\" lengthAdjust=\"spacingAndGlyphs\" textLength=\"33\" x=\"135\" y=\"28.1543\">Hund</text><line style=\"stroke: #A80036; stroke-width: 1.5;\" x1=\"107\" x2=\"170\" y1=\"40\" y2=\"40\"/><line style=\"stroke: #A80036; stroke-width: 1.5;\" x1=\"107\" x2=\"170\" y1=\"48\" y2=\"48\"/><!--link Katze to Mensch--><path d=\"M39.8994,56.0729 C41.365,70.1744 44.3641,88.0864 50.5,103 C54.8181,113.4954 61.4794,123.949 68.0257,132.8236 \" fill=\"none\" id=\"Katze-Mensch\" style=\"stroke: #A80036; stroke-width: 1.0;\"/><text fill=\"#000000\" font-family=\"sans-serif\" font-size=\"13\" lengthAdjust=\"spacingAndGlyphs\" textLength=\"43\" x=\"51.5\" y=\"99.0669\">besitzt</text><text fill=\"#000000\" font-family=\"sans-serif\" font-size=\"13\" lengthAdjust=\"spacingAndGlyphs\" textLength=\"24\" x=\"13.183\" y=\"76.2474\">0..1</text><text fill=\"#000000\" font-family=\"sans-serif\" font-size=\"13\" lengthAdjust=\"spacingAndGlyphs\" textLength=\"24\" x=\"35.7042\" y=\"121.7904\">0..1</text><!--link Hund to Mensch--><path d=\"M128.8595,56.1013 C120.0056,78.2359 106.9554,110.8615 98.1109,132.9727 \" fill=\"none\" id=\"Hund-Mensch\" style=\"stroke: #A80036; stroke-width: 1.0;\"/><text fill=\"#000000\" font-family=\"sans-serif\" font-size=\"13\" lengthAdjust=\"spacingAndGlyphs\" textLength=\"43\" x=\"116.5\" y=\"99.0669\">besitzt</text><text fill=\"#000000\" font-family=\"sans-serif\" font-size=\"13\" lengthAdjust=\"spacingAndGlyphs\" textLength=\"24\" x=\"99.5846\" y=\"75.8872\">0..1</text><text fill=\"#000000\" font-family=\"sans-serif\" font-size=\"13\" lengthAdjust=\"spacingAndGlyphs\" textLength=\"24\" x=\"73.4987\" y=\"121.9777\">0..1</text><!--\n",
       "@startuml \n",
       "class Katze\n",
       "class Mensch\n",
       "class Hund\n",
       "\n",
       "Katze \"0..1\" - - \"0..1\" Mensch : besitzt\n",
       "Hund \"0..1\" - - \"0..1\" Mensch : besitzt\n",
       "\n",
       "@enduml\n",
       "\n",
       "PlantUML version 1.2017.15(Mon Jul 03 16:45:34 GMT 2017)\n",
       "(GPL source distribution)\n",
       "Java Runtime: OpenJDK Runtime Environment\n",
       "JVM: OpenJDK 64-Bit Server VM\n",
       "Java Version: 11.0.11+9-Ubuntu-0ubuntu2.18.04\n",
       "Operating System: Linux\n",
       "OS Version: 5.4.0-84-generic\n",
       "Default Encoding: UTF-8\n",
       "Language: en\n",
       "Country: null\n",
       "--></g></svg>"
      ],
      "text/plain": [
       "<IPython.core.display.SVG object>"
      ]
     },
     "execution_count": 21,
     "metadata": {},
     "output_type": "execute_result"
    }
   ],
   "source": [
    "%%plantuml\n",
    "class Katze\n",
    "class Mensch\n",
    "class Hund\n",
    "\n",
    "Katze \"0..1\" -- \"0..1\" Mensch : besitzt\n",
    "Hund \"0..1\" -- \"0..1\" Mensch : besitzt"
   ]
  },
  {
   "cell_type": "markdown",
   "metadata": {},
   "source": [
    "## Aggregation\n",
    "    \n",
    "Eine Aggregation beschreibt, dass eine Klasse ein Teil von einer anderen Klasse ist. Es soll also darstellen, wie teile zu einem Ganzen werden. Diese werden bei der Verbindung auch speziell gekennzeichnet. Das Ganze hat dabei eine nicht ausgefüllte Raute als Startpunkt der Verbindung.  \n",
    "**Achtung!!**  \n",
    "Es ist auch möglich, dass ein Teil, das Ganze von anderen Teilen ist.  \n",
    "Dazu folgt eine kleine Visualisierung:"
   ]
  },
  {
   "cell_type": "code",
   "execution_count": 22,
   "metadata": {},
   "outputs": [
    {
     "data": {
      "image/svg+xml": [
       "<svg contentScriptType=\"application/ecmascript\" contentStyleType=\"text/css\" height=\"283px\" preserveAspectRatio=\"none\" style=\"width:417px;height:283px;\" version=\"1.1\" viewBox=\"0 0 417 283\" width=\"417px\" xmlns=\"http://www.w3.org/2000/svg\" xmlns:xlink=\"http://www.w3.org/1999/xlink\" zoomAndPan=\"magnify\"><defs><filter height=\"300%\" id=\"f198oh5e86mg4z\" width=\"300%\" x=\"-1\" y=\"-1\"><feGaussianBlur result=\"blurOut\" stdDeviation=\"2.0\"/><feColorMatrix in=\"blurOut\" result=\"blurOut2\" type=\"matrix\" values=\"0 0 0 0 0 0 0 0 0 0 0 0 0 0 0 0 0 0 .4 0\"/><feOffset dx=\"4.0\" dy=\"4.0\" in=\"blurOut2\" result=\"blurOut3\"/><feBlend in=\"SourceGraphic\" in2=\"blurOut3\" mode=\"normal\"/></filter></defs><g><!--class Stadt--><rect fill=\"#FEFECE\" filter=\"url(#f198oh5e86mg4z)\" height=\"48\" id=\"Stadt\" style=\"stroke: #A80036; stroke-width: 1.5;\" width=\"66\" x=\"171.5\" y=\"8\"/><ellipse cx=\"186.5\" cy=\"24\" fill=\"#ADD1B2\" rx=\"11\" ry=\"11\" style=\"stroke: #A80036; stroke-width: 1.0;\"/><path d=\"M189.4688,29.6406 Q188.8906,29.9375 188.25,30.0781 Q187.6094,30.2344 186.9063,30.2344 Q184.4063,30.2344 183.0781,28.5938 Q181.7656,26.9375 181.7656,23.8125 Q181.7656,20.6875 183.0781,19.0313 Q184.4063,17.375 186.9063,17.375 Q187.6094,17.375 188.25,17.5313 Q188.9063,17.6875 189.4688,17.9844 L189.4688,20.7031 Q188.8438,20.125 188.25,19.8594 Q187.6563,19.5781 187.0313,19.5781 Q185.6875,19.5781 185,20.6563 Q184.3125,21.7188 184.3125,23.8125 Q184.3125,25.9063 185,26.9844 Q185.6875,28.0469 187.0313,28.0469 Q187.6563,28.0469 188.25,27.7813 Q188.8438,27.5 189.4688,26.9219 L189.4688,29.6406 Z \"/><text fill=\"#000000\" font-family=\"sans-serif\" font-size=\"12\" lengthAdjust=\"spacingAndGlyphs\" textLength=\"34\" x=\"200.5\" y=\"28.1543\">Stadt</text><line style=\"stroke: #A80036; stroke-width: 1.5;\" x1=\"172.5\" x2=\"236.5\" y1=\"40\" y2=\"40\"/><line style=\"stroke: #A80036; stroke-width: 1.5;\" x1=\"172.5\" x2=\"236.5\" y1=\"48\" y2=\"48\"/><!--class Haus--><rect fill=\"#FEFECE\" filter=\"url(#f198oh5e86mg4z)\" height=\"48\" id=\"Haus\" style=\"stroke: #A80036; stroke-width: 1.5;\" width=\"64\" x=\"172.5\" y=\"116\"/><ellipse cx=\"187.5\" cy=\"132\" fill=\"#ADD1B2\" rx=\"11\" ry=\"11\" style=\"stroke: #A80036; stroke-width: 1.0;\"/><path d=\"M190.4688,137.6406 Q189.8906,137.9375 189.25,138.0781 Q188.6094,138.2344 187.9063,138.2344 Q185.4063,138.2344 184.0781,136.5938 Q182.7656,134.9375 182.7656,131.8125 Q182.7656,128.6875 184.0781,127.0313 Q185.4063,125.375 187.9063,125.375 Q188.6094,125.375 189.25,125.5313 Q189.9063,125.6875 190.4688,125.9844 L190.4688,128.7031 Q189.8438,128.125 189.25,127.8594 Q188.6563,127.5781 188.0313,127.5781 Q186.6875,127.5781 186,128.6563 Q185.3125,129.7188 185.3125,131.8125 Q185.3125,133.9063 186,134.9844 Q186.6875,136.0469 188.0313,136.0469 Q188.6563,136.0469 189.25,135.7813 Q189.8438,135.5 190.4688,134.9219 L190.4688,137.6406 Z \"/><text fill=\"#000000\" font-family=\"sans-serif\" font-size=\"12\" lengthAdjust=\"spacingAndGlyphs\" textLength=\"32\" x=\"201.5\" y=\"136.1543\">Haus</text><line style=\"stroke: #A80036; stroke-width: 1.5;\" x1=\"173.5\" x2=\"235.5\" y1=\"148\" y2=\"148\"/><line style=\"stroke: #A80036; stroke-width: 1.5;\" x1=\"173.5\" x2=\"235.5\" y1=\"156\" y2=\"156\"/><!--class Badezimmer--><rect fill=\"#FEFECE\" filter=\"url(#f198oh5e86mg4z)\" height=\"48\" id=\"Badezimmer\" style=\"stroke: #A80036; stroke-width: 1.5;\" width=\"107\" x=\"6\" y=\"224\"/><ellipse cx=\"21\" cy=\"240\" fill=\"#ADD1B2\" rx=\"11\" ry=\"11\" style=\"stroke: #A80036; stroke-width: 1.0;\"/><path d=\"M23.9688,245.6406 Q23.3906,245.9375 22.75,246.0781 Q22.1094,246.2344 21.4063,246.2344 Q18.9063,246.2344 17.5781,244.5938 Q16.2656,242.9375 16.2656,239.8125 Q16.2656,236.6875 17.5781,235.0313 Q18.9063,233.375 21.4063,233.375 Q22.1094,233.375 22.75,233.5313 Q23.4063,233.6875 23.9688,233.9844 L23.9688,236.7031 Q23.3438,236.125 22.75,235.8594 Q22.1563,235.5781 21.5313,235.5781 Q20.1875,235.5781 19.5,236.6563 Q18.8125,237.7188 18.8125,239.8125 Q18.8125,241.9063 19.5,242.9844 Q20.1875,244.0469 21.5313,244.0469 Q22.1563,244.0469 22.75,243.7813 Q23.3438,243.5 23.9688,242.9219 L23.9688,245.6406 Z \"/><text fill=\"#000000\" font-family=\"sans-serif\" font-size=\"12\" lengthAdjust=\"spacingAndGlyphs\" textLength=\"75\" x=\"35\" y=\"244.1543\">Badezimmer</text><line style=\"stroke: #A80036; stroke-width: 1.5;\" x1=\"7\" x2=\"112\" y1=\"256\" y2=\"256\"/><line style=\"stroke: #A80036; stroke-width: 1.5;\" x1=\"7\" x2=\"112\" y1=\"264\" y2=\"264\"/><!--class Schlafzimmer--><rect fill=\"#FEFECE\" filter=\"url(#f198oh5e86mg4z)\" height=\"48\" id=\"Schlafzimmer\" style=\"stroke: #A80036; stroke-width: 1.5;\" width=\"113\" x=\"148\" y=\"224\"/><ellipse cx=\"163\" cy=\"240\" fill=\"#ADD1B2\" rx=\"11\" ry=\"11\" style=\"stroke: #A80036; stroke-width: 1.0;\"/><path d=\"M165.9688,245.6406 Q165.3906,245.9375 164.75,246.0781 Q164.1094,246.2344 163.4063,246.2344 Q160.9063,246.2344 159.5781,244.5938 Q158.2656,242.9375 158.2656,239.8125 Q158.2656,236.6875 159.5781,235.0313 Q160.9063,233.375 163.4063,233.375 Q164.1094,233.375 164.75,233.5313 Q165.4063,233.6875 165.9688,233.9844 L165.9688,236.7031 Q165.3438,236.125 164.75,235.8594 Q164.1563,235.5781 163.5313,235.5781 Q162.1875,235.5781 161.5,236.6563 Q160.8125,237.7188 160.8125,239.8125 Q160.8125,241.9063 161.5,242.9844 Q162.1875,244.0469 163.5313,244.0469 Q164.1563,244.0469 164.75,243.7813 Q165.3438,243.5 165.9688,242.9219 L165.9688,245.6406 Z \"/><text fill=\"#000000\" font-family=\"sans-serif\" font-size=\"12\" lengthAdjust=\"spacingAndGlyphs\" textLength=\"81\" x=\"177\" y=\"244.1543\">Schlafzimmer</text><line style=\"stroke: #A80036; stroke-width: 1.5;\" x1=\"149\" x2=\"260\" y1=\"256\" y2=\"256\"/><line style=\"stroke: #A80036; stroke-width: 1.5;\" x1=\"149\" x2=\"260\" y1=\"264\" y2=\"264\"/><!--class Wohnzimmer--><rect fill=\"#FEFECE\" filter=\"url(#f198oh5e86mg4z)\" height=\"48\" id=\"Wohnzimmer\" style=\"stroke: #A80036; stroke-width: 1.5;\" width=\"110\" x=\"296.5\" y=\"224\"/><ellipse cx=\"311.5\" cy=\"240\" fill=\"#ADD1B2\" rx=\"11\" ry=\"11\" style=\"stroke: #A80036; stroke-width: 1.0;\"/><path d=\"M314.4688,245.6406 Q313.8906,245.9375 313.25,246.0781 Q312.6094,246.2344 311.9063,246.2344 Q309.4063,246.2344 308.0781,244.5938 Q306.7656,242.9375 306.7656,239.8125 Q306.7656,236.6875 308.0781,235.0313 Q309.4063,233.375 311.9063,233.375 Q312.6094,233.375 313.25,233.5313 Q313.9063,233.6875 314.4688,233.9844 L314.4688,236.7031 Q313.8438,236.125 313.25,235.8594 Q312.6563,235.5781 312.0313,235.5781 Q310.6875,235.5781 310,236.6563 Q309.3125,237.7188 309.3125,239.8125 Q309.3125,241.9063 310,242.9844 Q310.6875,244.0469 312.0313,244.0469 Q312.6563,244.0469 313.25,243.7813 Q313.8438,243.5 314.4688,242.9219 L314.4688,245.6406 Z \"/><text fill=\"#000000\" font-family=\"sans-serif\" font-size=\"12\" lengthAdjust=\"spacingAndGlyphs\" textLength=\"78\" x=\"325.5\" y=\"244.1543\">Wohnzimmer</text><line style=\"stroke: #A80036; stroke-width: 1.5;\" x1=\"297.5\" x2=\"405.5\" y1=\"256\" y2=\"256\"/><line style=\"stroke: #A80036; stroke-width: 1.5;\" x1=\"297.5\" x2=\"405.5\" y1=\"264\" y2=\"264\"/><!--link Stadt to Haus--><path d=\"M204.5,69.6145 C204.5,84.9531 204.5,102.2402 204.5,115.8436 \" fill=\"none\" id=\"Stadt-Haus\" style=\"stroke: #A80036; stroke-width: 1.0;\"/><polygon fill=\"#FFFFFF\" points=\"204.5,56.2373,200.5,62.2373,204.5,68.2373,208.5,62.2373,204.5,56.2373\" style=\"stroke: #A80036; stroke-width: 1.0;\"/><!--link Haus to Badezimmer--><path d=\"M161.7551,171.8376 C139.389,188.4964 112.4518,208.5601 91.8406,223.9118 \" fill=\"none\" id=\"Haus-Badezimmer\" style=\"stroke: #A80036; stroke-width: 1.0;\"/><polygon fill=\"#FFFFFF\" points=\"172.3198,163.9687,165.1185,164.3449,162.696,171.1369,169.8973,170.7607,172.3198,163.9687\" style=\"stroke: #A80036; stroke-width: 1.0;\"/><!--link Haus to Schlafzimmer--><path d=\"M204.5,177.6145 C204.5,192.9531 204.5,210.2402 204.5,223.8436 \" fill=\"none\" id=\"Haus-Schlafzimmer\" style=\"stroke: #A80036; stroke-width: 1.0;\"/><polygon fill=\"#FFFFFF\" points=\"204.5,164.2373,200.5,170.2373,204.5,176.2373,208.5,170.2373,204.5,164.2373\" style=\"stroke: #A80036; stroke-width: 1.0;\"/><!--link Haus to Wohnzimmer--><path d=\"M247.5083,171.598 C270.2808,188.3287 297.7998,208.5468 318.8075,223.981 \" fill=\"none\" id=\"Haus-Wohnzimmer\" style=\"stroke: #A80036; stroke-width: 1.0;\"/><polygon fill=\"#FFFFFF\" points=\"236.7598,163.7011,239.2268,170.4771,246.4304,170.806,243.9634,164.03,236.7598,163.7011\" style=\"stroke: #A80036; stroke-width: 1.0;\"/><!--\n",
       "@startuml \n",
       "class Stadt\n",
       "class Haus \n",
       "class Badezimmer\n",
       "class Schlafzimmer\n",
       "class Wohnzimmer\n",
       "\n",
       "\n",
       "Stadt o- - Haus\n",
       "Haus o- - Badezimmer\n",
       "Haus o- - Schlafzimmer\n",
       "Haus o- - Wohnzimmer\n",
       "\n",
       "@enduml\n",
       "\n",
       "PlantUML version 1.2017.15(Mon Jul 03 16:45:34 GMT 2017)\n",
       "(GPL source distribution)\n",
       "Java Runtime: OpenJDK Runtime Environment\n",
       "JVM: OpenJDK 64-Bit Server VM\n",
       "Java Version: 11.0.11+9-Ubuntu-0ubuntu2.18.04\n",
       "Operating System: Linux\n",
       "OS Version: 5.4.0-84-generic\n",
       "Default Encoding: UTF-8\n",
       "Language: en\n",
       "Country: null\n",
       "--></g></svg>"
      ],
      "text/plain": [
       "<IPython.core.display.SVG object>"
      ]
     },
     "execution_count": 22,
     "metadata": {},
     "output_type": "execute_result"
    }
   ],
   "source": [
    "%%plantuml\n",
    "class Stadt\n",
    "class Haus \n",
    "class Badezimmer\n",
    "class Schlafzimmer\n",
    "class Wohnzimmer\n",
    "\n",
    "\n",
    "Stadt o-- Haus\n",
    "Haus o-- Badezimmer\n",
    "Haus o-- Schlafzimmer\n",
    "Haus o-- Wohnzimmer"
   ]
  },
  {
   "cell_type": "markdown",
   "metadata": {},
   "source": [
    "## Komposition\n",
    "\n",
    "Die Komposition ist eine besondere Form der Aggregation. Nun ist es so, dass ein Teil existenzabhängig ist von dem Ganzen. Sollte das Ganze gelöscht werden, so wird auch das Teil gelöscht. Vorher blieb das Teil bestehen. Um das zu Kennzeichnen, ist der Startpunkt nun eine ausgefüllte Raute.  \n",
    "Dazu auch ein kleines Beispiel:"
   ]
  },
  {
   "cell_type": "code",
   "execution_count": 23,
   "metadata": {},
   "outputs": [
    {
     "data": {
      "image/svg+xml": [
       "<svg contentScriptType=\"application/ecmascript\" contentStyleType=\"text/css\" height=\"175px\" preserveAspectRatio=\"none\" style=\"width:130px;height:175px;\" version=\"1.1\" viewBox=\"0 0 130 175\" width=\"130px\" xmlns=\"http://www.w3.org/2000/svg\" xmlns:xlink=\"http://www.w3.org/1999/xlink\" zoomAndPan=\"magnify\"><defs><filter height=\"300%\" id=\"f38mcfsg2a4rv\" width=\"300%\" x=\"-1\" y=\"-1\"><feGaussianBlur result=\"blurOut\" stdDeviation=\"2.0\"/><feColorMatrix in=\"blurOut\" result=\"blurOut2\" type=\"matrix\" values=\"0 0 0 0 0 0 0 0 0 0 0 0 0 0 0 0 0 0 .4 0\"/><feOffset dx=\"4.0\" dy=\"4.0\" in=\"blurOut2\" result=\"blurOut3\"/><feBlend in=\"SourceGraphic\" in2=\"blurOut3\" mode=\"normal\"/></filter></defs><g><!--class Haus--><rect fill=\"#FEFECE\" filter=\"url(#f38mcfsg2a4rv)\" height=\"48\" id=\"Haus\" style=\"stroke: #A80036; stroke-width: 1.5;\" width=\"64\" x=\"30.5\" y=\"8\"/><ellipse cx=\"45.5\" cy=\"24\" fill=\"#ADD1B2\" rx=\"11\" ry=\"11\" style=\"stroke: #A80036; stroke-width: 1.0;\"/><path d=\"M48.4688,29.6406 Q47.8906,29.9375 47.25,30.0781 Q46.6094,30.2344 45.9063,30.2344 Q43.4063,30.2344 42.0781,28.5938 Q40.7656,26.9375 40.7656,23.8125 Q40.7656,20.6875 42.0781,19.0313 Q43.4063,17.375 45.9063,17.375 Q46.6094,17.375 47.25,17.5313 Q47.9063,17.6875 48.4688,17.9844 L48.4688,20.7031 Q47.8438,20.125 47.25,19.8594 Q46.6563,19.5781 46.0313,19.5781 Q44.6875,19.5781 44,20.6563 Q43.3125,21.7188 43.3125,23.8125 Q43.3125,25.9063 44,26.9844 Q44.6875,28.0469 46.0313,28.0469 Q46.6563,28.0469 47.25,27.7813 Q47.8438,27.5 48.4688,26.9219 L48.4688,29.6406 Z \"/><text fill=\"#000000\" font-family=\"sans-serif\" font-size=\"12\" lengthAdjust=\"spacingAndGlyphs\" textLength=\"32\" x=\"59.5\" y=\"28.1543\">Haus</text><line style=\"stroke: #A80036; stroke-width: 1.5;\" x1=\"31.5\" x2=\"93.5\" y1=\"40\" y2=\"40\"/><line style=\"stroke: #A80036; stroke-width: 1.5;\" x1=\"31.5\" x2=\"93.5\" y1=\"48\" y2=\"48\"/><!--class Schlafzimmer--><rect fill=\"#FEFECE\" filter=\"url(#f38mcfsg2a4rv)\" height=\"48\" id=\"Schlafzimmer\" style=\"stroke: #A80036; stroke-width: 1.5;\" width=\"113\" x=\"6\" y=\"116\"/><ellipse cx=\"21\" cy=\"132\" fill=\"#ADD1B2\" rx=\"11\" ry=\"11\" style=\"stroke: #A80036; stroke-width: 1.0;\"/><path d=\"M23.9688,137.6406 Q23.3906,137.9375 22.75,138.0781 Q22.1094,138.2344 21.4063,138.2344 Q18.9063,138.2344 17.5781,136.5938 Q16.2656,134.9375 16.2656,131.8125 Q16.2656,128.6875 17.5781,127.0313 Q18.9063,125.375 21.4063,125.375 Q22.1094,125.375 22.75,125.5313 Q23.4063,125.6875 23.9688,125.9844 L23.9688,128.7031 Q23.3438,128.125 22.75,127.8594 Q22.1563,127.5781 21.5313,127.5781 Q20.1875,127.5781 19.5,128.6563 Q18.8125,129.7188 18.8125,131.8125 Q18.8125,133.9063 19.5,134.9844 Q20.1875,136.0469 21.5313,136.0469 Q22.1563,136.0469 22.75,135.7813 Q23.3438,135.5 23.9688,134.9219 L23.9688,137.6406 Z \"/><text fill=\"#000000\" font-family=\"sans-serif\" font-size=\"12\" lengthAdjust=\"spacingAndGlyphs\" textLength=\"81\" x=\"35\" y=\"136.1543\">Schlafzimmer</text><line style=\"stroke: #A80036; stroke-width: 1.5;\" x1=\"7\" x2=\"118\" y1=\"148\" y2=\"148\"/><line style=\"stroke: #A80036; stroke-width: 1.5;\" x1=\"7\" x2=\"118\" y1=\"156\" y2=\"156\"/><!--link Haus to Schlafzimmer--><path d=\"M62.5,69.6145 C62.5,84.9531 62.5,102.2402 62.5,115.8436 \" fill=\"none\" id=\"Haus-Schlafzimmer\" style=\"stroke: #A80036; stroke-width: 1.0;\"/><polygon fill=\"#A80036\" points=\"62.5,56.2373,58.5,62.2373,62.5,68.2373,66.5,62.2373,62.5,56.2373\" style=\"stroke: #A80036; stroke-width: 1.0;\"/><!--\n",
       "@startuml \n",
       "class Haus\n",
       "class Schlafzimmer\n",
       "\n",
       "Haus *- - Schlafzimmer\n",
       "\n",
       "@enduml\n",
       "\n",
       "PlantUML version 1.2017.15(Mon Jul 03 16:45:34 GMT 2017)\n",
       "(GPL source distribution)\n",
       "Java Runtime: OpenJDK Runtime Environment\n",
       "JVM: OpenJDK 64-Bit Server VM\n",
       "Java Version: 11.0.11+9-Ubuntu-0ubuntu2.18.04\n",
       "Operating System: Linux\n",
       "OS Version: 5.4.0-84-generic\n",
       "Default Encoding: UTF-8\n",
       "Language: en\n",
       "Country: null\n",
       "--></g></svg>"
      ],
      "text/plain": [
       "<IPython.core.display.SVG object>"
      ]
     },
     "execution_count": 23,
     "metadata": {},
     "output_type": "execute_result"
    }
   ],
   "source": [
    "%%plantuml\n",
    "class Haus\n",
    "class Schlafzimmer\n",
    "\n",
    "Haus *-- Schlafzimmer"
   ]
  },
  {
   "cell_type": "markdown",
   "metadata": {},
   "source": [
    "## Generalisierung / Spezialisierung\n",
    "\n",
    "Das Ziel dieser Art von Beziehung ist es, dass für alle verbundenen Klassen bekannt ist, welche Attribute und/oder Methoden allgemein für alle gelten sollten und welche nur spezifisch verteilt werden. \n",
    "Für beide Fälle folgt ein kleines Beispiel zur Veranschaulichung:"
   ]
  },
  {
   "cell_type": "code",
   "execution_count": 24,
   "metadata": {},
   "outputs": [
    {
     "data": {
      "image/svg+xml": [
       "<svg contentScriptType=\"application/ecmascript\" contentStyleType=\"text/css\" height=\"436px\" preserveAspectRatio=\"none\" style=\"width:1071px;height:436px;\" version=\"1.1\" viewBox=\"0 0 1071 436\" width=\"1071px\" xmlns=\"http://www.w3.org/2000/svg\" xmlns:xlink=\"http://www.w3.org/1999/xlink\" zoomAndPan=\"magnify\"><defs><filter height=\"300%\" id=\"fb0yx2wpj8p3a\" width=\"300%\" x=\"-1\" y=\"-1\"><feGaussianBlur result=\"blurOut\" stdDeviation=\"2.0\"/><feColorMatrix in=\"blurOut\" result=\"blurOut2\" type=\"matrix\" values=\"0 0 0 0 0 0 0 0 0 0 0 0 0 0 0 0 0 0 .4 0\"/><feOffset dx=\"4.0\" dy=\"4.0\" in=\"blurOut2\" result=\"blurOut3\"/><feBlend in=\"SourceGraphic\" in2=\"blurOut3\" mode=\"normal\"/></filter></defs><g><!--class Tier--><rect fill=\"#FEFECE\" filter=\"url(#fb0yx2wpj8p3a)\" height=\"163.2422\" id=\"Tier\" style=\"stroke: #A80036; stroke-width: 1.5;\" width=\"213\" x=\"482\" y=\"8\"/><ellipse cx=\"572.75\" cy=\"24\" fill=\"#ADD1B2\" rx=\"11\" ry=\"11\" style=\"stroke: #A80036; stroke-width: 1.0;\"/><path d=\"M575.7188,29.6406 Q575.1406,29.9375 574.5,30.0781 Q573.8594,30.2344 573.1563,30.2344 Q570.6563,30.2344 569.3281,28.5938 Q568.0156,26.9375 568.0156,23.8125 Q568.0156,20.6875 569.3281,19.0313 Q570.6563,17.375 573.1563,17.375 Q573.8594,17.375 574.5,17.5313 Q575.1563,17.6875 575.7188,17.9844 L575.7188,20.7031 Q575.0938,20.125 574.5,19.8594 Q573.9063,19.5781 573.2813,19.5781 Q571.9375,19.5781 571.25,20.6563 Q570.5625,21.7188 570.5625,23.8125 Q570.5625,25.9063 571.25,26.9844 Q571.9375,28.0469 573.2813,28.0469 Q573.9063,28.0469 574.5,27.7813 Q575.0938,27.5 575.7188,26.9219 L575.7188,29.6406 Z \"/><text fill=\"#000000\" font-family=\"sans-serif\" font-size=\"12\" lengthAdjust=\"spacingAndGlyphs\" textLength=\"23\" x=\"593.25\" y=\"28.1543\">Tier</text><line style=\"stroke: #A80036; stroke-width: 1.5;\" x1=\"483\" x2=\"694\" y1=\"40\" y2=\"40\"/><rect fill=\"none\" height=\"6\" style=\"stroke: #C82930; stroke-width: 1.0;\" width=\"6\" x=\"490\" y=\"48.9023\"/><text fill=\"#000000\" font-family=\"sans-serif\" font-size=\"11\" lengthAdjust=\"spacingAndGlyphs\" textLength=\"71\" x=\"502\" y=\"54.2104\">String Name</text><rect fill=\"none\" height=\"6\" style=\"stroke: #C82930; stroke-width: 1.0;\" width=\"6\" x=\"490\" y=\"61.707\"/><text fill=\"#000000\" font-family=\"sans-serif\" font-size=\"11\" lengthAdjust=\"spacingAndGlyphs\" textLength=\"44\" x=\"502\" y=\"67.0151\">int Alter</text><rect fill=\"none\" height=\"6\" style=\"stroke: #C82930; stroke-width: 1.0;\" width=\"6\" x=\"490\" y=\"74.5117\"/><text fill=\"#000000\" font-family=\"sans-serif\" font-size=\"11\" lengthAdjust=\"spacingAndGlyphs\" textLength=\"86\" x=\"502\" y=\"79.8198\">String Nahrung</text><line style=\"stroke: #A80036; stroke-width: 1.5;\" x1=\"483\" x2=\"694\" y1=\"86.4141\" y2=\"86.4141\"/><ellipse cx=\"493\" cy=\"98.3164\" fill=\"#84BE84\" rx=\"3\" ry=\"3\" style=\"stroke: #038048; stroke-width: 1.0;\"/><text fill=\"#000000\" font-family=\"sans-serif\" font-size=\"11\" lengthAdjust=\"spacingAndGlyphs\" textLength=\"157\" x=\"502\" y=\"100.6245\">void setName(String Name)</text><ellipse cx=\"493\" cy=\"111.1211\" fill=\"#84BE84\" rx=\"3\" ry=\"3\" style=\"stroke: #038048; stroke-width: 1.0;\"/><text fill=\"#000000\" font-family=\"sans-serif\" font-size=\"11\" lengthAdjust=\"spacingAndGlyphs\" textLength=\"123\" x=\"502\" y=\"113.4292\">void setAlter(int Alter)</text><ellipse cx=\"493\" cy=\"123.9258\" fill=\"#84BE84\" rx=\"3\" ry=\"3\" style=\"stroke: #038048; stroke-width: 1.0;\"/><text fill=\"#000000\" font-family=\"sans-serif\" font-size=\"11\" lengthAdjust=\"spacingAndGlyphs\" textLength=\"187\" x=\"502\" y=\"126.2339\">void setNahrung(String Nahrung)</text><ellipse cx=\"493\" cy=\"136.7305\" fill=\"#84BE84\" rx=\"3\" ry=\"3\" style=\"stroke: #038048; stroke-width: 1.0;\"/><text fill=\"#000000\" font-family=\"sans-serif\" font-size=\"11\" lengthAdjust=\"spacingAndGlyphs\" textLength=\"97\" x=\"502\" y=\"139.0386\">String getName()</text><ellipse cx=\"493\" cy=\"149.5352\" fill=\"#84BE84\" rx=\"3\" ry=\"3\" style=\"stroke: #038048; stroke-width: 1.0;\"/><text fill=\"#000000\" font-family=\"sans-serif\" font-size=\"11\" lengthAdjust=\"spacingAndGlyphs\" textLength=\"70\" x=\"502\" y=\"151.8433\">int getAlter()</text><ellipse cx=\"493\" cy=\"162.3398\" fill=\"#84BE84\" rx=\"3\" ry=\"3\" style=\"stroke: #038048; stroke-width: 1.0;\"/><text fill=\"#000000\" font-family=\"sans-serif\" font-size=\"11\" lengthAdjust=\"spacingAndGlyphs\" textLength=\"112\" x=\"502\" y=\"164.6479\">String getNahrung()</text><!--class Katze--><rect fill=\"#FEFECE\" filter=\"url(#fb0yx2wpj8p3a)\" height=\"86.4141\" id=\"Katze\" style=\"stroke: #A80036; stroke-width: 1.5;\" width=\"165\" x=\"161\" y=\"231\"/><ellipse cx=\"222.75\" cy=\"247\" fill=\"#ADD1B2\" rx=\"11\" ry=\"11\" style=\"stroke: #A80036; stroke-width: 1.0;\"/><path d=\"M225.7188,252.6406 Q225.1406,252.9375 224.5,253.0781 Q223.8594,253.2344 223.1563,253.2344 Q220.6563,253.2344 219.3281,251.5938 Q218.0156,249.9375 218.0156,246.8125 Q218.0156,243.6875 219.3281,242.0313 Q220.6563,240.375 223.1563,240.375 Q223.8594,240.375 224.5,240.5313 Q225.1563,240.6875 225.7188,240.9844 L225.7188,243.7031 Q225.0938,243.125 224.5,242.8594 Q223.9063,242.5781 223.2813,242.5781 Q221.9375,242.5781 221.25,243.6563 Q220.5625,244.7188 220.5625,246.8125 Q220.5625,248.9063 221.25,249.9844 Q221.9375,251.0469 223.2813,251.0469 Q223.9063,251.0469 224.5,250.7813 Q225.0938,250.5 225.7188,249.9219 L225.7188,252.6406 Z \"/><text fill=\"#000000\" font-family=\"sans-serif\" font-size=\"12\" lengthAdjust=\"spacingAndGlyphs\" textLength=\"33\" x=\"243.25\" y=\"251.1543\">Katze</text><line style=\"stroke: #A80036; stroke-width: 1.5;\" x1=\"162\" x2=\"325\" y1=\"263\" y2=\"263\"/><rect fill=\"none\" height=\"6\" style=\"stroke: #C82930; stroke-width: 1.0;\" width=\"6\" x=\"169\" y=\"271.9023\"/><text fill=\"#000000\" font-family=\"sans-serif\" font-size=\"11\" lengthAdjust=\"spacingAndGlyphs\" textLength=\"52\" x=\"181\" y=\"277.2104\">int Leben</text><line style=\"stroke: #A80036; stroke-width: 1.5;\" x1=\"162\" x2=\"325\" y1=\"283.8047\" y2=\"283.8047\"/><ellipse cx=\"172\" cy=\"295.707\" fill=\"#84BE84\" rx=\"3\" ry=\"3\" style=\"stroke: #038048; stroke-width: 1.0;\"/><text fill=\"#000000\" font-family=\"sans-serif\" font-size=\"11\" lengthAdjust=\"spacingAndGlyphs\" textLength=\"139\" x=\"181\" y=\"298.0151\">void setLeben(int Leben)</text><ellipse cx=\"172\" cy=\"308.5117\" fill=\"#84BE84\" rx=\"3\" ry=\"3\" style=\"stroke: #038048; stroke-width: 1.0;\"/><text fill=\"#000000\" font-family=\"sans-serif\" font-size=\"11\" lengthAdjust=\"spacingAndGlyphs\" textLength=\"78\" x=\"181\" y=\"310.8198\">int getLeben()</text><!--class Calico--><rect fill=\"#FEFECE\" filter=\"url(#fb0yx2wpj8p3a)\" height=\"48\" id=\"Calico\" style=\"stroke: #A80036; stroke-width: 1.5;\" width=\"69\" x=\"6\" y=\"377\"/><ellipse cx=\"21\" cy=\"393\" fill=\"#ADD1B2\" rx=\"11\" ry=\"11\" style=\"stroke: #A80036; stroke-width: 1.0;\"/><path d=\"M23.9688,398.6406 Q23.3906,398.9375 22.75,399.0781 Q22.1094,399.2344 21.4063,399.2344 Q18.9063,399.2344 17.5781,397.5938 Q16.2656,395.9375 16.2656,392.8125 Q16.2656,389.6875 17.5781,388.0313 Q18.9063,386.375 21.4063,386.375 Q22.1094,386.375 22.75,386.5313 Q23.4063,386.6875 23.9688,386.9844 L23.9688,389.7031 Q23.3438,389.125 22.75,388.8594 Q22.1563,388.5781 21.5313,388.5781 Q20.1875,388.5781 19.5,389.6563 Q18.8125,390.7188 18.8125,392.8125 Q18.8125,394.9063 19.5,395.9844 Q20.1875,397.0469 21.5313,397.0469 Q22.1563,397.0469 22.75,396.7813 Q23.3438,396.5 23.9688,395.9219 L23.9688,398.6406 Z \"/><text fill=\"#000000\" font-family=\"sans-serif\" font-size=\"12\" lengthAdjust=\"spacingAndGlyphs\" textLength=\"37\" x=\"35\" y=\"397.1543\">Calico</text><line style=\"stroke: #A80036; stroke-width: 1.5;\" x1=\"7\" x2=\"74\" y1=\"409\" y2=\"409\"/><line style=\"stroke: #A80036; stroke-width: 1.5;\" x1=\"7\" x2=\"74\" y1=\"417\" y2=\"417\"/><!--class BritishShorthair--><rect fill=\"#FEFECE\" filter=\"url(#fb0yx2wpj8p3a)\" height=\"48\" id=\"BritishShorthair\" style=\"stroke: #A80036; stroke-width: 1.5;\" width=\"129\" x=\"110\" y=\"377\"/><ellipse cx=\"125\" cy=\"393\" fill=\"#ADD1B2\" rx=\"11\" ry=\"11\" style=\"stroke: #A80036; stroke-width: 1.0;\"/><path d=\"M127.9688,398.6406 Q127.3906,398.9375 126.75,399.0781 Q126.1094,399.2344 125.4063,399.2344 Q122.9063,399.2344 121.5781,397.5938 Q120.2656,395.9375 120.2656,392.8125 Q120.2656,389.6875 121.5781,388.0313 Q122.9063,386.375 125.4063,386.375 Q126.1094,386.375 126.75,386.5313 Q127.4063,386.6875 127.9688,386.9844 L127.9688,389.7031 Q127.3438,389.125 126.75,388.8594 Q126.1563,388.5781 125.5313,388.5781 Q124.1875,388.5781 123.5,389.6563 Q122.8125,390.7188 122.8125,392.8125 Q122.8125,394.9063 123.5,395.9844 Q124.1875,397.0469 125.5313,397.0469 Q126.1563,397.0469 126.75,396.7813 Q127.3438,396.5 127.9688,395.9219 L127.9688,398.6406 Z \"/><text fill=\"#000000\" font-family=\"sans-serif\" font-size=\"12\" lengthAdjust=\"spacingAndGlyphs\" textLength=\"97\" x=\"139\" y=\"397.1543\">BritishShorthair</text><line style=\"stroke: #A80036; stroke-width: 1.5;\" x1=\"111\" x2=\"238\" y1=\"409\" y2=\"409\"/><line style=\"stroke: #A80036; stroke-width: 1.5;\" x1=\"111\" x2=\"238\" y1=\"417\" y2=\"417\"/><!--class Bengal--><rect fill=\"#FEFECE\" filter=\"url(#fb0yx2wpj8p3a)\" height=\"48\" id=\"Bengal\" style=\"stroke: #A80036; stroke-width: 1.5;\" width=\"75\" x=\"274\" y=\"377\"/><ellipse cx=\"289\" cy=\"393\" fill=\"#ADD1B2\" rx=\"11\" ry=\"11\" style=\"stroke: #A80036; stroke-width: 1.0;\"/><path d=\"M291.9688,398.6406 Q291.3906,398.9375 290.75,399.0781 Q290.1094,399.2344 289.4063,399.2344 Q286.9063,399.2344 285.5781,397.5938 Q284.2656,395.9375 284.2656,392.8125 Q284.2656,389.6875 285.5781,388.0313 Q286.9063,386.375 289.4063,386.375 Q290.1094,386.375 290.75,386.5313 Q291.4063,386.6875 291.9688,386.9844 L291.9688,389.7031 Q291.3438,389.125 290.75,388.8594 Q290.1563,388.5781 289.5313,388.5781 Q288.1875,388.5781 287.5,389.6563 Q286.8125,390.7188 286.8125,392.8125 Q286.8125,394.9063 287.5,395.9844 Q288.1875,397.0469 289.5313,397.0469 Q290.1563,397.0469 290.75,396.7813 Q291.3438,396.5 291.9688,395.9219 L291.9688,398.6406 Z \"/><text fill=\"#000000\" font-family=\"sans-serif\" font-size=\"12\" lengthAdjust=\"spacingAndGlyphs\" textLength=\"43\" x=\"303\" y=\"397.1543\">Bengal</text><line style=\"stroke: #A80036; stroke-width: 1.5;\" x1=\"275\" x2=\"348\" y1=\"409\" y2=\"409\"/><line style=\"stroke: #A80036; stroke-width: 1.5;\" x1=\"275\" x2=\"348\" y1=\"417\" y2=\"417\"/><!--class Hund--><rect fill=\"#FEFECE\" filter=\"url(#fb0yx2wpj8p3a)\" height=\"86.4141\" id=\"Hund\" style=\"stroke: #A80036; stroke-width: 1.5;\" width=\"219\" x=\"479\" y=\"231\"/><ellipse cx=\"567.75\" cy=\"247\" fill=\"#ADD1B2\" rx=\"11\" ry=\"11\" style=\"stroke: #A80036; stroke-width: 1.0;\"/><path d=\"M570.7188,252.6406 Q570.1406,252.9375 569.5,253.0781 Q568.8594,253.2344 568.1563,253.2344 Q565.6563,253.2344 564.3281,251.5938 Q563.0156,249.9375 563.0156,246.8125 Q563.0156,243.6875 564.3281,242.0313 Q565.6563,240.375 568.1563,240.375 Q568.8594,240.375 569.5,240.5313 Q570.1563,240.6875 570.7188,240.9844 L570.7188,243.7031 Q570.0938,243.125 569.5,242.8594 Q568.9063,242.5781 568.2813,242.5781 Q566.9375,242.5781 566.25,243.6563 Q565.5625,244.7188 565.5625,246.8125 Q565.5625,248.9063 566.25,249.9844 Q566.9375,251.0469 568.2813,251.0469 Q568.9063,251.0469 569.5,250.7813 Q570.0938,250.5 570.7188,249.9219 L570.7188,252.6406 Z \"/><text fill=\"#000000\" font-family=\"sans-serif\" font-size=\"12\" lengthAdjust=\"spacingAndGlyphs\" textLength=\"33\" x=\"588.25\" y=\"251.1543\">Hund</text><line style=\"stroke: #A80036; stroke-width: 1.5;\" x1=\"480\" x2=\"697\" y1=\"263\" y2=\"263\"/><rect fill=\"none\" height=\"6\" style=\"stroke: #C82930; stroke-width: 1.0;\" width=\"6\" x=\"487\" y=\"271.9023\"/><text fill=\"#000000\" font-family=\"sans-serif\" font-size=\"11\" lengthAdjust=\"spacingAndGlyphs\" textLength=\"84\" x=\"499\" y=\"277.2104\">bool Spazieren</text><line style=\"stroke: #A80036; stroke-width: 1.5;\" x1=\"480\" x2=\"697\" y1=\"283.8047\" y2=\"283.8047\"/><ellipse cx=\"490\" cy=\"295.707\" fill=\"#84BE84\" rx=\"3\" ry=\"3\" style=\"stroke: #038048; stroke-width: 1.0;\"/><text fill=\"#000000\" font-family=\"sans-serif\" font-size=\"11\" lengthAdjust=\"spacingAndGlyphs\" textLength=\"193\" x=\"499\" y=\"298.0151\">void setSpazieren(bool Spazieren)</text><ellipse cx=\"490\" cy=\"308.5117\" fill=\"#84BE84\" rx=\"3\" ry=\"3\" style=\"stroke: #038048; stroke-width: 1.0;\"/><text fill=\"#000000\" font-family=\"sans-serif\" font-size=\"11\" lengthAdjust=\"spacingAndGlyphs\" textLength=\"110\" x=\"499\" y=\"310.8198\">bool getSpazieren()</text><!--class GoldenRetriever--><rect fill=\"#FEFECE\" filter=\"url(#fb0yx2wpj8p3a)\" height=\"48\" id=\"GoldenRetriever\" style=\"stroke: #A80036; stroke-width: 1.5;\" width=\"132\" x=\"384.5\" y=\"377\"/><ellipse cx=\"399.5\" cy=\"393\" fill=\"#ADD1B2\" rx=\"11\" ry=\"11\" style=\"stroke: #A80036; stroke-width: 1.0;\"/><path d=\"M402.4688,398.6406 Q401.8906,398.9375 401.25,399.0781 Q400.6094,399.2344 399.9063,399.2344 Q397.4063,399.2344 396.0781,397.5938 Q394.7656,395.9375 394.7656,392.8125 Q394.7656,389.6875 396.0781,388.0313 Q397.4063,386.375 399.9063,386.375 Q400.6094,386.375 401.25,386.5313 Q401.9063,386.6875 402.4688,386.9844 L402.4688,389.7031 Q401.8438,389.125 401.25,388.8594 Q400.6563,388.5781 400.0313,388.5781 Q398.6875,388.5781 398,389.6563 Q397.3125,390.7188 397.3125,392.8125 Q397.3125,394.9063 398,395.9844 Q398.6875,397.0469 400.0313,397.0469 Q400.6563,397.0469 401.25,396.7813 Q401.8438,396.5 402.4688,395.9219 L402.4688,398.6406 Z \"/><text fill=\"#000000\" font-family=\"sans-serif\" font-size=\"12\" lengthAdjust=\"spacingAndGlyphs\" textLength=\"100\" x=\"413.5\" y=\"397.1543\">GoldenRetriever</text><line style=\"stroke: #A80036; stroke-width: 1.5;\" x1=\"385.5\" x2=\"515.5\" y1=\"409\" y2=\"409\"/><line style=\"stroke: #A80036; stroke-width: 1.5;\" x1=\"385.5\" x2=\"515.5\" y1=\"417\" y2=\"417\"/><!--class Dackel--><rect fill=\"#FEFECE\" filter=\"url(#fb0yx2wpj8p3a)\" height=\"48\" id=\"Dackel\" style=\"stroke: #A80036; stroke-width: 1.5;\" width=\"74\" x=\"551.5\" y=\"377\"/><ellipse cx=\"566.5\" cy=\"393\" fill=\"#ADD1B2\" rx=\"11\" ry=\"11\" style=\"stroke: #A80036; stroke-width: 1.0;\"/><path d=\"M569.4688,398.6406 Q568.8906,398.9375 568.25,399.0781 Q567.6094,399.2344 566.9063,399.2344 Q564.4063,399.2344 563.0781,397.5938 Q561.7656,395.9375 561.7656,392.8125 Q561.7656,389.6875 563.0781,388.0313 Q564.4063,386.375 566.9063,386.375 Q567.6094,386.375 568.25,386.5313 Q568.9063,386.6875 569.4688,386.9844 L569.4688,389.7031 Q568.8438,389.125 568.25,388.8594 Q567.6563,388.5781 567.0313,388.5781 Q565.6875,388.5781 565,389.6563 Q564.3125,390.7188 564.3125,392.8125 Q564.3125,394.9063 565,395.9844 Q565.6875,397.0469 567.0313,397.0469 Q567.6563,397.0469 568.25,396.7813 Q568.8438,396.5 569.4688,395.9219 L569.4688,398.6406 Z \"/><text fill=\"#000000\" font-family=\"sans-serif\" font-size=\"12\" lengthAdjust=\"spacingAndGlyphs\" textLength=\"42\" x=\"580.5\" y=\"397.1543\">Dackel</text><line style=\"stroke: #A80036; stroke-width: 1.5;\" x1=\"552.5\" x2=\"624.5\" y1=\"409\" y2=\"409\"/><line style=\"stroke: #A80036; stroke-width: 1.5;\" x1=\"552.5\" x2=\"624.5\" y1=\"417\" y2=\"417\"/><!--class Mops--><rect fill=\"#FEFECE\" filter=\"url(#fb0yx2wpj8p3a)\" height=\"48\" id=\"Mops\" style=\"stroke: #A80036; stroke-width: 1.5;\" width=\"65\" x=\"661\" y=\"377\"/><ellipse cx=\"676\" cy=\"393\" fill=\"#ADD1B2\" rx=\"11\" ry=\"11\" style=\"stroke: #A80036; stroke-width: 1.0;\"/><path d=\"M678.9688,398.6406 Q678.3906,398.9375 677.75,399.0781 Q677.1094,399.2344 676.4063,399.2344 Q673.9063,399.2344 672.5781,397.5938 Q671.2656,395.9375 671.2656,392.8125 Q671.2656,389.6875 672.5781,388.0313 Q673.9063,386.375 676.4063,386.375 Q677.1094,386.375 677.75,386.5313 Q678.4063,386.6875 678.9688,386.9844 L678.9688,389.7031 Q678.3438,389.125 677.75,388.8594 Q677.1563,388.5781 676.5313,388.5781 Q675.1875,388.5781 674.5,389.6563 Q673.8125,390.7188 673.8125,392.8125 Q673.8125,394.9063 674.5,395.9844 Q675.1875,397.0469 676.5313,397.0469 Q677.1563,397.0469 677.75,396.7813 Q678.3438,396.5 678.9688,395.9219 L678.9688,398.6406 Z \"/><text fill=\"#000000\" font-family=\"sans-serif\" font-size=\"12\" lengthAdjust=\"spacingAndGlyphs\" textLength=\"33\" x=\"690\" y=\"397.1543\">Mops</text><line style=\"stroke: #A80036; stroke-width: 1.5;\" x1=\"662\" x2=\"725\" y1=\"409\" y2=\"409\"/><line style=\"stroke: #A80036; stroke-width: 1.5;\" x1=\"662\" x2=\"725\" y1=\"417\" y2=\"417\"/><!--class Schlange--><rect fill=\"#FEFECE\" filter=\"url(#fb0yx2wpj8p3a)\" height=\"86.4141\" id=\"Schlange\" style=\"stroke: #A80036; stroke-width: 1.5;\" width=\"227\" x=\"773\" y=\"231\"/><ellipse cx=\"853.25\" cy=\"247\" fill=\"#ADD1B2\" rx=\"11\" ry=\"11\" style=\"stroke: #A80036; stroke-width: 1.0;\"/><path d=\"M856.2188,252.6406 Q855.6406,252.9375 855,253.0781 Q854.3594,253.2344 853.6563,253.2344 Q851.1563,253.2344 849.8281,251.5938 Q848.5156,249.9375 848.5156,246.8125 Q848.5156,243.6875 849.8281,242.0313 Q851.1563,240.375 853.6563,240.375 Q854.3594,240.375 855,240.5313 Q855.6563,240.6875 856.2188,240.9844 L856.2188,243.7031 Q855.5938,243.125 855,242.8594 Q854.4063,242.5781 853.7813,242.5781 Q852.4375,242.5781 851.75,243.6563 Q851.0625,244.7188 851.0625,246.8125 Q851.0625,248.9063 851.75,249.9844 Q852.4375,251.0469 853.7813,251.0469 Q854.4063,251.0469 855,250.7813 Q855.5938,250.5 856.2188,249.9219 L856.2188,252.6406 Z \"/><text fill=\"#000000\" font-family=\"sans-serif\" font-size=\"12\" lengthAdjust=\"spacingAndGlyphs\" textLength=\"58\" x=\"873.75\" y=\"251.1543\">Schlange</text><line style=\"stroke: #A80036; stroke-width: 1.5;\" x1=\"774\" x2=\"999\" y1=\"263\" y2=\"263\"/><rect fill=\"none\" height=\"6\" style=\"stroke: #C82930; stroke-width: 1.0;\" width=\"6\" x=\"781\" y=\"271.9023\"/><text fill=\"#000000\" font-family=\"sans-serif\" font-size=\"11\" lengthAdjust=\"spacingAndGlyphs\" textLength=\"82\" x=\"793\" y=\"277.2104\">int gelegteEier</text><line style=\"stroke: #A80036; stroke-width: 1.5;\" x1=\"774\" x2=\"999\" y1=\"283.8047\" y2=\"283.8047\"/><ellipse cx=\"784\" cy=\"295.707\" fill=\"#84BE84\" rx=\"3\" ry=\"3\" style=\"stroke: #038048; stroke-width: 1.0;\"/><text fill=\"#000000\" font-family=\"sans-serif\" font-size=\"11\" lengthAdjust=\"spacingAndGlyphs\" textLength=\"201\" x=\"793\" y=\"298.0151\">void setGelegteEier(int gelegteEier)</text><ellipse cx=\"784\" cy=\"308.5117\" fill=\"#84BE84\" rx=\"3\" ry=\"3\" style=\"stroke: #038048; stroke-width: 1.0;\"/><text fill=\"#000000\" font-family=\"sans-serif\" font-size=\"11\" lengthAdjust=\"spacingAndGlyphs\" textLength=\"110\" x=\"793\" y=\"310.8198\">int getGelegteEier()</text><!--class BallPython--><rect fill=\"#FEFECE\" filter=\"url(#fb0yx2wpj8p3a)\" height=\"48\" id=\"BallPython\" style=\"stroke: #A80036; stroke-width: 1.5;\" width=\"97\" x=\"761\" y=\"377\"/><ellipse cx=\"776\" cy=\"393\" fill=\"#ADD1B2\" rx=\"11\" ry=\"11\" style=\"stroke: #A80036; stroke-width: 1.0;\"/><path d=\"M778.9688,398.6406 Q778.3906,398.9375 777.75,399.0781 Q777.1094,399.2344 776.4063,399.2344 Q773.9063,399.2344 772.5781,397.5938 Q771.2656,395.9375 771.2656,392.8125 Q771.2656,389.6875 772.5781,388.0313 Q773.9063,386.375 776.4063,386.375 Q777.1094,386.375 777.75,386.5313 Q778.4063,386.6875 778.9688,386.9844 L778.9688,389.7031 Q778.3438,389.125 777.75,388.8594 Q777.1563,388.5781 776.5313,388.5781 Q775.1875,388.5781 774.5,389.6563 Q773.8125,390.7188 773.8125,392.8125 Q773.8125,394.9063 774.5,395.9844 Q775.1875,397.0469 776.5313,397.0469 Q777.1563,397.0469 777.75,396.7813 Q778.3438,396.5 778.9688,395.9219 L778.9688,398.6406 Z \"/><text fill=\"#000000\" font-family=\"sans-serif\" font-size=\"12\" lengthAdjust=\"spacingAndGlyphs\" textLength=\"65\" x=\"790\" y=\"397.1543\">BallPython</text><line style=\"stroke: #A80036; stroke-width: 1.5;\" x1=\"762\" x2=\"857\" y1=\"409\" y2=\"409\"/><line style=\"stroke: #A80036; stroke-width: 1.5;\" x1=\"762\" x2=\"857\" y1=\"417\" y2=\"417\"/><!--class Kobra--><rect fill=\"#FEFECE\" filter=\"url(#fb0yx2wpj8p3a)\" height=\"48\" id=\"Kobra\" style=\"stroke: #A80036; stroke-width: 1.5;\" width=\"68\" x=\"893.5\" y=\"377\"/><ellipse cx=\"908.5\" cy=\"393\" fill=\"#ADD1B2\" rx=\"11\" ry=\"11\" style=\"stroke: #A80036; stroke-width: 1.0;\"/><path d=\"M911.4688,398.6406 Q910.8906,398.9375 910.25,399.0781 Q909.6094,399.2344 908.9063,399.2344 Q906.4063,399.2344 905.0781,397.5938 Q903.7656,395.9375 903.7656,392.8125 Q903.7656,389.6875 905.0781,388.0313 Q906.4063,386.375 908.9063,386.375 Q909.6094,386.375 910.25,386.5313 Q910.9063,386.6875 911.4688,386.9844 L911.4688,389.7031 Q910.8438,389.125 910.25,388.8594 Q909.6563,388.5781 909.0313,388.5781 Q907.6875,388.5781 907,389.6563 Q906.3125,390.7188 906.3125,392.8125 Q906.3125,394.9063 907,395.9844 Q907.6875,397.0469 909.0313,397.0469 Q909.6563,397.0469 910.25,396.7813 Q910.8438,396.5 911.4688,395.9219 L911.4688,398.6406 Z \"/><text fill=\"#000000\" font-family=\"sans-serif\" font-size=\"12\" lengthAdjust=\"spacingAndGlyphs\" textLength=\"36\" x=\"922.5\" y=\"397.1543\">Kobra</text><line style=\"stroke: #A80036; stroke-width: 1.5;\" x1=\"894.5\" x2=\"960.5\" y1=\"409\" y2=\"409\"/><line style=\"stroke: #A80036; stroke-width: 1.5;\" x1=\"894.5\" x2=\"960.5\" y1=\"417\" y2=\"417\"/><!--class Viper--><rect fill=\"#FEFECE\" filter=\"url(#fb0yx2wpj8p3a)\" height=\"48\" id=\"Viper\" style=\"stroke: #A80036; stroke-width: 1.5;\" width=\"64\" x=\"996.5\" y=\"377\"/><ellipse cx=\"1011.5\" cy=\"393\" fill=\"#ADD1B2\" rx=\"11\" ry=\"11\" style=\"stroke: #A80036; stroke-width: 1.0;\"/><path d=\"M1014.4688,398.6406 Q1013.8906,398.9375 1013.25,399.0781 Q1012.6094,399.2344 1011.9063,399.2344 Q1009.4063,399.2344 1008.0781,397.5938 Q1006.7656,395.9375 1006.7656,392.8125 Q1006.7656,389.6875 1008.0781,388.0313 Q1009.4063,386.375 1011.9063,386.375 Q1012.6094,386.375 1013.25,386.5313 Q1013.9063,386.6875 1014.4688,386.9844 L1014.4688,389.7031 Q1013.8438,389.125 1013.25,388.8594 Q1012.6563,388.5781 1012.0313,388.5781 Q1010.6875,388.5781 1010,389.6563 Q1009.3125,390.7188 1009.3125,392.8125 Q1009.3125,394.9063 1010,395.9844 Q1010.6875,397.0469 1012.0313,397.0469 Q1012.6563,397.0469 1013.25,396.7813 Q1013.8438,396.5 1014.4688,395.9219 L1014.4688,398.6406 Z \"/><text fill=\"#000000\" font-family=\"sans-serif\" font-size=\"12\" lengthAdjust=\"spacingAndGlyphs\" textLength=\"32\" x=\"1025.5\" y=\"397.1543\">Viper</text><line style=\"stroke: #A80036; stroke-width: 1.5;\" x1=\"997.5\" x2=\"1059.5\" y1=\"409\" y2=\"409\"/><line style=\"stroke: #A80036; stroke-width: 1.5;\" x1=\"997.5\" x2=\"1059.5\" y1=\"417\" y2=\"417\"/><!--link Tier to Katze--><path d=\"M463.7968,156.1891 C417.2276,181.0935 365.6126,208.6963 324.0563,230.9199 \" fill=\"none\" id=\"Tier-Katze\" style=\"stroke: #A80036; stroke-width: 1.0;\"/><polygon fill=\"none\" points=\"460.765,149.8724,481.7025,146.6134,467.3672,162.2179,460.765,149.8724\" style=\"stroke: #A80036; stroke-width: 1.0;\"/><!--link Tier to Hund--><path d=\"M588.5,191.5211 C588.5,205.3261 588.5,218.836 588.5,230.7953 \" fill=\"none\" id=\"Tier-Hund\" style=\"stroke: #A80036; stroke-width: 1.0;\"/><polygon fill=\"none\" points=\"581.5001,191.2301,588.5,171.2301,595.5001,191.2301,581.5001,191.2301\" style=\"stroke: #A80036; stroke-width: 1.0;\"/><!--link Tier to Schlange--><path d=\"M712.5248,166.2872 C748.1241,188.3277 785.6812,211.5803 816.7528,230.8176 \" fill=\"none\" id=\"Tier-Schlange\" style=\"stroke: #A80036; stroke-width: 1.0;\"/><polygon fill=\"none\" points=\"708.563,172.0674,695.2431,155.5876,715.9327,160.1641,708.563,172.0674\" style=\"stroke: #A80036; stroke-width: 1.0;\"/><!--link Katze to Calico--><path d=\"M157.2697,327.947 C128.3632,346.0314 97.7656,365.1737 75.146,379.3249 \" fill=\"none\" id=\"Katze-Calico\" style=\"stroke: #A80036; stroke-width: 1.0;\"/><polygon fill=\"none\" points=\"153.8223,321.8468,174.4902,317.1736,161.2475,333.7155,153.8223,321.8468\" style=\"stroke: #A80036; stroke-width: 1.0;\"/><!--link Katze to BritishShorthair--><path d=\"M210.3216,335.0675 C202.2956,349.8399 194.1742,364.7881 187.698,376.7079 \" fill=\"none\" id=\"Katze-BritishShorthair\" style=\"stroke: #A80036; stroke-width: 1.0;\"/><polygon fill=\"none\" points=\"204.2483,331.583,219.9471,317.351,216.5499,338.2666,204.2483,331.583\" style=\"stroke: #A80036; stroke-width: 1.0;\"/><!--link Katze to Bengal--><path d=\"M276.1976,335.0675 C284.1072,349.8399 292.111,364.7881 298.4932,376.7079 \" fill=\"none\" id=\"Katze-Bengal\" style=\"stroke: #A80036; stroke-width: 1.0;\"/><polygon fill=\"none\" points=\"269.9811,338.2869,266.7116,317.351,282.3233,331.6784,269.9811,338.2869\" style=\"stroke: #A80036; stroke-width: 1.0;\"/><!--link Hund to GoldenRetriever--><path d=\"M526.6334,330.9352 C509.1544,347.021 491.0582,363.6747 476.8961,376.7079 \" fill=\"none\" id=\"Hund-GoldenRetriever\" style=\"stroke: #A80036; stroke-width: 1.0;\"/><polygon fill=\"none\" points=\"521.9375,325.7437,541.3942,317.351,531.4179,336.0452,521.9375,325.7437\" style=\"stroke: #A80036; stroke-width: 1.0;\"/><!--link Hund to Dackel--><path d=\"M588.5,337.5036 C588.5,351.4734 588.5,365.4431 588.5,376.7079 \" fill=\"none\" id=\"Hund-Dackel\" style=\"stroke: #A80036; stroke-width: 1.0;\"/><polygon fill=\"none\" points=\"581.5001,337.351,588.5,317.351,595.5001,337.351,581.5001,337.351\" style=\"stroke: #A80036; stroke-width: 1.0;\"/><!--link Hund to Mops--><path d=\"M637.3794,333.1208 C650.111,348.5199 663.1279,364.2642 673.416,376.7079 \" fill=\"none\" id=\"Hund-Mops\" style=\"stroke: #A80036; stroke-width: 1.0;\"/><polygon fill=\"none\" points=\"631.6904,337.2254,624.3414,317.351,642.4802,328.3047,631.6904,337.2254\" style=\"stroke: #A80036; stroke-width: 1.0;\"/><!--link Schlange to BallPython--><path d=\"M849.77,334.5806 C840.7177,349.511 831.5347,364.6571 824.2283,376.7079 \" fill=\"none\" id=\"Schlange-BallPython\" style=\"stroke: #A80036; stroke-width: 1.0;\"/><polygon fill=\"none\" points=\"843.8615,330.824,860.2163,317.351,855.833,338.0823,843.8615,330.824\" style=\"stroke: #A80036; stroke-width: 1.0;\"/><!--link Schlange to Kobra--><path d=\"M906.6865,336.529 C911.3009,350.8222 915.9364,365.1811 919.6577,376.7079 \" fill=\"none\" id=\"Schlange-Kobra\" style=\"stroke: #A80036; stroke-width: 1.0;\"/><polygon fill=\"none\" points=\"899.9782,338.5343,900.4952,317.351,913.3012,334.2332,899.9782,338.5343\" style=\"stroke: #A80036; stroke-width: 1.0;\"/><!--link Schlange to Viper--><path d=\"M949.8887,330.6928 C967.9583,346.8535 986.693,363.6092 1001.3388,376.7079 \" fill=\"none\" id=\"Schlange-Viper\" style=\"stroke: #A80036; stroke-width: 1.0;\"/><polygon fill=\"none\" points=\"945.2123,335.9015,934.9712,317.351,954.5453,325.4662,945.2123,335.9015\" style=\"stroke: #A80036; stroke-width: 1.0;\"/><!--\n",
       "@startuml \n",
       "class Tier{\n",
       "    -String Name\n",
       "    -int Alter\n",
       "    -String Nahrung\n",
       "    +void setName(String Name)\n",
       "    +void setAlter(int Alter)\n",
       "    +void setNahrung(String Nahrung)\n",
       "    +String getName()\n",
       "    +int getAlter()\n",
       "    +String getNahrung()\n",
       "}\n",
       "\n",
       "class Katze {\n",
       "    -int Leben\n",
       "    +void setLeben(int Leben)\n",
       "    +int getLeben()\n",
       "}\n",
       "\n",
       "class Calico\n",
       "class BritishShorthair\n",
       "class Bengal\n",
       "\n",
       "class Hund {\n",
       "    -bool Spazieren\n",
       "    +void setSpazieren(bool Spazieren)\n",
       "    +bool getSpazieren()\n",
       "}\n",
       "\n",
       "class GoldenRetriever\n",
       "class Dackel\n",
       "class Mops\n",
       "\n",
       "class Schlange {\n",
       "    -int gelegteEier\n",
       "    +void setGelegteEier(int gelegteEier)\n",
       "    +int getGelegteEier()\n",
       "}\n",
       "\n",
       "class BallPython\n",
       "class Kobra\n",
       "class Viper\n",
       "\n",
       "Tier <|- - Katze\n",
       "Tier <|- - Hund\n",
       "Tier <|- - Schlange\n",
       "\n",
       "Katze <|- - Calico\n",
       "Katze <|- - BritishShorthair\n",
       "Katze <|- - Bengal\n",
       "\n",
       "Hund <|- - GoldenRetriever\n",
       "Hund <|- - Dackel\n",
       "Hund <|- - Mops\n",
       "\n",
       "Schlange <|- - BallPython\n",
       "Schlange <|- - Kobra\n",
       "Schlange <|- - Viper\n",
       "\n",
       "@enduml\n",
       "\n",
       "PlantUML version 1.2017.15(Mon Jul 03 16:45:34 GMT 2017)\n",
       "(GPL source distribution)\n",
       "Java Runtime: OpenJDK Runtime Environment\n",
       "JVM: OpenJDK 64-Bit Server VM\n",
       "Java Version: 11.0.11+9-Ubuntu-0ubuntu2.18.04\n",
       "Operating System: Linux\n",
       "OS Version: 5.4.0-84-generic\n",
       "Default Encoding: UTF-8\n",
       "Language: en\n",
       "Country: null\n",
       "--></g></svg>"
      ],
      "text/plain": [
       "<IPython.core.display.SVG object>"
      ]
     },
     "execution_count": 24,
     "metadata": {},
     "output_type": "execute_result"
    }
   ],
   "source": [
    "%%plantuml\n",
    "class Tier{\n",
    "    -String Name\n",
    "    -int Alter\n",
    "    -String Nahrung\n",
    "    +void setName(String Name)\n",
    "    +void setAlter(int Alter)\n",
    "    +void setNahrung(String Nahrung)\n",
    "    +String getName()\n",
    "    +int getAlter()\n",
    "    +String getNahrung()\n",
    "}\n",
    "\n",
    "class Katze {\n",
    "    -int Leben\n",
    "    +void setLeben(int Leben)\n",
    "    +int getLeben()\n",
    "}\n",
    "\n",
    "class Calico\n",
    "class BritishShorthair\n",
    "class Bengal\n",
    "\n",
    "class Hund {\n",
    "    -bool Spazieren\n",
    "    +void setSpazieren(bool Spazieren)\n",
    "    +bool getSpazieren()\n",
    "}\n",
    "\n",
    "class GoldenRetriever\n",
    "class Dackel\n",
    "class Mops\n",
    "\n",
    "class Schlange {\n",
    "    -int gelegteEier\n",
    "    +void setGelegteEier(int gelegteEier)\n",
    "    +int getGelegteEier()\n",
    "}\n",
    "\n",
    "class BallPython\n",
    "class Kobra\n",
    "class Viper\n",
    "\n",
    "Tier <|-- Katze\n",
    "Tier <|-- Hund\n",
    "Tier <|-- Schlange\n",
    "\n",
    "Katze <|-- Calico\n",
    "Katze <|-- BritishShorthair\n",
    "Katze <|-- Bengal\n",
    "\n",
    "Hund <|-- GoldenRetriever\n",
    "Hund <|-- Dackel\n",
    "Hund <|-- Mops\n",
    "\n",
    "Schlange <|-- BallPython\n",
    "Schlange <|-- Kobra\n",
    "Schlange <|-- Viper"
   ]
  },
  {
   "cell_type": "markdown",
   "metadata": {},
   "source": [
    "## Erklärung Spezialisierung\n",
    "\n",
    "Am Anfang starten wir mit der Tier-Klasse. Diese beschreibt, dass jedes erstellte Tier einen Namen besitzt, ein gewisses Alter hat und eine Art von Nahrung isst.  \n",
    "Tiere können ganz unterschiedlich sein, um es etwas genauer zu halten, werden nun die Katze, der Hund und die Schlange vorgestellt. Jede dieser speziellen Tiere besitzt die Attribute und Methoden von den Tieren allgemein, jedoch bringt jede Tierart auch noch eigene mit. Eine Katze hat zum Beispiel mehrere Leben, diese können dort hinterlegt werden. Bei einem Hund ist es üblich, mit ihm spazieren zu gehen, ob das gemacht wurde, kann bei ihm nun überprüft werden. Bei Schlangen ist es nun so, dass diese keine Säugetiere sind und Eier legen. Die Anzahl an Eiern kann nun dort eingetragen werden.  \n",
    "Um dieses Beispiel noch zu vertiefen, werden nun auch noch 3 entsprechende Rassen/Arten der jeweiligen Tiere hinzugefügt. So kann die Katze nun unterteilt werden in Calico, British Shorthair und die Bengal Katzen. Bei den Hunden sind die spezifizierten Rassen hier der Golden Retriever, der Dackel und der Mops. Bei der Schlange sind es hierbei die Ball Python, die Kobra und die Viper.  \n",
    "Je tiefer die Klassen gehen, umso genauer wird es hier, dabei werden auch die Attribute und Methoden der darüber stehenden Klassen vererbt."
   ]
  },
  {
   "cell_type": "markdown",
   "metadata": {},
   "source": [
    "## Erklärung Generalisierung\n",
    "\n",
    "Bei der Generalisierung ist es nun so, dass wir uns die letzten Klassen angucken und schauen, was diese gemeinsam haben. Danach wird versucht, diese Klassen zu verallgemeinern. So können die Rassen Calico, British Shorthair und Bengal zu der Katzen-Klasse zusammengefasst. Da alle dieser Katzenarten auch eine bestimmte Anzahl an Leben besitzen, kann das an die allgemeine Katzenklasse übertragen werden.  \n",
    "Das Ziel ist es also so allgemein wie möglich zu werden, um möglichst viel auszulagern."
   ]
  },
  {
   "cell_type": "markdown",
   "metadata": {},
   "source": [
    "## Interfaces\n",
    "\n",
    "Ein Interface ist eine Schnittstelle für andere Klassen. Die Besonderheit ist hierbei, dass in einem Interface eine Liste an öffentlichen Attributen und Methoden zur Verfügung stellt, die die Klassen implementieren und erweitern können.  \n",
    "Sie werden wie folgt dargestellt:"
   ]
  },
  {
   "cell_type": "code",
   "execution_count": 25,
   "metadata": {},
   "outputs": [
    {
     "data": {
      "image/svg+xml": [
       "<svg contentScriptType=\"application/ecmascript\" contentStyleType=\"text/css\" height=\"175px\" preserveAspectRatio=\"none\" style=\"width:86px;height:175px;\" version=\"1.1\" viewBox=\"0 0 86 175\" width=\"86px\" xmlns=\"http://www.w3.org/2000/svg\" xmlns:xlink=\"http://www.w3.org/1999/xlink\" zoomAndPan=\"magnify\"><defs><filter height=\"300%\" id=\"f3wyigih5c204\" width=\"300%\" x=\"-1\" y=\"-1\"><feGaussianBlur result=\"blurOut\" stdDeviation=\"2.0\"/><feColorMatrix in=\"blurOut\" result=\"blurOut2\" type=\"matrix\" values=\"0 0 0 0 0 0 0 0 0 0 0 0 0 0 0 0 0 0 .4 0\"/><feOffset dx=\"4.0\" dy=\"4.0\" in=\"blurOut2\" result=\"blurOut3\"/><feBlend in=\"SourceGraphic\" in2=\"blurOut3\" mode=\"normal\"/></filter></defs><g><!--class Katze--><rect fill=\"#FEFECE\" filter=\"url(#f3wyigih5c204)\" height=\"48\" id=\"Katze\" style=\"stroke: #A80036; stroke-width: 1.5;\" width=\"67\" x=\"7\" y=\"8\"/><ellipse cx=\"22\" cy=\"24\" fill=\"#B4A7E5\" rx=\"11\" ry=\"11\" style=\"stroke: #A80036; stroke-width: 1.0;\"/><path d=\"M17.9219,19.7656 L17.9219,17.6094 L25.3125,17.6094 L25.3125,19.7656 L22.8438,19.7656 L22.8438,27.8438 L25.3125,27.8438 L25.3125,30 L17.9219,30 L17.9219,27.8438 L20.3906,27.8438 L20.3906,19.7656 L17.9219,19.7656 Z \"/><text fill=\"#000000\" font-family=\"sans-serif\" font-size=\"12\" font-style=\"italic\" lengthAdjust=\"spacingAndGlyphs\" textLength=\"35\" x=\"36\" y=\"28.1543\">Katze</text><line style=\"stroke: #A80036; stroke-width: 1.5;\" x1=\"8\" x2=\"73\" y1=\"40\" y2=\"40\"/><line style=\"stroke: #A80036; stroke-width: 1.5;\" x1=\"8\" x2=\"73\" y1=\"48\" y2=\"48\"/><!--class Calico--><rect fill=\"#FEFECE\" filter=\"url(#f3wyigih5c204)\" height=\"48\" id=\"Calico\" style=\"stroke: #A80036; stroke-width: 1.5;\" width=\"69\" x=\"6\" y=\"116\"/><ellipse cx=\"21\" cy=\"132\" fill=\"#ADD1B2\" rx=\"11\" ry=\"11\" style=\"stroke: #A80036; stroke-width: 1.0;\"/><path d=\"M23.9688,137.6406 Q23.3906,137.9375 22.75,138.0781 Q22.1094,138.2344 21.4063,138.2344 Q18.9063,138.2344 17.5781,136.5938 Q16.2656,134.9375 16.2656,131.8125 Q16.2656,128.6875 17.5781,127.0313 Q18.9063,125.375 21.4063,125.375 Q22.1094,125.375 22.75,125.5313 Q23.4063,125.6875 23.9688,125.9844 L23.9688,128.7031 Q23.3438,128.125 22.75,127.8594 Q22.1563,127.5781 21.5313,127.5781 Q20.1875,127.5781 19.5,128.6563 Q18.8125,129.7188 18.8125,131.8125 Q18.8125,133.9063 19.5,134.9844 Q20.1875,136.0469 21.5313,136.0469 Q22.1563,136.0469 22.75,135.7813 Q23.3438,135.5 23.9688,134.9219 L23.9688,137.6406 Z \"/><text fill=\"#000000\" font-family=\"sans-serif\" font-size=\"12\" lengthAdjust=\"spacingAndGlyphs\" textLength=\"37\" x=\"35\" y=\"136.1543\">Calico</text><line style=\"stroke: #A80036; stroke-width: 1.5;\" x1=\"7\" x2=\"74\" y1=\"148\" y2=\"148\"/><line style=\"stroke: #A80036; stroke-width: 1.5;\" x1=\"7\" x2=\"74\" y1=\"156\" y2=\"156\"/><!--link Katze to Calico--><path d=\"M40.5,76.2911 C40.5,89.8171 40.5,104.1835 40.5,115.8436 \" fill=\"none\" id=\"Katze-Calico\" style=\"stroke: #A80036; stroke-width: 1.0; stroke-dasharray: 7.0,7.0;\"/><polygon fill=\"none\" points=\"33.5001,76.2373,40.5,56.2373,47.5001,76.2373,33.5001,76.2373\" style=\"stroke: #A80036; stroke-width: 1.0;\"/><!--\n",
       "@startuml \n",
       "interface Katze\n",
       "class Calico\n",
       "\n",
       "Katze <|.. Calico\n",
       "\n",
       "@enduml\n",
       "\n",
       "PlantUML version 1.2017.15(Mon Jul 03 16:45:34 GMT 2017)\n",
       "(GPL source distribution)\n",
       "Java Runtime: OpenJDK Runtime Environment\n",
       "JVM: OpenJDK 64-Bit Server VM\n",
       "Java Version: 11.0.11+9-Ubuntu-0ubuntu2.18.04\n",
       "Operating System: Linux\n",
       "OS Version: 5.4.0-84-generic\n",
       "Default Encoding: UTF-8\n",
       "Language: en\n",
       "Country: null\n",
       "--></g></svg>"
      ],
      "text/plain": [
       "<IPython.core.display.SVG object>"
      ]
     },
     "execution_count": 25,
     "metadata": {},
     "output_type": "execute_result"
    }
   ],
   "source": [
    "%%plantuml\n",
    "interface Katze\n",
    "class Calico\n",
    "\n",
    "Katze <|.. Calico"
   ]
  },
  {
   "cell_type": "markdown",
   "metadata": {},
   "source": [
    "## Nice to know\n",
    "\n",
    "Plantuml ermöglicht es dem Nutzer die UML-Diagramme farbig zu gestalten. Somit können sehr wichtige stellen farbig gekennzeichnet werden. Hier ein kleines Beispiel:"
   ]
  },
  {
   "cell_type": "code",
   "execution_count": 26,
   "metadata": {},
   "outputs": [
    {
     "data": {
      "image/svg+xml": [
       "<svg contentScriptType=\"application/ecmascript\" contentStyleType=\"text/css\" height=\"67px\" preserveAspectRatio=\"none\" style=\"width:237px;height:67px;\" version=\"1.1\" viewBox=\"0 0 237 67\" width=\"237px\" xmlns=\"http://www.w3.org/2000/svg\" xmlns:xlink=\"http://www.w3.org/1999/xlink\" zoomAndPan=\"magnify\"><defs><filter height=\"300%\" id=\"f6bmgoubmz2kc\" width=\"300%\" x=\"-1\" y=\"-1\"><feGaussianBlur result=\"blurOut\" stdDeviation=\"2.0\"/><feColorMatrix in=\"blurOut\" result=\"blurOut2\" type=\"matrix\" values=\"0 0 0 0 0 0 0 0 0 0 0 0 0 0 0 0 0 0 .4 0\"/><feOffset dx=\"4.0\" dy=\"4.0\" in=\"blurOut2\" result=\"blurOut3\"/><feBlend in=\"SourceGraphic\" in2=\"blurOut3\" mode=\"normal\"/></filter></defs><g><!--class nicht wichtig--><rect fill=\"#FEFECE\" filter=\"url(#f6bmgoubmz2kc)\" height=\"48\" id=\"nicht wichtig\" style=\"stroke: #A80036; stroke-width: 1.5;\" width=\"110\" x=\"6\" y=\"8\"/><ellipse cx=\"21\" cy=\"24\" fill=\"#ADD1B2\" rx=\"11\" ry=\"11\" style=\"stroke: #A80036; stroke-width: 1.0;\"/><path d=\"M23.9688,29.6406 Q23.3906,29.9375 22.75,30.0781 Q22.1094,30.2344 21.4063,30.2344 Q18.9063,30.2344 17.5781,28.5938 Q16.2656,26.9375 16.2656,23.8125 Q16.2656,20.6875 17.5781,19.0313 Q18.9063,17.375 21.4063,17.375 Q22.1094,17.375 22.75,17.5313 Q23.4063,17.6875 23.9688,17.9844 L23.9688,20.7031 Q23.3438,20.125 22.75,19.8594 Q22.1563,19.5781 21.5313,19.5781 Q20.1875,19.5781 19.5,20.6563 Q18.8125,21.7188 18.8125,23.8125 Q18.8125,25.9063 19.5,26.9844 Q20.1875,28.0469 21.5313,28.0469 Q22.1563,28.0469 22.75,27.7813 Q23.3438,27.5 23.9688,26.9219 L23.9688,29.6406 Z \"/><text fill=\"#000000\" font-family=\"sans-serif\" font-size=\"12\" lengthAdjust=\"spacingAndGlyphs\" textLength=\"78\" x=\"35\" y=\"28.1543\">nicht wichtig</text><line style=\"stroke: #A80036; stroke-width: 1.5;\" x1=\"7\" x2=\"115\" y1=\"40\" y2=\"40\"/><line style=\"stroke: #A80036; stroke-width: 1.5;\" x1=\"7\" x2=\"115\" y1=\"48\" y2=\"48\"/><!--class wichtig--><rect fill=\"#FF0000\" filter=\"url(#f6bmgoubmz2kc)\" height=\"48\" id=\"wichtig\" style=\"stroke: #A80036; stroke-width: 1.5;\" width=\"75\" x=\"151.5\" y=\"8\"/><rect fill=\"#FF0000\" height=\"32\" style=\"stroke: #A80036; stroke-width: 1.5;\" width=\"75\" x=\"151.5\" y=\"8\"/><ellipse cx=\"166.5\" cy=\"24\" fill=\"#ADD1B2\" rx=\"11\" ry=\"11\" style=\"stroke: #A80036; stroke-width: 1.0;\"/><path d=\"M169.4688,29.6406 Q168.8906,29.9375 168.25,30.0781 Q167.6094,30.2344 166.9063,30.2344 Q164.4063,30.2344 163.0781,28.5938 Q161.7656,26.9375 161.7656,23.8125 Q161.7656,20.6875 163.0781,19.0313 Q164.4063,17.375 166.9063,17.375 Q167.6094,17.375 168.25,17.5313 Q168.9063,17.6875 169.4688,17.9844 L169.4688,20.7031 Q168.8438,20.125 168.25,19.8594 Q167.6563,19.5781 167.0313,19.5781 Q165.6875,19.5781 165,20.6563 Q164.3125,21.7188 164.3125,23.8125 Q164.3125,25.9063 165,26.9844 Q165.6875,28.0469 167.0313,28.0469 Q167.6563,28.0469 168.25,27.7813 Q168.8438,27.5 169.4688,26.9219 L169.4688,29.6406 Z \"/><text fill=\"#000000\" font-family=\"sans-serif\" font-size=\"12\" lengthAdjust=\"spacingAndGlyphs\" textLength=\"43\" x=\"180.5\" y=\"28.1543\">wichtig</text><line style=\"stroke: #A80036; stroke-width: 1.5;\" x1=\"152.5\" x2=\"225.5\" y1=\"40\" y2=\"40\"/><line style=\"stroke: #A80036; stroke-width: 1.5;\" x1=\"152.5\" x2=\"225.5\" y1=\"48\" y2=\"48\"/><!--\n",
       "@startuml \n",
       "\n",
       "class \"nicht wichtig\"\n",
       "class wichtig #red\n",
       "\n",
       "@enduml\n",
       "\n",
       "PlantUML version 1.2017.15(Mon Jul 03 16:45:34 GMT 2017)\n",
       "(GPL source distribution)\n",
       "Java Runtime: OpenJDK Runtime Environment\n",
       "JVM: OpenJDK 64-Bit Server VM\n",
       "Java Version: 11.0.11+9-Ubuntu-0ubuntu2.18.04\n",
       "Operating System: Linux\n",
       "OS Version: 5.4.0-84-generic\n",
       "Default Encoding: UTF-8\n",
       "Language: en\n",
       "Country: null\n",
       "--></g></svg>"
      ],
      "text/plain": [
       "<IPython.core.display.SVG object>"
      ]
     },
     "execution_count": 26,
     "metadata": {},
     "output_type": "execute_result"
    }
   ],
   "source": [
    "%%plantuml\n",
    "\n",
    "class \"nicht wichtig\"\n",
    "class wichtig #red\n"
   ]
  },
  {
   "cell_type": "markdown",
   "metadata": {},
   "source": [
    "Es ist auch möglich die Pfeile zu ändern. Diese können größer oder kleiner dargestellt werden, weiterhin kann auch hier eine Farbe zugewiesen werden. Dazu auch ein kleines Beispiel:"
   ]
  },
  {
   "cell_type": "code",
   "execution_count": 27,
   "metadata": {},
   "outputs": [
    {
     "data": {
      "image/svg+xml": [
       "<svg contentScriptType=\"application/ecmascript\" contentStyleType=\"text/css\" height=\"192px\" preserveAspectRatio=\"none\" style=\"width:399px;height:192px;\" version=\"1.1\" viewBox=\"0 0 399 192\" width=\"399px\" xmlns=\"http://www.w3.org/2000/svg\" xmlns:xlink=\"http://www.w3.org/1999/xlink\" zoomAndPan=\"magnify\"><defs><filter height=\"300%\" id=\"f793jhm9ess0j\" width=\"300%\" x=\"-1\" y=\"-1\"><feGaussianBlur result=\"blurOut\" stdDeviation=\"2.0\"/><feColorMatrix in=\"blurOut\" result=\"blurOut2\" type=\"matrix\" values=\"0 0 0 0 0 0 0 0 0 0 0 0 0 0 0 0 0 0 .4 0\"/><feOffset dx=\"4.0\" dy=\"4.0\" in=\"blurOut2\" result=\"blurOut3\"/><feBlend in=\"SourceGraphic\" in2=\"blurOut3\" mode=\"normal\"/></filter></defs><g><!--class test--><rect fill=\"#FEFECE\" filter=\"url(#f793jhm9ess0j)\" height=\"48\" id=\"test\" style=\"stroke: #A80036; stroke-width: 1.5;\" width=\"57\" x=\"143\" y=\"8\"/><ellipse cx=\"158\" cy=\"24\" fill=\"#ADD1B2\" rx=\"11\" ry=\"11\" style=\"stroke: #A80036; stroke-width: 1.0;\"/><path d=\"M160.9688,29.6406 Q160.3906,29.9375 159.75,30.0781 Q159.1094,30.2344 158.4063,30.2344 Q155.9063,30.2344 154.5781,28.5938 Q153.2656,26.9375 153.2656,23.8125 Q153.2656,20.6875 154.5781,19.0313 Q155.9063,17.375 158.4063,17.375 Q159.1094,17.375 159.75,17.5313 Q160.4063,17.6875 160.9688,17.9844 L160.9688,20.7031 Q160.3438,20.125 159.75,19.8594 Q159.1563,19.5781 158.5313,19.5781 Q157.1875,19.5781 156.5,20.6563 Q155.8125,21.7188 155.8125,23.8125 Q155.8125,25.9063 156.5,26.9844 Q157.1875,28.0469 158.5313,28.0469 Q159.1563,28.0469 159.75,27.7813 Q160.3438,27.5 160.9688,26.9219 L160.9688,29.6406 Z \"/><text fill=\"#000000\" font-family=\"sans-serif\" font-size=\"12\" lengthAdjust=\"spacingAndGlyphs\" textLength=\"25\" x=\"172\" y=\"28.1543\">test</text><line style=\"stroke: #A80036; stroke-width: 1.5;\" x1=\"144\" x2=\"199\" y1=\"40\" y2=\"40\"/><line style=\"stroke: #A80036; stroke-width: 1.5;\" x1=\"144\" x2=\"199\" y1=\"48\" y2=\"48\"/><!--class bar--><rect fill=\"#FEFECE\" filter=\"url(#f793jhm9ess0j)\" height=\"48\" id=\"bar\" style=\"stroke: #A80036; stroke-width: 1.5;\" width=\"53\" x=\"6\" y=\"133\"/><ellipse cx=\"21\" cy=\"149\" fill=\"#ADD1B2\" rx=\"11\" ry=\"11\" style=\"stroke: #A80036; stroke-width: 1.0;\"/><path d=\"M23.9688,154.6406 Q23.3906,154.9375 22.75,155.0781 Q22.1094,155.2344 21.4063,155.2344 Q18.9063,155.2344 17.5781,153.5938 Q16.2656,151.9375 16.2656,148.8125 Q16.2656,145.6875 17.5781,144.0313 Q18.9063,142.375 21.4063,142.375 Q22.1094,142.375 22.75,142.5313 Q23.4063,142.6875 23.9688,142.9844 L23.9688,145.7031 Q23.3438,145.125 22.75,144.8594 Q22.1563,144.5781 21.5313,144.5781 Q20.1875,144.5781 19.5,145.6563 Q18.8125,146.7188 18.8125,148.8125 Q18.8125,150.9063 19.5,151.9844 Q20.1875,153.0469 21.5313,153.0469 Q22.1563,153.0469 22.75,152.7813 Q23.3438,152.5 23.9688,151.9219 L23.9688,154.6406 Z \"/><text fill=\"#000000\" font-family=\"sans-serif\" font-size=\"12\" lengthAdjust=\"spacingAndGlyphs\" textLength=\"21\" x=\"35\" y=\"153.1543\">bar</text><line style=\"stroke: #A80036; stroke-width: 1.5;\" x1=\"7\" x2=\"58\" y1=\"165\" y2=\"165\"/><line style=\"stroke: #A80036; stroke-width: 1.5;\" x1=\"7\" x2=\"58\" y1=\"173\" y2=\"173\"/><!--class bar1--><rect fill=\"#FEFECE\" filter=\"url(#f793jhm9ess0j)\" height=\"48\" id=\"bar1\" style=\"stroke: #A80036; stroke-width: 1.5;\" width=\"61\" x=\"94\" y=\"133\"/><ellipse cx=\"109\" cy=\"149\" fill=\"#ADD1B2\" rx=\"11\" ry=\"11\" style=\"stroke: #A80036; stroke-width: 1.0;\"/><path d=\"M111.9688,154.6406 Q111.3906,154.9375 110.75,155.0781 Q110.1094,155.2344 109.4063,155.2344 Q106.9063,155.2344 105.5781,153.5938 Q104.2656,151.9375 104.2656,148.8125 Q104.2656,145.6875 105.5781,144.0313 Q106.9063,142.375 109.4063,142.375 Q110.1094,142.375 110.75,142.5313 Q111.4063,142.6875 111.9688,142.9844 L111.9688,145.7031 Q111.3438,145.125 110.75,144.8594 Q110.1563,144.5781 109.5313,144.5781 Q108.1875,144.5781 107.5,145.6563 Q106.8125,146.7188 106.8125,148.8125 Q106.8125,150.9063 107.5,151.9844 Q108.1875,153.0469 109.5313,153.0469 Q110.1563,153.0469 110.75,152.7813 Q111.3438,152.5 111.9688,151.9219 L111.9688,154.6406 Z \"/><text fill=\"#000000\" font-family=\"sans-serif\" font-size=\"12\" lengthAdjust=\"spacingAndGlyphs\" textLength=\"29\" x=\"123\" y=\"153.1543\">bar1</text><line style=\"stroke: #A80036; stroke-width: 1.5;\" x1=\"95\" x2=\"154\" y1=\"165\" y2=\"165\"/><line style=\"stroke: #A80036; stroke-width: 1.5;\" x1=\"95\" x2=\"154\" y1=\"173\" y2=\"173\"/><!--class bar2--><rect fill=\"#FEFECE\" filter=\"url(#f793jhm9ess0j)\" height=\"48\" id=\"bar2\" style=\"stroke: #A80036; stroke-width: 1.5;\" width=\"61\" x=\"190\" y=\"133\"/><ellipse cx=\"205\" cy=\"149\" fill=\"#ADD1B2\" rx=\"11\" ry=\"11\" style=\"stroke: #A80036; stroke-width: 1.0;\"/><path d=\"M207.9688,154.6406 Q207.3906,154.9375 206.75,155.0781 Q206.1094,155.2344 205.4063,155.2344 Q202.9063,155.2344 201.5781,153.5938 Q200.2656,151.9375 200.2656,148.8125 Q200.2656,145.6875 201.5781,144.0313 Q202.9063,142.375 205.4063,142.375 Q206.1094,142.375 206.75,142.5313 Q207.4063,142.6875 207.9688,142.9844 L207.9688,145.7031 Q207.3438,145.125 206.75,144.8594 Q206.1563,144.5781 205.5313,144.5781 Q204.1875,144.5781 203.5,145.6563 Q202.8125,146.7188 202.8125,148.8125 Q202.8125,150.9063 203.5,151.9844 Q204.1875,153.0469 205.5313,153.0469 Q206.1563,153.0469 206.75,152.7813 Q207.3438,152.5 207.9688,151.9219 L207.9688,154.6406 Z \"/><text fill=\"#000000\" font-family=\"sans-serif\" font-size=\"12\" lengthAdjust=\"spacingAndGlyphs\" textLength=\"29\" x=\"219\" y=\"153.1543\">bar2</text><line style=\"stroke: #A80036; stroke-width: 1.5;\" x1=\"191\" x2=\"250\" y1=\"165\" y2=\"165\"/><line style=\"stroke: #A80036; stroke-width: 1.5;\" x1=\"191\" x2=\"250\" y1=\"173\" y2=\"173\"/><!--class bar3--><rect fill=\"#FEFECE\" filter=\"url(#f793jhm9ess0j)\" height=\"48\" id=\"bar3\" style=\"stroke: #A80036; stroke-width: 1.5;\" width=\"61\" x=\"319\" y=\"133\"/><ellipse cx=\"334\" cy=\"149\" fill=\"#ADD1B2\" rx=\"11\" ry=\"11\" style=\"stroke: #A80036; stroke-width: 1.0;\"/><path d=\"M336.9688,154.6406 Q336.3906,154.9375 335.75,155.0781 Q335.1094,155.2344 334.4063,155.2344 Q331.9063,155.2344 330.5781,153.5938 Q329.2656,151.9375 329.2656,148.8125 Q329.2656,145.6875 330.5781,144.0313 Q331.9063,142.375 334.4063,142.375 Q335.1094,142.375 335.75,142.5313 Q336.4063,142.6875 336.9688,142.9844 L336.9688,145.7031 Q336.3438,145.125 335.75,144.8594 Q335.1563,144.5781 334.5313,144.5781 Q333.1875,144.5781 332.5,145.6563 Q331.8125,146.7188 331.8125,148.8125 Q331.8125,150.9063 332.5,151.9844 Q333.1875,153.0469 334.5313,153.0469 Q335.1563,153.0469 335.75,152.7813 Q336.3438,152.5 336.9688,151.9219 L336.9688,154.6406 Z \"/><text fill=\"#000000\" font-family=\"sans-serif\" font-size=\"12\" lengthAdjust=\"spacingAndGlyphs\" textLength=\"29\" x=\"348\" y=\"153.1543\">bar3</text><line style=\"stroke: #A80036; stroke-width: 1.5;\" x1=\"320\" x2=\"379\" y1=\"165\" y2=\"165\"/><line style=\"stroke: #A80036; stroke-width: 1.5;\" x1=\"320\" x2=\"379\" y1=\"173\" y2=\"173\"/><!--link test to bar--><path d=\"M142.897,40.2149 C118.9526,48.3806 85.2938,63.0429 63.5,86 C52.4484,97.6415 44.9638,113.8592 40.1222,127.8563 \" fill=\"none\" id=\"test-bar\" style=\"stroke: #A80036; stroke-width: 1.0;\"/><polygon fill=\"#A80036\" points=\"38.4564,132.9001,45.0772,125.6087,40.0245,128.1524,37.4809,123.0997,38.4564,132.9001\" style=\"stroke: #A80036; stroke-width: 1.0;\"/><text fill=\"#000000\" font-family=\"sans-serif\" font-size=\"13\" lengthAdjust=\"spacingAndGlyphs\" textLength=\"45\" x=\"64.5\" y=\"99.0669\">normal</text><!--link test to bar1--><path d=\"M142.8749,55.8976 C134.696,64.4519 126.8315,74.7807 122.5,86 C117.4421,99.1007 117.2801,114.5962 118.6589,127.7632 \" fill=\"none\" id=\"test-bar1\" style=\"stroke: #FF0000; stroke-width: 2.5;\"/><polygon fill=\"#FF0000\" points=\"119.2816,132.8726,122.1632,123.4547,118.6766,127.9093,114.222,124.4227,119.2816,132.8726\" style=\"stroke: #FF0000; stroke-width: 1.0;\"/><text fill=\"#FF0000\" font-family=\"sans-serif\" font-size=\"13\" lengthAdjust=\"spacingAndGlyphs\" textLength=\"52\" x=\"123.5\" y=\"99.0669\">red bold</text><!--link test to bar2--><path d=\"M180.9477,56.1013 C189.0144,76.6796 200.6356,106.3254 209.1947,128.16 \" fill=\"none\" id=\"test-bar2\" style=\"stroke: #008000; stroke-width: 1.0; stroke-dasharray: 6.0,6.0;\"/><polygon fill=\"#008000\" points=\"211.0813,132.9727,211.5206,123.1336,209.2564,128.3176,204.0724,126.0535,211.0813,132.9727\" style=\"stroke: #008000; stroke-width: 1.0;\"/><text fill=\"#008000\" font-family=\"sans-serif\" font-size=\"13\" lengthAdjust=\"spacingAndGlyphs\" textLength=\"88\" x=\"199.5\" y=\"99.0669\">green dashed</text><!--link test to bar3--><path d=\"M200.0576,39.6582 C226.9619,47.8939 267.3782,62.9912 296.5,86 C311.1568,97.5802 323.8345,114.1505 333.1125,128.3708 \" fill=\"none\" id=\"test-bar3\" style=\"stroke: #0000FF; stroke-width: 1.0; stroke-dasharray: 1.0,3.0;\"/><polygon fill=\"#0000FF\" points=\"335.8812,132.7005,334.4025,122.9633,333.1875,128.4881,327.6627,127.2732,335.8812,132.7005\" style=\"stroke: #0000FF; stroke-width: 1.0;\"/><text fill=\"#0000FF\" font-family=\"sans-serif\" font-size=\"13\" lengthAdjust=\"spacingAndGlyphs\" textLength=\"73\" x=\"314.5\" y=\"99.0669\">blue dotted</text><!--\n",
       "@startuml \n",
       "\n",
       "class test\n",
       "test - -> bar : normal\n",
       "test - -> bar1 #line:red;line.bold;text:red  : red bold\n",
       "test - -> bar2 #green;line.dashed;text:green : green dashed\n",
       "test - -> bar3 #blue;line.dotted;text:blue   : blue dotted\n",
       "\n",
       "\n",
       "@enduml\n",
       "\n",
       "PlantUML version 1.2017.15(Mon Jul 03 16:45:34 GMT 2017)\n",
       "(GPL source distribution)\n",
       "Java Runtime: OpenJDK Runtime Environment\n",
       "JVM: OpenJDK 64-Bit Server VM\n",
       "Java Version: 11.0.11+9-Ubuntu-0ubuntu2.18.04\n",
       "Operating System: Linux\n",
       "OS Version: 5.4.0-84-generic\n",
       "Default Encoding: UTF-8\n",
       "Language: en\n",
       "Country: null\n",
       "--></g></svg>"
      ],
      "text/plain": [
       "<IPython.core.display.SVG object>"
      ]
     },
     "execution_count": 27,
     "metadata": {},
     "output_type": "execute_result"
    }
   ],
   "source": [
    "%%plantuml\n",
    "\n",
    "class test\n",
    "test --> bar : normal\n",
    "test --> bar1 #line:red;line.bold;text:red  : red bold\n",
    "test --> bar2 #green;line.dashed;text:green : green dashed\n",
    "test --> bar3 #blue;line.dotted;text:blue   : blue dotted\n",
    "\n"
   ]
  },
  {
   "cell_type": "markdown",
   "metadata": {},
   "source": [
    "Für eine Gruppierung von Klassen besitzt Plantuml die packages. Dort können dann zugehörige Klassen untergebracht werden."
   ]
  },
  {
   "cell_type": "code",
   "execution_count": 28,
   "metadata": {},
   "outputs": [
    {
     "data": {
      "image/svg+xml": [
       "<svg contentScriptType=\"application/ecmascript\" contentStyleType=\"text/css\" height=\"318px\" preserveAspectRatio=\"none\" style=\"width:214px;height:318px;\" version=\"1.1\" viewBox=\"0 0 214 318\" width=\"214px\" xmlns=\"http://www.w3.org/2000/svg\" xmlns:xlink=\"http://www.w3.org/1999/xlink\" zoomAndPan=\"magnify\"><defs><filter height=\"300%\" id=\"fqnmofncctmu2\" width=\"300%\" x=\"-1\" y=\"-1\"><feGaussianBlur result=\"blurOut\" stdDeviation=\"2.0\"/><feColorMatrix in=\"blurOut\" result=\"blurOut2\" type=\"matrix\" values=\"0 0 0 0 0 0 0 0 0 0 0 0 0 0 0 0 0 0 .4 0\"/><feOffset dx=\"4.0\" dy=\"4.0\" in=\"blurOut2\" result=\"blurOut3\"/><feBlend in=\"SourceGraphic\" in2=\"blurOut3\" mode=\"normal\"/></filter></defs><g><!--cluster Programm--><polygon fill=\"#FFFFFF\" filter=\"url(#fqnmofncctmu2)\" points=\"14,16,101,16,108,38.2969,131,38.2969,131,207,14,207,14,16\" style=\"stroke: #000000; stroke-width: 2.0;\"/><line style=\"stroke: #000000; stroke-width: 2.0;\" x1=\"14\" x2=\"108\" y1=\"38.2969\" y2=\"38.2969\"/><text fill=\"#000000\" font-family=\"sans-serif\" font-size=\"14\" font-weight=\"bold\" lengthAdjust=\"spacingAndGlyphs\" textLength=\"81\" x=\"18\" y=\"30.9951\">Programm</text><!--class test1--><rect fill=\"#FEFECE\" filter=\"url(#fqnmofncctmu2)\" height=\"48\" id=\"test1\" style=\"stroke: #A80036; stroke-width: 1.5;\" width=\"65\" x=\"22.5\" y=\"43\"/><ellipse cx=\"37.5\" cy=\"59\" fill=\"#ADD1B2\" rx=\"11\" ry=\"11\" style=\"stroke: #A80036; stroke-width: 1.0;\"/><path d=\"M40.4688,64.6406 Q39.8906,64.9375 39.25,65.0781 Q38.6094,65.2344 37.9063,65.2344 Q35.4063,65.2344 34.0781,63.5938 Q32.7656,61.9375 32.7656,58.8125 Q32.7656,55.6875 34.0781,54.0313 Q35.4063,52.375 37.9063,52.375 Q38.6094,52.375 39.25,52.5313 Q39.9063,52.6875 40.4688,52.9844 L40.4688,55.7031 Q39.8438,55.125 39.25,54.8594 Q38.6563,54.5781 38.0313,54.5781 Q36.6875,54.5781 36,55.6563 Q35.3125,56.7188 35.3125,58.8125 Q35.3125,60.9063 36,61.9844 Q36.6875,63.0469 38.0313,63.0469 Q38.6563,63.0469 39.25,62.7813 Q39.8438,62.5 40.4688,61.9219 L40.4688,64.6406 Z \"/><text fill=\"#000000\" font-family=\"sans-serif\" font-size=\"12\" lengthAdjust=\"spacingAndGlyphs\" textLength=\"33\" x=\"51.5\" y=\"63.1543\">test1</text><line style=\"stroke: #A80036; stroke-width: 1.5;\" x1=\"23.5\" x2=\"86.5\" y1=\"75\" y2=\"75\"/><line style=\"stroke: #A80036; stroke-width: 1.5;\" x1=\"23.5\" x2=\"86.5\" y1=\"83\" y2=\"83\"/><!--class test2--><rect fill=\"#FEFECE\" filter=\"url(#fqnmofncctmu2)\" height=\"48\" id=\"test2\" style=\"stroke: #A80036; stroke-width: 1.5;\" width=\"65\" x=\"22.5\" y=\"151\"/><ellipse cx=\"37.5\" cy=\"167\" fill=\"#ADD1B2\" rx=\"11\" ry=\"11\" style=\"stroke: #A80036; stroke-width: 1.0;\"/><path d=\"M40.4688,172.6406 Q39.8906,172.9375 39.25,173.0781 Q38.6094,173.2344 37.9063,173.2344 Q35.4063,173.2344 34.0781,171.5938 Q32.7656,169.9375 32.7656,166.8125 Q32.7656,163.6875 34.0781,162.0313 Q35.4063,160.375 37.9063,160.375 Q38.6094,160.375 39.25,160.5313 Q39.9063,160.6875 40.4688,160.9844 L40.4688,163.7031 Q39.8438,163.125 39.25,162.8594 Q38.6563,162.5781 38.0313,162.5781 Q36.6875,162.5781 36,163.6563 Q35.3125,164.7188 35.3125,166.8125 Q35.3125,168.9063 36,169.9844 Q36.6875,171.0469 38.0313,171.0469 Q38.6563,171.0469 39.25,170.7813 Q39.8438,170.5 40.4688,169.9219 L40.4688,172.6406 Z \"/><text fill=\"#000000\" font-family=\"sans-serif\" font-size=\"12\" lengthAdjust=\"spacingAndGlyphs\" textLength=\"33\" x=\"51.5\" y=\"171.1543\">test2</text><line style=\"stroke: #A80036; stroke-width: 1.5;\" x1=\"23.5\" x2=\"86.5\" y1=\"183\" y2=\"183\"/><line style=\"stroke: #A80036; stroke-width: 1.5;\" x1=\"23.5\" x2=\"86.5\" y1=\"191\" y2=\"191\"/><!--class test3--><rect fill=\"#FEFECE\" filter=\"url(#fqnmofncctmu2)\" height=\"48\" id=\"test3\" style=\"stroke: #A80036; stroke-width: 1.5;\" width=\"64\" x=\"139\" y=\"151\"/><ellipse cx=\"154\" cy=\"167\" fill=\"#B4A7E5\" rx=\"11\" ry=\"11\" style=\"stroke: #A80036; stroke-width: 1.0;\"/><path d=\"M149.9219,162.7656 L149.9219,160.6094 L157.3125,160.6094 L157.3125,162.7656 L154.8438,162.7656 L154.8438,170.8438 L157.3125,170.8438 L157.3125,173 L149.9219,173 L149.9219,170.8438 L152.3906,170.8438 L152.3906,162.7656 L149.9219,162.7656 Z \"/><text fill=\"#000000\" font-family=\"sans-serif\" font-size=\"12\" font-style=\"italic\" lengthAdjust=\"spacingAndGlyphs\" textLength=\"32\" x=\"168\" y=\"171.1543\">test3</text><line style=\"stroke: #A80036; stroke-width: 1.5;\" x1=\"140\" x2=\"202\" y1=\"183\" y2=\"183\"/><line style=\"stroke: #A80036; stroke-width: 1.5;\" x1=\"140\" x2=\"202\" y1=\"191\" y2=\"191\"/><!--class test4--><rect fill=\"#FEFECE\" filter=\"url(#fqnmofncctmu2)\" height=\"48\" id=\"test4\" style=\"stroke: #A80036; stroke-width: 1.5;\" width=\"65\" x=\"138.5\" y=\"259\"/><ellipse cx=\"153.5\" cy=\"275\" fill=\"#ADD1B2\" rx=\"11\" ry=\"11\" style=\"stroke: #A80036; stroke-width: 1.0;\"/><path d=\"M156.4688,280.6406 Q155.8906,280.9375 155.25,281.0781 Q154.6094,281.2344 153.9063,281.2344 Q151.4063,281.2344 150.0781,279.5938 Q148.7656,277.9375 148.7656,274.8125 Q148.7656,271.6875 150.0781,270.0313 Q151.4063,268.375 153.9063,268.375 Q154.6094,268.375 155.25,268.5313 Q155.9063,268.6875 156.4688,268.9844 L156.4688,271.7031 Q155.8438,271.125 155.25,270.8594 Q154.6563,270.5781 154.0313,270.5781 Q152.6875,270.5781 152,271.6563 Q151.3125,272.7188 151.3125,274.8125 Q151.3125,276.9063 152,277.9844 Q152.6875,279.0469 154.0313,279.0469 Q154.6563,279.0469 155.25,278.7813 Q155.8438,278.5 156.4688,277.9219 L156.4688,280.6406 Z \"/><text fill=\"#000000\" font-family=\"sans-serif\" font-size=\"12\" lengthAdjust=\"spacingAndGlyphs\" textLength=\"33\" x=\"167.5\" y=\"279.1543\">test4</text><line style=\"stroke: #A80036; stroke-width: 1.5;\" x1=\"139.5\" x2=\"202.5\" y1=\"291\" y2=\"291\"/><line style=\"stroke: #A80036; stroke-width: 1.5;\" x1=\"139.5\" x2=\"202.5\" y1=\"299\" y2=\"299\"/><!--link test1 to test2--><path d=\"M55,91.2373 C55,107.3565 55,128.6212 55,145.6911 \" fill=\"none\" id=\"test1-test2\" style=\"stroke: #A80036; stroke-width: 1.0;\"/><polygon fill=\"#A80036\" points=\"55,150.8436,59,141.8436,55,145.8436,51,141.8436,55,150.8436\" style=\"stroke: #A80036; stroke-width: 1.0;\"/><!--link test3 to test4--><path d=\"M171,199.2373 C171,215.3565 171,236.6212 171,253.6911 \" fill=\"none\" id=\"test3-test4\" style=\"stroke: #A80036; stroke-width: 1.0;\"/><polygon fill=\"#A80036\" points=\"171,258.8436,175,249.8436,171,253.8436,167,249.8436,171,258.8436\" style=\"stroke: #A80036; stroke-width: 1.0;\"/><!--link Programm to test3--><path d=\"M131.0837,85.1882 C131.1281,85.2882 131.1727,85.3885 131.2174,85.4891 C131.3068,85.6903 131.3967,85.8926 131.4872,86.0961 C131.6681,86.5031 131.851,86.9148 132.0359,87.3309 C133.5153,90.6595 135.1209,94.2721 136.8092,98.0706 C143.5621,113.2646 151.6369,131.433 158.2433,146.2973 \" fill=\"none\" id=\"Programm-test3\" style=\"stroke: #A80036; stroke-width: 1.0;\"/><polygon fill=\"#A80036\" points=\"160.31,150.9475,160.3097,141.0986,158.2791,146.3785,152.9993,144.348,160.31,150.9475\" style=\"stroke: #A80036; stroke-width: 1.0;\"/><polygon fill=\"#A80036\" points=\"131.0837,85.1882,131.0837,95.0371,133.1144,89.7573,138.3942,91.788,131.0837,85.1882\" style=\"stroke: #A80036; stroke-width: 1.0;\"/><!--\n",
       "@startuml \n",
       "package Programm{\n",
       "    class test1\n",
       "    class test2\n",
       "    test1 - -> test2\n",
       "}\n",
       "interface test3\n",
       "class test4\n",
       "\n",
       "test3 - -> test4\n",
       "\n",
       "Programm <- -> test3\n",
       "\n",
       "@enduml\n",
       "\n",
       "PlantUML version 1.2017.15(Mon Jul 03 16:45:34 GMT 2017)\n",
       "(GPL source distribution)\n",
       "Java Runtime: OpenJDK Runtime Environment\n",
       "JVM: OpenJDK 64-Bit Server VM\n",
       "Java Version: 11.0.11+9-Ubuntu-0ubuntu2.18.04\n",
       "Operating System: Linux\n",
       "OS Version: 5.4.0-84-generic\n",
       "Default Encoding: UTF-8\n",
       "Language: en\n",
       "Country: null\n",
       "--></g></svg>"
      ],
      "text/plain": [
       "<IPython.core.display.SVG object>"
      ]
     },
     "execution_count": 28,
     "metadata": {},
     "output_type": "execute_result"
    }
   ],
   "source": [
    "%%plantuml\n",
    "package Programm{\n",
    "    class test1\n",
    "    class test2\n",
    "    test1 --> test2\n",
    "}\n",
    "interface test3\n",
    "class test4\n",
    "\n",
    "test3 --> test4\n",
    "\n",
    "Programm <--> test3"
   ]
  },
  {
   "cell_type": "markdown",
   "metadata": {},
   "source": [
    "Da aber mehr Elemente als nur Klassen existieren, hier ein kleines Cheat Sheet was noch alles erstellt werden kann mit plantuml:"
   ]
  },
  {
   "cell_type": "markdown",
   "metadata": {},
   "source": [
    "## Cheat Sheet\n",
    "abstract        abstract  \n",
    "abstract class  \"abstract class\"  \n",
    "annotation      annotation  \n",
    "circle          circle  \n",
    "()              circle_short_form  \n",
    "diamond         diamond  \n",
    "<>              diamond_short_form  \n",
    "entity          entity  \n",
    "enum            enum  \n",
    "interface       interface  \n"
   ]
  },
  {
   "cell_type": "markdown",
   "metadata": {},
   "source": [
    "# Quellen: \n",
    "\n",
    "https://plantuml.com/de/class-diagram  \n",
    "https://www.sparxsystems.de/ressourcen/literatur/leseprobe-zu-projektabwicklung-mit-uml-und-enterprise-architect/klassendiagramm-class-diagram  \n",
    "https://www.markdownguide.org/cheat-sheet/  \n",
    "https://en.wikipedia.org/wiki/Class_diagram  "
   ]
  }
 ],
 "metadata": {
  "kernelspec": {
   "display_name": "Python 3",
   "language": "python",
   "name": "python3"
  },
  "language_info": {
   "codemirror_mode": {
    "name": "ipython",
    "version": 3
   },
   "file_extension": ".py",
   "mimetype": "text/x-python",
   "name": "python",
   "nbconvert_exporter": "python",
   "pygments_lexer": "ipython3",
   "version": "3.6.9"
  }
 },
 "nbformat": 4,
 "nbformat_minor": 2
}
