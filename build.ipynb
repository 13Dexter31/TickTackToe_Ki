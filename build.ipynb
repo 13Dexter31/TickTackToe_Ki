{
 "cells": [
  {
   "cell_type": "markdown",
   "source": [
    "## Root Objects"
   ],
   "metadata": {
    "collapsed": false,
    "pycharm": {
     "name": "#%% md\n"
    }
   }
  },
  {
   "cell_type": "code",
   "execution_count": 5,
   "metadata": {
    "collapsed": true
   },
   "outputs": [
    {
     "name": "stderr",
     "output_type": "stream",
     "text": [
      "[NbConvertApp] Converting notebook src/Game.ipynb to script\n",
      "[NbConvertApp] Writing 3184 bytes to build\\Game.py\n"
     ]
    }
   ],
   "source": [
    "!jupyter nbconvert --to script --output-dir=build src/Game.ipynb"
   ]
  },
  {
   "cell_type": "code",
   "execution_count": 6,
   "outputs": [
    {
     "name": "stderr",
     "output_type": "stream",
     "text": [
      "[NbConvertApp] Converting notebook src/Board.ipynb to script\n",
      "[NbConvertApp] Writing 9387 bytes to build\\Board.py\n"
     ]
    }
   ],
   "source": [
    "!jupyter nbconvert --to script --output-dir=build src/Board.ipynb"
   ],
   "metadata": {
    "collapsed": false,
    "pycharm": {
     "name": "#%%\n"
    }
   }
  },
  {
   "cell_type": "code",
   "execution_count": 7,
   "outputs": [
    {
     "name": "stderr",
     "output_type": "stream",
     "text": [
      "[NbConvertApp] Converting notebook src/Decorators.ipynb to script\n",
      "[NbConvertApp] Writing 3037 bytes to build\\Decorators.py\n"
     ]
    }
   ],
   "source": [
    "!jupyter nbconvert --to script --output-dir=build src/Decorators.ipynb"
   ],
   "metadata": {
    "collapsed": false,
    "pycharm": {
     "name": "#%%\n"
    }
   }
  },
  {
   "cell_type": "markdown",
   "source": [
    "## Player"
   ],
   "metadata": {
    "collapsed": false
   }
  },
  {
   "cell_type": "code",
   "execution_count": 8,
   "outputs": [
    {
     "name": "stderr",
     "output_type": "stream",
     "text": [
      "[NbConvertApp] Converting notebook src/player/Player.ipynb to script\n",
      "[NbConvertApp] Writing 2121 bytes to build\\player\\Player.py\n"
     ]
    }
   ],
   "source": [
    "!jupyter nbconvert --to script --output-dir=build/player src/player/Player.ipynb"
   ],
   "metadata": {
    "collapsed": false,
    "pycharm": {
     "name": "#%%\n"
    }
   }
  },
  {
   "cell_type": "code",
   "execution_count": 9,
   "outputs": [
    {
     "name": "stderr",
     "output_type": "stream",
     "text": [
      "[NbConvertApp] Converting notebook src/player/Human.ipynb to script\n",
      "[NbConvertApp] Writing 2371 bytes to build\\player\\Human.py\n"
     ]
    }
   ],
   "source": [
    "!jupyter nbconvert --to script --output-dir=build/player src/player/Human.ipynb"
   ],
   "metadata": {
    "collapsed": false,
    "pycharm": {
     "name": "#%%\n"
    }
   }
  },
  {
   "cell_type": "code",
   "execution_count": 10,
   "outputs": [
    {
     "name": "stderr",
     "output_type": "stream",
     "text": [
      "[NbConvertApp] Converting notebook src/player/Randy.ipynb to script\n",
      "[NbConvertApp] Writing 913 bytes to build\\player\\Randy.py\n"
     ]
    }
   ],
   "source": [
    "!jupyter nbconvert --to script --output-dir=build/player src/player/Randy.ipynb"
   ],
   "metadata": {
    "collapsed": false,
    "pycharm": {
     "name": "#%%\n"
    }
   }
  },
  {
   "cell_type": "code",
   "execution_count": 1,
   "outputs": [
    {
     "name": "stderr",
     "output_type": "stream",
     "text": [
      "[NbConvertApp] Converting notebook src/player/QPlayer.ipynb to script\n",
      "[NbConvertApp] Writing 7900 bytes to build\\player\\QPlayer.py\n"
     ]
    }
   ],
   "source": [
    "!jupyter nbconvert --to script --output-dir=build/player src/player/QPlayer.ipynb"
   ],
   "metadata": {
    "collapsed": false,
    "pycharm": {
     "name": "#%%\n"
    }
   }
  },
  {
   "cell_type": "markdown",
   "source": [
    "## Q-Learner"
   ],
   "metadata": {
    "collapsed": false,
    "pycharm": {
     "name": "#%% md\n"
    }
   }
  },
  {
   "cell_type": "code",
   "execution_count": 2,
   "outputs": [
    {
     "name": "stderr",
     "output_type": "stream",
     "text": [
      "[NbConvertApp] Converting notebook src/player/qlearner/QLearner.ipynb to script\n",
      "[NbConvertApp] Writing 1087 bytes to build\\player\\qlearner\\QLearner.py\n"
     ]
    }
   ],
   "source": [
    "!jupyter nbconvert --to script --output-dir=build/player/qlearner src/player/qlearner/QLearner.ipynb"
   ],
   "metadata": {
    "collapsed": false,
    "pycharm": {
     "name": "#%%\n"
    }
   }
  },
  {
   "cell_type": "code",
   "execution_count": 13,
   "outputs": [
    {
     "name": "stderr",
     "output_type": "stream",
     "text": [
      "[NbConvertApp] Converting notebook src/player/qlearner/QNNLearner.ipynb to script\n",
      "[NbConvertApp] Writing 13475 bytes to build\\player\\qlearner\\QNNLearner.py\n"
     ]
    }
   ],
   "source": [
    "!jupyter nbconvert --to script --output-dir=build/player/qlearner src/player/qlearner/QNNLearner.ipynb"
   ],
   "metadata": {
    "collapsed": false,
    "pycharm": {
     "name": "#%%\n"
    }
   }
  },
  {
   "cell_type": "code",
   "execution_count": 14,
   "outputs": [
    {
     "name": "stderr",
     "output_type": "stream",
     "text": [
      "[NbConvertApp] Converting notebook src/player/qlearner/QTableLearner.ipynb to script\n",
      "[NbConvertApp] Writing 2561 bytes to build\\player\\qlearner\\QTableLearner.py\n"
     ]
    }
   ],
   "source": [
    "!jupyter nbconvert --to script --output-dir=build/player/qlearner src/player/qlearner/QTableLearner.ipynb"
   ],
   "metadata": {
    "collapsed": false,
    "pycharm": {
     "name": "#%%\n"
    }
   }
  },
  {
   "cell_type": "code",
   "execution_count": null,
   "outputs": [],
   "source": [],
   "metadata": {
    "collapsed": false,
    "pycharm": {
     "name": "#%%\n"
    }
   }
  }
 ],
 "metadata": {
  "kernelspec": {
   "display_name": "Python 3",
   "language": "python",
   "name": "python3"
  },
  "language_info": {
   "codemirror_mode": {
    "name": "ipython",
    "version": 2
   },
   "file_extension": ".py",
   "mimetype": "text/x-python",
   "name": "python",
   "nbconvert_exporter": "python",
   "pygments_lexer": "ipython2",
   "version": "2.7.6"
  }
 },
 "nbformat": 4,
 "nbformat_minor": 0
}