{
 "cells": [
  {
   "cell_type": "code",
   "execution_count": 5,
   "metadata": {
    "collapsed": true
   },
   "outputs": [
    {
     "name": "stderr",
     "output_type": "stream",
     "text": [
      "[NbConvertApp] Converting notebook src\\Board.ipynb to script\n",
      "[NbConvertApp] Writing 8552 bytes to build\\Board.py\n",
      "[NbConvertApp] Converting notebook src\\Decorators.ipynb to script\n",
      "[NbConvertApp] Writing 3025 bytes to build\\Decorators.py\n",
      "[NbConvertApp] Converting notebook src\\Game.ipynb to script\n",
      "[NbConvertApp] Writing 3183 bytes to build\\Game.py\n",
      "[NbConvertApp] Converting notebook src\\Start.ipynb to script\n",
      "[NbConvertApp] ERROR | Notebook JSON is invalid: Additional properties are not allowed ('execution_count' was unexpected)\n",
      "\n",
      "Failed validating 'additionalProperties' in markdown_cell:\n",
      "\n",
      "On instance['cells'][10]:\n",
      "{'cell_type': 'markdown',\n",
      " 'execution_count': 21,\n",
      " 'metadata': {'collapsed': False, 'pycharm': {'name': '#%% md\\n'}},\n",
      " 'source': '# Control Results'}\n",
      "[NbConvertApp] Writing 1936 bytes to build\\Start.py\n"
     ]
    }
   ],
   "source": [
    "!jupyter nbconvert --to script --output-dir=build src/Game.ipynb\n",
    "!jupyter nbconvert --to script --output-dir=build src/Board.ipynb\n",
    "!jupyter nbconvert --to script --output-dir=build src/Decorators.ipynb"
   ]
  },
  {
   "cell_type": "code",
   "execution_count": 4,
   "outputs": [
    {
     "name": "stderr",
     "output_type": "stream",
     "text": [
      "[NbConvertApp] Converting notebook src/player/Player.ipynb to script\n",
      "[NbConvertApp] Writing 2119 bytes to build\\player\\Player.py\n",
      "[NbConvertApp] Converting notebook src/player/Human.ipynb to script\n",
      "[NbConvertApp] Writing 2521 bytes to build\\player\\Human.py\n",
      "[NbConvertApp] Converting notebook src/player/Randy.ipynb to script\n",
      "[NbConvertApp] Writing 907 bytes to build\\player\\Randy.py\n",
      "[NbConvertApp] Converting notebook src/player/QPlayer.ipynb to script\n",
      "[NbConvertApp] Writing 4679 bytes to build\\player\\QPlayer.py\n"
     ]
    }
   ],
   "source": [
    "!jupyter nbconvert --to script --output-dir=build/player src/player/Player.ipynb\n",
    "!jupyter nbconvert --to script --output-dir=build/player src/player/Human.ipynb\n",
    "!jupyter nbconvert --to script --output-dir=build/player src/player/Randy.ipynb\n",
    "!jupyter nbconvert --to script --output-dir=build/player src/player/QPlayer.ipynb"
   ],
   "metadata": {
    "collapsed": false,
    "pycharm": {
     "name": "#%%\n"
    }
   }
  },
  {
   "cell_type": "code",
   "execution_count": 3,
   "outputs": [
    {
     "name": "stderr",
     "output_type": "stream",
     "text": [
      "[NbConvertApp] Converting notebook src/player/qlearner/QLearner.ipynb to script\n",
      "[NbConvertApp] Writing 958 bytes to build\\player\\qlearner\\QLearner.py\n",
      "[NbConvertApp] Converting notebook src/player/qlearner/QNNLearner.ipynb to script\n",
      "[NbConvertApp] Writing 13475 bytes to build\\player\\qlearner\\QNNLearner.py\n",
      "[NbConvertApp] Converting notebook src/player/qlearner/QTableLearner.ipynb to script\n",
      "[NbConvertApp] Writing 2378 bytes to build\\player\\qlearner\\QTableLearner.py\n"
     ]
    }
   ],
   "source": [
    "!jupyter nbconvert --to script --output-dir=build/player/qlearner src/player/qlearner/QLearner.ipynb\n",
    "!jupyter nbconvert --to script --output-dir=build/player/qlearner src/player/qlearner/QNNLearner.ipynb\n",
    "!jupyter nbconvert --to script --output-dir=build/player/qlearner src/player/qlearner/QTableLearner.ipynb"
   ],
   "metadata": {
    "collapsed": false,
    "pycharm": {
     "name": "#%%\n"
    }
   }
  },
  {
   "cell_type": "code",
   "execution_count": null,
   "outputs": [],
   "source": [],
   "metadata": {
    "collapsed": false,
    "pycharm": {
     "name": "#%%\n"
    }
   }
  }
 ],
 "metadata": {
  "kernelspec": {
   "display_name": "Python 3",
   "language": "python",
   "name": "python3"
  },
  "language_info": {
   "codemirror_mode": {
    "name": "ipython",
    "version": 2
   },
   "file_extension": ".py",
   "mimetype": "text/x-python",
   "name": "python",
   "nbconvert_exporter": "python",
   "pygments_lexer": "ipython2",
   "version": "2.7.6"
  }
 },
 "nbformat": 4,
 "nbformat_minor": 0
}