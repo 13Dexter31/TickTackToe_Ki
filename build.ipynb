{
 "cells": [
  {
   "cell_type": "code",
   "execution_count": null,
   "metadata": {
    "collapsed": true
   },
   "outputs": [],
   "source": [
    "!jupyter nbconvert Game.ipynb --to script\n",
    "!jupyter nbconvert Board.ipynb --to script\n",
    "!jupyter nbconvert player/Player.ipynb --to script\n",
    "!jupyter nbconvert player/Human.ipynb --to script\n",
    "!jupyter nbconvert player/Randy.ipynb --to script\n",
    "!jupyter nbconvert player/QPlayer.ipynb --to script"
   ]
  }
 ],
 "metadata": {
  "kernelspec": {
   "display_name": "Python 3",
   "language": "python",
   "name": "python3"
  },
  "language_info": {
   "codemirror_mode": {
    "name": "ipython",
    "version": 2
   },
   "file_extension": ".py",
   "mimetype": "text/x-python",
   "name": "python",
   "nbconvert_exporter": "python",
   "pygments_lexer": "ipython2",
   "version": "2.7.6"
  }
 },
 "nbformat": 4,
 "nbformat_minor": 0
}