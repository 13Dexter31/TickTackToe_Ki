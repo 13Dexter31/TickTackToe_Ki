{
 "cells": [
  {
   "cell_type": "code",
   "execution_count": 8,
   "metadata": {
    "collapsed": true
   },
   "outputs": [
    {
     "name": "stderr",
     "output_type": "stream",
     "text": [
      "[NbConvertApp] Converting notebook src/Game.ipynb to script\n",
      "[NbConvertApp] Writing 3121 bytes to build\\Game.py\n",
      "[NbConvertApp] Converting notebook src/Board.ipynb to script\n",
      "[NbConvertApp] Writing 8267 bytes to build\\Board.py\n"
     ]
    }
   ],
   "source": [
    "!jupyter nbconvert --to script --output-dir=build src/Game.ipynb\n",
    "!jupyter nbconvert --to script --output-dir=build src/Board.ipynb"
   ]
  },
  {
   "cell_type": "code",
   "execution_count": 9,
   "outputs": [
    {
     "name": "stderr",
     "output_type": "stream",
     "text": [
      "[NbConvertApp] Converting notebook src/player/Player.ipynb to script\n",
      "[NbConvertApp] Writing 2055 bytes to build\\player\\Player.py\n",
      "[NbConvertApp] Converting notebook src/player/Human.ipynb to script\n",
      "[NbConvertApp] Writing 2454 bytes to build\\player\\Human.py\n",
      "[NbConvertApp] Converting notebook src/player/Randy.ipynb to script\n",
      "[NbConvertApp] Writing 882 bytes to build\\player\\Randy.py\n",
      "[NbConvertApp] Converting notebook src/player/QPlayer.ipynb to script\n",
      "[NbConvertApp] Writing 4730 bytes to build\\player\\QPlayer.py\n"
     ]
    }
   ],
   "source": [
    "!jupyter nbconvert --to script --output-dir=build/player src/player/Player.ipynb\n",
    "!jupyter nbconvert --to script --output-dir=build/player src/player/Human.ipynb\n",
    "!jupyter nbconvert --to script --output-dir=build/player src/player/Randy.ipynb\n",
    "!jupyter nbconvert --to script --output-dir=build/player src/player/QPlayer.ipynb"
   ],
   "metadata": {
    "collapsed": false,
    "pycharm": {
     "name": "#%%\n"
    }
   }
  },
  {
   "cell_type": "code",
   "execution_count": null,
   "outputs": [
    {
     "name": "stderr",
     "output_type": "stream",
     "text": [
      "[NbConvertApp] Converting notebook src/player/qlearner/QLearner.ipynb to script\n",
      "[NbConvertApp] Writing 951 bytes to build\\player\\qlearner\\QLearner.py\n",
      "[NbConvertApp] Converting notebook src/player/qlearner/QNNLearner.ipynb to script\n",
      "[NbConvertApp] Writing 13475 bytes to build\\player\\qlearner\\QNNLearner.py\n"
     ]
    }
   ],
   "source": [
    "!jupyter nbconvert --to script --output-dir=build/player/qlearner src/player/qlearner/QLearner.ipynb\n",
    "!jupyter nbconvert --to script --output-dir=build/player/qlearner src/player/qlearner/QNNLearner.ipynb\n",
    "!jupyter nbconvert --to script --output-dir=build/player/qlearner src/player/qlearner/QTableLearner.ipynb"
   ],
   "metadata": {
    "collapsed": false,
    "pycharm": {
     "name": "#%%\n",
     "is_executing": true
    }
   }
  },
  {
   "cell_type": "code",
   "execution_count": null,
   "outputs": [],
   "source": [],
   "metadata": {
    "collapsed": false,
    "pycharm": {
     "name": "#%%\n"
    }
   }
  }
 ],
 "metadata": {
  "kernelspec": {
   "display_name": "Python 3",
   "language": "python",
   "name": "python3"
  },
  "language_info": {
   "codemirror_mode": {
    "name": "ipython",
    "version": 2
   },
   "file_extension": ".py",
   "mimetype": "text/x-python",
   "name": "python",
   "nbconvert_exporter": "python",
   "pygments_lexer": "ipython2",
   "version": "2.7.6"
  }
 },
 "nbformat": 4,
 "nbformat_minor": 0
}