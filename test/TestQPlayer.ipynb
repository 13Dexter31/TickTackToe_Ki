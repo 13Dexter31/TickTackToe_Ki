{
 "cells": [
  {
   "cell_type": "markdown",
   "source": [],
   "metadata": {
    "collapsed": false
   }
  },
  {
   "cell_type": "code",
   "execution_count": 1,
   "outputs": [
    {
     "ename": "ModuleNotFoundError",
     "evalue": "No module named 'Board'",
     "output_type": "error",
     "traceback": [
      "\u001B[1;31m---------------------------------------------------------------------------\u001B[0m",
      "\u001B[1;31mModuleNotFoundError\u001B[0m                       Traceback (most recent call last)",
      "\u001B[1;32m~\\AppData\\Local\\Temp/ipykernel_3796/4218355518.py\u001B[0m in \u001B[0;36m<module>\u001B[1;34m\u001B[0m\n\u001B[0;32m      4\u001B[0m \u001B[1;33m\u001B[0m\u001B[0m\n\u001B[0;32m      5\u001B[0m \u001B[1;32mfrom\u001B[0m \u001B[0msrc\u001B[0m\u001B[1;33m.\u001B[0m\u001B[0mBoard\u001B[0m \u001B[1;32mimport\u001B[0m \u001B[0mBoard\u001B[0m\u001B[1;33m\u001B[0m\u001B[1;33m\u001B[0m\u001B[0m\n\u001B[1;32m----> 6\u001B[1;33m \u001B[1;32mfrom\u001B[0m \u001B[0mplayer\u001B[0m\u001B[1;33m.\u001B[0m\u001B[0mQPlayer\u001B[0m \u001B[1;32mimport\u001B[0m \u001B[0mQTableLearner\u001B[0m\u001B[1;33m\u001B[0m\u001B[1;33m\u001B[0m\u001B[0m\n\u001B[0m\u001B[0;32m      7\u001B[0m \u001B[1;32mfrom\u001B[0m \u001B[0munittest\u001B[0m \u001B[1;32mimport\u001B[0m \u001B[0mmock\u001B[0m\u001B[1;33m\u001B[0m\u001B[1;33m\u001B[0m\u001B[0m\n\u001B[0;32m      8\u001B[0m \u001B[1;33m\u001B[0m\u001B[0m\n",
      "\u001B[1;32mC:\\dev\\repos\\studies\\infm2100_2021\\player\\QPlayer.py\u001B[0m in \u001B[0;36m<module>\u001B[1;34m\u001B[0m\n\u001B[0;32m      7\u001B[0m \u001B[1;33m\u001B[0m\u001B[0m\n\u001B[0;32m      8\u001B[0m \u001B[1;33m\u001B[0m\u001B[0m\n\u001B[1;32m----> 9\u001B[1;33m \u001B[1;32mfrom\u001B[0m \u001B[0mBoard\u001B[0m \u001B[1;32mimport\u001B[0m \u001B[0mResult\u001B[0m\u001B[1;33m\u001B[0m\u001B[1;33m\u001B[0m\u001B[0m\n\u001B[0m\u001B[0;32m     10\u001B[0m \u001B[1;32mfrom\u001B[0m \u001B[0mplayer\u001B[0m\u001B[1;33m.\u001B[0m\u001B[0mPlayer\u001B[0m \u001B[1;32mimport\u001B[0m \u001B[0mPlayer\u001B[0m\u001B[1;33m\u001B[0m\u001B[1;33m\u001B[0m\u001B[0m\n\u001B[0;32m     11\u001B[0m \u001B[1;32mfrom\u001B[0m \u001B[0mDecorators\u001B[0m \u001B[1;32mimport\u001B[0m \u001B[0mdebug\u001B[0m\u001B[1;33m\u001B[0m\u001B[1;33m\u001B[0m\u001B[0m\n",
      "\u001B[1;31mModuleNotFoundError\u001B[0m: No module named 'Board'"
     ]
    }
   ],
   "source": [
    "import ipytest\n",
    "import pytest\n",
    "import sys\n",
    "\n",
    "from src.Board import Board\n",
    "from player.QPlayer import QTableLearner\n",
    "from unittest import mock\n",
    "\n",
    "ipytest.autoconfig()"
   ],
   "metadata": {
    "collapsed": false,
    "pycharm": {
     "name": "#%%\n"
    }
   }
  },
  {
   "cell_type": "markdown",
   "source": [
    "## QTableLearner"
   ],
   "metadata": {
    "collapsed": false
   }
  },
  {
   "cell_type": "markdown",
   "source": [
    "### PyTest"
   ],
   "metadata": {
    "collapsed": false
   }
  },
  {
   "cell_type": "code",
   "execution_count": 1,
   "outputs": [
    {
     "name": "stderr",
     "output_type": "stream",
     "text": [
      "UsageError: Cell magic `%%ipytest` not found.\n"
     ]
    }
   ],
   "source": [
    "%%ipytest\n",
    "\n",
    "def test_q_table_class():\n",
    "\n",
    "    q_table_lerner = QTableLearner()\n",
    "    assert type(q_table_lerner.q_table) == defaultdict\n",
    "\n",
    "def test_q_table_content():\n",
    "\n",
    "    q_table_lerner = QTableLearner()\n",
    "    assert len(q_table_lerner.q_table) == 0\n",
    "\n",
    "def test_q_table_select_move():\n",
    "\n",
    "    q_table_lerner = QTableLearner()\n",
    "    assert q_table_lerner.select_move(Board().field) is not None\n",
    "\n",
    "# def test_q_table_update():\n",
    "#\n",
    "#     q_table_lerner = QTableLearner()\n",
    "#\n",
    "#     state = Board().field\n",
    "#     new_state = state.copy()\n",
    "#     new_state[0, 0] = 'x'\n",
    "#     action_idx = 0\n",
    "#\n",
    "#     q_table_lerner.update(state, new_state, action_idx, Result.GAME_WON)\n",
    "#\n",
    "#     assert True"
   ],
   "metadata": {
    "collapsed": false,
    "pycharm": {
     "name": "#%%\n"
    }
   }
  },
  {
   "cell_type": "markdown",
   "source": [
    "### Mock"
   ],
   "metadata": {
    "collapsed": false
   }
  },
  {
   "cell_type": "code",
   "execution_count": 18,
   "outputs": [],
   "source": [
    "\n"
   ],
   "metadata": {
    "collapsed": false,
    "pycharm": {
     "name": "#%%\n"
    }
   }
  }
 ],
 "metadata": {
  "kernelspec": {
   "display_name": "Python 3",
   "language": "python",
   "name": "python3"
  },
  "language_info": {
   "codemirror_mode": {
    "name": "ipython",
    "version": 2
   },
   "file_extension": ".py",
   "mimetype": "text/x-python",
   "name": "python",
   "nbconvert_exporter": "python",
   "pygments_lexer": "ipython2",
   "version": "2.7.6"
  }
 },
 "nbformat": 4,
 "nbformat_minor": 0
}