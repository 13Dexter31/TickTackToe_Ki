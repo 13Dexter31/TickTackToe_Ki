{
 "cells": [
  {
   "cell_type": "markdown",
   "source": [],
   "metadata": {
    "collapsed": false
   }
  },
  {
   "cell_type": "code",
   "execution_count": 1,
   "outputs": [],
   "source": [
    "import ipytest\n",
    "\n",
    "from build.Board import Board, Result\n",
    "from build.player.qlearner.QTableLearner import QTableLearner\n",
    "from unittest import mock\n",
    "from collections import defaultdict\n",
    "\n",
    "ipytest.autoconfig()"
   ],
   "metadata": {
    "collapsed": false,
    "pycharm": {
     "name": "#%%\n"
    }
   }
  },
  {
   "cell_type": "markdown",
   "source": [
    "## QTableLearner"
   ],
   "metadata": {
    "collapsed": false
   }
  },
  {
   "cell_type": "markdown",
   "source": [
    "### PyTest"
   ],
   "metadata": {
    "collapsed": false
   }
  },
  {
   "cell_type": "code",
   "execution_count": 25,
   "outputs": [
    {
     "name": "stdout",
     "output_type": "stream",
     "text": [
      "\u001B[32m.\u001B[0m\u001B[32m.\u001B[0m\u001B[32m.\u001B[0m\u001B[32m.\u001B[0m\u001B[32m                                                                                         [100%]\u001B[0m\n",
      "\u001B[32m\u001B[32m\u001B[1m4 passed\u001B[0m\u001B[32m in 0.02s\u001B[0m\u001B[0m\n"
     ]
    }
   ],
   "source": [
    "%%ipytest\n",
    "\n",
    "def test_q_table_type():\n",
    "\n",
    "    q_table_lerner = QTableLearner()\n",
    "    assert type(q_table_lerner.q_table) == defaultdict\n",
    "\n",
    "def test_q_table_size():\n",
    "\n",
    "    q_table_lerner = QTableLearner()\n",
    "    assert len(q_table_lerner.q_table) == 0\n",
    "\n",
    "def test_q_table_select_move():\n",
    "\n",
    "    q_table_lerner = QTableLearner()\n",
    "    assert q_table_lerner.select_move(Board().field) is not None\n",
    "\n",
    "def test_q_table_update():\n",
    "\n",
    "    q_table_lerner = QTableLearner()\n",
    "\n",
    "    prev_state = Board().field\n",
    "    state = prev_state.copy()\n",
    "    state[0, 0] = 'x'\n",
    "    prev_action = 4\n",
    "    reward = 100\n",
    "\n",
    "    q_table_lerner.update(prev_state, state, prev_action, reward)\n",
    "\n",
    "    assert q_table_lerner.select_move(prev_state, theta=0) == prev_action"
   ],
   "metadata": {
    "collapsed": false,
    "pycharm": {
     "name": "#%%\n"
    }
   }
  },
  {
   "cell_type": "markdown",
   "source": [
    "### Mock"
   ],
   "metadata": {
    "collapsed": false
   }
  },
  {
   "cell_type": "code",
   "execution_count": 18,
   "outputs": [],
   "source": [],
   "metadata": {
    "collapsed": false,
    "pycharm": {
     "name": "#%%\n"
    }
   }
  }
 ],
 "metadata": {
  "kernelspec": {
   "display_name": "Python 3",
   "language": "python",
   "name": "python3"
  },
  "language_info": {
   "codemirror_mode": {
    "name": "ipython",
    "version": 2
   },
   "file_extension": ".py",
   "mimetype": "text/x-python",
   "name": "python",
   "nbconvert_exporter": "python",
   "pygments_lexer": "ipython2",
   "version": "2.7.6"
  }
 },
 "nbformat": 4,
 "nbformat_minor": 0
}