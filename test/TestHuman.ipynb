{
 "cells": [
  {
   "cell_type": "markdown",
   "source": [],
   "metadata": {
    "collapsed": false
   }
  },
  {
   "cell_type": "markdown",
   "source": [
    "# Tests for Human class\n",
    "---\n",
    "Convert notebooks if not done already:"
   ],
   "metadata": {
    "collapsed": false
   }
  },
  {
   "cell_type": "markdown",
   "source": [
    "Import ipytest Tool and Randy class:"
   ],
   "metadata": {
    "collapsed": false
   }
  },
  {
   "cell_type": "code",
   "execution_count": 2,
   "outputs": [],
   "source": [
    "import ipytest\n",
    "\n",
    "from build.player.Human import Human\n",
    "from build.Board import Result\n",
    "\n",
    "ipytest.autoconfig()"
   ],
   "metadata": {
    "collapsed": false,
    "pycharm": {
     "name": "#%%\n"
    }
   }
  },
  {
   "cell_type": "markdown",
   "source": [
    "Start functional test for each method in Human class:"
   ],
   "metadata": {
    "collapsed": false
   }
  },
  {
   "cell_type": "code",
   "execution_count": 4,
   "outputs": [
    {
     "name": "stdout",
     "output_type": "stream",
     "text": [
      "\u001B[32m.\u001B[0m\u001B[32m.\u001B[0m\u001B[32m.\u001B[0m\u001B[32m.\u001B[0m\u001B[32m                                                                                         [100%]\u001B[0m\n",
      "\u001B[32m\u001B[32m\u001B[1m4 passed\u001B[0m\u001B[32m in 23.80s\u001B[0m\u001B[0m\n"
     ]
    }
   ],
   "source": [
    "%%ipytest\n",
    "\n",
    "def test_class():\n",
    "    \"\"\"\n",
    "    Check constructor\n",
    "    \"\"\"\n",
    "    human = Human('r')\n",
    "    assert human.__class__ == Human\n",
    "\n",
    "\n",
    "def test_representative_string():\n",
    "    \"\"\"\n",
    "    Check __str__ method\n",
    "    \"\"\"\n",
    "    human = Human('r')\n",
    "    assert human.__str__() == 'r'\n",
    "\n",
    "\n",
    "def test_feedback():\n",
    "    \"\"\"\n",
    "    Check giveResult method\n",
    "    \"\"\"\n",
    "    human = Human('r')\n",
    "    assert human.giveResult(Result.GAME_DRAW) is None\n",
    "\n",
    "\n",
    "def test_make_move():\n",
    "    \"\"\"\n",
    "    Check makeMove method\n",
    "    \"\"\"\n",
    "    human = Human('r')\n",
    "    assert human.makeMove(None).__class__ == tuple"
   ],
   "metadata": {
    "collapsed": false,
    "pycharm": {
     "name": "#%%\n"
    }
   }
  }
 ],
 "metadata": {
  "kernelspec": {
   "display_name": "Python 3",
   "language": "python",
   "name": "python3"
  },
  "language_info": {
   "codemirror_mode": {
    "name": "ipython",
    "version": 2
   },
   "file_extension": ".py",
   "mimetype": "text/x-python",
   "name": "python",
   "nbconvert_exporter": "python",
   "pygments_lexer": "ipython2",
   "version": "2.7.6"
  }
 },
 "nbformat": 4,
 "nbformat_minor": 0
}