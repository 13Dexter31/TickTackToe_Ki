{
 "cells": [
  {
   "cell_type": "code",
   "execution_count": 1,
   "metadata": {
    "collapsed": true
   },
   "outputs": [],
   "source": [
    "import ipytest\n",
    "\n",
    "from build.player.Player import Player\n",
    "from build.Board import Board, Result\n",
    "\n",
    "ipytest.autoconfig()"
   ]
  },
  {
   "cell_type": "code",
   "execution_count": 10,
   "outputs": [
    {
     "name": "stdout",
     "output_type": "stream",
     "text": [
      "\u001B[32m.\u001B[0m\u001B[32m.\u001B[0m\u001B[32m.\u001B[0m\u001B[32m.\u001B[0m\u001B[32m                                                                                         [100%]\u001B[0m\n",
      "\u001B[32m\u001B[32m\u001B[1m4 passed\u001B[0m\u001B[32m in 0.01s\u001B[0m\u001B[0m\n"
     ]
    }
   ],
   "source": [
    "%%ipytest\n",
    "\n",
    "def test_markPlayer():\n",
    "    board = Board()\n",
    "    player = Player(1)\n",
    "\n",
    "    board.markPlayer(0, 0, player)\n",
    "    assert board[0][0] == player\n",
    "\n",
    "def test_update():\n",
    "    board = Board()\n",
    "    player1 = Player(1)\n",
    "    player2 = Player(2)\n",
    "\n",
    "    for col in range(3):\n",
    "        for row in range(3):\n",
    "            assert board.update(col, row, player1) == True\n",
    "            assert board.update(col, row, player2) == False\n",
    "\n",
    "def test_noMoreMoves():\n",
    "    board = Board()\n",
    "    player1 = Player(1)\n",
    "    player2 = Player(2)\n",
    "\n",
    "    for row in range(3):\n",
    "        assert board.noMoreMoves() == False\n",
    "        board.update(0, row, player1)\n",
    "        board.update(1, row, player2)\n",
    "        board.update(2, row, player1)\n",
    "\n",
    "    assert board.noMoreMoves() == True\n",
    "\n",
    "def test_over():\n",
    "    board = Board()\n",
    "    player1 = Player(1)\n",
    "    player2 = Player(2)\n",
    "\n",
    "    assert board.over() == Result.NO_RESULT\n",
    "\n",
    "    # Column winningconditions\n",
    "    for col in range(3):\n",
    "        board = Board()\n",
    "        board.update(col, 0, player1)\n",
    "        board.update(col, 1, player1)\n",
    "        board.update(col, 2, player1)\n",
    "\n",
    "    # Row winningconditions\n",
    "    for row in range(3):\n",
    "        board = Board()\n",
    "        board.update(0, row, player1)\n",
    "        board.update(1, row, player1)\n",
    "        board.update(2, row, player1)\n",
    "        assert board.over() == player1\n",
    "\n",
    "    # Diagonal winningcondition \\\n",
    "    board = Board()\n",
    "    board.update(0, 0, player1)\n",
    "    board.update(1, 1, player1)\n",
    "    board.update(2, 2, player1)\n",
    "    assert board.over() == player1\n",
    "\n",
    "    # Diagonal winningcondition /\n",
    "    board = Board()\n",
    "    board.update(2, 0, player1)\n",
    "    board.update(1, 1, player1)\n",
    "    board.update(0, 2, player1)\n",
    "    assert board.over() == player1\n",
    "\n",
    "    # Draw\n",
    "    board = Board()\n",
    "    board.update(0, 0, player1)\n",
    "    board.update(0, 1, player2)\n",
    "    board.update(0, 2, player1)\n",
    "    board.update(1, 0, player2)\n",
    "    board.update(1, 1, player1)\n",
    "    board.update(1, 2, player2)\n",
    "    board.update(2, 0, player2)\n",
    "    board.update(2, 1, player1)\n",
    "    board.update(2, 2, player2)\n",
    "    assert board.over() == Result.GAME_DRAW"
   ],
   "metadata": {
    "collapsed": false,
    "pycharm": {
     "name": "#%%\n"
    }
   }
  }
 ],
 "metadata": {
  "kernelspec": {
   "display_name": "Python 3",
   "language": "python",
   "name": "python3"
  },
  "language_info": {
   "codemirror_mode": {
    "name": "ipython",
    "version": 2
   },
   "file_extension": ".py",
   "mimetype": "text/x-python",
   "name": "python",
   "nbconvert_exporter": "python",
   "pygments_lexer": "ipython2",
   "version": "2.7.6"
  }
 },
 "nbformat": 4,
 "nbformat_minor": 0
}