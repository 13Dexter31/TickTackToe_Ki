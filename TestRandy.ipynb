{
 "cells": [
  {
   "cell_type": "code",
   "execution_count": null,
   "outputs": [],
   "source": [
    "!jupyter nbconvert player/Player.ipynb --to script\n",
    "!jupyter nbconvert player/Human.ipynb --to script\n",
    "!jupyter nbconvert player/Randy.ipynb --to script"
   ],
   "metadata": {
    "collapsed": false,
    "pycharm": {
     "name": "#%%\n",
     "is_executing": true
    }
   }
  },
  {
   "cell_type": "code",
   "execution_count": 5,
   "outputs": [],
   "source": [
    "import ipytest\n",
    "from player.Randy import Randy\n",
    "\n",
    "ipytest.autoconfig()"
   ],
   "metadata": {
    "collapsed": false,
    "pycharm": {
     "name": "#%%\n"
    }
   }
  },
  {
   "cell_type": "code",
   "execution_count": 13,
   "outputs": [
    {
     "name": "stdout",
     "output_type": "stream",
     "text": [
      "\u001B[32m.\u001B[0m\u001B[32m.\u001B[0m\u001B[32m.\u001B[0m\u001B[32m.\u001B[0m\u001B[32m                                                                                         [100%]\u001B[0m\n",
      "\u001B[32m\u001B[32m\u001B[1m4 passed\u001B[0m\u001B[32m in 0.01s\u001B[0m\u001B[0m\n"
     ]
    }
   ],
   "source": [
    "%%ipytest\n",
    "\n",
    "from Board import Result\n",
    "\n",
    "def test_class():\n",
    "    randy = Randy('r')\n",
    "    assert randy.__class__ == Randy\n",
    "\n",
    "\n",
    "def test_representative_string():\n",
    "    randy = Randy('r')\n",
    "    assert randy.__str__() == 'r'\n",
    "\n",
    "\n",
    "def test_feedback():\n",
    "    randy = Randy('r')\n",
    "    assert randy.giveResult(Result.GAME_DRAW) is None\n",
    "\n",
    "def test_make_move():\n",
    "    randy = Randy('r')\n",
    "    assert randy.makeMove(None).__class__ == list"
   ],
   "metadata": {
    "collapsed": false,
    "pycharm": {
     "name": "#%%\n"
    }
   }
  }
 ],
 "metadata": {
  "kernelspec": {
   "display_name": "Python 3",
   "language": "python",
   "name": "python3"
  },
  "language_info": {
   "codemirror_mode": {
    "name": "ipython",
    "version": 2
   },
   "file_extension": ".py",
   "mimetype": "text/x-python",
   "name": "python",
   "nbconvert_exporter": "python",
   "pygments_lexer": "ipython2",
   "version": "2.7.6"
  }
 },
 "nbformat": 4,
 "nbformat_minor": 0
}