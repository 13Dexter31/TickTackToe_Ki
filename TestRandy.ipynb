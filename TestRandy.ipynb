{
 "cells": [
  {
   "cell_type": "markdown",
   "metadata": {},
   "source": [
    "# Tests for Randy class\n",
    "---\n",
    "Convert notebooks if not done already:"
   ]
  },
  {
   "cell_type": "code",
   "execution_count": null,
   "metadata": {
    "pycharm": {
     "is_executing": true,
     "name": "#%%\n"
    }
   },
   "outputs": [],
   "source": [
    "!jupyter nbconvert player/Player.ipynb --to script\n",
    "!jupyter nbconvert player/Human.ipynb --to script\n",
    "!jupyter nbconvert player/Randy.ipynb --to script"
   ]
  },
  {
   "cell_type": "markdown",
   "metadata": {},
   "source": [
    "Import ipytest Tool and Randy class:"
   ]
  },
  {
   "cell_type": "code",
   "execution_count": null,
   "metadata": {
    "pycharm": {
     "name": "#%%\n"
    }
   },
   "outputs": [],
   "source": [
    "import ipytest\n",
    "from player.Randy import Randy\n",
    "\n",
    "ipytest.autoconfig()"
   ]
  },
  {
   "cell_type": "markdown",
   "metadata": {},
   "source": [
    "Start functional test for each method in Randy class:"
   ]
  },
  {
   "cell_type": "code",
   "execution_count": null,
   "metadata": {
    "pycharm": {
     "name": "#%%\n"
    }
   },
   "outputs": [],
   "source": [
    "%%ipytest\n",
    "\n",
    "from Board import Result\n",
    "\n",
    "def test_class():\n",
    "    \"\"\"\n",
    "    Check constructor\n",
    "    \"\"\"\n",
    "    randy = Randy('r')\n",
    "    assert randy.__class__ == Randy\n",
    "\n",
    "\n",
    "def test_representative_string():\n",
    "    \"\"\"\n",
    "    Check __str__ method\n",
    "    \"\"\"\n",
    "    randy = Randy('r')\n",
    "    assert randy.__str__() == 'r'\n",
    "\n",
    "\n",
    "def test_feedback():\n",
    "    \"\"\"\n",
    "    Check giveResult method\n",
    "    \"\"\"\n",
    "    randy = Randy('r')\n",
    "    assert randy.giveResult(Result.GAME_DRAW) is None\n",
    "\n",
    "def test_make_move():\n",
    "    \"\"\"\n",
    "    Check makeMove method\n",
    "    \"\"\"\n",
    "    randy = Randy('r')\n",
    "    assert randy.makeMove(None).__class__ == list"
   ]
  }
 ],
 "metadata": {
  "kernelspec": {
   "display_name": "Python 3",
   "language": "python",
   "name": "python3"
  },
  "language_info": {
   "codemirror_mode": {
    "name": "ipython",
    "version": 2
   },
   "file_extension": ".py",
   "mimetype": "text/x-python",
   "name": "python",
   "nbconvert_exporter": "python",
   "pygments_lexer": "ipython2",
   "version": "2.7.6"
  }
 },
 "nbformat": 4,
 "nbformat_minor": 0
}
