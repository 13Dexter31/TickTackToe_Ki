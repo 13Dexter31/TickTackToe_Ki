{
 "cells": [
  {
   "cell_type": "code",
   "metadata": {
    "collapsed": true,
    "pycharm": {
     "name": "#%%\n"
    }
   },
   "source": [
    "from enum import Enum\n",
    "\n",
    "class Feedback(Enum):\n",
    "    PLACE_OCCUPIED = 0\n",
    "    WRONG_INPUT = 1\n",
    "    GAME_LOST = 2\n",
    "    GAME_WON = 3\n",
    "    GAME_DRAW = 4"
   ],
   "outputs": [],
   "execution_count": 1
  }
 ],
 "metadata": {
  "kernelspec": {
   "display_name": "Python 3",
   "language": "python",
   "name": "python3"
  },
  "language_info": {
   "codemirror_mode": {
    "name": "ipython",
    "version": 2
   },
   "file_extension": ".py",
   "mimetype": "text/x-python",
   "name": "python",
   "nbconvert_exporter": "python",
   "pygments_lexer": "ipython2",
   "version": "2.7.6"
  }
 },
 "nbformat": 4,
 "nbformat_minor": 0
}