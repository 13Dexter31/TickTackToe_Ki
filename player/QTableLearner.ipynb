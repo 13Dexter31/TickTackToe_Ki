{
 "cells": [
  {
   "cell_type": "code",
   "execution_count": 1,
   "outputs": [
    {
     "ename": "NameError",
     "evalue": "name 'QLearner' is not defined",
     "output_type": "error",
     "traceback": [
      "\u001B[1;31m---------------------------------------------------------------------------\u001B[0m",
      "\u001B[1;31mNameError\u001B[0m                                 Traceback (most recent call last)",
      "\u001B[1;32m~\\AppData\\Local\\Temp/ipykernel_15320/482690711.py\u001B[0m in \u001B[0;36m<module>\u001B[1;34m\u001B[0m\n\u001B[0;32m      3\u001B[0m \u001B[1;32mimport\u001B[0m \u001B[0mrandom\u001B[0m\u001B[1;33m\u001B[0m\u001B[1;33m\u001B[0m\u001B[0m\n\u001B[0;32m      4\u001B[0m \u001B[1;33m\u001B[0m\u001B[0m\n\u001B[1;32m----> 5\u001B[1;33m \u001B[1;32mclass\u001B[0m \u001B[0mQTableLearner\u001B[0m \u001B[1;33m(\u001B[0m\u001B[0mQLearner\u001B[0m\u001B[1;33m)\u001B[0m\u001B[1;33m:\u001B[0m\u001B[1;33m\u001B[0m\u001B[1;33m\u001B[0m\u001B[0m\n\u001B[0m\u001B[0;32m      6\u001B[0m     \"\"\"\n\u001B[0;32m      7\u001B[0m     \u001B[0mQ\u001B[0m \u001B[0mlearner\u001B[0m \u001B[0mplayer\u001B[0m \u001B[1;32mclass\u001B[0m\u001B[1;33m\u001B[0m\u001B[1;33m\u001B[0m\u001B[0m\n",
      "\u001B[1;31mNameError\u001B[0m: name 'QLearner' is not defined"
     ]
    }
   ],
   "source": [
    "from Decorators import debug, log, save_q_table\n",
    "from QLearner import QLearner\n",
    "import numpy as np\n",
    "import random\n",
    "\n",
    "class QTableLearner (QLearner):\n",
    "    \"\"\"\n",
    "    Q learner player class\n",
    "    \"\"\"\n",
    "\n",
    "    def __init__(self, alpha=0.1, gamma=0.8, filename=\"qtabletest.pkl\", env_action_space=0, actions=[], q_table=None):\n",
    "        \"\"\"\n",
    "        :param alpha: learning rate of this q learner\n",
    "        :param gamma: discount factor of this q learner\n",
    "        \"\"\"\n",
    "        self.state = None\n",
    "        self.next_state = None\n",
    "        self.gamma = gamma\n",
    "        self.alpha = alpha\n",
    "        self.env_action_space = env_action_space\n",
    "        self.filename = filename\n",
    "        self.actions = actions\n",
    "        self.q_table = q_table\n",
    "\n",
    "    #@save_q_table\n",
    "    def update(self,s,s_next,a,r):\n",
    "        \"\"\"\n",
    "        Calculates the new q value from the new state and action pair\n",
    "        :param s: last state of the board\n",
    "        :param s_next: new state of the board, including the new action\n",
    "        :param a: chosen action\n",
    "        :param r: reward for chosen action\n",
    "        :return: updated q table with the new value\n",
    "        \"\"\"\n",
    "        s,s_next=np.array_str(s),np.array_str(s_next)\n",
    "\n",
    "        q_table = self.q_table #self.get_q_table_from_file()\n",
    "\n",
    "        q_table[s][a] = q_table[s][a] * (1 - self.alpha) + self.alpha * (r + self.gamma * np.max(q_table[s_next]))\n",
    "\n",
    "        return q_table\n",
    "\n",
    "    def select_move(self, s, theta=0.9):\n",
    "        \"\"\"\n",
    "        Choose action according to softmax function in state s\n",
    "        :param s: state of the environment\n",
    "        :param theta: \"temperature\" parameter\n",
    "        :return: selected action\n",
    "        \"\"\"\n",
    "        self.state = s\n",
    "        if np.random.uniform(0, 1) > theta: # then exploit the env --> use Qtable or memory info\n",
    "            q_table = self.q_table #self.get_q_table_from_file()\n",
    "            idx = np.argmax(q_table[np.array_str(s)])\n",
    "            action = self.actions[idx]\n",
    "        else: # then explore the enviroment --> randomly sample a move from available moves\n",
    "            action = random.choice(self.actions) # that is the agent always explores the enviroment\n",
    "        return action # return choosen move\n"
   ],
   "metadata": {
    "collapsed": false,
    "pycharm": {
     "name": "#%%\n"
    }
   }
  }
 ],
 "metadata": {
  "kernelspec": {
   "display_name": "Python 3",
   "language": "python",
   "name": "python3"
  },
  "language_info": {
   "codemirror_mode": {
    "name": "ipython",
    "version": 2
   },
   "file_extension": ".py",
   "mimetype": "text/x-python",
   "name": "python",
   "nbconvert_exporter": "python",
   "pygments_lexer": "ipython2",
   "version": "2.7.6"
  }
 },
 "nbformat": 4,
 "nbformat_minor": 0
}