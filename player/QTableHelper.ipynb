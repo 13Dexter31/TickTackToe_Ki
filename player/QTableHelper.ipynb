{
 "cells": [
  {
   "cell_type": "code",
   "execution_count": 1,
   "outputs": [],
   "source": [
    "import dill\n",
    "\n",
    "class QTableHelper:\n",
    "\n",
    "    @staticmethod\n",
    "    def readInDict(path) -> dict:\n",
    "        with open(path, \"rb\") as qtablefile: # \"..\\\\qtable.pkl\"\n",
    "            return dill.load(qtablefile)\n",
    "\n",
    "    @staticmethod\n",
    "    def prettyPrintQTavle(dictQTable):\n",
    "        for key, values in dictQTable.items():\n",
    "\n",
    "            prettyValues = \"\"\n",
    "            for value in values:\n",
    "                prettyValues += \"{:>4}  \".format(round(value, 1))\n",
    "\n",
    "            print(prettyValues)"
   ],
   "metadata": {
    "collapsed": false,
    "pycharm": {
     "name": "#%%\n"
    }
   }
  },
  {
   "cell_type": "code",
   "execution_count": null,
   "outputs": [],
   "source": [
    "QTableHelper.readInDict()"
   ],
   "metadata": {
    "collapsed": false,
    "pycharm": {
     "name": "#%%\n"
    }
   }
  },
  {
   "cell_type": "code",
   "execution_count": null,
   "outputs": [],
   "source": [],
   "metadata": {
    "collapsed": false,
    "pycharm": {
     "name": "#%%\n"
    }
   }
  }
 ],
 "metadata": {
  "kernelspec": {
   "display_name": "Python 3",
   "language": "python",
   "name": "python3"
  },
  "language_info": {
   "codemirror_mode": {
    "name": "ipython",
    "version": 2
   },
   "file_extension": ".py",
   "mimetype": "text/x-python",
   "name": "python",
   "nbconvert_exporter": "python",
   "pygments_lexer": "ipython2",
   "version": "2.7.6"
  }
 },
 "nbformat": 4,
 "nbformat_minor": 0
}