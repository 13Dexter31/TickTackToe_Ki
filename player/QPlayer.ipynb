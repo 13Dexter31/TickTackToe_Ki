{
 "cells": [
  {
   "cell_type": "code",
   "execution_count": null,
   "outputs": [],
   "source": [
    "from player.QLearner import QLearner\n",
    "from Board import Result\n",
    "from player.Player import Player\n",
    "from Decorators import debug, log\n",
    "import numpy as np\n",
    "\n",
    "class QPlayer(Player):\n",
    "    \"\"\"\n",
    "    Q learner player class\n",
    "    \"\"\"\n",
    "\n",
    "    def __init__(self, representationChar, q_learner, q_table_ttt=None):\n",
    "\n",
    "        self.q_learner = q_learner\n",
    "        Player.__init__(self ,representationChar)\n",
    "        self.actions = {0: [1,1],1:[1,2],2:[1,3],3:[2,1],4:[2,2],5:[2,3],6:[3,1],7:[3,2],8:[3,3]}\n",
    "        QLearner.__init__(self, env_action_space=9, actions=self.actions, q_table=q_table_ttt)\n",
    "        self.prev_state = np.empty(shape=(3,3), dtype=Player)\n",
    "        self.last_action = []\n",
    "        self.action = []\n",
    "        self.state = np.empty(shape=(3,3), dtype=Player)\n",
    "        self.last_reward = 0\n",
    "\n",
    "    @debug\n",
    "    #@log(aiReadable=True)\n",
    "    def makeMove(self, board):\n",
    "        \"\"\"\n",
    "        Makes a move on the board\n",
    "        :param board: current state of the board\n",
    "        :return: list of a random column (first) and row number (second)\n",
    "        \"\"\"\n",
    "        self.state = board.field\n",
    "        self.action = QLearner.select_move(self,s=self.state)\n",
    "        return self.action\n",
    "\n",
    "    def giveResult(self, result):\n",
    "        \"\"\"\n",
    "        Set own reward for given result and updates the q table\n",
    "        \"\"\"\n",
    "        reward = 0\n",
    "        if Result.INVALID_MOVE == result: reward = -100\n",
    "        if Result.GAME_LOST == result: reward = -10\n",
    "        if Result.GAME_WON == result: reward = 100\n",
    "        if Result.GAME_DRAW == result: reward = -1\n",
    "\n",
    "        if len(self.last_action)>0:\n",
    "            action_idx = list(self.actions.keys())[list(self.actions.values()).index(self.last_action)]\n",
    "            QLearner.update(self, self.prev_state, self.state, action_idx, self.last_reward)\n",
    "\n",
    "        self.last_action = self.action\n",
    "        self.prev_state = self.state\n",
    "        self.last_reward = reward\n"
   ],
   "metadata": {
    "collapsed": false,
    "pycharm": {
     "name": "#%%\n"
    }
   }
  }
 ],
 "metadata": {
  "kernelspec": {
   "display_name": "Python 3",
   "language": "python",
   "name": "python3"
  },
  "language_info": {
   "codemirror_mode": {
    "name": "ipython",
    "version": 2
   },
   "file_extension": ".py",
   "mimetype": "text/x-python",
   "name": "python",
   "nbconvert_exporter": "python",
   "pygments_lexer": "ipython2",
   "version": "2.7.6"
  }
 },
 "nbformat": 4,
 "nbformat_minor": 0
}