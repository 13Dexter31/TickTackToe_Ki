{
 "cells": [
  {
   "cell_type": "code",
   "execution_count": 1,
   "metadata": {
    "collapsed": true
   },
   "outputs": [],
   "source": [
    "from abc import abstractmethod\n",
    "\n",
    "class Player():\n",
    "\n",
    "    def __init__(self, representationChar) -> None:\n",
    "        self.representationChar = representationChar\n",
    "\n",
    "    def __str__(self):\n",
    "        return self.representationChar\n",
    "\n",
    "    @abstractmethod\n",
    "    def makeMove(self, board):\n",
    "        pass\n",
    "\n",
    "    @abstractmethod\n",
    "    def giveResult(self, result):\n",
    "        pass"
   ]
  }
 ],
 "metadata": {
  "kernelspec": {
   "display_name": "Python 3",
   "language": "python",
   "name": "python3"
  },
  "language_info": {
   "codemirror_mode": {
    "name": "ipython",
    "version": 2
   },
   "file_extension": ".py",
   "mimetype": "text/x-python",
   "name": "python",
   "nbconvert_exporter": "python",
   "pygments_lexer": "ipython2",
   "version": "2.7.6"
  }
 },
 "nbformat": 4,
 "nbformat_minor": 0
}