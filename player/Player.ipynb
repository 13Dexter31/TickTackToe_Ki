{
 "cells": [
  {
   "cell_type": "code",
   "execution_count": null,
   "metadata": {},
   "outputs": [],
   "source": [
    "from abc import abstractmethod\n",
    "from Decorators import debug\n",
    "\n",
    "class Player:\n",
    "    \"\"\"\n",
    "    Parent class for all types of player\n",
    "    \"\"\"\n",
    "\n",
    "\n",
    "    def __init__(self, representationChar) -> None:\n",
    "        \"\"\"\n",
    "        :param representationChar: char to represent the player on the game board\n",
    "        \"\"\"\n",
    "        self.representationChar = representationChar\n",
    "\n",
    "    def __str__(self):\n",
    "        \"\"\"\n",
    "        __str__ method to output Player object with corresponding char\n",
    "        :return: representation char\n",
    "        \"\"\"\n",
    "        return str(self.representationChar)\n",
    "\n",
    "    @abstractmethod\n",
    "    @debug\n",
    "    def makeMove(self, board):\n",
    "        \"\"\"\n",
    "        Every player has to make his own move\n",
    "        :param board: current board state\n",
    "        \"\"\"\n",
    "        pass\n",
    "\n",
    "    @abstractmethod\n",
    "    @debug\n",
    "    def giveResult(self, result):\n",
    "        \"\"\"\n",
    "        Each player must receive and process feedback\n",
    "        :param result: Enum element for feedback\n",
    "        \"\"\"\n",
    "        pass\n"
   ]
  }
 ],
 "metadata": {
  "kernelspec": {
   "display_name": "Python 3",
   "language": "python",
   "name": "python3"
  },
  "language_info": {
   "codemirror_mode": {
    "name": "ipython",
    "version": 2
   },
   "file_extension": ".py",
   "mimetype": "text/x-python",
   "name": "python",
   "nbconvert_exporter": "python",
   "pygments_lexer": "ipython2",
   "version": "2.7.6"
  }
 },
 "nbformat": 4,
 "nbformat_minor": 0
}
