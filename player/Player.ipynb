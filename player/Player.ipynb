{
 "cells": [
  {
   "cell_type": "code",
   "execution_count": 1,
   "metadata": {
    "collapsed": true
   },
   "outputs": [],
   "source": [
    "from abc import abstractmethod\n",
    "from Decorators import debug\n",
    "\n",
    "class Player:\n",
    "    \"\"\"\n",
    "    Parent class for all types of player\n",
    "    \"\"\"\n",
    "\n",
    "\n",
    "    def __init__(self, representationChar) -> None:\n",
    "        \"\"\"\n",
    "        :param representationChar: char to represent the player on the game board\n",
    "        \"\"\"\n",
    "        self.representationChar = representationChar\n",
    "\n",
    "    def __str__(self):\n",
    "        \"\"\"\n",
    "        __str__ method to output Player object with corresponding char\n",
    "        :return: representation char\n",
    "        \"\"\"\n",
    "        return str(self.representationChar)\n",
    "\n",
    "    @abstractmethod\n",
    "    @debug\n",
    "    def makeMove(self, board):\n",
    "        \"\"\"\n",
    "        Every player has to make his own move\n",
    "        :param board: current board state\n",
    "        \"\"\"\n",
    "        pass\n",
    "\n",
    "    @abstractmethod\n",
    "    @debug\n",
    "    def giveResult(self, result):\n",
    "        \"\"\"\n",
    "        Each player must receive and process feedback\n",
    "        :param result: Enum element for feedback\n",
    "        \"\"\"\n",
    "        pass"
   ]
  },
  {
   "cell_type": "code",
   "execution_count": null,
   "outputs": [],
   "source": [
    "class Stats:\n",
    "    \"\"\"\n",
    "    An object tracking the stats of a player\n",
    "    \"\"\"\n",
    "\n",
    "    def __init__(self) -> None:\n",
    "        self._won = 0\n",
    "        self._lost = 0\n",
    "        self._draw = 0\n",
    "\n",
    "    def display(self):\n",
    "\n",
    "        games = self.played_games()\n",
    "\n",
    "        print(f\"Games     won    |    lost    |    draw    | total games\")\n",
    "        print(f\"      {self.getWon():^10} | {self.getLost():^10} | {self.getDraw():^10} | {games:^10}\")\n",
    "        print(f\"      {self.getWon() / games:^10.0%} \"\n",
    "              f\"| {self.getLost() / games:^10.0%} \"\n",
    "              f\"| {self.getDraw() / games:^10.0%} \"\n",
    "              f\"| {games / games:^10.0%}\")\n",
    "\n",
    "    def incrWon(self):\n",
    "        self._won += 1\n",
    "\n",
    "    def incrLost(self):\n",
    "        self._lost += 1\n",
    "\n",
    "    def incrDraw(self):\n",
    "        self._draw += 1\n",
    "\n",
    "    def getWon(self) -> int:\n",
    "        return self._won\n",
    "\n",
    "    def getLost(self) -> int:\n",
    "        return self._lost\n",
    "\n",
    "    def getDraw(self) -> int:\n",
    "        return self._draw\n",
    "\n",
    "    def played_games(self):\n",
    "        return self.getWon() + self.getLost() + self.getDraw()"
   ],
   "metadata": {
    "collapsed": false,
    "pycharm": {
     "name": "#%%\n"
    }
   }
  }
 ],
 "metadata": {
  "kernelspec": {
   "display_name": "Python 3",
   "language": "python",
   "name": "python3"
  },
  "language_info": {
   "codemirror_mode": {
    "name": "ipython",
    "version": 2
   },
   "file_extension": ".py",
   "mimetype": "text/x-python",
   "name": "python",
   "nbconvert_exporter": "python",
   "pygments_lexer": "ipython2",
   "version": "2.7.6"
  }
 },
 "nbformat": 4,
 "nbformat_minor": 0
}