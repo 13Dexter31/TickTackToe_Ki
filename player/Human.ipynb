{
 "cells": [
  {
   "cell_type": "code",
   "execution_count": null,
   "metadata": {
    "collapsed": true
   },
   "outputs": [],
   "source": [
    "from player.Feedback import Feedback\n",
    "from player.Player import Player\n",
    "\n",
    "class Human(Player):\n",
    "\n",
    "    def makeMove(self, board):\n",
    "\n",
    "        print(board)\n",
    "        return Position(self.getColumn(), self.getRow())\n",
    "\n",
    "    def getColumn(self):\n",
    "\n",
    "        column = input(\"Enter column [A|B|C]: \")\n",
    "        if column.__eq__(\"a\") or column.__eq__(\"A\"):\n",
    "            return 0\n",
    "        elif column.__eq__(\"b\") or column.__eq__(\"B\"):\n",
    "            return 1\n",
    "        elif column.__eq__(\"c\") or column.__eq__(\"C\"):\n",
    "            return 2\n",
    "        else:\n",
    "            self.giveFeedback(Feedback.WRONG_INPUT)\n",
    "            column = self.getColumn()\n",
    "\n",
    "        return column\n",
    "\n",
    "    def getRow(self):\n",
    "\n",
    "        row = input(\"Enter row [1|2|3]: \")\n",
    "        if (not (row.__eq__(\"1\") or row.__eq__(\"2\") or row.__eq__(\"3\"))):\n",
    "            self.giveFeedback(Feedback.WRONG_INPUT)\n",
    "            row = self.getRow()\n",
    "\n",
    "        return row\n",
    "\n",
    "    def giveFeedback(self, feedback):\n",
    "\n",
    "        if Feedback.PLACE_OCCUPIED == feedback:\n",
    "            print(\"Die Position ist bereits besetzt!\")\n",
    "\n",
    "        elif Feedback.WRONG_INPUT == feedback:\n",
    "            print(\"This is no valid input.\\nPlease choose from the options between the braces.\\n\")\n",
    "\n",
    "        elif Feedback.GAME_LOST == feedback:\n",
    "            print(\"You have lost the game. :/\")\n",
    "\n",
    "        elif Feedback.GAME_WON == feedback:\n",
    "            print(\"You have won the game! :)\")\n",
    "\n",
    "        elif Feedback.GAME_DRAW == feedback:\n",
    "            print(\"The game is over and no one won.\")"
   ]
  }
 ],
 "metadata": {
  "kernelspec": {
   "display_name": "Python 3",
   "language": "python",
   "name": "python3"
  },
  "language_info": {
   "codemirror_mode": {
    "name": "ipython",
    "version": 2
   },
   "file_extension": ".py",
   "mimetype": "text/x-python",
   "name": "python",
   "nbconvert_exporter": "python",
   "pygments_lexer": "ipython2",
   "version": "2.7.6"
  }
 },
 "nbformat": 4,
 "nbformat_minor": 0
}