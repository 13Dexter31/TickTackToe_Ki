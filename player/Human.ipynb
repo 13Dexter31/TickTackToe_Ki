{
 "cells": [
  {
   "cell_type": "code",
   "execution_count": 6,
   "metadata": {
    "collapsed": true
   },
   "outputs": [],
   "source": [
    "from player.Feedback import Feedback\n",
    "from player.Player import Player\n",
    "\n",
    "class Human(Player):\n",
    "\n",
    "    def makeMove(self, board):\n",
    "\n",
    "        print(board)\n",
    "        return None # Position(self.getColumn(), self.getRow())\n",
    "\n",
    "    def getColumn(self):\n",
    "\n",
    "        column = input(\"Enter column [A|B|C]: \")\n",
    "        if column.__eq__(\"a\") or column.__eq__(\"A\"):\n",
    "            return 0\n",
    "        elif column.__eq__(\"b\") or column.__eq__(\"B\"):\n",
    "            return 1\n",
    "        elif column.__eq__(\"c\") or column.__eq__(\"C\"):\n",
    "            return 2\n",
    "        else:\n",
    "            self.giveFeedback(Feedback.WRONG_INPUT)\n",
    "            column = self.getColumn()\n",
    "\n",
    "        return column\n",
    "\n",
    "    def getRow(self):\n",
    "\n",
    "        row = input(\"Enter row [1|2|3]: \")\n",
    "        if (not (row.__eq__(\"1\") or row.__eq__(\"2\") or row.__eq__(\"3\"))):\n",
    "            self.giveFeedback(Feedback.WRONG_INPUT)\n",
    "            row = self.getRow()\n",
    "\n",
    "        return row\n",
    "\n",
    "    def giveFeedback(self, feedback):\n",
    "\n",
    "        if Feedback.PLACE_OCCUPIED == feedback:\n",
    "            print(\"Die Position ist bereits besetzt!\")\n",
    "\n",
    "        elif Feedback.WRONG_INPUT == feedback:\n",
    "            print(\"This is no valid input.\\nPlease choose from the options between the braces.\\n\")\n",
    "\n",
    "        elif Feedback.GAME_LOST == feedback:\n",
    "            print(\"You have lost the game. :/\")\n",
    "\n",
    "        elif Feedback.GAME_WON == feedback:\n",
    "            print(\"You have won the game! :)\")\n",
    "\n",
    "        elif Feedback.GAME_DRAW == feedback:\n",
    "            print(\"The game is over and no one won.\")"
   ]
  },
  {
   "cell_type": "code",
   "execution_count": 3,
   "outputs": [],
   "source": [
    "import ipytest\n",
    "import pytest\n",
    "ipytest.autoconfig()"
   ],
   "metadata": {
    "collapsed": false,
    "pycharm": {
     "name": "#%%\n"
    }
   }
  },
  {
   "cell_type": "code",
   "execution_count": 13,
   "outputs": [
    {
     "name": "stdout",
     "output_type": "stream",
     "text": [
      "\u001B[32m.\u001B[0m\u001B[32m.\u001B[0m\u001B[32m.\u001B[0m\u001B[32m                                                                                          [100%]\u001B[0m\n",
      "\u001B[32m\u001B[32m\u001B[1m3 passed\u001B[0m\u001B[32m in 0.02s\u001B[0m\u001B[0m\n"
     ]
    }
   ],
   "source": [
    "%%ipytest\n",
    "\n",
    "def test_class():\n",
    "    human = Human('h')\n",
    "    assert human.__class__ == Human\n",
    "\n",
    "def test_representative_string():\n",
    "    human = Human('h')\n",
    "    assert human.__str__() == 'h'\n",
    "\n",
    "def test_feedback():\n",
    "    human = Human('h')\n",
    "    human.__class__==Human.__class__\n",
    "    assert human.giveFeedback(Feedback.GAME_DRAW) is None\n",
    "\n",
    "# def test_make_move():\n",
    "#     human = Human('r')\n",
    "#     assert human.makeMove().__class__ == Feedback"
   ],
   "metadata": {
    "collapsed": false,
    "pycharm": {
     "name": "#%%\n"
    }
   }
  }
 ],
 "metadata": {
  "kernelspec": {
   "display_name": "Python 3",
   "language": "python",
   "name": "python3"
  },
  "language_info": {
   "codemirror_mode": {
    "name": "ipython",
    "version": 2
   },
   "file_extension": ".py",
   "mimetype": "text/x-python",
   "name": "python",
   "nbconvert_exporter": "python",
   "pygments_lexer": "ipython2",
   "version": "2.7.6"
  }
 },
 "nbformat": 4,
 "nbformat_minor": 0
}