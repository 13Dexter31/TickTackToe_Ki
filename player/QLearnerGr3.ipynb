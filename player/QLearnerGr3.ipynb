{
 "cells": [
  {
   "cell_type": "code",
   "execution_count": 4,
   "metadata": {},
   "outputs": [],
   "source": [
    "from collections import defaultdict\n",
    "import numpy as np\n",
    "from functools import partial\n",
    "import random\n",
    "from scipy.special import softmax"
   ]
  },
  {
   "cell_type": "code",
   "execution_count": 5,
   "metadata": {},
   "outputs": [],
   "source": [
    "class QLearner:\n",
    "    \"\"\"\n",
    "    :param alpha: learning rate of this q learner :param gamma: discount factor of this q learner\n",
    "    https://stackoverflow.com/questions/25014298/creating-a-defaultdict-with-empty-numpy-array\n",
    "    \"\"\"\n",
    "    def __init__(self, alpha=0.1, gamma=0.8):\n",
    "        self._qtable = defaultdict(lambda: numpy.ndarray(0))\n",
    "        self._gamma = gamma\n",
    "        self._alpha = alpha\n",
    "\n",
    "        \n",
    "    \"\"\" update the q value of a\n",
    "     (state, action) pair when the action was rewarded with r :param s: the\n",
    "     state :param a: the action that was carried out from state s :param r:\n",
    "     the reward gained from the environment after action in state s :param\n",
    "     s_next: state the environment changed into after action a in state s\n",
    "     \n",
    "     Qˆ(s,a) := (1 − α)Qˆ(s,a) + α r + γ maxQˆ(s,a)\n",
    "     \"\"\"\n",
    "    def update(self, s, a, r, s_next)-> None:\n",
    "        self._qtable[s][a] = (1-self._alpha)*(self._qtable[s][a])+self._alpha * r + self._gamma * max(self._qtable[s_next][a])\n",
    "    \n",
    "    \"\"\" Choose action\n",
    "     according to softmax function in state s\n",
    "     :param s: state of theenvironment\n",
    "     :param theta: \"temperature\" parameter\n",
    "     :return: selectedaction \n",
    "     https://www.baeldung.com/cs/epsilon-greedy-q-learning\n",
    "    \"\"\"\n",
    "    def select_action(self, s, theta=1):\n",
    "        moves = []\n",
    "        for available_action in self._qtable[s]:\n",
    "            if available_action is not None:\n",
    "                moves.add(available_action)\n",
    "        n = random.uniform(0, 2)\n",
    "        if n < theta:\n",
    "            action = random.choice(moves)\n",
    "        else:\n",
    "            action = np.argmax(self._qtable[s])\n",
    "        return action\n",
    "        "
   ]
  },
  {
   "cell_type": "code",
   "execution_count": null,
   "metadata": {},
   "outputs": [],
   "source": []
  }
 ],
 "metadata": {
  "kernelspec": {
   "display_name": "Python 3",
   "language": "python",
   "name": "python3"
  },
  "language_info": {
   "codemirror_mode": {
    "name": "ipython",
    "version": 3
   },
   "file_extension": ".py",
   "mimetype": "text/x-python",
   "name": "python",
   "nbconvert_exporter": "python",
   "pygments_lexer": "ipython3",
   "version": "3.6.9"
  }
 },
 "nbformat": 4,
 "nbformat_minor": 2
}
