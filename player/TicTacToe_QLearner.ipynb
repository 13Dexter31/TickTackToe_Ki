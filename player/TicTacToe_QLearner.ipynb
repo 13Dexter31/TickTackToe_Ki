{
 "cells": [
  {
   "cell_type": "code",
   "execution_count": null,
   "outputs": [],
   "source": [
    "from player.QLearner import QLearner\n",
    "from Board import Result\n",
    "from collections import defaultdict\n",
    "from player.Player import Player\n",
    "from Decorators import debug, log\n",
    "import numpy as np\n",
    "\n",
    "class QPlayer(Player, QLearner):\n",
    "    \"\"\"\n",
    "    Q learner player class\n",
    "    \"\"\"\n",
    "\n",
    "    def __init__(self, representationChar, exp_factor=0.9):\n",
    "        Player.__init__(self ,representationChar)\n",
    "        QLearner.__init__(self, env_action_space=9, actions=np.array([[1,1],[1,2],[1,3],[2,1],[2,2],[2,3],[3,1],[3,2],[3,3]]))\n",
    "        self.states_value = []  # record all positions taken\n",
    "        self.exp_factor = exp_factor\n",
    "        self.env_action_space=9\n",
    "        self.q_table=defaultdict(lambda: np.zeros(self.env_action_space)) # dictionary\n",
    "        self.prev_state = np.empty(shape=(3,3), dtype=Player)\n",
    "        self.last_action = []\n",
    "        self.state = np.empty(shape=(3,3), dtype=Player)\n",
    "\n",
    "    @debug\n",
    "    #@log(aiReadable=True)\n",
    "    def makeMove(self, board):\n",
    "        \"\"\"\n",
    "        Makes a move on the board\n",
    "        :param board: current state of the board\n",
    "        :return: list of a random column (first) and row number (second)\n",
    "        \"\"\"\n",
    "        self.state = board.field\n",
    "        self.last_action = QLearner.select_move(self,s=self.state)\n",
    "        print(self.last_action)\n",
    "        return self.last_action\n",
    "\n",
    "    def giveResult(self, result):\n",
    "        \"\"\"\n",
    "        Set own reward for given result and updates the q table\n",
    "        \"\"\"\n",
    "        reward = 0\n",
    "        if Result.INVALID_MOVE == result: reward = -100\n",
    "        if Result.GAME_LOST == result: reward = -10\n",
    "        if Result.GAME_WON == result: reward = 100\n",
    "        if Result.GAME_DRAW == result: reward = -1\n",
    "\n",
    "        qtable = QLearner.update(self, self.prev_state, self.state, self.last_action, reward)\n",
    "        #print(qtable)\n",
    "        self.prev_state = self.state\n",
    "\n"
   ],
   "metadata": {
    "collapsed": false,
    "pycharm": {
     "name": "#%%\n"
    }
   }
  }
 ],
 "metadata": {
  "kernelspec": {
   "display_name": "Python 3",
   "language": "python",
   "name": "python3"
  },
  "language_info": {
   "codemirror_mode": {
    "name": "ipython",
    "version": 2
   },
   "file_extension": ".py",
   "mimetype": "text/x-python",
   "name": "python",
   "nbconvert_exporter": "python",
   "pygments_lexer": "ipython2",
   "version": "2.7.6"
  }
 },
 "nbformat": 4,
 "nbformat_minor": 0
}