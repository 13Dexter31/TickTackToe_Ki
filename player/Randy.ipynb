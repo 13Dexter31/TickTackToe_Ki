{
 "cells": [
  {
   "cell_type": "code",
   "execution_count": 21,
   "outputs": [],
   "source": [
    "from random import randint\n",
    "from player.Player import Player\n",
    "from Decorators import debug, log\n",
    "\n",
    "class Randy(Player):\n",
    "    \"\"\"\n",
    "    Random player class\n",
    "    \"\"\"\n",
    "\n",
    "    @debug\n",
    "    @log(aiReadable=True)\n",
    "    def makeMove(self, board):\n",
    "        \"\"\"\n",
    "        Makes a random move on the board\n",
    "        :param board: current state of the board\n",
    "        :return: list of a random column (first) and row number (second)\n",
    "        \"\"\"\n",
    "        return [randint(1, 3), randint(1, 3)]\n",
    "\n",
    "    @debug\n",
    "    def giveResult(self, result):\n",
    "        \"\"\"\n",
    "        Just a empty method because a random player doesn't need feedback\n",
    "        \"\"\"\n",
    "        pass"
   ],
   "metadata": {
    "collapsed": false,
    "pycharm": {
     "name": "#%%\n"
    }
   }
  }
 ],
 "metadata": {
  "kernelspec": {
   "display_name": "Python 3",
   "language": "python",
   "name": "python3"
  },
  "language_info": {
   "codemirror_mode": {
    "name": "ipython",
    "version": 2
   },
   "file_extension": ".py",
   "mimetype": "text/x-python",
   "name": "python",
   "nbconvert_exporter": "python",
   "pygments_lexer": "ipython2",
   "version": "2.7.6"
  }
 },
 "nbformat": 4,
 "nbformat_minor": 0
}