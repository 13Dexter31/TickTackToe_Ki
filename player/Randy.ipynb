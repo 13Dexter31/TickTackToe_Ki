{
 "cells": [
  {
   "cell_type": "code",
   "execution_count": 21,
   "outputs": [],
   "source": [
    "from random import randint\n",
    "\n",
    "from player.Player import Player\n",
    "\n",
    "\n",
    "class Randy(Player):\n",
    "\n",
    "    def makeMove(self, board):\n",
    "        return None # Position(randint(1, 3), randint(1, 3))\n",
    "\n",
    "    def giveFeedback(self, feedback):\n",
    "        pass"
   ],
   "metadata": {
    "collapsed": false,
    "pycharm": {
     "name": "#%%\n"
    }
   }
  },
  {
   "cell_type": "code",
   "execution_count": 3,
   "outputs": [],
   "source": [
    "import ipytest\n",
    "import pytest\n",
    "ipytest.autoconfig()"
   ],
   "metadata": {
    "collapsed": false,
    "pycharm": {
     "name": "#%%\n"
    }
   }
  },
  {
   "cell_type": "code",
   "execution_count": 22,
   "outputs": [
    {
     "name": "stdout",
     "output_type": "stream",
     "text": [
      "\u001B[32m.\u001B[0m\u001B[32m.\u001B[0m\u001B[32m                                                                                           [100%]\u001B[0m\n",
      "\u001B[32m\u001B[32m\u001B[1m2 passed\u001B[0m\u001B[32m in 0.01s\u001B[0m\u001B[0m\n"
     ]
    }
   ],
   "source": [
    "%%ipytest\n",
    "from player.Feedback import Feedback\n",
    "\n",
    "def test_class():\n",
    "    randy = Randy('r')\n",
    "    assert randy.__class__ == Randy\n",
    "\n",
    "def test_representative_string():\n",
    "    randy = Randy('r')\n",
    "    assert randy.__str__() == 'r'\n",
    "\n",
    "def test_feedback():\n",
    "    randy = Randy('r')\n",
    "    assert randy.giveFeedback(Feedback.GAME_DRAW) is None\n",
    "\n",
    "# def test_make_move():\n",
    "#     randy = Randy('r')\n",
    "#     assert randy.makeMove().__class__ == Feedback"
   ],
   "metadata": {
    "collapsed": false,
    "pycharm": {
     "name": "#%%\n"
    }
   }
  }
 ],
 "metadata": {
  "kernelspec": {
   "display_name": "Python 3",
   "language": "python",
   "name": "python3"
  },
  "language_info": {
   "codemirror_mode": {
    "name": "ipython",
    "version": 2
   },
   "file_extension": ".py",
   "mimetype": "text/x-python",
   "name": "python",
   "nbconvert_exporter": "python",
   "pygments_lexer": "ipython2",
   "version": "2.7.6"
  }
 },
 "nbformat": 4,
 "nbformat_minor": 0
}