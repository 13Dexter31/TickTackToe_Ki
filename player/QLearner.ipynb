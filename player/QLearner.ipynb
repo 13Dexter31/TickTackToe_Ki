{
 "cells": [],
 "metadata": {
  "kernelspec": {
   "display_name": "Python 3",
   "language": "python",
   "name": "python3"
  },
  "language_info": {
   "codemirror_mode": {
    "name": "ipython",
    "version": 2
   },
   "file_extension": ".py",
   "mimetype": "text/x-python",
   "name": "python",
   "nbconvert_exporter": "python",
   "pygments_lexer": "ipython2",
   "version": "2.7.6"
  },
  "pycharm": {
   "stem_cell": {
    "cell_type": "raw",
    "source": [
     "f#%%\n",
     "rom abc import  \n",
     "\n",
     "class Qlearner:\n",
     "    \n",
     "    @abst\n",
     "    def __init__(self, alpha=0.1, gamma=0.8, filename=\"qtabletest.pkl\", env_action_space=0, actions=[], q_table=None):\n"
    ],
    "metadata": {
     "collapsed": false
    }
   }
  }
 },
 "nbformat": 4,
 "nbformat_minor": 0
}