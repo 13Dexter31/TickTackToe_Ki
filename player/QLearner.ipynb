{
 "cells": [
  {
   "cell_type": "code",
   "execution_count": null,
   "metadata": {
    "collapsed": true
   },
   "outputs": [],
   "source": [
    "from collections import defaultdict\n",
    "import numpy as np\n",
    "from functools import partial\n",
    "import random\n",
    "from scipy.special import softmax"
   ]
  },
  {
   "cell_type": "code",
   "execution_count": null,
   "outputs": [],
   "source": [
    "#NO_RESULT = 0 r=1\n",
    "#GAME_WON = 1 r=10\n",
    "#GAME_LOST = 2 r=-10\n",
    "#GAME_DRAW = 3 r=-7\n",
    "#INVALID_MOVE = 4 r=-5\n",
    "\n",
    "class QLearner():\n",
    "\n",
    "    def __init__(self, alpha=0.1, gamma=0.8):\n",
    "        # key = board (hashed)\n",
    "        self.q_table = defaultdict(partial(np.ndarray, 0))\n",
    "        self.alpha = alpha\n",
    "        self.gamma = gamma\n",
    "\n",
    "    def update(self, s, a, r, s_next) -> None:\n",
    "        \"\"\"\n",
    "        update the q value of a (state, action) pair when the action was rewarded with r\n",
    "        :param s: the state\n",
    "        :param a: the action that was carried out from state s\n",
    "        :param r: the reward gained from the environment after action in state s\n",
    "        :param s_next: state the environment changed into after action a in state s\n",
    "        \"\"\"\n",
    "        self.q_table[s.tobytes()][a] = self.q_table[s.tobytes()][a] * (1 - self.alpha) + self.alpha * (r + self.gamma * max(self.q_table[s_next.tobytes()]))\n",
    "\n",
    "    def select_action(self, s, theta=1) -> [int, int]:\n",
    "        \"\"\"\n",
    "        Choose action according to softmax function in state s\n",
    "        :param s: state of the environment\n",
    "        :param theta: \"temperature\" parameter\n",
    "        :return: selected action\n",
    "        \"\"\"\n",
    "        available_moves = []\n",
    "        for a in self.q_table[s.tobytes()]:\n",
    "            if a is not None:\n",
    "                available_moves.append(a)\n",
    "\n",
    "        if theta > 0.9:\n",
    "            action = np.argmax(self.q_table[s.tobytes()])\n",
    "            if action in available_moves:\n",
    "                pass\n",
    "            else:\n",
    "                action = random.choice(available_moves)\n",
    "        else:\n",
    "            action = random.choice(available_moves)\n",
    "        return action\n",
    "\n"
   ],
   "metadata": {
    "collapsed": false,
    "pycharm": {
     "name": "#%%\n"
    }
   }
  }
 ],
 "metadata": {
  "kernelspec": {
   "display_name": "Python 3",
   "language": "python",
   "name": "python3"
  },
  "language_info": {
   "codemirror_mode": {
    "name": "ipython",
    "version": 2
   },
   "file_extension": ".py",
   "mimetype": "text/x-python",
   "name": "python",
   "nbconvert_exporter": "python",
   "pygments_lexer": "ipython2",
   "version": "2.7.6"
  }
 },
 "nbformat": 4,
 "nbformat_minor": 0
}