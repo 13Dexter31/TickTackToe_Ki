{
 "cells": [
  {
   "cell_type": "code",
   "execution_count": null,
   "outputs": [],
   "source": [
    "import os\n",
    "from Board import Result\n",
    "from collections import defaultdict\n",
    "from Decorators import debug, log, save_q_table\n",
    "import numpy as np\n",
    "import random\n",
    "import dill\n",
    "from abc import abstractmethod\n",
    "\n",
    "class QLearner():\n",
    "    \"\"\"\n",
    "    Q learner player class\n",
    "    \"\"\"\n",
    "\n",
    "    def __init__(self, alpha=0.1, gamma=0.8, filename=\"qtable.pkl\", env_action_space=0, actions=[]):\n",
    "        \"\"\"\n",
    "        :param alpha: learning rate of this q learner\n",
    "        :param gamma: discount factor of this q learner\n",
    "        \"\"\"\n",
    "        self.state = None\n",
    "        self.next_state = None\n",
    "        self.gamma = gamma\n",
    "        self.alpha = alpha\n",
    "        self.env_action_space = env_action_space\n",
    "        self.filename = filename\n",
    "        self.actions = actions\n",
    "\n",
    "    @save_q_table\n",
    "    def update(self,s,s_next,a,r):\n",
    "        \"\"\"\n",
    "        Calculates the new q value from the new state and action pair\n",
    "        :param s: last state of the board\n",
    "        :param s_next: new state of the board, including the new action\n",
    "        :param a: chosen action\n",
    "        :param r: reward for chosen action\n",
    "        :return: updated q table with the new value\n",
    "        \"\"\"\n",
    "        s,s_next=np.array_str(s),np.array_str(s_next)\n",
    "\n",
    "        q_table = self.get_q_table_from_file()\n",
    "\n",
    "        q_table[s][a] = q_table[s][a] * (1 - self.alpha) + self.alpha * (r + self.gamma * np.max(q_table[s_next]))\n",
    "\n",
    "        return q_table\n",
    "\n",
    "    def select_move(self, s, theta=0.9):\n",
    "        \"\"\"\n",
    "        Choose action according to softmax function in state s\n",
    "        :param s: state of the environment\n",
    "        :param theta: \"temperature\" parameter\n",
    "        :return: selected action\n",
    "        \"\"\"\n",
    "        self.state = s\n",
    "        if np.random.uniform(0, 1) > theta: # then exploit the env --> use Qtable or memory info\n",
    "            q_table = self.get_q_table_from_file()\n",
    "            action = np.argmax(q_table[np.array_str(s)])\n",
    "        else: # then explore the enviroment --> randomly sample a move from available moves\n",
    "            action = random.choice(self.actions) # that is the agent always explores the enviroment\n",
    "        return action # return choosen move\n",
    "\n",
    "    def get_q_table_from_file(self):\n",
    "        q_table = defaultdict(lambda: np.zeros(self.env_action_space))\n",
    "\n",
    "        if os.path.isfile(self.filename) and os.path.getsize(self.filename) > 0:\n",
    "            with open(self.filename, \"rb\") as qtablefile:\n",
    "                q_table = dill.load(qtablefile)\n",
    "\n",
    "        return q_table"
   ],
   "metadata": {
    "collapsed": false,
    "pycharm": {
     "name": "#%%\n"
    }
   }
  }
 ],
 "metadata": {
  "kernelspec": {
   "display_name": "Python 3",
   "language": "python",
   "name": "python3"
  },
  "language_info": {
   "codemirror_mode": {
    "name": "ipython",
    "version": 2
   },
   "file_extension": ".py",
   "mimetype": "text/x-python",
   "name": "python",
   "nbconvert_exporter": "python",
   "pygments_lexer": "ipython2",
   "version": "2.7.6"
  }
 },
 "nbformat": 4,
 "nbformat_minor": 0
}