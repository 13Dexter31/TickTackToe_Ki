{
 "cells": [
  {
   "cell_type": "code",
   "execution_count": null,
   "outputs": [],
   "source": [
    "from build.player.Player import Player\n",
    "from build.Decorators import debug, log\n",
    "from build.Board import Board, Result\n",
    "\n",
    "import random"
   ],
   "metadata": {
    "collapsed": false,
    "pycharm": {
     "name": "#%%\n"
    }
   }
  },
  {
   "cell_type": "code",
   "execution_count": 21,
   "outputs": [],
   "source": [
    "class Randy(Player):\n",
    "    \"\"\"\n",
    "    Random player class\n",
    "    \"\"\"\n",
    "\n",
    "    @debug\n",
    "    @log(aiReadable=True)\n",
    "    def make_move(self, board):\n",
    "        \"\"\"\n",
    "        Makes a random move on the board\n",
    "        :param board: current state of the board\n",
    "        :return: list of a random column (first) and row number (second)\n",
    "        \"\"\"\n",
    "        return random.choice(list(Board.POSSIBLE_ACTIONS))\n",
    "\n",
    "    @debug\n",
    "    def give_result(self, result):\n",
    "        \"\"\"\n",
    "        Just a empty method because a random player doesn't need feedback\n",
    "        \"\"\"\n",
    "        if Result.GAME_LOST == result: self.stats.incr_lost()\n",
    "        elif Result.GAME_WON == result: self.stats.incr_won()\n",
    "        elif Result.GAME_DRAW == result: self.stats.incr_draw()"
   ],
   "metadata": {
    "collapsed": false,
    "pycharm": {
     "name": "#%%\n"
    }
   }
  }
 ],
 "metadata": {
  "kernelspec": {
   "display_name": "Python 3",
   "language": "python",
   "name": "python3"
  },
  "language_info": {
   "codemirror_mode": {
    "name": "ipython",
    "version": 2
   },
   "file_extension": ".py",
   "mimetype": "text/x-python",
   "name": "python",
   "nbconvert_exporter": "python",
   "pygments_lexer": "ipython2",
   "version": "2.7.6"
  }
 },
 "nbformat": 4,
 "nbformat_minor": 0
}