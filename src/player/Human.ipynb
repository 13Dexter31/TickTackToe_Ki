{
 "cells": [
  {
   "cell_type": "code",
   "execution_count": null,
   "outputs": [],
   "source": [
    "from IPython.core.display import clear_output\n",
    "from build.player.Player import Player\n",
    "from build.Board import Result\n",
    "from build.Decorators import debug, log"
   ],
   "metadata": {
    "collapsed": false,
    "pycharm": {
     "name": "#%%\n"
    }
   }
  },
  {
   "cell_type": "code",
   "execution_count": 6,
   "metadata": {
    "collapsed": true,
    "pycharm": {
     "name": "#%%\n"
    }
   },
   "outputs": [],
   "source": [
    "class Human(Player):\n",
    "    \"\"\"\n",
    "    Human player class for human participation in a game\n",
    "    \"\"\"\n",
    "\n",
    "    @debug\n",
    "    @log(humanReadable=True)\n",
    "    def make_move(self, board):\n",
    "        \"\"\"\n",
    "        Prints a human readable game board starts input prompt\n",
    "        :param board: current state of the board\n",
    "        :return: list of selected column (first) and row (second)\n",
    "        \"\"\"\n",
    "        #print(board)\n",
    "        clear_output(wait=True)\n",
    "        print(board)\n",
    "        print(\"\\n\")\n",
    "        action =  self.get_column(), self.get_row()\n",
    "        clear_output(wait=True)\n",
    "        print(board)\n",
    "        print(\"\\n\")\n",
    "        return action\n",
    "\n",
    "    @debug\n",
    "    def get_column(self):\n",
    "        \"\"\"\n",
    "        Input prompt for column\n",
    "        :return: selected column as integer\n",
    "        \"\"\"\n",
    "\n",
    "        column = input(\"Enter column [A|B|C]: \")\n",
    "        if column.__eq__(\"a\") or column.__eq__(\"A\"):\n",
    "            return 1\n",
    "        elif column.__eq__(\"b\") or column.__eq__(\"B\"):\n",
    "            return 2\n",
    "        elif column.__eq__(\"c\") or column.__eq__(\"C\"):\n",
    "            return 3\n",
    "        else:\n",
    "            #self.giveResult(Result.WRONG_INPUT)\n",
    "            column = self.get_column()\n",
    "\n",
    "        return column\n",
    "\n",
    "    @debug\n",
    "    def get_row(self):\n",
    "        \"\"\"\n",
    "        Input prompt for row\n",
    "        :return: selected row as integer\n",
    "        \"\"\"\n",
    "        row = input(\"Enter row [1|2|3]: \")\n",
    "        if (not (row.__eq__(\"1\") or row.__eq__(\"2\") or row.__eq__(\"3\"))):\n",
    "            #self.giveResult(Result.WRONG_INPUT)\n",
    "            row = self.get_row()\n",
    "\n",
    "        return int(row)\n",
    "\n",
    "    @debug\n",
    "    def give_result(self, result):\n",
    "        \"\"\"\n",
    "        Prints human readable feedback\n",
    "        :param result: Enum element for feedback\n",
    "        \"\"\"\n",
    "\n",
    "        if Result.INVALID_MOVE == result:\n",
    "            print(\"This position is blocked or not on the board!\")\n",
    "\n",
    "        elif Result.GAME_LOST == result:\n",
    "            print(\"You have lost the game. :/\")\n",
    "            self.stats.incr_lost()\n",
    "\n",
    "        elif Result.GAME_WON == result:\n",
    "            print(\"You have won the game! :)\")\n",
    "            self.stats.incr_won()\n",
    "\n",
    "        elif Result.GAME_DRAW == result:\n",
    "            print(\"The game is over and no one won.\")\n",
    "            self.stats.incr_draw()\n",
    "\n"
   ]
  }
 ],
 "metadata": {
  "kernelspec": {
   "display_name": "Python 3",
   "language": "python",
   "name": "python3"
  },
  "language_info": {
   "codemirror_mode": {
    "name": "ipython",
    "version": 3
   },
   "file_extension": ".py",
   "mimetype": "text/x-python",
   "name": "python",
   "nbconvert_exporter": "python",
   "pygments_lexer": "ipython3",
   "version": "3.6.9"
  }
 },
 "nbformat": 4,
 "nbformat_minor": 1
}