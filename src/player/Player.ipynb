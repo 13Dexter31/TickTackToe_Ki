{
 "cells": [
  {
   "cell_type": "code",
   "execution_count": 1,
   "metadata": {
    "collapsed": true
   },
   "outputs": [],
   "source": [
    "from abc import abstractmethod\n",
    "from build.Decorators import debug\n",
    "\n",
    "class Player:\n",
    "    \"\"\"\n",
    "    Parent class for all types of player\n",
    "    \"\"\"\n",
    "\n",
    "    def __init__(self, representationChar) -> None:\n",
    "        \"\"\"\n",
    "        :param representationChar: char to represent the player on the game board\n",
    "        \"\"\"\n",
    "        self.representationChar = representationChar\n",
    "        self.stats = Stats()\n",
    "\n",
    "    def __str__(self) -> str:\n",
    "        \"\"\"\n",
    "        __str__ method to output Player object with corresponding char\n",
    "        :return: representation char\n",
    "        \"\"\"\n",
    "        return str(self.representationChar)\n",
    "\n",
    "    @abstractmethod\n",
    "    @debug\n",
    "    def make_move(self, board):\n",
    "        \"\"\"\n",
    "        Every player has to make his own move\n",
    "        :param board: current board state\n",
    "        \"\"\"\n",
    "        pass\n",
    "\n",
    "    @abstractmethod\n",
    "    @debug\n",
    "    def give_result(self, result):\n",
    "        \"\"\"\n",
    "        Each player must receive and process feedback\n",
    "        :param result: Enum element for feedback\n",
    "        \"\"\"\n",
    "        pass"
   ]
  },
  {
   "cell_type": "code",
   "execution_count": null,
   "outputs": [],
   "source": [
    "class Stats:\n",
    "    \"\"\"\n",
    "    An object tracking the stats of a player\n",
    "    \"\"\"\n",
    "\n",
    "    def __init__(self):\n",
    "        self._won = 0\n",
    "        self._lost = 0\n",
    "        self._draw = 0\n",
    "\n",
    "    def display(self) -> None:\n",
    "\n",
    "        games = self.played_games()\n",
    "\n",
    "        print(f\"Games     won    |    lost    |    draw    | total games\")\n",
    "        print(f\"      {self.get_won():^10} | {self.get_lost():^10} | {self.get_draw():^10} | {games:^10}\")\n",
    "        print(f\"      {self.get_won() / games:^10.0%} \"\n",
    "              f\"| {self.get_lost() / games:^10.0%} \"\n",
    "              f\"| {self.get_draw() / games:^10.0%} \"\n",
    "              f\"| {games / games:^10.0%}\")\n",
    "\n",
    "    def incr_won(self) -> None:\n",
    "        self._won += 1\n",
    "\n",
    "    def incr_lost(self) -> None:\n",
    "        self._lost += 1\n",
    "\n",
    "    def incr_draw(self) -> None:\n",
    "        self._draw += 1\n",
    "\n",
    "    def get_won(self) -> int:\n",
    "        return self._won\n",
    "\n",
    "    def get_lost(self) -> int:\n",
    "        return self._lost\n",
    "\n",
    "    def get_draw(self) -> int:\n",
    "        return self._draw\n",
    "\n",
    "    def played_games(self) -> int:\n",
    "        return self.get_won() + self.get_lost() + self.get_draw()"
   ],
   "metadata": {
    "collapsed": false,
    "pycharm": {
     "name": "#%%\n"
    }
   }
  }
 ],
 "metadata": {
  "kernelspec": {
   "display_name": "Python 3",
   "language": "python",
   "name": "python3"
  },
  "language_info": {
   "codemirror_mode": {
    "name": "ipython",
    "version": 2
   },
   "file_extension": ".py",
   "mimetype": "text/x-python",
   "name": "python",
   "nbconvert_exporter": "python",
   "pygments_lexer": "ipython2",
   "version": "2.7.6"
  }
 },
 "nbformat": 4,
 "nbformat_minor": 0
}