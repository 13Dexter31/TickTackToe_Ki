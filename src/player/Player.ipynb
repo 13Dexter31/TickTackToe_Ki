{
 "cells": [
  {
   "cell_type": "code",
   "execution_count": null,
   "outputs": [],
   "source": [
    "from abc import abstractmethod\n",
    "from build.Decorators import debug\n",
    "\n",
    "import plotly.graph_objects as go"
   ],
   "metadata": {
    "collapsed": false,
    "pycharm": {
     "name": "#%%\n"
    }
   }
  },
  {
   "cell_type": "code",
   "execution_count": 1,
   "metadata": {
    "collapsed": true
   },
   "outputs": [],
   "source": [
    "class Player:\n",
    "    \"\"\"\n",
    "    Parent class for all types of player\n",
    "    \"\"\"\n",
    "\n",
    "    def __init__(self, representation_char) -> None:\n",
    "        \"\"\"\n",
    "        :param representation_char: char to represent the player on the game board\n",
    "        \"\"\"\n",
    "        self.representation_char = representation_char\n",
    "        self.stats = Stats()\n",
    "\n",
    "    def __str__(self) -> str:\n",
    "        \"\"\"\n",
    "        __str__ method to output Player object with corresponding char\n",
    "        :return: representation char\n",
    "        \"\"\"\n",
    "        return str(self.representation_char)\n",
    "\n",
    "    @abstractmethod\n",
    "    @debug\n",
    "    def make_move(self, board) -> int:\n",
    "        \"\"\"\n",
    "        Every player has to make his own move\n",
    "        :param board: current board state\n",
    "        \"\"\"\n",
    "        pass\n",
    "\n",
    "    @abstractmethod\n",
    "    @debug\n",
    "    def give_result(self, result) -> None:\n",
    "        \"\"\"\n",
    "        Each player must receive and process feedback\n",
    "        :param result: Enum element for feedback\n",
    "        \"\"\"\n",
    "        pass"
   ]
  },
  {
   "cell_type": "code",
   "execution_count": null,
   "outputs": [],
   "source": [
    "def get_history_for_group(record, groups):\n",
    "\n",
    "    won = []\n",
    "    draw = []\n",
    "    lost = []\n",
    "\n",
    "    won_count = 0\n",
    "    draw_count = 0\n",
    "    lost_count = 0\n",
    "\n",
    "    for group in groups:\n",
    "        for i in range(group):\n",
    "            if record[i] == 1:\n",
    "                won_count += 1\n",
    "            elif record[i] == 0:\n",
    "                draw_count += 1\n",
    "            elif record[i] == -1:\n",
    "                lost_count += 1\n",
    "\n",
    "        overall = won_count + draw_count + lost_count\n",
    "        won.append(won_count / overall)\n",
    "        draw.append(draw_count / overall)\n",
    "        lost.append(lost_count / overall)\n",
    "\n",
    "    return won, lost, draw"
   ],
   "metadata": {
    "collapsed": false,
    "pycharm": {
     "name": "#%%\n"
    }
   }
  },
  {
   "cell_type": "code",
   "execution_count": null,
   "outputs": [],
   "source": [
    "class Stats:\n",
    "    \"\"\"\n",
    "    An object tracking the stats of a player\n",
    "    \"\"\"\n",
    "\n",
    "    def __init__(self):\n",
    "        self._won = 0\n",
    "        self._lost = 0\n",
    "        self._draw = 0\n",
    "        self._record = []\n",
    "        self._history = []\n",
    "\n",
    "    def display(self) -> None:\n",
    "\n",
    "        games = self.played_games()\n",
    "\n",
    "        print(f\"Games     won    |    lost    |    draw    | total games\")\n",
    "        print(f\"      {self.get_won():^10} | {self.get_lost():^10} | {self.get_draw():^10} | {games:^10}\")\n",
    "        print(f\"      {self.get_won() / games:^10.0%} \"\n",
    "              f\"| {self.get_lost() / games:^10.0%} \"\n",
    "              f\"| {self.get_draw() / games:^10.0%} \"\n",
    "              f\"| {games / games:^10.0%}\")\n",
    "\n",
    "    def incr_won(self) -> None:\n",
    "        self._won += 1\n",
    "        self._record.append(1)\n",
    "\n",
    "    def incr_lost(self) -> None:\n",
    "        self._lost += 1\n",
    "        self._record.append(-1)\n",
    "\n",
    "    def incr_draw(self) -> None:\n",
    "        self._draw += 1\n",
    "        self._record.append(0)\n",
    "\n",
    "    def get_won(self) -> int:\n",
    "        return self._won\n",
    "\n",
    "    def get_lost(self) -> int:\n",
    "        return self._lost\n",
    "\n",
    "    def get_draw(self) -> int:\n",
    "        return self._draw\n",
    "\n",
    "    def played_games(self) -> int:\n",
    "        return self.get_won() + self.get_lost() + self.get_draw()\n",
    "\n",
    "    def get_record(self):\n",
    "        return self._record\n",
    "\n",
    "    def display_history(self, groups=None, group_count=5):\n",
    "\n",
    "        if groups is None:\n",
    "            record_size = len(self.get_record())\n",
    "            step_size = record_size // group_count\n",
    "            groups = list(range(step_size, record_size + 1, step_size))\n",
    "\n",
    "        won, lost, draw = get_history_for_group(self.get_record(), groups)\n",
    "\n",
    "        fig = go.Figure(data=[\n",
    "            go.Bar(name='won', x=groups, y=won, marker={'color': '#a8ddb5'}),\n",
    "            go.Bar(name='draw', x=groups, y=draw, marker={'color': '#9ebcda'}),\n",
    "            go.Bar(name='lost', x=groups, y=lost, marker={'color': '#fc9272'})\n",
    "        ])\n",
    "\n",
    "        fig.update_layout(barmode='group', yaxis=dict(tickformat=\"%\"))\n",
    "        fig.show()"
   ],
   "metadata": {
    "collapsed": false,
    "pycharm": {
     "name": "#%%\n"
    }
   }
  }
 ],
 "metadata": {
  "kernelspec": {
   "display_name": "Python 3",
   "language": "python",
   "name": "python3"
  },
  "language_info": {
   "codemirror_mode": {
    "name": "ipython",
    "version": 2
   },
   "file_extension": ".py",
   "mimetype": "text/x-python",
   "name": "python",
   "nbconvert_exporter": "python",
   "pygments_lexer": "ipython2",
   "version": "2.7.6"
  }
 },
 "nbformat": 4,
 "nbformat_minor": 0
}