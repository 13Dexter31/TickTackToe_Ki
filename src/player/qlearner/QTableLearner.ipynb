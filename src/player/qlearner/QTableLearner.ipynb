{
 "cells": [
  {
   "cell_type": "code",
   "execution_count": 2,
   "outputs": [],
   "source": [
    "from build.player.qlearner.QLearner import QLearner\n",
    "from build.Board import Board, Result\n",
    "\n",
    "import numpy as np\n",
    "import random"
   ],
   "metadata": {
    "collapsed": false,
    "pycharm": {
     "name": "#%%\n"
    }
   }
  },
  {
   "cell_type": "code",
   "execution_count": 37,
   "outputs": [],
   "source": [
    "class QTableLearner(QLearner):\n",
    "    \"\"\"\n",
    "    QLearner specification for q-table\n",
    "\n",
    "    Terms:\n",
    "        state\n",
    "            the snapshot of the board fields\n",
    "            example: [[ 'x',  'o',  'o'],\n",
    "                      [None,  'x', None],\n",
    "                      [None, None, None]]\n",
    "\n",
    "        action\n",
    "            equals an index of a chosen Board.POSSIBLE_ACTION\n",
    "            example: 8\n",
    "    \"\"\"\n",
    "\n",
    "    def __init__(self, q_table=None, learn_rate=0.1, discount_factor=0.4, theta=0.1):\n",
    "        \"\"\"\n",
    "        :param learn_rate: learning rate of this q learner\n",
    "        :param discount_factor: discount factor of this q learner\n",
    "        \"\"\"\n",
    "\n",
    "        if q_table is None:\n",
    "            q_table = Board.get_default_dict()\n",
    "\n",
    "        self.q_table = q_table\n",
    "        self.learn_rate = learn_rate\n",
    "        self.discount_factor = discount_factor\n",
    "        self.theta = theta\n",
    "\n",
    "    #@save_q_table\n",
    "    def update(self, prev_state, state, prev_action, result) -> None:\n",
    "        \"\"\"\n",
    "        Updates the Q-Table for future best move evaluations\n",
    "        :param prev_state: last state of the board\n",
    "        :param state: new state of the board, including the new action\n",
    "        :param prev_action: the index of a Board.POSSIBLE_ACTION\n",
    "        :param result: reward for chosen action\n",
    "        \"\"\"\n",
    "        prev_state, state = np.array_str(prev_state), np.array_str(state)\n",
    "\n",
    "        old_value = self.q_table[prev_state][prev_action // 3, prev_action % 3]\n",
    "        max_q = 0 if result in [Result.GAME_WON, Result.GAME_LOST, Result.GAME_DRAW] else np.max(self.q_table[state])\n",
    "        new_value = result + self.discount_factor * max_q\n",
    "        temporal_difference = new_value - old_value\n",
    "\n",
    "        self.q_table[prev_state][prev_action // 3, prev_action % 3] = old_value + self.learn_rate * temporal_difference\n",
    "\n",
    "    def select_move(self, state, theta=None) -> int:\n",
    "        \"\"\"\n",
    "        see QLearner\n",
    "        \"\"\"\n",
    "        if theta is None:\n",
    "            theta = self.theta\n",
    "\n",
    "        if np.random.uniform(0, 1) > theta:  # then exploit the env --> use Qtable or memory info\n",
    "            return int(np.argmax(self.q_table[np.array_str(state)]))\n",
    "\n",
    "        else:  # then explore the enviroment --> randomly sample a move from available moves\n",
    "            return random.choice(list(Board.POSSIBLE_ACTIONS))  # that is the agent always explores the enviroment\n",
    "\n",
    "    def is_known_state(self, state):\n",
    "        \"\"\"\n",
    "        see QLearner\n",
    "        \"\"\"\n",
    "        return self.q_table.__contains__(np.array_str(state))"
   ],
   "metadata": {
    "collapsed": false,
    "pycharm": {
     "name": "#%%\n"
    }
   }
  }
 ],
 "metadata": {
  "kernelspec": {
   "display_name": "Python 3",
   "language": "python",
   "name": "python3"
  },
  "language_info": {
   "codemirror_mode": {
    "name": "ipython",
    "version": 2
   },
   "file_extension": ".py",
   "mimetype": "text/x-python",
   "name": "python",
   "nbconvert_exporter": "python",
   "pygments_lexer": "ipython2",
   "version": "2.7.6"
  }
 },
 "nbformat": 4,
 "nbformat_minor": 0
}