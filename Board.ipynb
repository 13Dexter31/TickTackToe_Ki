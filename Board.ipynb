{
 "cells": [
  {
   "cell_type": "markdown",
   "metadata": {},
   "source": [
    "# Todo List\n",
    "    - konstruktor\n",
    "    - Methoden (update, over)\n",
    "    - Datenstruktur Spielfeld (2D-array)\n",
    "    - in over() Struktur winningConditions\n",
    "    - class result\n",
    "    - class position (pair)\n",
    "- tests\n",
    "- später GUI"
   ]
  },
  {
   "cell_type": "code",
   "execution_count": 34,
   "metadata": {},
   "outputs": [],
   "source": [
    "class Position:\n",
    "    row = None\n",
    "    column = None\n",
    "    def __init___(self, pair):\n",
    "        self.column, self.row = pair"
   ]
  },
  {
   "cell_type": "code",
   "execution_count": 35,
   "metadata": {},
   "outputs": [],
   "source": [
    "# resultType = int -> (-1 || 0 || 1 || 2 || 3)\n",
    "# -1 = kein result\n",
    "# 0 = falscher Zug\n",
    "# 1 = Spieler 1 gewinnt\n",
    "# 2 = Spieler 2 gewinnt\n",
    "# 3 = Unentschieden\n",
    "class Result:\n",
    "    resultType = None\n",
    "    def __init___(self, resultType): \n",
    "        self.resultType = resultType"
   ]
  },
  {
   "cell_type": "code",
   "execution_count": 37,
   "metadata": {},
   "outputs": [],
   "source": [
    "import numpy as np\n",
    "\n",
    "class Board:\n",
    "    board = None\n",
    "    \n",
    "    def __init___(self):\n",
    "      self.board = np.array([None, None, None], [None, None, None], [None, None, None])  \n",
    "    \n",
    "    def update(self, position, player):\n",
    "        if board[convertColumn(position.column)][position.row] == None:\n",
    "            return False\n",
    "        markPlayer(position, player)\n",
    "        return True\n",
    "    \n",
    "    def markPlayer(self, position, player):\n",
    "        self.board[convertColumn(position.column)][position.row] = player\n",
    "        print(self.board)\n",
    "            \n",
    "    def over(self):\n",
    "        #column winningconditions\n",
    "        if (self.board[0][0] == self.board[0][1] and self.board[0][0] == self.board[0][2]) and self.board[0][0] != None:\n",
    "            return self.board[0][0]\n",
    "        if (self.board[1][0] == self.board[1][1] and self.board[1][0] == self.board[1][2]) and self.board[1][0] != None:\n",
    "            return self.board[1][0]\n",
    "        if (self.board[2][0] == self.board[2][1] and self.board[2][0] == self.board[2][2]) and self.board[2][0] != None:\n",
    "            return self.board[2][0]\n",
    "        \n",
    "        #row winningconditions\n",
    "        if (self.board[0][0] == self.board[1][0] and self.board[0][0] == self.board[2][0]) and self.board[0][0] != None:\n",
    "            return self.board[0][0]\n",
    "        if (self.board[0][1] == self.board[1][1] and self.board[0][1] == self.board[2][1]) and self.board[0][1] != None:\n",
    "            return self.board[0][1]\n",
    "        if (self.board[0][2] == self.board[1][2] and self.board[0][2] == self.board[2][2]) and self.board[0][2] != None:\n",
    "            return self.board[0][2]\n",
    "        \n",
    "        #diagonale winningcondition\n",
    "        if (self.board[0][0] == self.board[1][1] and self.board[0][0] == self.board[2][2]) and self.board[0][0] != None:\n",
    "            return self.board[0][0]\n",
    "        if (self.board[0][2] == self.board[1][1] and self.board[0][2] == self.board[2][0]) and self.board[0][2] != None:\n",
    "            return self.board[0][2]\n",
    "        \n",
    "        #no one wins\n",
    "        if noMoreMoves():\n",
    "            return Result(3)\n",
    "        \n",
    "        return Result(-1)\n",
    "    \n",
    "    def noMoreMoves(self):\n",
    "        for col in self.board:\n",
    "            for row in col:\n",
    "                if self.board[col][row] == None:\n",
    "                    return False\n",
    "        return True\n",
    "    \n",
    "    def convertColumn(self, column):\n",
    "        if column == 'a':\n",
    "            return 0\n",
    "        if column == 'b':\n",
    "            return 1\n",
    "        if column == 'c':\n",
    "            return 2"
   ]
  },
  {
   "cell_type": "code",
   "execution_count": null,
   "metadata": {},
   "outputs": [],
   "source": []
  },
  {
   "cell_type": "code",
   "execution_count": null,
   "metadata": {},
   "outputs": [],
   "source": []
  }
 ],
 "metadata": {
  "kernelspec": {
   "display_name": "Python 3",
   "language": "python",
   "name": "python3"
  },
  "language_info": {
   "codemirror_mode": {
    "name": "ipython",
    "version": 3
   },
   "file_extension": ".py",
   "mimetype": "text/x-python",
   "name": "python",
   "nbconvert_exporter": "python",
   "pygments_lexer": "ipython3",
   "version": "3.6.9"
  }
 },
 "nbformat": 4,
 "nbformat_minor": 2
}
