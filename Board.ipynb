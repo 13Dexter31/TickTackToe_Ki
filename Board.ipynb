{
 "cells": [
  {
   "attachments": {},
   "cell_type": "markdown",
   "metadata": {},
   "source": [
    "# Todo List\n",
    "- konstruktor\n",
    "- Methoden (update, over)\n",
    "- Datenstruktur Spielfeld (2D-array)\n",
    "- Funktion (fieldEmpty?)\n",
    "- in over() Struktur winningConditions\n",
    "- class result\n",
    "- class position 8pair)\n",
    "- tests\n",
    "- später GUI"
   ]
  },
  {
   "cell_type": "code",
   "execution_count": null,
   "metadata": {},
   "outputs": [],
   "source": []
  }
 ],
 "metadata": {
  "kernelspec": {
   "display_name": "Python 3",
   "language": "python",
   "name": "python3"
  },
  "language_info": {
   "codemirror_mode": {
    "name": "ipython",
    "version": 3
   },
   "file_extension": ".py",
   "mimetype": "text/x-python",
   "name": "python",
   "nbconvert_exporter": "python",
   "pygments_lexer": "ipython3",
   "version": "3.6.9"
  }
 },
 "nbformat": 4,
 "nbformat_minor": 2
}
